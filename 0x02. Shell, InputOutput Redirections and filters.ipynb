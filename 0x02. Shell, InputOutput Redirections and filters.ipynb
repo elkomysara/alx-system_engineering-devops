{
 "cells": [
  {
   "cell_type": "markdown",
   "metadata": {},
   "source": [
    "---\n",
    "<center>\n",
    "<h1>  alx-system_engineering-devops </h1>\n",
    "</center>\n",
    "\n",
    "---\n"
   ]
  },
  {
   "cell_type": "code",
   "execution_count": 1,
   "metadata": {},
   "outputs": [
    {
     "name": "stdout",
     "output_type": "stream",
     "text": [
      "Overwriting README.md\n"
     ]
    }
   ],
   "source": [
    "%%file README.md\n",
    "\n",
    "## alx-system_engineering-devops/0x00-Shell_basics\n",
    "## alx-system_engineering-devops/0x01-Shell_permissions\n",
    "## alx-system_engineering-devops/0x02-Shell, I/O Redirections and filters"
   ]
  },
  {
   "cell_type": "code",
   "execution_count": 3,
   "metadata": {},
   "outputs": [
    {
     "data": {
      "text/plain": [
       "'/home/elkomy/alx-system_engineering-devops'"
      ]
     },
     "execution_count": 3,
     "metadata": {},
     "output_type": "execute_result"
    }
   ],
   "source": [
    "%pwd"
   ]
  },
  {
   "cell_type": "code",
   "execution_count": 2,
   "metadata": {},
   "outputs": [],
   "source": [
    "import os\n",
    "# creating 0x02-shell_redirectionss\n",
    "\n",
    "folder_path = r'/home/elkomy/alx-system_engineering-devops/0x02-shell_redirections'\n",
    "if not os.path.exists(folder_path):\n",
    "    os.makedirs(folder_path)\n",
    "\n",
    "# Create a README.md inside 0x02-shell_redirections\n",
    "file_path = os.path.join(folder_path, 'README.md')\n",
    "\n",
    "with open(file_path, 'w') as file:\n",
    "    file.write(\"This is a README.md file inside alx-system_engineering-devops/0x02-shell_redirections\")\n",
    "\n"
   ]
  },
  {
   "cell_type": "code",
   "execution_count": 2,
   "metadata": {},
   "outputs": [
    {
     "name": "stdout",
     "output_type": "stream",
     "text": [
      "Overwriting 0x02-shell_redirections/README.md\n"
     ]
    }
   ],
   "source": [
    "%%file 0x02-shell_redirections/README.md\n",
    "This is a README.md"
   ]
  },
  {
   "cell_type": "code",
   "execution_count": 1,
   "metadata": {},
   "outputs": [
    {
     "name": "stdout",
     "output_type": "stream",
     "text": [
      "On branch main\n",
      "Your branch is up to date with 'origin/main'.\n",
      "\n",
      "nothing to commit, working tree clean\n",
      "Branch 'main' set up to track remote branch 'main' from 'origin'.\n",
      "Everything up-to-date\n"
     ]
    }
   ],
   "source": [
    "\n",
    "!git add .\n",
    "!git commit -m \"commiting README.md\"\n",
    "!git push -u origin main"
   ]
  },
  {
   "cell_type": "code",
   "execution_count": 2,
   "metadata": {},
   "outputs": [
    {
     "name": "stdout",
     "output_type": "stream",
     "text": [
      "Already up to date.\n",
      "Everything up-to-date\n"
     ]
    }
   ],
   "source": [
    "!git pull\n",
    "!git push"
   ]
  },
  {
   "cell_type": "markdown",
   "metadata": {},
   "source": [
    "###\n",
    "---\n",
    "<center>\n",
    "<h1>  0x02. 0x02. Shell, I/O Redirections and filters  </h1>\n",
    "</center>\n",
    "\n",
    "---\n"
   ]
  },
  {
   "cell_type": "markdown",
   "metadata": {},
   "source": [
    "###\n",
    "---\n",
    "<center>\n",
    "<h4>  0. Hello World </h4>\n",
    "</center>\n",
    "\n",
    "---"
   ]
  },
  {
   "cell_type": "markdown",
   "metadata": {},
   "source": [
    "\n",
    "#### Write a script that prints \"Hello, World\", followed by a new line to the standard output. \n",
    "\n",
    "```bash\n",
    "julien@ubuntu:/tmp/h$ ./0-hello_world \n",
    "Hello, World\n",
    "julien@ubuntu:/tmp/h$ ./0-hello_world | cat -e # cat is used to display the contents of a file, but the -e option makes it print a $ character at the end of each line.\n",
    "Hello, World$\n",
    "julien@ubuntu:/tmp/h$ \n",
    "```\n",
    "\n",
    "\n",
    "#### Repo:\n",
    "* GitHub repository: ``` alx-system_engineering-devops ```\n",
    "* Directory: ```0x02-shell_redirections``` \n",
    "* File: ``` 0-hello_world```"
   ]
  },
  {
   "cell_type": "code",
   "execution_count": 8,
   "metadata": {},
   "outputs": [
    {
     "name": "stdout",
     "output_type": "stream",
     "text": [
      "Overwriting 0x02-shell_redirections/0-hello_world\n"
     ]
    }
   ],
   "source": [
    "%%file 0x02-shell_redirections/0-hello_world\n",
    "#!/bin/bash\n",
    "echo \"Hello, World\"\n"
   ]
  },
  {
   "cell_type": "code",
   "execution_count": 2,
   "metadata": {},
   "outputs": [],
   "source": [
    "!chmod u+x 0x02-shell_redirections/0-hello_world"
   ]
  },
  {
   "cell_type": "code",
   "execution_count": 9,
   "metadata": {},
   "outputs": [
    {
     "name": "stdout",
     "output_type": "stream",
     "text": [
      "#!/bin/bash$\n",
      "echo \"Hello, World\"$\n"
     ]
    }
   ],
   "source": [
    "!cat -e 0x02-shell_redirections/0-hello_world"
   ]
  },
  {
   "cell_type": "code",
   "execution_count": 6,
   "metadata": {},
   "outputs": [
    {
     "name": "stdout",
     "output_type": "stream",
     "text": [
      "Hello, World$\n",
      "$\n"
     ]
    }
   ],
   "source": [
    "%%bash\n",
    "./0x02-shell_redirections/0-hello_world | cat -e"
   ]
  },
  {
   "cell_type": "code",
   "execution_count": 10,
   "metadata": {},
   "outputs": [
    {
     "name": "stdout",
     "output_type": "stream",
     "text": [
      "[main 2d9333c] 0-hello_world\n",
      " 2 files changed, 17 insertions(+), 17 deletions(-)\n",
      "Enumerating objects: 9, done.\n",
      "Counting objects: 100% (9/9), done.\n",
      "Delta compression using up to 12 threads\n",
      "Compressing objects: 100% (4/4), done.\n",
      "Writing objects: 100% (5/5), 656 bytes | 328.00 KiB/s, done.\n",
      "Total 5 (delta 2), reused 0 (delta 0)\n",
      "remote: Resolving deltas: 100% (2/2), completed with 2 local objects.\u001b[K\n",
      "To https://github.com/elkomysara/alx-system_engineering-devops.git\n",
      "   a94466b..2d9333c  main -> main\n",
      "Branch 'main' set up to track remote branch 'main' from 'origin'.\n"
     ]
    }
   ],
   "source": [
    "\n",
    "!git add .\n",
    "!git commit -m \"0-hello_world\"\n",
    "!git push -u origin main"
   ]
  },
  {
   "cell_type": "markdown",
   "metadata": {},
   "source": [
    "###\n",
    "---\n",
    "<center>\n",
    "<h4> 1. Confused smiley </h4>\n",
    "</center>\n",
    "\n",
    "---\n"
   ]
  },
  {
   "cell_type": "markdown",
   "metadata": {},
   "source": [
    "* Write a script that displays a confused smiley `\"(Ôo)'`.\n",
    "    ```bash\n",
    "        julien@ubuntu:/tmp/h$ ./1-confused_smiley \n",
    "        \"(Ôo)'\n",
    "        julien@ubuntu:/tmp/h$ \n",
    "    ```\n",
    "\n",
    "* Repo:\n",
    "\n",
    "    * GitHub repository: <code > alx-system_engineering-devops </code>\n",
    "    * Directory: <code > 0x02-shell_redirections </code>\n",
    "    * File: <code >  File: 1-confused_smiley </code>\n",
    "   "
   ]
  },
  {
   "cell_type": "code",
   "execution_count": 15,
   "metadata": {},
   "outputs": [
    {
     "name": "stdout",
     "output_type": "stream",
     "text": [
      "Overwriting 0x02-shell_redirections/1-confused_smiley\n"
     ]
    }
   ],
   "source": [
    "%%file 0x02-shell_redirections/1-confused_smiley\n",
    "#!/bin/bash\n",
    "echo \"\\\"(Ôo)'\""
   ]
  },
  {
   "cell_type": "code",
   "execution_count": 13,
   "metadata": {},
   "outputs": [],
   "source": [
    "!chmod u+x 0x02-shell_redirections/1-confused_smiley"
   ]
  },
  {
   "cell_type": "code",
   "execution_count": 12,
   "metadata": {},
   "outputs": [
    {
     "name": "stdout",
     "output_type": "stream",
     "text": [
      "#!/bin/bash\n",
      "echo \"\\\"(Ôo)\\'\"\n"
     ]
    }
   ],
   "source": [
    "!cat 0x02-shell_redirections/1-confused_smiley"
   ]
  },
  {
   "cell_type": "code",
   "execution_count": 16,
   "metadata": {},
   "outputs": [
    {
     "name": "stdout",
     "output_type": "stream",
     "text": [
      "\"(Ôo)'\n"
     ]
    }
   ],
   "source": [
    "!0x02-shell_redirections/1-confused_smiley"
   ]
  },
  {
   "cell_type": "code",
   "execution_count": 17,
   "metadata": {},
   "outputs": [
    {
     "name": "stdout",
     "output_type": "stream",
     "text": [
      "[main a357abd] confused_smiley\n",
      " 2 files changed, 29 insertions(+), 29 deletions(-)\n",
      " create mode 100755 0x02-shell_redirections/1-confused_smiley\n"
     ]
    },
    {
     "name": "stdout",
     "output_type": "stream",
     "text": [
      "Enumerating objects: 8, done.\n",
      "Counting objects: 100% (8/8), done.\n",
      "Delta compression using up to 12 threads\n",
      "Compressing objects: 100% (4/4), done.\n",
      "Writing objects: 100% (5/5), 835 bytes | 835.00 KiB/s, done.\n",
      "Total 5 (delta 2), reused 0 (delta 0)\n",
      "remote: Resolving deltas: 100% (2/2), completed with 2 local objects.\u001b[K\n",
      "To https://github.com/elkomysara/alx-system_engineering-devops.git\n",
      "   2d9333c..a357abd  main -> main\n",
      "Branch 'main' set up to track remote branch 'main' from 'origin'.\n"
     ]
    }
   ],
   "source": [
    "\n",
    "!git add .\n",
    "!git commit -m \"confused_smiley\"\n",
    "!git push -u origin main"
   ]
  },
  {
   "cell_type": "markdown",
   "metadata": {},
   "source": [
    "###\n",
    "---\n",
    "<center>\n",
    "<h4> 2. Let's display a file </h4>\n",
    "</center>\n",
    "\n",
    "---"
   ]
  },
  {
   "cell_type": "markdown",
   "metadata": {},
   "source": [
    "#### Display the content of the `/etc/passwd` file.\n",
    "\n",
    "#### Example\n",
    "\n",
    "```bash\n",
    "$ ./2-hellofile\n",
    "##\n",
    "# User Database\n",
    "#\n",
    "# Note that this file is consulted directly only when the system is running\n",
    "# in single-user mode. At other times this information is provided by\n",
    "# Open Directory.\n",
    "#\n",
    "# See the opendirectoryd(8) man page for additional information about\n",
    "# Open Directory.\n",
    "##\n",
    "nobody:*:-2:-2:Unprivileged User:/var/empty:/usr/bin/false\n",
    "root:*:0:0:System Administrator:/var/root:/bin/sh\n",
    "daemon:*:1:1:System Services:/var/root:/usr/bin/false\n",
    "_uucp:*:4:4:Unix to Unix Copy Protocol:/var/spool/uucp:/usr/sbin/uucico\n",
    "_taskgated:*:13:13:Task Gate Daemon:/var/empty:/usr/bin/false\n",
    "_networkd:*:24:24:Network Services:/var/networkd:/usr/bin/false\n",
    "_installassistant:*:25:25:Install Assistant:/var/empty:/usr/bin/false\n",
    "_lp:*:26:26:Printing Services:/var/spool/cups:/usr/bin/false\n",
    "_postfix:*:27:27:Postfix Mail Server:/var/spool/postfix:/usr/bin/false\n",
    "_scsd:*:31:31:Service Configuration Service:/var/empty:/usr/bin/false\n",
    "_ces:*:32:32:Certificate Enrollment Service:/var/empty:/usr/bin/false\n",
    "_mcxalr:*:54:54:MCX AppLaunch:/var/empty:/usr/bin/false\n",
    "_krbfast:*:246:-2:Kerberos FAST Account:/var/empty:/usr/bin/false\n",
    "$\n",
    "```\n",
    "\n",
    "\n",
    "#### Repo:\n",
    "* GitHub repository:   <code>alx-system_engineering-devops </code>\n",
    "* Directory:   <code> 0x02-shell_redirections </code>\n",
    "* File:   <code> 2-hellofile</code>"
   ]
  },
  {
   "cell_type": "code",
   "execution_count": 20,
   "metadata": {},
   "outputs": [
    {
     "name": "stdout",
     "output_type": "stream",
     "text": [
      "Writing 0x02-shell_redirections/2-hellofile\n"
     ]
    }
   ],
   "source": [
    "%%file 0x02-shell_redirections/2-hellofile\n",
    "#!/bin/bash\n",
    "cat /etc/passwd"
   ]
  },
  {
   "cell_type": "code",
   "execution_count": 21,
   "metadata": {},
   "outputs": [],
   "source": [
    "!chmod u+x 0x02-shell_redirections/2-hellofile"
   ]
  },
  {
   "cell_type": "code",
   "execution_count": 23,
   "metadata": {},
   "outputs": [
    {
     "name": "stdout",
     "output_type": "stream",
     "text": [
      "root:x:0:0:root:/root:/bin/bash\n",
      "daemon:x:1:1:daemon:/usr/sbin:/usr/sbin/nologin\n",
      "bin:x:2:2:bin:/bin:/usr/sbin/nologin\n",
      "sys:x:3:3:sys:/dev:/usr/sbin/nologin\n",
      "sync:x:4:65534:sync:/bin:/bin/sync\n",
      "games:x:5:60:games:/usr/games:/usr/sbin/nologin\n",
      "man:x:6:12:man:/var/cache/man:/usr/sbin/nologin\n",
      "lp:x:7:7:lp:/var/spool/lpd:/usr/sbin/nologin\n",
      "mail:x:8:8:mail:/var/mail:/usr/sbin/nologin\n",
      "news:x:9:9:news:/var/spool/news:/usr/sbin/nologin\n",
      "uucp:x:10:10:uucp:/var/spool/uucp:/usr/sbin/nologin\n",
      "proxy:x:13:13:proxy:/bin:/usr/sbin/nologin\n",
      "www-data:x:33:33:www-data:/var/www:/usr/sbin/nologin\n",
      "backup:x:34:34:backup:/var/backups:/usr/sbin/nologin\n",
      "list:x:38:38:Mailing List Manager:/var/list:/usr/sbin/nologin\n",
      "irc:x:39:39:ircd:/var/run/ircd:/usr/sbin/nologin\n",
      "gnats:x:41:41:Gnats Bug-Reporting System (admin):/var/lib/gnats:/usr/sbin/nologin\n",
      "nobody:x:65534:65534:nobody:/nonexistent:/usr/sbin/nologin\n",
      "systemd-network:x:100:102:systemd Network Management,,,:/run/systemd:/usr/sbin/nologin\n",
      "systemd-resolve:x:101:103:systemd Resolver,,,:/run/systemd:/usr/sbin/nologin\n",
      "systemd-timesync:x:102:104:systemd Time Synchronization,,,:/run/systemd:/usr/sbin/nologin\n",
      "messagebus:x:103:106::/nonexistent:/usr/sbin/nologin\n",
      "syslog:x:104:110::/home/syslog:/usr/sbin/nologin\n",
      "_apt:x:105:65534::/nonexistent:/usr/sbin/nologin\n",
      "tss:x:106:111:TPM software stack,,,:/var/lib/tpm:/bin/false\n",
      "uuidd:x:107:112::/run/uuidd:/usr/sbin/nologin\n",
      "tcpdump:x:108:113::/nonexistent:/usr/sbin/nologin\n",
      "sshd:x:109:65534::/run/sshd:/usr/sbin/nologin\n",
      "landscape:x:110:115::/var/lib/landscape:/usr/sbin/nologin\n",
      "pollinate:x:111:1::/var/cache/pollinate:/bin/false\n",
      "fwupd-refresh:x:112:116:fwupd-refresh user,,,:/run/systemd:/usr/sbin/nologin\n",
      "systemd-coredump:x:999:999:systemd Core Dumper:/:/usr/sbin/nologin\n",
      "lxd:x:998:100::/var/snap/lxd/common/lxd:/bin/false\n",
      "elkomy:x:1000:1000:,,,:/home/elkomy:/bin/bash\n"
     ]
    }
   ],
   "source": [
    "!source ./0x02-shell_redirections/2-hellofile"
   ]
  },
  {
   "cell_type": "code",
   "execution_count": 24,
   "metadata": {},
   "outputs": [
    {
     "name": "stdout",
     "output_type": "stream",
     "text": [
      "#!/bin/bash\n",
      "cat /etc/passwd\n"
     ]
    }
   ],
   "source": [
    "!cat 0x02-shell_redirections/2-hellofile"
   ]
  },
  {
   "cell_type": "code",
   "execution_count": 25,
   "metadata": {},
   "outputs": [
    {
     "name": "stdout",
     "output_type": "stream",
     "text": [
      "[main c71a3b6] 0x02-shell_redirections/2-hellofile\n",
      " 2 files changed, 94 insertions(+), 28 deletions(-)\n",
      " create mode 100755 0x02-shell_redirections/2-hellofile\n"
     ]
    },
    {
     "name": "stdout",
     "output_type": "stream",
     "text": [
      "Enumerating objects: 8, done.\n",
      "Counting objects: 100% (8/8), done.\n",
      "Delta compression using up to 12 threads\n",
      "Compressing objects: 100% (4/4), done.\n",
      "Writing objects: 100% (5/5), 2.10 KiB | 715.00 KiB/s, done.\n",
      "Total 5 (delta 2), reused 0 (delta 0)\n",
      "remote: Resolving deltas: 100% (2/2), completed with 2 local objects.\u001b[K\n",
      "To https://github.com/elkomysara/alx-system_engineering-devops.git\n",
      "   a357abd..c71a3b6  main -> main\n",
      "Branch 'main' set up to track remote branch 'main' from 'origin'.\n"
     ]
    }
   ],
   "source": [
    "!git add .\n",
    "!git commit -m \"0x02-shell_redirections/2-hellofile\"\n",
    "!git push -u origin main"
   ]
  },
  {
   "cell_type": "markdown",
   "metadata": {},
   "source": [
    "###\n",
    "---\n",
    "<center>\n",
    "<h4> 3. What about 2?</h4>\n",
    "</center>\n",
    "\n",
    "---"
   ]
  },
  {
   "cell_type": "markdown",
   "metadata": {},
   "source": [
    "#### Display the content of `/etc/passwd` and `/etc/hosts`.\n",
    "\n",
    "#### Example:\n",
    "```bash\n",
    "$ ./3-twofiles\n",
    "##\n",
    "# User Database\n",
    "#\n",
    "# Note that this file is consulted directly only when the system is running\n",
    "# in single-user mode. At other times this information is provided by\n",
    "# Open Directory.\n",
    "#\n",
    "# See the opendirectoryd(8) man page for additional information about\n",
    "# Open Directory.\n",
    "##\n",
    "nobody:*:-2:-2:Unprivileged User:/var/empty:/usr/bin/false\n",
    "root:*:0:0:System Administrator:/var/root:/bin/sh\n",
    "daemon:*:1:1:System Services:/var/root:/usr/bin/false\n",
    "##\n",
    "# Host Database\n",
    "#\n",
    "# localhost is used to configure the loopback interface\n",
    "# when the system is booting. Do not change this entry.\n",
    "##\n",
    "127.0.0.1   localhost\n",
    "255.255.255.255 broadcasthost\n",
    "::1 localhost\n",
    "$\n",
    "```\n",
    "\n",
    "\n",
    "#### Repo:\n",
    "* GitHub repository: `alx-system_engineering-devops`\n",
    "* Directory: `0x02-shell_redirections`\n",
    "* File: `3-twofiles`"
   ]
  },
  {
   "cell_type": "code",
   "execution_count": 31,
   "metadata": {},
   "outputs": [
    {
     "name": "stdout",
     "output_type": "stream",
     "text": [
      "Overwriting 0x02-shell_redirections/3-twofiles\n"
     ]
    }
   ],
   "source": [
    "%%file 0x02-shell_redirections/3-twofiles\n",
    "#!/bin/bash\n",
    "cat /etc/passwd /etc/hosts"
   ]
  },
  {
   "cell_type": "code",
   "execution_count": 32,
   "metadata": {},
   "outputs": [],
   "source": [
    "%%bash\n",
    "chmod u+x 0x02-shell_redirections/3-twofiles"
   ]
  },
  {
   "cell_type": "code",
   "execution_count": 33,
   "metadata": {},
   "outputs": [
    {
     "name": "stdout",
     "output_type": "stream",
     "text": [
      "#!/bin/bash\n",
      "cat /etc/passwd /etc/hosts\n"
     ]
    }
   ],
   "source": [
    "!cat 0x02-shell_redirections/3-twofiles"
   ]
  },
  {
   "cell_type": "code",
   "execution_count": 34,
   "metadata": {},
   "outputs": [
    {
     "name": "stdout",
     "output_type": "stream",
     "text": [
      "root:x:0:0:root:/root:/bin/bash\n",
      "daemon:x:1:1:daemon:/usr/sbin:/usr/sbin/nologin\n",
      "bin:x:2:2:bin:/bin:/usr/sbin/nologin\n",
      "sys:x:3:3:sys:/dev:/usr/sbin/nologin\n",
      "sync:x:4:65534:sync:/bin:/bin/sync\n",
      "games:x:5:60:games:/usr/games:/usr/sbin/nologin\n",
      "man:x:6:12:man:/var/cache/man:/usr/sbin/nologin\n",
      "lp:x:7:7:lp:/var/spool/lpd:/usr/sbin/nologin\n",
      "mail:x:8:8:mail:/var/mail:/usr/sbin/nologin\n",
      "news:x:9:9:news:/var/spool/news:/usr/sbin/nologin\n",
      "uucp:x:10:10:uucp:/var/spool/uucp:/usr/sbin/nologin\n",
      "proxy:x:13:13:proxy:/bin:/usr/sbin/nologin\n",
      "www-data:x:33:33:www-data:/var/www:/usr/sbin/nologin\n",
      "backup:x:34:34:backup:/var/backups:/usr/sbin/nologin\n",
      "list:x:38:38:Mailing List Manager:/var/list:/usr/sbin/nologin\n",
      "irc:x:39:39:ircd:/var/run/ircd:/usr/sbin/nologin\n",
      "gnats:x:41:41:Gnats Bug-Reporting System (admin):/var/lib/gnats:/usr/sbin/nologin\n",
      "nobody:x:65534:65534:nobody:/nonexistent:/usr/sbin/nologin\n",
      "systemd-network:x:100:102:systemd Network Management,,,:/run/systemd:/usr/sbin/nologin\n",
      "systemd-resolve:x:101:103:systemd Resolver,,,:/run/systemd:/usr/sbin/nologin\n",
      "systemd-timesync:x:102:104:systemd Time Synchronization,,,:/run/systemd:/usr/sbin/nologin\n",
      "messagebus:x:103:106::/nonexistent:/usr/sbin/nologin\n",
      "syslog:x:104:110::/home/syslog:/usr/sbin/nologin\n",
      "_apt:x:105:65534::/nonexistent:/usr/sbin/nologin\n",
      "tss:x:106:111:TPM software stack,,,:/var/lib/tpm:/bin/false\n",
      "uuidd:x:107:112::/run/uuidd:/usr/sbin/nologin\n",
      "tcpdump:x:108:113::/nonexistent:/usr/sbin/nologin\n",
      "sshd:x:109:65534::/run/sshd:/usr/sbin/nologin\n",
      "landscape:x:110:115::/var/lib/landscape:/usr/sbin/nologin\n",
      "pollinate:x:111:1::/var/cache/pollinate:/bin/false\n",
      "fwupd-refresh:x:112:116:fwupd-refresh user,,,:/run/systemd:/usr/sbin/nologin\n",
      "systemd-coredump:x:999:999:systemd Core Dumper:/:/usr/sbin/nologin\n",
      "lxd:x:998:100::/var/snap/lxd/common/lxd:/bin/false\n",
      "elkomy:x:1000:1000:,,,:/home/elkomy:/bin/bash\n",
      "# This file was automatically generated by WSL. To stop automatic generation of this file, add the following entry to /etc/wsl.conf:\n",
      "# [network]\n",
      "# generateHosts = false\n",
      "127.0.0.1\tlocalhost\n",
      "127.0.1.1\telkomy.\telkomy\n",
      "﻿\n",
      "192.168.1.9\thost.docker.internal\n",
      "192.168.1.9\tgateway.docker.internal\n",
      "127.0.0.1\tkubernetes.docker.internal\n",
      "\n",
      "# The following lines are desirable for IPv6 capable hosts\n",
      "::1     ip6-localhost ip6-loopback\n",
      "fe00::0 ip6-localnet\n",
      "ff00::0 ip6-mcastprefix\n",
      "ff02::1 ip6-allnodes\n",
      "ff02::2 ip6-allrouters\n"
     ]
    }
   ],
   "source": [
    "!./0x02-shell_redirections/3-twofiles"
   ]
  },
  {
   "cell_type": "code",
   "execution_count": 35,
   "metadata": {},
   "outputs": [
    {
     "name": "stdout",
     "output_type": "stream",
     "text": [
      "[main a70f871] 0x02-shell_redirections/3-twofiles\n",
      " 2 files changed, 20 insertions(+), 14 deletions(-)\n"
     ]
    },
    {
     "name": "stdout",
     "output_type": "stream",
     "text": [
      "Enumerating objects: 9, done.\n",
      "Counting objects: 100% (9/9), done.\n",
      "Delta compression using up to 12 threads\n",
      "Compressing objects: 100% (4/4), done.\n",
      "Writing objects: 100% (5/5), 632 bytes | 632.00 KiB/s, done.\n",
      "Total 5 (delta 3), reused 0 (delta 0)\n",
      "remote: Resolving deltas: 100% (3/3), completed with 3 local objects.\u001b[K\n",
      "To https://github.com/elkomysara/alx-system_engineering-devops.git\n",
      "   ce26c06..a70f871  main -> main\n",
      "Branch 'main' set up to track remote branch 'main' from 'origin'.\n"
     ]
    }
   ],
   "source": [
    "!git add .\n",
    "!git commit -m \"0x02-shell_redirections/3-twofiles\"\n",
    "!git push -u origin main"
   ]
  },
  {
   "cell_type": "markdown",
   "metadata": {},
   "source": [
    "### \n",
    "\n",
    "\n",
    "---\n",
    "<center>\n",
    "<h4> 4. Last lines of a file</h4>\n",
    "</center>\n",
    "\n",
    "---"
   ]
  },
  {
   "cell_type": "markdown",
   "metadata": {},
   "source": [
    "#### Display the last 10 lines of `/etc/passwd`.\n",
    "#### Example:\n",
    "```bash\n",
    "$ ./4-lastlines\n",
    "_assetcache:*:235:235:Asset Cache Service:/var/empty:/usr/bin/false\n",
    "_coremediaiod:*:236:236:Core Media IO Daemon:/var/empty:/usr/bin/false\n",
    "_launchservicesd:*:239:239:_launchservicesd:/var/empty:/usr/bin/false\n",
    "_iconservices:*:240:240:IconServices:/var/empty:/usr/bin/false\n",
    "_distnote:*:241:241:DistNote:/var/empty:/usr/bin/false\n",
    "_nsurlsessiond:*:242:242:NSURLSession Daemon:/var/db/nsurlsessiond:/usr/bin/false\n",
    "_nsurlstoraged:*:243:243:NSURLStorage Daemon:/var/empty:/usr/bin/false\n",
    "_displaypolicyd:*:244:244:Display Policy Daemon:/var/empty:/usr/bin/false\n",
    "_astris:*:245:245:Astris Services:/var/db/astris:/usr/bin/false\n",
    "_krbfast:*:246:-2:Kerberos FAST Account:/var/empty:/usr/bin/false\n",
    "```\n",
    "Tips: “Thinks of it as a cat, what is at the end of it?”\n",
    "#### Repo:\n",
    "* GitHub repository: `alx-system_engineering-devops`\n",
    "* Directory: `0x02-shell_redirections`\n",
    "* File: `4-lastlines`"
   ]
  },
  {
   "cell_type": "code",
   "execution_count": 40,
   "metadata": {},
   "outputs": [
    {
     "name": "stdout",
     "output_type": "stream",
     "text": [
      "Overwriting 0x02-shell_redirections/4-lastlines\n"
     ]
    }
   ],
   "source": [
    "%%file 0x02-shell_redirections/4-lastlines\n",
    "#!/bin/bash\n",
    "tail -n 10 /etc/passwd"
   ]
  },
  {
   "cell_type": "code",
   "execution_count": 41,
   "metadata": {},
   "outputs": [],
   "source": [
    "!chmod u+x 0x02-shell_redirections/4-lastlines"
   ]
  },
  {
   "cell_type": "code",
   "execution_count": 42,
   "metadata": {},
   "outputs": [
    {
     "name": "stdout",
     "output_type": "stream",
     "text": [
      "#!/bin/bash\n",
      "tail -n 10 /etc/passwd\n"
     ]
    }
   ],
   "source": [
    "!cat 0x02-shell_redirections/4-lastlines"
   ]
  },
  {
   "cell_type": "code",
   "execution_count": 43,
   "metadata": {},
   "outputs": [
    {
     "name": "stdout",
     "output_type": "stream",
     "text": [
      "tss:x:106:111:TPM software stack,,,:/var/lib/tpm:/bin/false\n",
      "uuidd:x:107:112::/run/uuidd:/usr/sbin/nologin\n",
      "tcpdump:x:108:113::/nonexistent:/usr/sbin/nologin\n",
      "sshd:x:109:65534::/run/sshd:/usr/sbin/nologin\n",
      "landscape:x:110:115::/var/lib/landscape:/usr/sbin/nologin\n",
      "pollinate:x:111:1::/var/cache/pollinate:/bin/false\n",
      "fwupd-refresh:x:112:116:fwupd-refresh user,,,:/run/systemd:/usr/sbin/nologin\n",
      "systemd-coredump:x:999:999:systemd Core Dumper:/:/usr/sbin/nologin\n",
      "lxd:x:998:100::/var/snap/lxd/common/lxd:/bin/false\n",
      "elkomy:x:1000:1000:,,,:/home/elkomy:/bin/bash\n"
     ]
    }
   ],
   "source": [
    "!./0x02-shell_redirections/4-lastlines"
   ]
  },
  {
   "cell_type": "code",
   "execution_count": 44,
   "metadata": {},
   "outputs": [
    {
     "name": "stdout",
     "output_type": "stream",
     "text": [
      "[main 313c5ce] 0x02-shell_redirections/4-lastlines\n",
      " 2 files changed, 57 insertions(+), 26 deletions(-)\n",
      " create mode 100755 0x02-shell_redirections/4-lastlines\n",
      "Enumerating objects: 8, done.\n",
      "Counting objects: 100% (8/8), done.\n",
      "Delta compression using up to 12 threads\n",
      "Compressing objects: 100% (4/4), done.\n",
      "Writing objects: 100% (5/5), 1.02 KiB | 1.02 MiB/s, done.\n",
      "Total 5 (delta 3), reused 0 (delta 0)\n"
     ]
    },
    {
     "name": "stdout",
     "output_type": "stream",
     "text": [
      "remote: Resolving deltas: 100% (3/3), completed with 3 local objects.\u001b[K\n",
      "To https://github.com/elkomysara/alx-system_engineering-devops.git\n",
      "   a70f871..313c5ce  main -> main\n",
      "Branch 'main' set up to track remote branch 'main' from 'origin'.\n"
     ]
    }
   ],
   "source": [
    "!git add .\n",
    "!git commit -m \"0x02-shell_redirections/4-lastlines\"\n",
    "!git push -u origin main"
   ]
  },
  {
   "cell_type": "markdown",
   "metadata": {},
   "source": [
    "### \n",
    "\n",
    "\n",
    "---\n",
    "<center>\n",
    "<h4> 5. I'd prefer the first ones actually</h4>\n",
    "</center>\n",
    "\n",
    "---"
   ]
  },
  {
   "cell_type": "markdown",
   "metadata": {},
   "source": [
    "##### Display the first 10 lines of `/etc/passwd`\n",
    "\n",
    "\n",
    "##### Example:\n",
    "\n",
    "\n",
    "```bash\n",
    "$ ./5-firstlines\n",
    "##\n",
    "# User Database\n",
    "#\n",
    "# Note that this file is consulted directly only when the system is running\n",
    "# in single-user mode. At other times this information is provided by\n",
    "# Open Directory.\n",
    "#\n",
    "# See the opendirectoryd(8) man page for additional information about\n",
    "# Open Directory.\n",
    "##\n",
    "$\n",
    "```\n",
    "\n",
    "##### Repo:\n",
    "\n",
    "* GitHub repository: `alx-system_engineering-devops`\n",
    "* Directory: `0x02-shell_redirections`\n",
    "* File: `5-firstlines`"
   ]
  },
  {
   "cell_type": "code",
   "execution_count": 45,
   "metadata": {},
   "outputs": [
    {
     "name": "stdout",
     "output_type": "stream",
     "text": [
      "Writing 0x02-shell_redirections/5-firstlines\n"
     ]
    }
   ],
   "source": [
    "%%file 0x02-shell_redirections/5-firstlines\n",
    "#!/bin/bash\n",
    "head -n 10 /etc/passwd"
   ]
  },
  {
   "cell_type": "code",
   "execution_count": 46,
   "metadata": {},
   "outputs": [
    {
     "name": "stdout",
     "output_type": "stream",
     "text": [
      "root:x:0:0:root:/root:/bin/bash\n",
      "daemon:x:1:1:daemon:/usr/sbin:/usr/sbin/nologin\n",
      "bin:x:2:2:bin:/bin:/usr/sbin/nologin\n",
      "sys:x:3:3:sys:/dev:/usr/sbin/nologin\n",
      "sync:x:4:65534:sync:/bin:/bin/sync\n",
      "games:x:5:60:games:/usr/games:/usr/sbin/nologin\n",
      "man:x:6:12:man:/var/cache/man:/usr/sbin/nologin\n",
      "lp:x:7:7:lp:/var/spool/lpd:/usr/sbin/nologin\n",
      "mail:x:8:8:mail:/var/mail:/usr/sbin/nologin\n",
      "news:x:9:9:news:/var/spool/news:/usr/sbin/nologin\n"
     ]
    }
   ],
   "source": [
    "%%bash\n",
    "chmod u+x 0x02-shell_redirections/5-firstlines\n",
    "./0x02-shell_redirections/5-firstlines"
   ]
  },
  {
   "cell_type": "code",
   "execution_count": 47,
   "metadata": {},
   "outputs": [
    {
     "name": "stdout",
     "output_type": "stream",
     "text": [
      "[main 563cd23] 0x02-shell_redirections/5-firstlines\n",
      " 2 files changed, 64 insertions(+), 54 deletions(-)\n",
      " create mode 100755 0x02-shell_redirections/5-firstlines\n"
     ]
    },
    {
     "name": "stderr",
     "output_type": "stream",
     "text": [
      "To https://github.com/elkomysara/alx-system_engineering-devops.git\n",
      "   313c5ce..563cd23  main -> main\n"
     ]
    }
   ],
   "source": [
    "%%bash\n",
    "git add .\n",
    "git commit -m \"0x02-shell_redirections/5-firstlines\"\n",
    "git push"
   ]
  },
  {
   "cell_type": "markdown",
   "metadata": {},
   "source": [
    "### \n",
    "\n",
    "\n",
    "---\n",
    "<center>\n",
    "<h4> 6. Line #2 </h4>\n",
    "</center>\n",
    "\n",
    "---"
   ]
  },
  {
   "cell_type": "markdown",
   "metadata": {},
   "source": [
    "##### Write a script that displays the third line of the file `iacta` .\n",
    "\n",
    "##### The file `iacta` will be in the working directory \n",
    "* You're not allowed to use 'sed'\n",
    "\n",
    "```bash\n",
    "julien@ubuntu:/tmp/h$ cat iacta \n",
    "Alea iacta est\n",
    "\n",
    "Alea iacta est (\"The die is cast\") is a Latin phrase attributed by Suetonius\n",
    "(as iacta alea est) to Julius Caesar on January 10, 49 BC\n",
    "as he led his army across the Rubicon river in Northern Italy. With this step,\n",
    "he entered Italy at the head of his army in defiance of the Senate and began\n",
    "his long civil war against Pompey and the Optimates. The phrase has been\n",
    "adopted in Italian (Il dado è tratto), Romanian (Zarurile au fost aruncate),\n",
    "Spanish (La suerte está echada), French (Les dés sont jetés), Portuguese (A\n",
    "sorte está lançada), Dutch (De teerling is geworpen),\n",
    "German (Der Würfel ist gefallen), Hungarian (A kocka el van vetve) and many other languages to\n",
    "indicate that events have passed a point of no return.\n",
    "\n",
    "Read more: https://en.wikipedia.org/wiki/Alea_iacta_est\n",
    "julien@ubuntu:/tmp/h$ ./6-third_line \n",
    "Alea iacta est (\"The die is cast\") is a Latin phrase attributed by Suetonius\n",
    "julien@ubuntu:/tmp/h$\n",
    "\n",
    "```\n",
    "Note: The output will differ, depending on the content of the file `iacta` .\n",
    "\n",
    "#### Repo:\n",
    "\n",
    "* GitHub repository: `alx-system_engineering-devops`\n",
    "* Directory: `0x02-shell_redirections`\n",
    "* File: `6-third_line`"
   ]
  },
  {
   "cell_type": "code",
   "execution_count": 53,
   "metadata": {},
   "outputs": [
    {
     "name": "stdout",
     "output_type": "stream",
     "text": [
      "Overwriting 0x02-shell_redirections/6-third_line\n"
     ]
    }
   ],
   "source": [
    "%%file 0x02-shell_redirections/6-third_line\n",
    "#!/bin/bash\n",
    "head -n 3 iacta | tail -n 1 "
   ]
  },
  {
   "cell_type": "code",
   "execution_count": 51,
   "metadata": {},
   "outputs": [],
   "source": [
    "%%bash\n",
    "chmod u+x  0x02-shell_redirections/6-third_line\n",
    "\n"
   ]
  },
  {
   "cell_type": "code",
   "execution_count": 54,
   "metadata": {},
   "outputs": [
    {
     "name": "stdout",
     "output_type": "stream",
     "text": [
      "[main 34dccbd] 6-third_line\n",
      " 2 files changed, 10 insertions(+), 10 deletions(-)\n"
     ]
    },
    {
     "name": "stderr",
     "output_type": "stream",
     "text": [
      "To https://github.com/elkomysara/alx-system_engineering-devops.git\n",
      "   b2c2939..34dccbd  main -> main\n"
     ]
    }
   ],
   "source": [
    "%%bash\n",
    "git add .\n",
    "git commit -m \"6-third_line\"\n",
    "git push"
   ]
  },
  {
   "cell_type": "markdown",
   "metadata": {},
   "source": [
    "### \n",
    "\n",
    "\n",
    "---\n",
    "<center>\n",
    "<h4> 7.It is a good file that cuts iron without making a noise </h4>\n",
    "</center>\n",
    "\n",
    "---"
   ]
  },
  {
   "cell_type": "markdown",
   "metadata": {},
   "source": [
    "##### Write a shell script that creates a file named exactly `\\*\\\\'\"Best School\"\\'\\\\*$\\?\\*\\*\\*\\*\\*:)`  containing the text `Best School` ending by a new line.\n",
    "\n",
    "```bash\n",
    "julien@ubuntu:~/shell$ ls && ./7-file && ls -l && cat -e \\\\*\n",
    "0-mac_and_cheese 7-file 7-file~ Makefile\n",
    "total 20\n",
    "-rwxrw-r-- 1 julien julien 79 Jan 20 06:24 0-mac_and_cheese\n",
    "-rwxrw-r-- 1 julien julien 90 Jan 20 06:40 7-file\n",
    "-rwxrw-r-- 1 julien julien 69 Jan 20 06:37 7-file~\n",
    "-rw-rw-r-- 1 julien julien 14 Jan 20 06:38 Makefile\n",
    "-rw-rw-r-- 1 julien julien 17 Jan 20 06:40 '\\*\\\\'\"Best School\"\\'\\\\*$\\?\\*\\*\\*\\*\\*:)'\n",
    "Best School$\n",
    "julien@ubuntu:~/shell$ \n",
    "```\n",
    "\n",
    "#### Repo:\n",
    "\n",
    "* GitHub repository: `alx-system_engineering-devops`\n",
    "* Directory: `0x02-shell_redirections`\n",
    "* File: `7-file`"
   ]
  },
  {
   "cell_type": "code",
   "execution_count": 64,
   "metadata": {},
   "outputs": [
    {
     "name": "stdout",
     "output_type": "stream",
     "text": [
      "Overwriting 0x02-shell_redirections/7-file\n"
     ]
    }
   ],
   "source": [
    "%%file 0x02-shell_redirections/7-file\n",
    "#!/bin/bash\n",
    "echo \"Best School\" > \\\\\\*\\\\\\\\\\'\\\"Best\\ School\\\"\\\\\\'\\\\\\\\\\*\\$\\\\\\?\\\\\\*\\\\\\*\\\\\\*\\\\\\*\\\\\\*\\:\\)"
   ]
  },
  {
   "cell_type": "code",
   "execution_count": null,
   "metadata": {},
   "outputs": [],
   "source": [
    "#\\\\\\*\\\\\\\\\\'\\\"Best\\ School\\\"\\\\\\'\\\\\\\\\\*\\$\\\\\\?\\\\\\*\\\\\\*\\\\\\*\\\\\\*\\\\\\*\\:\\)"
   ]
  },
  {
   "cell_type": "code",
   "execution_count": 59,
   "metadata": {},
   "outputs": [],
   "source": [
    "%%bash\n",
    "chmod u+x 0x02-shell_redirections/7-file"
   ]
  },
  {
   "cell_type": "code",
   "execution_count": 65,
   "metadata": {},
   "outputs": [],
   "source": [
    "!./0x02-shell_redirections/7-file"
   ]
  },
  {
   "cell_type": "code",
   "execution_count": 66,
   "metadata": {},
   "outputs": [
    {
     "name": "stdout",
     "output_type": "stream",
     "text": [
      "[main 987b10d] 7-everybody\n",
      " 3 files changed, 46 insertions(+), 47 deletions(-)\n",
      " create mode 100755 0x02-shell_redirections/7-file\n",
      " create mode 100644 \"\\\\*\\\\\\\\'\\\"Best School\\\"\\\\'\\\\\\\\*$\\\\?\\\\*\\\\*\\\\*\\\\*\\\\*:)\"\n"
     ]
    },
    {
     "name": "stderr",
     "output_type": "stream",
     "text": [
      "To https://github.com/elkomysara/alx-system_engineering-devops.git\n",
      "   34dccbd..987b10d  main -> main\n"
     ]
    }
   ],
   "source": [
    "%%bash\n",
    "git add .\n",
    "git commit -m \"7-everybody\"\n",
    "git push"
   ]
  },
  {
   "cell_type": "markdown",
   "metadata": {},
   "source": [
    "### \n",
    "\n",
    "\n",
    "---\n",
    "<center>\n",
    "<h4> 8. Save current state of directory </h4>\n",
    "</center>\n",
    "\n",
    "---"
   ]
  },
  {
   "cell_type": "markdown",
   "metadata": {},
   "source": [
    "##### Write a script that writes into the file `ls_cwd_content` the result of the command `ls -la` . If the file `ls_cwd_content` already exists, it should be overwritten. If the file `ls_cwd_content` dose not exist, create it.\n",
    "\n",
    "```bash\n",
    "julien@ubuntu:/tmp/h$ ls -la\n",
    "total 20\n",
    "drwxrwxr-x  2 julien julien 4096 Sep 20 18:18 .\n",
    "drwxrwxrwt 13 root   root   4096 Sep 20 18:18 ..\n",
    "-rwxrw-r--  1 julien julien   36 Sep 20 18:18 8-cwd_state\n",
    "-rw-rw-r--  1 betty  julien   23 Sep 20 14:25 hello\n",
    "-rw-rw-r--  1 julien julien  926 Sep 20 17:52 iacta\n",
    "julien@ubuntu:/tmp/h$ ./8-cwd_state \n",
    "julien@ubuntu:/tmp/h$ ls -la\n",
    "total 24\n",
    "drwxrwxr-x  2 julien julien 4096 Sep 20 18:18 .\n",
    "drwxrwxrwt 13 root   root   4096 Sep 20 18:18 ..\n",
    "-rwxrw-r--  1 julien julien   36 Sep 20 18:18 8-cwd_state\n",
    "-rw-rw-r--  1 betty  julien   23 Sep 20 14:25 hello\n",
    "-rw-rw-r--  1 julien julien  926 Sep 20 17:52 iacta\n",
    "-rw-rw-r--  1 julien julien  329 Sep 20 18:18 ls_cwd_content\n",
    "julien@ubuntu:/tmp/h$ cat ls_cwd_content \n",
    "total 20\n",
    "drwxrwxr-x  2 julien julien 4096 Sep 20 18:18 .\n",
    "drwxrwxrwt 13 root   root   4096 Sep 20 18:18 ..\n",
    "-rwxrw-r--  1 julien julien   36 Sep 20 18:18 8-cwd_state\n",
    "-rw-rw-r--  1 betty  julien   23 Sep 20 14:25 hello\n",
    "-rw-rw-r--  1 julien julien  926 Sep 20 17:52 iacta\n",
    "-rw-rw-r--  1 julien julien    0 Sep 20 18:18 ls_cwd_content\n",
    "julien@ubuntu:/tmp/h$ \n",
    "```\n",
    "\n",
    "#### Repo:\n",
    "\n",
    "* GitHub repository: `alx-system_engineering-devops`\n",
    "* Directory: `0x02-shell_redirections`\n",
    "* File: ` 8-cwd_state`\n"
   ]
  },
  {
   "cell_type": "code",
   "execution_count": 3,
   "metadata": {},
   "outputs": [
    {
     "name": "stdout",
     "output_type": "stream",
     "text": [
      "Writing 0x02-shell_redirections/8-cwd_state\n"
     ]
    }
   ],
   "source": [
    "%%file 0x02-shell_redirections/8-cwd_state\n",
    "#!/bin/bash\n",
    "ls -la > ls_cwd_content"
   ]
  },
  {
   "cell_type": "code",
   "execution_count": 5,
   "metadata": {},
   "outputs": [
    {
     "name": "stdout",
     "output_type": "stream",
     "text": [
      "0x00-shell_basics\n",
      "0x00-shell_basics.ipynb\n",
      "0x01-shell_permissions\n",
      "0x01-shell_permissions.ipynb\n",
      "0x02-shell_redirections\n",
      "0x02. Shell, InputOutput Redirections and filters.ipynb\n",
      "README.md\n",
      "\\*\\\\'\"Best School\"\\'\\\\*$\\?\\*\\*\\*\\*\\*:)\n",
      "hello\n",
      "ls_cwd_content\n",
      "school.mgc\n",
      "test.HTML\n"
     ]
    }
   ],
   "source": [
    "%%bash\n",
    "chmod u+x 0x02-shell_redirections/8-cwd_state\n",
    "./0x02-shell_redirections/8-cwd_state\n",
    "ls\n"
   ]
  },
  {
   "cell_type": "code",
   "execution_count": 6,
   "metadata": {},
   "outputs": [
    {
     "name": "stdout",
     "output_type": "stream",
     "text": [
      "[main cdfe762] 0x02-shell_redirections/8-cwd_state\n",
      " 3 files changed, 73 insertions(+), 48 deletions(-)\n",
      " create mode 100755 0x02-shell_redirections/8-cwd_state\n",
      " create mode 100644 ls_cwd_content\n"
     ]
    },
    {
     "name": "stderr",
     "output_type": "stream",
     "text": [
      "To https://github.com/elkomysara/alx-system_engineering-devops.git\n",
      "   987b10d..cdfe762  main -> main\n"
     ]
    }
   ],
   "source": [
    "%%bash\n",
    "git add .\n",
    "git commit -m \"0x02-shell_redirections/8-cwd_state\"\n",
    "git push"
   ]
  },
  {
   "cell_type": "markdown",
   "metadata": {},
   "source": [
    "### \n",
    "\n",
    "\n",
    "---\n",
    "<center>\n",
    "<h4> 9. Duplicate last line</h4>\n",
    "</center>\n",
    "\n",
    "---"
   ]
  },
  {
   "cell_type": "markdown",
   "metadata": {},
   "source": [
    "##### Write a script that duplicates the last line of the file iacta\n",
    "\n",
    "* The file iacta will be in the working directory\n",
    "\n",
    "```bash\n",
    "julien@ubuntu:/tmp/h$ cat iacta \n",
    "Alea iacta est\n",
    "\n",
    "Alea iacta est (\"The die is cast\") is a Latin phrase attributed by Suetonius\n",
    "(as iacta alea est) to Julius Caesar on January 10, 49 BC\n",
    "as he led his army across the Rubicon river in Northern Italy. With this step,\n",
    "he entered Italy at the head of his army in defiance of the Senate and began\n",
    "his long civil war against Pompey and the Optimates. The phrase has been\n",
    "adopted in Italian (Il dado è tratto), Romanian (Zarurile au fost aruncate),\n",
    "Spanish (La suerte está echada), French (Les dés sont jetés), Portuguese (A\n",
    "sorte está lançada), Dutch (De teerling is geworpen),\n",
    "German (Der Würfel ist gefallen), Hungarian (A kocka el van vetve) and many other languages to\n",
    "indicate that events have passed a point of no return.\n",
    "\n",
    "Read more: https://en.wikipedia.org/wiki/Alea_iacta_est\n",
    "julien@ubuntu:/tmp/h$ ./9-duplicate_last_line \n",
    "julien@ubuntu:/tmp/h$ cat iacta \n",
    "Alea iacta est\n",
    "\n",
    "Alea iacta est (\"The die is cast\") is a Latin phrase attributed by Suetonius\n",
    "(as iacta alea est) to Julius Caesar on January 10, 49 BC\n",
    "as he led his army across the Rubicon river in Northern Italy. With this step,\n",
    "he entered Italy at the head of his army in defiance of the Senate and began\n",
    "his long civil war against Pompey and the Optimates. The phrase has been\n",
    "adopted in Italian (Il dado è tratto), Romanian (Zarurile au fost aruncate),\n",
    "Spanish (La suerte está echada), French (Les dés sont jetés), Portuguese (A\n",
    "sorte está lançada), Dutch (De teerling is geworpen),\n",
    "German (Der Würfel ist gefallen), Hungarian (A kocka el van vetve) and many other languages to\n",
    "indicate that events have passed a point of no return.\n",
    "\n",
    "Read more: https://en.wikipedia.org/wiki/Alea_iacta_est\n",
    "Read more: https://en.wikipedia.org/wiki/Alea_iacta_est\n",
    "julien@ubuntu:/tmp/h$ \n",
    "```\n",
    "\n",
    "\n",
    "#### Repo:\n",
    "\n",
    "* GitHub repository: `alx-system_engineering-devops`\n",
    "* Directory: `0x02-shell_redirections`\n",
    "* File: `9-duplicate_last_line`"
   ]
  },
  {
   "cell_type": "code",
   "execution_count": 7,
   "metadata": {},
   "outputs": [
    {
     "name": "stdout",
     "output_type": "stream",
     "text": [
      "Writing 0x02-shell_redirections/9-duplicate_last_line\n"
     ]
    }
   ],
   "source": [
    "%%file 0x02-shell_redirections/9-duplicate_last_line\n",
    "#!/bin/bash\n",
    "tail -n 1 iacta >> iacta"
   ]
  },
  {
   "cell_type": "code",
   "execution_count": 8,
   "metadata": {},
   "outputs": [],
   "source": [
    "%%bash\n",
    "chmod u+x 0x02-shell_redirections/9-duplicate_last_line\n",
    "./0x02-shell_redirections/9-duplicate_last_line\n"
   ]
  },
  {
   "cell_type": "code",
   "execution_count": 31,
   "metadata": {},
   "outputs": [
    {
     "name": "stdout",
     "output_type": "stream",
     "text": [
      "[main e8a0ede] 9-John Doe\n",
      " 2 files changed, 8 insertions(+), 16 deletions(-)\n",
      " mode change 100644 => 100755 0x01-shell_permissions/9-John_Doe\n"
     ]
    },
    {
     "name": "stderr",
     "output_type": "stream",
     "text": [
      "To https://github.com/elkomysara/alx-system_engineering-devops.git\n",
      "   1cf6806..e8a0ede  main -> main\n"
     ]
    }
   ],
   "source": [
    "%%bash\n",
    "git add .\n",
    "git commit -m \"9-John Doe\"\n",
    "git push"
   ]
  },
  {
   "cell_type": "markdown",
   "metadata": {},
   "source": [
    "### \n",
    "\n",
    "\n",
    "---\n",
    "<center>\n",
    "<h4> 10.No more javascript</h4>\n",
    "</center>\n",
    "\n",
    "---"
   ]
  },
  {
   "cell_type": "markdown",
   "metadata": {},
   "source": [
    "##### Write a script that deletes all the regular files (not the directories) with a `.js` extension that are present in the current directory and all its subfolders.\n",
    "\n",
    "```bash\n",
    "julien@ubuntu:/tmp/h$ ls -lR\n",
    ".:\n",
    "total 24\n",
    "-rwxrw-r-- 1 julien julien   49 Sep 20 18:29 10-no_more_js\n",
    "drwxrwxr-x 2 julien julien 4096 Sep 20 18:23 dir1\n",
    "drwxrwxr-x 2 julien julien 4096 Sep 20 18:24 dir.js\n",
    "-rw-rw-r-- 1 betty  julien   23 Sep 20 14:25 hello\n",
    "-rw-rw-r-- 1 julien julien  982 Sep 20 18:21 iacta\n",
    "-rw-rw-r-- 1 julien julien  329 Sep 20 18:18 ls_cwd_content\n",
    "-rw-rw-r-- 1 julien julien    0 Sep 20 18:23 main.js\n",
    "\n",
    "./dir1:\n",
    "total 0\n",
    "-rw-rw-r-- 1 julien julien 0 Sep 20 18:23 code.js\n",
    "\n",
    "./dir.js:\n",
    "total 0\n",
    "julien@ubuntu:/tmp/h$ ./10-no_more_js \n",
    "julien@ubuntu:/tmp/h$ ls -lR\n",
    ".:\n",
    "total 24\n",
    "-rwxrw-r-- 1 julien julien   49 Sep 20 18:29 10-no_more_js\n",
    "drwxrwxr-x 2 julien julien 4096 Sep 20 18:29 dir1\n",
    "drwxrwxr-x 2 julien julien 4096 Sep 20 18:24 dir.js\n",
    "-rw-rw-r-- 1 betty  julien   23 Sep 20 14:25 hello\n",
    "-rw-rw-r-- 1 julien julien  982 Sep 20 18:21 iacta\n",
    "-rw-rw-r-- 1 julien julien  329 Sep 20 18:18 ls_cwd_content\n",
    "\n",
    "./dir1:\n",
    "total 0\n",
    "\n",
    "./dir.js:\n",
    "total 0\n",
    "julien@ubuntu:/tmp/h$  \n",
    "```\n",
    "\n",
    "#### Repo:\n",
    "\n",
    "* GitHub repository: `alx-system_engineering-devops`\n",
    "* Directory: `0x02-shell_redirections`\n",
    "* File: `10-no_more_js`"
   ]
  },
  {
   "cell_type": "markdown",
   "metadata": {},
   "source": [
    "```bash\n",
    "find [starting_directory] [options] [actions]\n",
    "```"
   ]
  },
  {
   "cell_type": "code",
   "execution_count": 4,
   "metadata": {},
   "outputs": [
    {
     "name": "stdout",
     "output_type": "stream",
     "text": [
      "Writing 0x02-shell_redirections/10-no_more_js\n"
     ]
    }
   ],
   "source": [
    "%%file 0x02-shell_redirections/10-no_more_js\n",
    "#!/bin/bash\n",
    "find . ! -name \"*.js\" -type f -delete \n",
    "#this is the wrong one becuase it deletes all the files but the .js files"
   ]
  },
  {
   "cell_type": "code",
   "execution_count": 8,
   "metadata": {},
   "outputs": [
    {
     "name": "stdout",
     "output_type": "stream",
     "text": [
      "Overwriting 0x02-shell_redirections/10-no_more_js\n"
     ]
    }
   ],
   "source": [
    "%%file 0x02-shell_redirections/10-no_more_js\n",
    "#!/bin/bash\n",
    "find . -type f -name \"*.js\" -delete"
   ]
  },
  {
   "cell_type": "code",
   "execution_count": 9,
   "metadata": {},
   "outputs": [],
   "source": [
    "%%bash\n",
    "chmod u+x 0x02-shell_redirections/10-no_more_js\n"
   ]
  },
  {
   "cell_type": "code",
   "execution_count": 10,
   "metadata": {},
   "outputs": [
    {
     "name": "stdout",
     "output_type": "stream",
     "text": [
      "[main 8c82d61] 0x02-shell_redirections/10-no_more_js\n",
      " 2 files changed, 26 insertions(+), 6 deletions(-)\n"
     ]
    },
    {
     "name": "stderr",
     "output_type": "stream",
     "text": [
      "To https://github.com/elkomysara/alx-system_engineering-devops.git\n",
      "   b28a4b1..8c82d61  main -> main\n"
     ]
    }
   ],
   "source": [
    "%%bash\n",
    "git add .\n",
    "git commit -m \"0x02-shell_redirections/10-no_more_js\"\n",
    "git push"
   ]
  },
  {
   "cell_type": "markdown",
   "metadata": {},
   "source": [
    "### \n",
    "\n",
    "\n",
    "---\n",
    "<center>\n",
    "<h4> 11.Don't just count your directories, make your directories count</h4>\n",
    "</center>\n",
    "\n",
    "---"
   ]
  },
  {
   "cell_type": "markdown",
   "metadata": {},
   "source": [
    "##### Write a script that counts the number of directories and sub-directories in the current directory. \n",
    "* The current and parent directories should not be taken into account.\n",
    "* Hidden directories should be counted.\n",
    "```bash\n",
    "julien@production-503e7013:~/shell/fun_with_the_shell$ ls -lRa\n",
    ".:\n",
    "total 32\n",
    "drwxrwxr-x 3 julien julien 4096 Jan 20 03:53 .\n",
    "drwxrwxr-x 3 julien julien 4096 Jan 20 02:58 ..\n",
    "-rwxr--r-- 1 julien julien 43 Jan 20 02:59 0-commas\n",
    "-rwxr--r-- 1 julien julien 47 Jan 20 02:50 1-empty_casks\n",
    "-rwxrw-r-- 1 julien julien 68 Jan 20 03:35 2-gifs\n",
    "-rwxrw-r-- 1 julien julien 47 Jan 20 03:53 3-directories\n",
    "-rw-rw-r-- 1 julien julien 14 Jan 20 03:35 Makefile\n",
    "drwxrwxr-x 4 julien julien 4096 Jan 20 03:42 test_dir\n",
    "\n",
    "./test_dir:\n",
    "total 16\n",
    "drwxrwxr-x 4 julien julien 4096 Jan 20 03:42 .\n",
    "drwxrwxr-x 3 julien julien 4096 Jan 20 03:53 ..\n",
    "-rw-rw-r-- 1 julien julien 0 Jan 20 03:40 .horrible_selfie.gif\n",
    "-rw-rw-r-- 1 julien julien 0 Jan 20 03:23 README.md\n",
    "-rw-rw-r-- 1 julien julien 0 Jan 20 03:17 docker.gif\n",
    "-rw-rw-r-- 1 julien julien 0 Jan 20 03:17 file.sh\n",
    "drwxrwxr-x 2 julien julien 4096 Jan 20 03:23 photos\n",
    "drwxrwxr-x 2 julien julien 4096 Jan 20 03:23 rep.gif\n",
    "\n",
    "./test_dir/photos:\n",
    "total 8\n",
    "drwxrwxr-x 2 julien julien 4096 Jan 20 03:23 .\n",
    "drwxrwxr-x 4 julien julien 4096 Jan 20 03:42 ..\n",
    "-rw-rw-r-- 1 julien julien 0 Jan 20 03:23 cat.gif\n",
    "-rw-rw-r-- 1 julien julien 0 Jan 20 03:22 index.html\n",
    "-rw-rw-r-- 1 julien julien 0 Jan 20 03:23 main.gif\n",
    "-rw-rw-r-- 1 julien julien 0 Jan 20 03:23 rudy_rigot.gif\n",
    "\n",
    "./test_dir/rep.gif:\n",
    "total 8\n",
    "drwxrwxr-x 2 julien julien 4096 Jan 20 03:23 .\n",
    "drwxrwxr-x 4 julien julien 4096 Jan 20 03:42 ..\n",
    "julien@production-503e7013:~/shell/fun_with_the_shell$ ./11-directories\n",
    "3\n",
    "julien@production-503e7013:~/shell/fun_with_the_shell$\n",
    "```\n",
    "\n",
    "#### Repo:\n",
    "\n",
    "* GitHub repository: `alx-system_engineering-devops`\n",
    "* Directory: `0x02-shell_redirections`\n",
    "* File: `11-directories`"
   ]
  },
  {
   "cell_type": "code",
   "execution_count": 3,
   "metadata": {},
   "outputs": [
    {
     "name": "stdout",
     "output_type": "stream",
     "text": [
      "Overwriting 0x02-shell_redirections/11-directories\n"
     ]
    }
   ],
   "source": [
    "%%file 0x02-shell_redirections/11-directories\n",
    "#!/bin/bash\n",
    "find . -mindepth 1 -type d | wc -l"
   ]
  },
  {
   "cell_type": "code",
   "execution_count": 5,
   "metadata": {},
   "outputs": [],
   "source": [
    "%%bash\n",
    "chmod u+x  0x02-shell_redirections/11-directories\n",
    "\n"
   ]
  },
  {
   "cell_type": "code",
   "execution_count": 8,
   "metadata": {},
   "outputs": [
    {
     "name": "stdout",
     "output_type": "stream",
     "text": [
      "30\n"
     ]
    }
   ],
   "source": [
    "!./0x02-shell_redirections/11-directories"
   ]
  },
  {
   "cell_type": "code",
   "execution_count": 9,
   "metadata": {},
   "outputs": [
    {
     "name": "stdout",
     "output_type": "stream",
     "text": [
      "[main 73088ef] 0x02-shell_redirections/11-directories\n",
      " 2 files changed, 75 insertions(+), 24 deletions(-)\n",
      " create mode 100755 0x02-shell_redirections/11-directories\n"
     ]
    },
    {
     "name": "stderr",
     "output_type": "stream",
     "text": [
      "To https://github.com/elkomysara/alx-system_engineering-devops.git\n",
      "   8c82d61..73088ef  main -> main\n"
     ]
    }
   ],
   "source": [
    "%%bash\n",
    "git add .\n",
    "git commit -m \"0x02-shell_redirections/11-directories\"\n",
    "git push"
   ]
  },
  {
   "cell_type": "markdown",
   "metadata": {},
   "source": [
    "### \n",
    "\n",
    "\n",
    "---\n",
    "<center>\n",
    "<h4> 12.What's new</h4>\n",
    "</center>\n",
    "\n",
    "---"
   ]
  },
  {
   "cell_type": "markdown",
   "metadata": {},
   "source": [
    "##### Create a script that displays the 10 newest files in the current directory.\n",
    "Requirements:\n",
    "* One file per line\n",
    "* Sorted from the newest to the oldest\n",
    "\n",
    "\n",
    "```bash\n",
    "alex@ubuntu:/tmp$ ls -l\n",
    "total 7\n",
    "-rwxr-xr-x 1 501 dialout  32 Sep 27 23:51 0-hello_world\n",
    "-rwxr-xr-x 1 501 dialout  46 Sep 28 11:09 10-no_more_js\n",
    "-rwxr-xr-x 1 501 dialout  43 Sep 28 11:19 11-directories\n",
    "-rwxr-xr-x 1 501 dialout  30 Sep 29 13:43 12-newest_files\n",
    "-rwxr-xr-x 1 501 dialout  28 Sep 27 23:54 1-confused_smiley\n",
    "-rwxr-xr-x 1 501 dialout  28 Sep 27 23:58 2-hellofile\n",
    "-rwxr-xr-x 1 501 dialout  39 Sep 27 23:58 3-twofiles\n",
    "-rwxr-xr-x 1 501 dialout  33 Sep 27 23:59 4-lastlines\n",
    "-rwxr-xr-x 1 501 dialout  33 Sep 28 00:00 5-firstlines\n",
    "-rwxr-xr-x 1 501 dialout  28 Sep 28 00:25 6-third_line\n",
    "-rwxr-xr-x 1 501 dialout 110 Sep 28 00:34 7-file\n",
    "-rwxr-xr-x 1 501 dialout  36 Sep 28 00:34 8-cwd_state\n",
    "-rwxr-xr-x 1 501 dialout  35 Sep 28 00:35 9-duplicate_last_line\n",
    "-rw-r--r-- 1 501 dialout  19 Sep 27 23:51 README.md\n",
    "alex@ubuntu:/tmp$ ./12-newest_files \n",
    "12-newest_files\n",
    "11-directories\n",
    "10-no_more_js\n",
    "9-duplicate_last_line\n",
    "7-file\n",
    "8-cwd_state\n",
    "6-third_line\n",
    "5-firstlines\n",
    "4-lastlines\n",
    "3-twofiles\n",
    "alex@ubuntu:/tmp$ \n",
    "```\n",
    "#### Repo:\n",
    "\n",
    "* GitHub repository: `alx-system_engineering-devops`\n",
    "* Directory: `0x02-shell_redirections`\n",
    "* File: `12-newest_files`"
   ]
  },
  {
   "cell_type": "code",
   "execution_count": 9,
   "metadata": {},
   "outputs": [
    {
     "name": "stdout",
     "output_type": "stream",
     "text": [
      "Overwriting 0x02-shell_redirections/12-newest_files\n"
     ]
    }
   ],
   "source": [
    "%%file 0x02-shell_redirections/12-newest_files\n",
    "#!/bin/bash\n",
    "ls -t |head -n 10"
   ]
  },
  {
   "cell_type": "code",
   "execution_count": 10,
   "metadata": {},
   "outputs": [
    {
     "name": "stdout",
     "output_type": "stream",
     "text": [
      "0x02. Shell, InputOutput Redirections and filters.ipynb\n",
      "0x02-shell_redirections\n",
      "0x00-shell_basics\n",
      "0x01-shell_permissions\n",
      "0x01-shell_permissions.ipynb\n",
      "README.md\n",
      "\\*\\\\'\"Best School\"\\'\\\\*$\\?\\*\\*\\*\\*\\*:)\n",
      "hello\n",
      "iacta\n",
      "ls_cwd_content\n"
     ]
    }
   ],
   "source": [
    "%%bash\n",
    "chmod u+x 0x02-shell_redirections/12-newest_files\n",
    "source ./0x02-shell_redirections/12-newest_files"
   ]
  },
  {
   "cell_type": "code",
   "execution_count": 11,
   "metadata": {},
   "outputs": [
    {
     "name": "stdout",
     "output_type": "stream",
     "text": [
      "[main 7d5007d] 0x02-shell_redirections/12-newest_files\n",
      " 2 files changed, 68 insertions(+), 34 deletions(-)\n",
      " create mode 100755 0x02-shell_redirections/12-newest_files\n"
     ]
    },
    {
     "name": "stderr",
     "output_type": "stream",
     "text": [
      "To https://github.com/elkomysara/alx-system_engineering-devops.git\n",
      "   73088ef..7d5007d  main -> main\n"
     ]
    }
   ],
   "source": [
    "%%bash\n",
    "git add .\n",
    "git commit -m \"0x02-shell_redirections/12-newest_files\"\n",
    "git push"
   ]
  },
  {
   "cell_type": "markdown",
   "metadata": {},
   "source": [
    "### \n",
    "\n",
    "\n",
    "---\n",
    "<center>\n",
    "<h4> 13. Being unique is better than being perfect</h4>\n",
    "</center>\n",
    "\n",
    "---"
   ]
  },
  {
   "cell_type": "markdown",
   "metadata": {},
   "source": [
    "##### Create a script that takes a list of words as input and prints only words that appear exactly once. \n",
    "\n",
    "* Input format: One line, one word\n",
    "* Output format: One line, one word\n",
    "* Words should be sorted\n",
    "\n",
    "```bash\n",
    "julien@ubuntu:/tmp/0x02$ cat list \n",
    "C#\n",
    "C\n",
    "Javascript\n",
    "Perl\n",
    "PHP\n",
    "PHP\n",
    "ASP\n",
    "R\n",
    "Go\n",
    "C#\n",
    "C++\n",
    "R\n",
    "Perl\n",
    "Javascript\n",
    "Javascript\n",
    "Python\n",
    "Javascript\n",
    "Javascript\n",
    "Javascript\n",
    "Java\n",
    "Java\n",
    "Python\n",
    "Javascript\n",
    "Javascript\n",
    "Javascript\n",
    "ASP\n",
    "julien@ubuntu:/tmp/0x02$ cat list | ./13-unique \n",
    "C\n",
    "C++\n",
    "Go\n",
    "julien@ubuntu:/tmp/0x02$ \n",
    "```\n",
    "#### Repo:\n",
    "\n",
    "* GitHub repository: `alx-system_engineering-devops`\n",
    "* Directory: `0x02-shell_redirections`\n",
    "* File: `13-unique`"
   ]
  },
  {
   "cell_type": "code",
   "execution_count": 35,
   "metadata": {},
   "outputs": [
    {
     "name": "stdout",
     "output_type": "stream",
     "text": [
      "Overwriting 0x02-shell_redirections/13-unique\n"
     ]
    }
   ],
   "source": [
    "%%file 0x02-shell_redirections/13-unique\n",
    "#!/bin/bash\n",
    "sort | uniq -u"
   ]
  },
  {
   "cell_type": "code",
   "execution_count": 36,
   "metadata": {},
   "outputs": [],
   "source": [
    "%%bash\n",
    "chmod u+x 0x02-shell_redirections/13-unique"
   ]
  },
  {
   "cell_type": "code",
   "execution_count": 37,
   "metadata": {},
   "outputs": [
    {
     "name": "stdout",
     "output_type": "stream",
     "text": [
      "Overwriting 0x02-shell_redirections/list\n"
     ]
    }
   ],
   "source": [
    "%%file 0x02-shell_redirections/list\n",
    "C#\n",
    "C\n",
    "Javascript\n",
    "Perl\n",
    "PHP\n",
    "PHP\n",
    "ASP\n",
    "R\n",
    "Go\n",
    "C#\n",
    "C++\n",
    "R\n",
    "Perl\n",
    "Javascript\n",
    "Javascript\n",
    "Python\n",
    "Javascript\n",
    "Javascript\n",
    "Javascript\n",
    "Java\n",
    "Java\n",
    "Python\n",
    "Javascript\n",
    "Javascript\n",
    "Javascript\n",
    "ASP"
   ]
  },
  {
   "cell_type": "code",
   "execution_count": 38,
   "metadata": {},
   "outputs": [
    {
     "name": "stdout",
     "output_type": "stream",
     "text": [
      "C\n",
      "C++\n",
      "Go\n"
     ]
    }
   ],
   "source": [
    "!cat 0x02-shell_redirections/list | ./0x02-shell_redirections/13-unique"
   ]
  },
  {
   "cell_type": "code",
   "execution_count": 39,
   "metadata": {},
   "outputs": [
    {
     "name": "stdout",
     "output_type": "stream",
     "text": [
      "[main 66b1d64] 0x02-shell_redirections/13-unique3\n",
      " 1 file changed, 10 insertions(+), 9 deletions(-)\n"
     ]
    },
    {
     "name": "stderr",
     "output_type": "stream",
     "text": [
      "To https://github.com/elkomysara/alx-system_engineering-devops.git\n",
      "   7fd7e0d..66b1d64  main -> main\n"
     ]
    }
   ],
   "source": [
    "%%bash\n",
    "git add .\n",
    "git commit -m \"0x02-shell_redirections/13-unique3\"\n",
    "git push"
   ]
  },
  {
   "cell_type": "markdown",
   "metadata": {},
   "source": [
    "### \n",
    "\n",
    "\n",
    "---\n",
    "<center>\n",
    "<h4> 14. It must be in that file</h4>\n",
    "</center>\n",
    "\n",
    "---"
   ]
  },
  {
   "cell_type": "markdown",
   "metadata": {},
   "source": [
    "##### Display lines containing the pattern \"root\" from the file `/etc/passwd`\n",
    "\n",
    " \n",
    "```bash\n",
    "$ ./14-findthatword\n",
    "root:*:0:0:System Administrator:/var/root:/bin/sh\n",
    "daemon:*:1:1:System Services:/var/root:/usr/bin/false\n",
    "_cvmsroot:*:212:212:CVMS Root:/var/empty:/usr/bin/false\n",
    "$\n",
    "```\n",
    "\n",
    "#### Repo:\n",
    "\n",
    "* GitHub repository: `alx-system_engineering-devops`\n",
    "* Directory: `0x02-shell_redirections`\n",
    "* File: `14-findthatword`"
   ]
  },
  {
   "cell_type": "code",
   "execution_count": 1,
   "metadata": {},
   "outputs": [
    {
     "name": "stdout",
     "output_type": "stream",
     "text": [
      "Writing 0x02-shell_redirections/14-findthatword\n"
     ]
    }
   ],
   "source": [
    "%%file 0x02-shell_redirections/14-findthatword\n",
    "#!/bin/bash\n",
    "grep \"root\" /etc/passwd"
   ]
  },
  {
   "cell_type": "code",
   "execution_count": 2,
   "metadata": {},
   "outputs": [
    {
     "name": "stdout",
     "output_type": "stream",
     "text": [
      "root:x:0:0:root:/root:/bin/bash\n"
     ]
    }
   ],
   "source": [
    "%%bash\n",
    "\n",
    "chmod u+x 0x02-shell_redirections/14-findthatword\n",
    "source ./0x02-shell_redirections/14-findthatword\n"
   ]
  },
  {
   "cell_type": "code",
   "execution_count": 3,
   "metadata": {},
   "outputs": [
    {
     "name": "stdout",
     "output_type": "stream",
     "text": [
      "[main 33ab5d1] 0x02-shell_redirections/14-findthatword\n",
      " 2 files changed, 25 insertions(+), 51 deletions(-)\n",
      " create mode 100755 0x02-shell_redirections/14-findthatword\n"
     ]
    },
    {
     "name": "stderr",
     "output_type": "stream",
     "text": [
      "To https://github.com/elkomysara/alx-system_engineering-devops.git\n",
      "   66b1d64..33ab5d1  main -> main\n"
     ]
    }
   ],
   "source": [
    "%%bash\n",
    "git add .\n",
    "git commit -m \"0x02-shell_redirections/14-findthatword\"\n",
    "git push"
   ]
  },
  {
   "cell_type": "markdown",
   "metadata": {},
   "source": [
    "### \n",
    "\n",
    "\n",
    "---\n",
    "<center>\n",
    "<h4> 15. Count that word</h4>\n",
    "</center>\n",
    "\n",
    "---"
   ]
  },
  {
   "cell_type": "markdown",
   "metadata": {},
   "source": [
    "##### Display the number of lines that contain the pattern \"bin\" in the file /etc/passwd.\n",
    "\n",
    "\n",
    "```bash\n",
    "$ ./15-countthatword\n",
    "81\n",
    "$ \n",
    "```\n",
    "\n",
    "#### Repo:\n",
    "\n",
    "* GitHub repository: `alx-system_engineering-devops`\n",
    "* Directory: `0x02-shell_redirections`\n",
    "* File: `15-countthatword`"
   ]
  },
  {
   "cell_type": "code",
   "execution_count": 4,
   "metadata": {},
   "outputs": [
    {
     "name": "stdout",
     "output_type": "stream",
     "text": [
      "Writing 0x02-shell_redirections/15-countthatword\n"
     ]
    }
   ],
   "source": [
    "%%file 0x02-shell_redirections/15-countthatword\n",
    "#!/bin/bash\n",
    "grep \"bin\" /etc/passwd | wc -l"
   ]
  },
  {
   "cell_type": "code",
   "execution_count": 5,
   "metadata": {},
   "outputs": [
    {
     "name": "stdout",
     "output_type": "stream",
     "text": [
      "34\n"
     ]
    }
   ],
   "source": [
    "%%bash\n",
    "chmod u+x  0x02-shell_redirections/15-countthatword\n",
    "source ./0x02-shell_redirections/15-countthatword"
   ]
  },
  {
   "cell_type": "code",
   "execution_count": 6,
   "metadata": {},
   "outputs": [
    {
     "name": "stdout",
     "output_type": "stream",
     "text": [
      "[main fb17851] 0x02-shell_redirections/15-countthatword\n",
      " 2 files changed, 25 insertions(+), 48 deletions(-)\n",
      " create mode 100755 0x02-shell_redirections/15-countthatword\n"
     ]
    },
    {
     "name": "stderr",
     "output_type": "stream",
     "text": [
      "To https://github.com/elkomysara/alx-system_engineering-devops.git\n",
      "   33ab5d1..fb17851  main -> main\n"
     ]
    }
   ],
   "source": [
    "%%bash\n",
    "git add .\n",
    "git commit -m \"0x02-shell_redirections/15-countthatword\"\n",
    "git push"
   ]
  },
  {
   "cell_type": "markdown",
   "metadata": {},
   "source": [
    "### \n",
    "\n",
    "\n",
    "---\n",
    "<center>\n",
    "<h4> 16. What's next?</h4>\n",
    "</center>\n",
    "\n",
    "---"
   ]
  },
  {
   "cell_type": "markdown",
   "metadata": {},
   "source": [
    "##### Display lines containing the pattern \"root\" and 3 lines after them in the file `/etc/passwd`\n",
    "\n",
    "\n",
    "```bash\n",
    "$ ./16-whatsnext\n",
    "root:*:0:0:System Administrator:/var/root:/bin/sh\n",
    "daemon:*:1:1:System Services:/var/root:/usr/bin/false\n",
    "_uucp:*:4:4:Unix to Unix Copy Protocol:/var/spool/uucp:/usr/sbin/uucico\n",
    "_taskgated:*:13:13:Task Gate Daemon:/var/empty:/usr/bin/false\n",
    "_networkd:*:24:24:Network Services:/var/networkd:/usr/bin/false\n",
    "--\n",
    "_cvmsroot:*:212:212:CVMS Root:/var/empty:/usr/bin/false\n",
    "_usbmuxd:*:213:213:iPhone OS Device Helper:/var/db/lockdown:/usr/bin/false\n",
    "_dovecot:*:214:6:Dovecot Administrator:/var/empty:/usr/bin/false\n",
    "_dpaudio:*:215:215:DP Audio:/var/empty:/usr/bin/false\n",
    "$\n",
    "```\n",
    "\n",
    "#### Repo:\n",
    "\n",
    "* GitHub repository: `alx-system_engineering-devops`\n",
    "* Directory: `0x02-shell_redirections`\n",
    "* File: `16-whatsnext`"
   ]
  },
  {
   "cell_type": "code",
   "execution_count": 2,
   "metadata": {},
   "outputs": [
    {
     "name": "stdout",
     "output_type": "stream",
     "text": [
      "Overwriting 0x02-shell_redirections/16-whatsnext\n"
     ]
    }
   ],
   "source": [
    "%%file 0x02-shell_redirections/16-whatsnext\n",
    "#!/bin/bash\n",
    "grep -A 3 \"root\" /etc/passwd "
   ]
  },
  {
   "cell_type": "code",
   "execution_count": 3,
   "metadata": {},
   "outputs": [
    {
     "name": "stdout",
     "output_type": "stream",
     "text": [
      "root:x:0:0:root:/root:/bin/bash\n",
      "daemon:x:1:1:daemon:/usr/sbin:/usr/sbin/nologin\n",
      "bin:x:2:2:bin:/bin:/usr/sbin/nologin\n",
      "sys:x:3:3:sys:/dev:/usr/sbin/nologin\n"
     ]
    }
   ],
   "source": [
    "%%bash\n",
    "chmod u+x 0x02-shell_redirections/16-whatsnext\n",
    "source ./0x02-shell_redirections/16-whatsnext\n"
   ]
  },
  {
   "cell_type": "code",
   "execution_count": 4,
   "metadata": {},
   "outputs": [
    {
     "name": "stdout",
     "output_type": "stream",
     "text": [
      "[main 3a4cf59] 16\n",
      " 3 files changed, 38 insertions(+), 46 deletions(-)\n",
      " create mode 100755 0x02-shell_redirections/16-whatsnext\n"
     ]
    },
    {
     "name": "stderr",
     "output_type": "stream",
     "text": [
      "To https://github.com/elkomysara/alx-system_engineering-devops.git\n",
      "   fb17851..3a4cf59  main -> main\n"
     ]
    }
   ],
   "source": [
    "%%bash\n",
    "git add .\n",
    "git commit -m \"16\"\n",
    "git push"
   ]
  },
  {
   "cell_type": "markdown",
   "metadata": {},
   "source": [
    "### \n",
    "\n",
    "\n",
    "---\n",
    "<center>\n",
    "<h4> 17. I hate bins</h4>\n",
    "</center>\n",
    "\n",
    "---"
   ]
  },
  {
   "cell_type": "markdown",
   "metadata": {},
   "source": [
    "##### Display all the lines in the file `/etc/passwd` that do not contain the pattern \"bin\".\n",
    "```bash\n",
    "$ ./17-hidethisword\n",
    "##\n",
    "# User Database\n",
    "#\n",
    "# Note that this file is consulted directly only when the system is running\n",
    "# in single-user mode. At other times this information is provided by\n",
    "# Open Directory.\n",
    "#\n",
    "# See the opendirectoryd(8) man page for additional information about\n",
    "# Open Directory.\n",
    "##\n",
    "$\n",
    "```\n",
    "\n",
    "#### Repo:\n",
    "\n",
    "* GitHub repository: `alx-system_engineering-devops`\n",
    "* Directory: `0x02-shell_redirections`\n",
    "* File: `17-hidethisword`"
   ]
  },
  {
   "cell_type": "code",
   "execution_count": 1,
   "metadata": {},
   "outputs": [
    {
     "name": "stdout",
     "output_type": "stream",
     "text": [
      "Writing 0x02-shell_redirections/17-hidethisword\n"
     ]
    }
   ],
   "source": [
    "%%file 0x02-shell_redirections/17-hidethisword\n",
    "#!/bin/bash\n",
    "grep -v \"bin\" /etc/passwd "
   ]
  },
  {
   "cell_type": "code",
   "execution_count": 2,
   "metadata": {},
   "outputs": [],
   "source": [
    "%%bash\n",
    "chmod u+x 0x02-shell_redirections/17-hidethisword"
   ]
  },
  {
   "cell_type": "code",
   "execution_count": 4,
   "metadata": {},
   "outputs": [],
   "source": [
    "!./0x02-shell_redirections/17-hidethisword"
   ]
  },
  {
   "cell_type": "code",
   "execution_count": 5,
   "metadata": {},
   "outputs": [
    {
     "name": "stdout",
     "output_type": "stream",
     "text": [
      "[main ed1c315] 17\n",
      " 2 files changed, 34 insertions(+), 66 deletions(-)\n",
      " create mode 100755 0x02-shell_redirections/17-hidethisword\n"
     ]
    },
    {
     "name": "stderr",
     "output_type": "stream",
     "text": [
      "To https://github.com/elkomysara/alx-system_engineering-devops.git\n",
      "   3a4cf59..ed1c315  main -> main\n"
     ]
    }
   ],
   "source": [
    "%%bash\n",
    "git add .\n",
    "git commit -m \"17\"\n",
    "git push"
   ]
  },
  {
   "cell_type": "code",
   "execution_count": null,
   "metadata": {},
   "outputs": [],
   "source": []
  },
  {
   "cell_type": "markdown",
   "metadata": {},
   "source": [
    "### \n",
    "\n",
    "\n",
    "---\n",
    "<center>\n",
    "<h4> 18. Letters only please</h4>\n",
    "</center>\n",
    "\n",
    "---"
   ]
  },
  {
   "cell_type": "markdown",
   "metadata": {},
   "source": [
    "##### Display all lines of the file `/etc/ssh/sshd_config` starting with a letter.\n",
    "* Include capital letters as well\n",
    "\n",
    "```bash\n",
    "$ ./18-letteronly\n",
    "SyslogFacility AUTHPRIV\n",
    "AuthorizedKeysFile  .ssh/authorized_keys\n",
    "UsePrivilegeSeparation sandbox # Default for new installations.\n",
    "AcceptEnv LANG LC_*\n",
    "Subsystem   sftp    /usr/libexec/sftp-server\n",
    "$\n",
    "```\n",
    "\n",
    "#### Repo:\n",
    "\n",
    "* GitHub repository: `alx-system_engineering-devops`\n",
    "* Directory: `0x02-shell_redirections`\n",
    "* File: `18-letteronly`"
   ]
  },
  {
   "cell_type": "code",
   "execution_count": 6,
   "metadata": {},
   "outputs": [
    {
     "name": "stdout",
     "output_type": "stream",
     "text": [
      "Writing 0x02-shell_redirections/18-letteronly\n"
     ]
    }
   ],
   "source": [
    "%%file 0x02-shell_redirections/18-letteronly\n",
    "#!/bin/bash\n",
    "grep '^[A-Za-z]' /etc/ssh/sshd_config"
   ]
  },
  {
   "cell_type": "code",
   "execution_count": 7,
   "metadata": {},
   "outputs": [],
   "source": [
    "%%bash\n",
    "chmod u+x 0x02-shell_redirections/18-letteronly"
   ]
  },
  {
   "cell_type": "code",
   "execution_count": 8,
   "metadata": {},
   "outputs": [
    {
     "name": "stdout",
     "output_type": "stream",
     "text": [
      "Include /etc/ssh/sshd_config.d/*.conf\n",
      "PasswordAuthentication no\n",
      "ChallengeResponseAuthentication no\n",
      "UsePAM yes\n",
      "X11Forwarding yes\n",
      "PrintMotd no\n",
      "AcceptEnv LANG LC_*\n",
      "Subsystem\tsftp\t/usr/lib/openssh/sftp-server\n"
     ]
    }
   ],
   "source": [
    "!./0x02-shell_redirections/18-letteronly"
   ]
  },
  {
   "cell_type": "code",
   "execution_count": 9,
   "metadata": {},
   "outputs": [
    {
     "name": "stdout",
     "output_type": "stream",
     "text": [
      "[main 2756a94] 18\n",
      " 2 files changed, 137 insertions(+), 6 deletions(-)\n",
      " create mode 100755 0x02-shell_redirections/18-letteronly\n"
     ]
    },
    {
     "name": "stderr",
     "output_type": "stream",
     "text": [
      "To https://github.com/elkomysara/alx-system_engineering-devops.git\n",
      "   ed1c315..2756a94  main -> main\n"
     ]
    }
   ],
   "source": [
    "%%bash\n",
    "git add .\n",
    "git commit -m \"18\"\n",
    "git push"
   ]
  },
  {
   "cell_type": "code",
   "execution_count": null,
   "metadata": {},
   "outputs": [],
   "source": []
  },
  {
   "cell_type": "markdown",
   "metadata": {},
   "source": [
    "### \n",
    "\n",
    "\n",
    "---\n",
    "<center>\n",
    "<h4> 19. A to Z </h4>\n",
    "</center>\n",
    "\n",
    "---"
   ]
  },
  {
   "cell_type": "markdown",
   "metadata": {},
   "source": [
    "##### Replace all characters `A` and `c` from input to `Z` and `e` respectively.\n",
    "\n",
    "\n",
    "```bash\n",
    "julien@ubuntu:/tmp/0x02$ echo 'Replace all characters `A` and `c` from input to `Z` and `e`.' | ./19-AZ \n",
    "Replaee all eharaeters `Z` and `e` from input to `Z` and `e`.\n",
    "julien@ubuntu:/tmp/0x02$ \n",
    "```\n",
    "\n",
    "#### Repo:\n",
    "\n",
    "* GitHub repository: `alx-system_engineering-devops`\n",
    "* Directory: `0x02-shell_redirections`\n",
    "* File: `19-AZ`"
   ]
  },
  {
   "cell_type": "code",
   "execution_count": 10,
   "metadata": {},
   "outputs": [
    {
     "name": "stdout",
     "output_type": "stream",
     "text": [
      "Writing 0x02-shell_redirections/19-AZ\n"
     ]
    }
   ],
   "source": [
    "%%file 0x02-shell_redirections/19-AZ\n",
    "#!/bin/bash\n",
    "sed 'y/Ac/Ze/'"
   ]
  },
  {
   "cell_type": "code",
   "execution_count": 23,
   "metadata": {},
   "outputs": [
    {
     "name": "stdout",
     "output_type": "stream",
     "text": [
      "Overwriting 0x02-shell_redirections/19-AZ\n"
     ]
    }
   ],
   "source": [
    "%%file 0x02-shell_redirections/19-AZ\n",
    "#!/bin/bash\n",
    "tr 'Ac' 'Ze'"
   ]
  },
  {
   "cell_type": "code",
   "execution_count": 19,
   "metadata": {},
   "outputs": [],
   "source": [
    "%%bash\n",
    "chmod u+x 0x02-shell_redirections/19-AZ"
   ]
  },
  {
   "cell_type": "code",
   "execution_count": 20,
   "metadata": {},
   "outputs": [
    {
     "name": "stdout",
     "output_type": "stream",
     "text": [
      "Replaee all eharaeters `Z` and `e` from input to `Z` and `e`.\n"
     ]
    }
   ],
   "source": [
    "!echo 'Replace all characters `A` and `c` from input to `Z` and `e`.' | ./0x02-shell_redirections/19-AZ"
   ]
  },
  {
   "cell_type": "code",
   "execution_count": 21,
   "metadata": {},
   "outputs": [
    {
     "name": "stdout",
     "output_type": "stream",
     "text": [
      "[main 6eba581] 19\n",
      " 2 files changed, 26 insertions(+), 8 deletions(-)\n"
     ]
    },
    {
     "name": "stderr",
     "output_type": "stream",
     "text": [
      "To https://github.com/elkomysara/alx-system_engineering-devops.git\n",
      "   499a07f..6eba581  main -> main\n"
     ]
    }
   ],
   "source": [
    "%%bash\n",
    "git add .\n",
    "git commit -m \"19\"\n",
    "git push"
   ]
  },
  {
   "cell_type": "code",
   "execution_count": null,
   "metadata": {},
   "outputs": [],
   "source": []
  },
  {
   "cell_type": "markdown",
   "metadata": {},
   "source": [
    "### \n",
    "\n",
    "\n",
    "---\n",
    "<center>\n",
    "<h4> 20. Without C, you would live in hiago</h4>\n",
    "</center>\n",
    "\n",
    "---"
   ]
  },
  {
   "cell_type": "markdown",
   "metadata": {},
   "source": [
    "##### Create a script that removes all letters `c` and `C` from input.\n",
    "\n",
    "\n",
    "```bash\n",
    "julien@ubuntu:/tmp/0x02$ echo Chicago | ./20-hiago \n",
    "hiago\n",
    "julien@ubuntu:/tmp/0x02$  \n",
    "```\n",
    "\n",
    "#### Repo:\n",
    "\n",
    "* GitHub repository: `alx-system_engineering-devops`\n",
    "* Directory: `0x02-shell_redirections`\n",
    "* File: `20-hiago`"
   ]
  },
  {
   "cell_type": "code",
   "execution_count": 1,
   "metadata": {},
   "outputs": [
    {
     "name": "stdout",
     "output_type": "stream",
     "text": [
      "Overwriting 0x02-shell_redirections/20-hiago\n"
     ]
    }
   ],
   "source": [
    "%%file 0x02-shell_redirections/20-hiago\n",
    "#!/bin/bash\n",
    "tr -d 'Cc'"
   ]
  },
  {
   "cell_type": "code",
   "execution_count": 2,
   "metadata": {},
   "outputs": [],
   "source": [
    "%%bash\n",
    "chmod u+x 0x02-shell_redirections/20-hiago"
   ]
  },
  {
   "cell_type": "code",
   "execution_count": 3,
   "metadata": {},
   "outputs": [
    {
     "name": "stdout",
     "output_type": "stream",
     "text": [
      "ool ats and ute ats\n"
     ]
    }
   ],
   "source": [
    "!echo 'Cool Cats and cute cats' | ./0x02-shell_redirections/20-hiago"
   ]
  },
  {
   "cell_type": "code",
   "execution_count": 5,
   "metadata": {},
   "outputs": [
    {
     "name": "stdout",
     "output_type": "stream",
     "text": [
      "[main c823c5c] Cc\n",
      " 1 file changed, 4 insertions(+), 4 deletions(-)\n"
     ]
    },
    {
     "name": "stderr",
     "output_type": "stream",
     "text": [
      "To https://github.com/elkomysara/alx-system_engineering-devops.git\n",
      "   7e129ae..c823c5c  main -> main\n"
     ]
    }
   ],
   "source": [
    "%%bash\n",
    "git add .\n",
    "git commit -m \"Cc\"\n",
    "git push"
   ]
  },
  {
   "cell_type": "code",
   "execution_count": null,
   "metadata": {},
   "outputs": [],
   "source": []
  },
  {
   "cell_type": "markdown",
   "metadata": {},
   "source": [
    "### \n",
    "\n",
    "\n",
    "---\n",
    "<center>\n",
    "<h4> 21. esreveR</h4>\n",
    "</center>\n",
    "\n",
    "---"
   ]
  },
  {
   "cell_type": "markdown",
   "metadata": {},
   "source": [
    "##### Create a script that reverse its input.\n",
    "\n",
    "\n",
    "```bash\n",
    "julien@ubuntu:/tmp/0x02$ echo \"Reverse\" | ./21-reverse \n",
    "esreveR\n",
    "julien@ubuntu:/tmp/0x02$ \n",
    "```\n",
    "\n",
    "#### Repo:\n",
    "\n",
    "* GitHub repository: `alx-system_engineering-devops`\n",
    "* Directory: `0x02-shell_redirections`\n",
    "* File: `21-reverse`"
   ]
  },
  {
   "cell_type": "code",
   "execution_count": 6,
   "metadata": {},
   "outputs": [
    {
     "name": "stdout",
     "output_type": "stream",
     "text": [
      "Writing 0x02-shell_redirections/21-reverse\n"
     ]
    }
   ],
   "source": [
    "%%file 0x02-shell_redirections/21-reverse\n",
    "#!/bin/bash\n",
    "rev"
   ]
  },
  {
   "cell_type": "code",
   "execution_count": 7,
   "metadata": {},
   "outputs": [],
   "source": [
    "%%bash\n",
    "chmod u+x 0x02-shell_redirections/21-reverse"
   ]
  },
  {
   "cell_type": "code",
   "execution_count": 8,
   "metadata": {},
   "outputs": [
    {
     "name": "stdout",
     "output_type": "stream",
     "text": [
      "esreveR\n"
     ]
    }
   ],
   "source": [
    "!echo \"Reverse\" | ./0x02-shell_redirections/21-reverse"
   ]
  },
  {
   "cell_type": "code",
   "execution_count": 9,
   "metadata": {},
   "outputs": [
    {
     "name": "stdout",
     "output_type": "stream",
     "text": [
      "[main 35e37c5] esreveR\n",
      " 2 files changed, 116 insertions(+), 4 deletions(-)\n",
      " create mode 100755 0x02-shell_redirections/21-reverse\n"
     ]
    },
    {
     "name": "stderr",
     "output_type": "stream",
     "text": [
      "To https://github.com/elkomysara/alx-system_engineering-devops.git\n",
      "   c823c5c..35e37c5  main -> main\n"
     ]
    }
   ],
   "source": [
    "%%bash\n",
    "git add .\n",
    "git commit -m \"esreveR\"\n",
    "git push"
   ]
  },
  {
   "cell_type": "code",
   "execution_count": null,
   "metadata": {},
   "outputs": [],
   "source": []
  },
  {
   "cell_type": "markdown",
   "metadata": {},
   "source": [
    "### \n",
    "\n",
    "\n",
    "---\n",
    "<center>\n",
    "<h4> 22. DJ Cut Killer</h4>\n",
    "</center>\n",
    "\n",
    "---"
   ]
  },
  {
   "cell_type": "markdown",
   "metadata": {},
   "source": [
    "##### Write a script that displays all users and their home directories, sorted by users.\n",
    "* Based on the the /etc/passwd file\n",
    "\n",
    "######\n",
    "```bash\n",
    "julien@ubuntu:/tmp/0x02$ cat /etc/passwd\n",
    "root:x:0:0:root:/root:/bin/bash\n",
    "daemon:x:1:1:daemon:/usr/sbin:/usr/sbin/nologin\n",
    "bin:x:2:2:bin:/bin:/usr/sbin/nologin\n",
    "sys:x:3:3:sys:/dev:/usr/sbin/nologin\n",
    "sync:x:4:65534:sync:/bin:/bin/sync\n",
    "games:x:5:60:games:/usr/games:/usr/sbin/nologin\n",
    "man:x:6:12:man:/var/cache/man:/usr/sbin/nologin\n",
    "lp:x:7:7:lp:/var/spool/lpd:/usr/sbin/nologin\n",
    "mail:x:8:8:mail:/var/mail:/usr/sbin/nologin\n",
    "news:x:9:9:news:/var/spool/news:/usr/sbin/nologin\n",
    "uucp:x:10:10:uucp:/var/spool/uucp:/usr/sbin/nologin\n",
    "proxy:x:13:13:proxy:/bin:/usr/sbin/nologin\n",
    "www-data:x:33:33:www-data:/var/www:/usr/sbin/nologin\n",
    "backup:x:34:34:backup:/var/backups:/usr/sbin/nologin\n",
    "list:x:38:38:Mailing List Manager:/var/list:/usr/sbin/nologin\n",
    "irc:x:39:39:ircd:/var/run/ircd:/usr/sbin/nologin\n",
    "gnats:x:41:41:Gnats Bug-Reporting System (admin):/var/lib/gnats:/usr/sbin/nologin\n",
    "nobody:x:65534:65534:nobody:/nonexistent:/usr/sbin/nologin\n",
    "systemd-timesync:x:100:102:systemd Time Synchronization,,,:/run/systemd:/bin/false\n",
    "systemd-network:x:101:103:systemd Network Management,,,:/run/systemd/netif:/bin/false\n",
    "systemd-resolve:x:102:104:systemd Resolver,,,:/run/systemd/resolve:/bin/false\n",
    "systemd-bus-proxy:x:103:105:systemd Bus Proxy,,,:/run/systemd:/bin/false\n",
    "syslog:x:104:108::/home/syslog:/bin/false\n",
    "_apt:x:105:65534::/nonexistent:/bin/false\n",
    "messagebus:x:106:110::/var/run/dbus:/bin/false\n",
    "uuidd:x:107:111::/run/uuidd:/bin/false\n",
    "lightdm:x:108:114:Light Display Manager:/var/lib/lightdm:/bin/false\n",
    "whoopsie:x:109:116::/nonexistent:/bin/false\n",
    "avahi-autoipd:x:110:119:Avahi autoip daemon,,,:/var/lib/avahi-autoipd:/bin/false\n",
    "avahi:x:111:120:Avahi mDNS daemon,,,:/var/run/avahi-daemon:/bin/false\n",
    "dnsmasq:x:112:65534:dnsmasq,,,:/var/lib/misc:/bin/false\n",
    "colord:x:113:123:colord colour management daemon,,,:/var/lib/colord:/bin/false\n",
    "speech-dispatcher:x:114:29:Speech Dispatcher,,,:/var/run/speech-dispatcher:/bin/false\n",
    "hplip:x:115:7:HPLIP system user,,,:/var/run/hplip:/bin/false\n",
    "kernoops:x:116:65534:Kernel Oops Tracking Daemon,,,:/:/bin/false\n",
    "pulse:x:117:124:PulseAudio daemon,,,:/var/run/pulse:/bin/false\n",
    "rtkit:x:118:126:RealtimeKit,,,:/proc:/bin/false\n",
    "saned:x:119:127::/var/lib/saned:/bin/false\n",
    "usbmux:x:120:46:usbmux daemon,,,:/var/lib/usbmux:/bin/false\n",
    "julien:x:1000:1000:Julien Barbier,,,:/home/julien:/bin/bash\n",
    "guillaume:x:1001:1001:,,,:/home/guillaume:/bin/bash\n",
    "betty:x:1002:1002::/home/betty:\n",
    "julien@ubuntu:/tmp/0x02$\n",
    "julien@ubuntu:/tmp/0x02$ ./22-users_and_homes \n",
    "_apt:/nonexistent\n",
    "avahi-autoipd:/var/lib/avahi-autoipd\n",
    "avahi:/var/run/avahi-daemon\n",
    "backup:/var/backups\n",
    "betty:/home/betty\n",
    "bin:/bin\n",
    "colord:/var/lib/colord\n",
    "daemon:/usr/sbin\n",
    "dnsmasq:/var/lib/misc\n",
    "games:/usr/games\n",
    "gnats:/var/lib/gnats\n",
    "guillaume:/home/guillaume\n",
    "hplip:/var/run/hplip\n",
    "irc:/var/run/ircd\n",
    "julien:/home/julien\n",
    "kernoops:/\n",
    "lightdm:/var/lib/lightdm\n",
    "list:/var/list\n",
    "lp:/var/spool/lpd\n",
    "mail:/var/mail\n",
    "man:/var/cache/man\n",
    "messagebus:/var/run/dbus\n",
    "news:/var/spool/news\n",
    "nobody:/nonexistent\n",
    "proxy:/bin\n",
    "pulse:/var/run/pulse\n",
    "root:/root\n",
    "rtkit:/proc\n",
    "saned:/var/lib/saned\n",
    "speech-dispatcher:/var/run/speech-dispatcher\n",
    "sync:/bin\n",
    "sys:/dev\n",
    "syslog:/home/syslog\n",
    "systemd-bus-proxy:/run/systemd\n",
    "systemd-network:/run/systemd/netif\n",
    "systemd-resolve:/run/systemd/resolve\n",
    "systemd-timesync:/run/systemd\n",
    "usbmux:/var/lib/usbmux\n",
    "uucp:/var/spool/uucp\n",
    "uuidd:/run/uuidd\n",
    "whoopsie:/nonexistent\n",
    "www-data:/var/www\n",
    "julien@ubuntu:/tmp/0x02$ \n",
    "```\n",
    "\n",
    "#### Repo:\n",
    "\n",
    "* GitHub repository: `alx-system_engineering-devops`\n",
    "* Directory: `0x02-shell_redirections`\n",
    "* File: `22-users_and_homes`"
   ]
  },
  {
   "cell_type": "code",
   "execution_count": 4,
   "metadata": {},
   "outputs": [
    {
     "name": "stdout",
     "output_type": "stream",
     "text": [
      "Writing 0x02-shell_redirections/22-users_and_homes\n"
     ]
    }
   ],
   "source": [
    "%%file 0x02-shell_redirections/22-users_and_homes\n",
    "#!/bin/bash\n",
    "cut -d: -f1,6 /etc/passwd | sort -t: -k1,1"
   ]
  },
  {
   "cell_type": "code",
   "execution_count": 9,
   "metadata": {},
   "outputs": [],
   "source": [
    "%%capture\n",
    "!cut -d: -f1,6 /etc/passwd | sort -t: -k1,1 \n",
    "!cat /etc/passwd"
   ]
  },
  {
   "cell_type": "code",
   "execution_count": 16,
   "metadata": {},
   "outputs": [],
   "source": [
    "%%capture\n",
    "!chmod u+x 0x02-shell_redirections/22-users_and_homes\n",
    "!./0x02-shell_redirections/22-users_and_homes"
   ]
  },
  {
   "cell_type": "code",
   "execution_count": 12,
   "metadata": {},
   "outputs": [
    {
     "name": "stdout",
     "output_type": "stream",
     "text": [
      "[main 5006fc8] 22\n",
      " 2 files changed, 255 insertions(+), 4 deletions(-)\n",
      " create mode 100755 0x02-shell_redirections/22-users_and_homes\n"
     ]
    },
    {
     "name": "stderr",
     "output_type": "stream",
     "text": [
      "To https://github.com/elkomysara/alx-system_engineering-devops.git\n",
      "   35e37c5..5006fc8  main -> main\n"
     ]
    }
   ],
   "source": [
    "%%bash\n",
    "git add .\n",
    "git commit -m \"22\"\n",
    "git push"
   ]
  },
  {
   "cell_type": "code",
   "execution_count": null,
   "metadata": {},
   "outputs": [],
   "source": []
  },
  {
   "cell_type": "markdown",
   "metadata": {},
   "source": [
    "### \n",
    "\n",
    "\n",
    "---\n",
    "<center>\n",
    "<h4> 23. Empty casks make the most noise</h4>\n",
    "</center>\n",
    "\n",
    "---"
   ]
  },
  {
   "cell_type": "markdown",
   "metadata": {},
   "source": [
    "##### Write a command that finds all empty files and directories in the current directory and all sub-directories.\n",
    "\n",
    "* Only the names of the files and directories should be displayed (not the entire path)\n",
    "* Hidden files should be listed\n",
    "* One file name per line\n",
    "* The listing should end with a new line\n",
    "* You are not allowed to use `basename`, `grep`, `egrep`, `fgrep` or `rgrep`\n",
    "\n",
    "######\n",
    "```bash\n",
    "ubuntu@ip-172-31-63-244:~/0x02-shell_redirections$ ls -laR\n",
    ".:\n",
    "total 64\n",
    "drwxrwxr-x 5 ubuntu ubuntu 4096 Oct  7 00:48 .\n",
    "drwxrwxr-x 7 ubuntu ubuntu 4096 Sep 29 21:36 ..\n",
    "-rwxrwxr-x 1 ubuntu ubuntu   56 Feb  8  2016 0-commas\n",
    "drwxrwxr-x 2 ubuntu ubuntu 4096 Feb  8  2016 0-commas-checks\n",
    "-rwxrwxr-x 1 ubuntu ubuntu   48 Feb  8  2016 1-empty_casks\n",
    "-rwxrwxr-x 1 ubuntu ubuntu   68 Feb  8  2016 2-gifs\n",
    "-rwxrwxr-x 1 ubuntu ubuntu   47 Feb  8  2016 3-directories\n",
    "-rwxrwxr-x 1 ubuntu ubuntu   41 Feb  8  2016 4-zeros\n",
    "-rwxrwxr-x 1 ubuntu ubuntu   43 Feb  8  2016 5-rot13\n",
    "-rwxrwxr-x 1 ubuntu ubuntu   25 Feb  8  2016 6-odd\n",
    "-rwxrwxr-x 1 ubuntu ubuntu   73 Feb  8  2016 7-sort_rot13\n",
    "-rw-rw-r-- 1 ubuntu ubuntu    0 Oct  7 00:46 ........gif\n",
    "-rw-rw-r-- 1 ubuntu ubuntu    0 Oct  7 00:47 ..hello.gif\n",
    "drwxrwxr-x 2 ubuntu ubuntu 4096 Oct  7 00:41 javascript\n",
    "-rw-rw-r-- 1 ubuntu ubuntu    0 Oct  7 00:48 Kris_is_awesome :)\n",
    "-rw-rw-r-- 1 ubuntu ubuntu   14 Feb  8  2016 Makefile\n",
    "-rw-rw-r-- 1 ubuntu ubuntu   69 Feb  8  2016 quote\n",
    "-rw-rw-r-- 1 ubuntu ubuntu    0 Oct  7 00:24 Rona_napping.gif\n",
    "-rw-rw-r-- 1 ubuntu ubuntu    0 Oct  6 23:59 root.gif\n",
    "-rw-rw-r-- 1 ubuntu ubuntu    0 Mar 24  2016 ..something\n",
    "drwxrwxr-x 3 ubuntu ubuntu 4096 Feb  8  2016 test_dir\n",
    "-rwxrwxr-x 1 ubuntu ubuntu   54 Feb  8  2016 test.var\n",
    "\n",
    "./0-commas-checks:\n",
    "total 16\n",
    "drwxrwxr-x 2 ubuntu ubuntu 4096 Feb  8  2016 .\n",
    "drwxrwxr-x 5 ubuntu ubuntu 4096 Oct  7 00:48 ..\n",
    "-rw-rw-r-- 1 ubuntu ubuntu 1361 Feb  8  2016 28-check.php\n",
    "-rw-rw-r-- 1 ubuntu ubuntu  481 Feb  8  2016 28-check.php~\n",
    "\n",
    "./javascript:\n",
    "total 8\n",
    "drwxrwxr-x 2 ubuntu ubuntu 4096 Oct  7 00:41 .\n",
    "drwxrwxr-x 5 ubuntu ubuntu 4096 Oct  7 00:48 ..\n",
    "\n",
    "./test_dir:\n",
    "total 12\n",
    "drwxrwxr-x 3 ubuntu ubuntu 4096 Feb  8  2016 .\n",
    "drwxrwxr-x 5 ubuntu ubuntu 4096 Oct  7 00:48 ..\n",
    "-rw-rw-r-- 1 ubuntu ubuntu    0 Feb  8  2016 docker.gif\n",
    "-rw-rw-r-- 1 ubuntu ubuntu    0 Feb  8  2016 file.sh\n",
    "-rw-rw-r-- 1 ubuntu ubuntu    0 Feb  8  2016 .horrible_selfie.gif\n",
    "drwxrwxr-x 2 ubuntu ubuntu 4096 Feb  8  2016 photos\n",
    "-rw-rw-r-- 1 ubuntu ubuntu    0 Feb  8  2016 README.md\n",
    "\n",
    "./test_dir/photos:\n",
    "total 8\n",
    "drwxrwxr-x 2 ubuntu ubuntu 4096 Feb  8  2016 .\n",
    "drwxrwxr-x 3 ubuntu ubuntu 4096 Feb  8  2016 ..\n",
    "-rw-rw-r-- 1 ubuntu ubuntu    0 Feb  8  2016 cat.gif\n",
    "-rw-rw-r-- 1 ubuntu ubuntu    0 Feb  8  2016 index.html\n",
    "-rw-rw-r-- 1 ubuntu ubuntu    0 Feb  8  2016 main.gif\n",
    "-rw-rw-r-- 1 ubuntu ubuntu    0 Feb  8  2016 rudy_rigot.gif\n",
    "ubuntu@ip-172-31-63-244:~/0x02-shell_redirections$ ./100-empty_casks\n",
    "Rona_napping.gif\n",
    "javascript\n",
    "root.gif\n",
    "..something\n",
    "Kris_is_awesome :)\n",
    "..hello.gif\n",
    "file.sh\n",
    "docker.gif\n",
    "README.md\n",
    "index.html\n",
    "main.gif\n",
    "cat.gif\n",
    "rudy_rigot.gif\n",
    ".horrible_selfie.gif\n",
    "........gif\n",
    "ubuntu@ip-172-31-63-244:~/0x02-shell_redirections$\n",
    "```\n",
    "\n",
    "#### Repo:\n",
    "\n",
    "* GitHub repository: `alx-system_engineering-devops`\n",
    "* Directory: `0x02-shell_redirections`\n",
    "* File: `100-empty_casks`"
   ]
  },
  {
   "cell_type": "code",
   "execution_count": 18,
   "metadata": {},
   "outputs": [
    {
     "name": "stdout",
     "output_type": "stream",
     "text": [
      "Overwriting 0x02-shell_redirections/100-empty_casks\n"
     ]
    }
   ],
   "source": [
    "%%file 0x02-shell_redirections/100-empty_casks\n",
    "#!/bin/bash\n",
    "find . -empty -printf \"%P\\n\""
   ]
  },
  {
   "cell_type": "code",
   "execution_count": 36,
   "metadata": {},
   "outputs": [
    {
     "name": "stdout",
     "output_type": "stream",
     "text": [
      "iacta\n",
      "branches\n",
      "tags\n",
      "info\n",
      "test.HTML\n",
      "hello\n"
     ]
    }
   ],
   "source": [
    "\n",
    "!find . -empty -printf \"%f\\n\""
   ]
  },
  {
   "cell_type": "code",
   "execution_count": 34,
   "metadata": {},
   "outputs": [],
   "source": [
    "%%capture\n",
    "!chmod u+x 0x02-shell_redirections/100-empty_casks\n",
    "!./0x02-shell_redirections/100-empty_casks"
   ]
  },
  {
   "cell_type": "code",
   "execution_count": 35,
   "metadata": {},
   "outputs": [
    {
     "name": "stdout",
     "output_type": "stream",
     "text": [
      "[main 3ee962f] 100-empty_casks\n",
      " 2 files changed, 198 insertions(+), 44 deletions(-)\n",
      " create mode 100755 0x02-shell_redirections/100-empty_casks\n"
     ]
    },
    {
     "name": "stderr",
     "output_type": "stream",
     "text": [
      "To https://github.com/elkomysara/alx-system_engineering-devops.git\n",
      "   5006fc8..3ee962f  main -> main\n"
     ]
    }
   ],
   "source": [
    "%%bash\n",
    "git add .\n",
    "git commit -m \"100-empty_casks\"\n",
    "git push"
   ]
  },
  {
   "cell_type": "code",
   "execution_count": null,
   "metadata": {},
   "outputs": [],
   "source": []
  }
 ],
 "metadata": {
  "kernelspec": {
   "display_name": "Python 3",
   "language": "python",
   "name": "python3"
  },
  "language_info": {
   "codemirror_mode": {
    "name": "ipython",
    "version": 3
   },
   "file_extension": ".py",
   "mimetype": "text/x-python",
   "name": "python",
   "nbconvert_exporter": "python",
   "pygments_lexer": "ipython3",
   "version": "3.11.7"
  }
 },
 "nbformat": 4,
 "nbformat_minor": 2
}
