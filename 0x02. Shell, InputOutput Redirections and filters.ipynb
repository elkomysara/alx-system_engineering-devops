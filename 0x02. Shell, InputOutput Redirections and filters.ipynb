{
 "cells": [
  {
   "cell_type": "markdown",
   "metadata": {},
   "source": [
    "---\n",
    "<center>\n",
    "<h1>  alx-system_engineering-devops </h1>\n",
    "</center>\n",
    "\n",
    "---\n"
   ]
  },
  {
   "cell_type": "code",
   "execution_count": 1,
   "metadata": {},
   "outputs": [
    {
     "name": "stdout",
     "output_type": "stream",
     "text": [
      "Overwriting README.md\n"
     ]
    }
   ],
   "source": [
    "%%file README.md\n",
    "\n",
    "## alx-system_engineering-devops/0x00-Shell_basics\n",
    "## alx-system_engineering-devops/0x01-Shell_permissions\n",
    "## alx-system_engineering-devops/0x02-Shell, I/O Redirections and filters"
   ]
  },
  {
   "cell_type": "code",
   "execution_count": 2,
   "metadata": {},
   "outputs": [],
   "source": [
    "import os\n",
    "# creating 0x02-shell_redirectionss\n",
    "\n",
    "folder_path = r'/home/elkomy/alx-system_engineering-devops/0x02-shell_redirections'\n",
    "if not os.path.exists(folder_path):\n",
    "    os.makedirs(folder_path)\n",
    "\n",
    "# Create a README.md inside 0x02-shell_redirections\n",
    "file_path = os.path.join(folder_path, 'README.md')\n",
    "\n",
    "with open(file_path, 'w') as file:\n",
    "    file.write(\"This is a README.md file inside alx-system_engineering-devops/0x02-shell_redirections\")\n",
    "\n"
   ]
  },
  {
   "cell_type": "code",
   "execution_count": 2,
   "metadata": {},
   "outputs": [
    {
     "name": "stdout",
     "output_type": "stream",
     "text": [
      "Overwriting 0x02-shell_redirections/README.md\n"
     ]
    }
   ],
   "source": [
    "%%file 0x02-shell_redirections/README.md\n",
    "This is a README.md"
   ]
  },
  {
   "cell_type": "code",
   "execution_count": 3,
   "metadata": {},
   "outputs": [
    {
     "name": "stdout",
     "output_type": "stream",
     "text": [
      "[main 285ec80] commiting README.md\n",
      " 3 files changed, 2417 insertions(+), 4 deletions(-)\n",
      " create mode 100644 0x02-shell_redirections/README.md\n",
      " create mode 100644 0x02. Shell, InputOutput Redirections and filters.ipynb\n",
      "Enumerating objects: 8, done.\n",
      "Counting objects: 100% (8/8), done.\n",
      "Delta compression using up to 12 threads\n",
      "Compressing objects: 100% (4/4), done.\n",
      "Writing objects: 100% (6/6), 7.33 KiB | 7.33 MiB/s, done.\n",
      "Total 6 (delta 2), reused 0 (delta 0)\n",
      "remote: Resolving deltas: 100% (2/2), completed with 2 local objects.\u001b[K\n",
      "To https://github.com/elkomysara/alx-system_engineering-devops.git\n",
      "   b176dc5..285ec80  main -> main\n",
      "Branch 'main' set up to track remote branch 'main' from 'origin'.\n"
     ]
    }
   ],
   "source": [
    "\n",
    "!git add .\n",
    "!git commit -m \"commiting README.md\"\n",
    "!git push -u origin main"
   ]
  },
  {
   "cell_type": "code",
   "execution_count": 4,
   "metadata": {},
   "outputs": [
    {
     "name": "stdout",
     "output_type": "stream",
     "text": [
      "Already up to date.\n",
      "Everything up-to-date\n"
     ]
    }
   ],
   "source": [
    "!git pull\n",
    "!git push"
   ]
  },
  {
   "cell_type": "markdown",
   "metadata": {},
   "source": [
    "###\n",
    "---\n",
    "<center>\n",
    "<h1>  0x02. 0x02. Shell, I/O Redirections and filters  </h1>\n",
    "</center>\n",
    "\n",
    "---\n"
   ]
  },
  {
   "cell_type": "markdown",
   "metadata": {},
   "source": [
    "###\n",
    "---\n",
    "<center>\n",
    "<h4>  0. Hello World </h4>\n",
    "</center>\n",
    "\n",
    "---"
   ]
  },
  {
   "cell_type": "markdown",
   "metadata": {},
   "source": [
    "\n",
    "#### Write a script that prints \"Hello, World\", followed by a new line to the standard output. \n",
    "\n",
    "```bash\n",
    "julien@ubuntu:/tmp/h$ ./0-hello_world \n",
    "Hello, World\n",
    "julien@ubuntu:/tmp/h$ ./0-hello_world | cat -e # cat is used to display the contents of a file, but the -e option makes it print a $ character at the end of each line.\n",
    "Hello, World$\n",
    "julien@ubuntu:/tmp/h$ \n",
    "```\n",
    "\n",
    "\n",
    "#### Repo:\n",
    "* GitHub repository: ``` alx-system_engineering-devops ```\n",
    "* Directory: ```0x02-shell_redirections``` \n",
    "* File: ``` 0-hello_world```"
   ]
  },
  {
   "cell_type": "code",
   "execution_count": 8,
   "metadata": {},
   "outputs": [
    {
     "name": "stdout",
     "output_type": "stream",
     "text": [
      "Overwriting 0x02-shell_redirections/0-hello_world\n"
     ]
    }
   ],
   "source": [
    "%%file 0x02-shell_redirections/0-hello_world\n",
    "#!/bin/bash\n",
    "echo \"Hello, World\"\n"
   ]
  },
  {
   "cell_type": "code",
   "execution_count": 2,
   "metadata": {},
   "outputs": [],
   "source": [
    "!chmod u+x 0x02-shell_redirections/0-hello_world"
   ]
  },
  {
   "cell_type": "code",
   "execution_count": 9,
   "metadata": {},
   "outputs": [
    {
     "name": "stdout",
     "output_type": "stream",
     "text": [
      "#!/bin/bash$\n",
      "echo \"Hello, World\"$\n"
     ]
    }
   ],
   "source": [
    "!cat -e 0x02-shell_redirections/0-hello_world"
   ]
  },
  {
   "cell_type": "code",
   "execution_count": 6,
   "metadata": {},
   "outputs": [
    {
     "name": "stdout",
     "output_type": "stream",
     "text": [
      "Hello, World$\n",
      "$\n"
     ]
    }
   ],
   "source": [
    "%%bash\n",
    "./0x02-shell_redirections/0-hello_world | cat -e"
   ]
  },
  {
   "cell_type": "code",
   "execution_count": 10,
   "metadata": {},
   "outputs": [
    {
     "name": "stdout",
     "output_type": "stream",
     "text": [
      "[main 2d9333c] 0-hello_world\n",
      " 2 files changed, 17 insertions(+), 17 deletions(-)\n",
      "Enumerating objects: 9, done.\n",
      "Counting objects: 100% (9/9), done.\n",
      "Delta compression using up to 12 threads\n",
      "Compressing objects: 100% (4/4), done.\n",
      "Writing objects: 100% (5/5), 656 bytes | 328.00 KiB/s, done.\n",
      "Total 5 (delta 2), reused 0 (delta 0)\n",
      "remote: Resolving deltas: 100% (2/2), completed with 2 local objects.\u001b[K\n",
      "To https://github.com/elkomysara/alx-system_engineering-devops.git\n",
      "   a94466b..2d9333c  main -> main\n",
      "Branch 'main' set up to track remote branch 'main' from 'origin'.\n"
     ]
    }
   ],
   "source": [
    "\n",
    "!git add .\n",
    "!git commit -m \"0-hello_world\"\n",
    "!git push -u origin main"
   ]
  },
  {
   "cell_type": "markdown",
   "metadata": {},
   "source": [
    "###\n",
    "---\n",
    "<center>\n",
    "<h4> 1. Confused smiley </h4>\n",
    "</center>\n",
    "\n",
    "---\n"
   ]
  },
  {
   "cell_type": "markdown",
   "metadata": {},
   "source": [
    "* Write a script that displays a confused smiley `\"(Ôo)'`.\n",
    "    ```bash\n",
    "        julien@ubuntu:/tmp/h$ ./1-confused_smiley \n",
    "        \"(Ôo)'\n",
    "        julien@ubuntu:/tmp/h$ \n",
    "    ```\n",
    "\n",
    "* Repo:\n",
    "\n",
    "    * GitHub repository: <code > alx-system_engineering-devops </code>\n",
    "    * Directory: <code > 0x02-shell_redirections </code>\n",
    "    * File: <code >  File: 1-confused_smiley </code>\n",
    "   "
   ]
  },
  {
   "cell_type": "code",
   "execution_count": 15,
   "metadata": {},
   "outputs": [
    {
     "name": "stdout",
     "output_type": "stream",
     "text": [
      "Overwriting 0x02-shell_redirections/1-confused_smiley\n"
     ]
    }
   ],
   "source": [
    "%%file 0x02-shell_redirections/1-confused_smiley\n",
    "#!/bin/bash\n",
    "echo \"\\\"(Ôo)'\""
   ]
  },
  {
   "cell_type": "code",
   "execution_count": 13,
   "metadata": {},
   "outputs": [],
   "source": [
    "!chmod u+x 0x02-shell_redirections/1-confused_smiley"
   ]
  },
  {
   "cell_type": "code",
   "execution_count": 12,
   "metadata": {},
   "outputs": [
    {
     "name": "stdout",
     "output_type": "stream",
     "text": [
      "#!/bin/bash\n",
      "echo \"\\\"(Ôo)\\'\"\n"
     ]
    }
   ],
   "source": [
    "!cat 0x02-shell_redirections/1-confused_smiley"
   ]
  },
  {
   "cell_type": "code",
   "execution_count": 16,
   "metadata": {},
   "outputs": [
    {
     "name": "stdout",
     "output_type": "stream",
     "text": [
      "\"(Ôo)'\n"
     ]
    }
   ],
   "source": [
    "!0x02-shell_redirections/1-confused_smiley"
   ]
  },
  {
   "cell_type": "code",
   "execution_count": 17,
   "metadata": {},
   "outputs": [
    {
     "name": "stdout",
     "output_type": "stream",
     "text": [
      "[main a357abd] confused_smiley\n",
      " 2 files changed, 29 insertions(+), 29 deletions(-)\n",
      " create mode 100755 0x02-shell_redirections/1-confused_smiley\n"
     ]
    },
    {
     "name": "stdout",
     "output_type": "stream",
     "text": [
      "Enumerating objects: 8, done.\n",
      "Counting objects: 100% (8/8), done.\n",
      "Delta compression using up to 12 threads\n",
      "Compressing objects: 100% (4/4), done.\n",
      "Writing objects: 100% (5/5), 835 bytes | 835.00 KiB/s, done.\n",
      "Total 5 (delta 2), reused 0 (delta 0)\n",
      "remote: Resolving deltas: 100% (2/2), completed with 2 local objects.\u001b[K\n",
      "To https://github.com/elkomysara/alx-system_engineering-devops.git\n",
      "   2d9333c..a357abd  main -> main\n",
      "Branch 'main' set up to track remote branch 'main' from 'origin'.\n"
     ]
    }
   ],
   "source": [
    "\n",
    "!git add .\n",
    "!git commit -m \"confused_smiley\"\n",
    "!git push -u origin main"
   ]
  },
  {
   "cell_type": "markdown",
   "metadata": {},
   "source": [
    "###\n",
    "---\n",
    "<center>\n",
    "<h4> 2. Let's display a file </h4>\n",
    "</center>\n",
    "\n",
    "---"
   ]
  },
  {
   "cell_type": "markdown",
   "metadata": {},
   "source": [
    "#### Display the content of the `/etc/passwd` file.\n",
    "\n",
    "#### Example\n",
    "\n",
    "```bash\n",
    "$ ./2-hellofile\n",
    "##\n",
    "# User Database\n",
    "#\n",
    "# Note that this file is consulted directly only when the system is running\n",
    "# in single-user mode. At other times this information is provided by\n",
    "# Open Directory.\n",
    "#\n",
    "# See the opendirectoryd(8) man page for additional information about\n",
    "# Open Directory.\n",
    "##\n",
    "nobody:*:-2:-2:Unprivileged User:/var/empty:/usr/bin/false\n",
    "root:*:0:0:System Administrator:/var/root:/bin/sh\n",
    "daemon:*:1:1:System Services:/var/root:/usr/bin/false\n",
    "_uucp:*:4:4:Unix to Unix Copy Protocol:/var/spool/uucp:/usr/sbin/uucico\n",
    "_taskgated:*:13:13:Task Gate Daemon:/var/empty:/usr/bin/false\n",
    "_networkd:*:24:24:Network Services:/var/networkd:/usr/bin/false\n",
    "_installassistant:*:25:25:Install Assistant:/var/empty:/usr/bin/false\n",
    "_lp:*:26:26:Printing Services:/var/spool/cups:/usr/bin/false\n",
    "_postfix:*:27:27:Postfix Mail Server:/var/spool/postfix:/usr/bin/false\n",
    "_scsd:*:31:31:Service Configuration Service:/var/empty:/usr/bin/false\n",
    "_ces:*:32:32:Certificate Enrollment Service:/var/empty:/usr/bin/false\n",
    "_mcxalr:*:54:54:MCX AppLaunch:/var/empty:/usr/bin/false\n",
    "_krbfast:*:246:-2:Kerberos FAST Account:/var/empty:/usr/bin/false\n",
    "$\n",
    "```\n",
    "\n",
    "\n",
    "#### Repo:\n",
    "* GitHub repository:   <code>alx-system_engineering-devops </code>\n",
    "* Directory:   <code> 0x02-shell_redirections </code>\n",
    "* File:   <code> 2-hellofile</code>"
   ]
  },
  {
   "cell_type": "code",
   "execution_count": 20,
   "metadata": {},
   "outputs": [
    {
     "name": "stdout",
     "output_type": "stream",
     "text": [
      "Writing 0x02-shell_redirections/2-hellofile\n"
     ]
    }
   ],
   "source": [
    "%%file 0x02-shell_redirections/2-hellofile\n",
    "#!/bin/bash\n",
    "cat /etc/passwd"
   ]
  },
  {
   "cell_type": "code",
   "execution_count": 21,
   "metadata": {},
   "outputs": [],
   "source": [
    "!chmod u+x 0x02-shell_redirections/2-hellofile"
   ]
  },
  {
   "cell_type": "code",
   "execution_count": 23,
   "metadata": {},
   "outputs": [
    {
     "name": "stdout",
     "output_type": "stream",
     "text": [
      "root:x:0:0:root:/root:/bin/bash\n",
      "daemon:x:1:1:daemon:/usr/sbin:/usr/sbin/nologin\n",
      "bin:x:2:2:bin:/bin:/usr/sbin/nologin\n",
      "sys:x:3:3:sys:/dev:/usr/sbin/nologin\n",
      "sync:x:4:65534:sync:/bin:/bin/sync\n",
      "games:x:5:60:games:/usr/games:/usr/sbin/nologin\n",
      "man:x:6:12:man:/var/cache/man:/usr/sbin/nologin\n",
      "lp:x:7:7:lp:/var/spool/lpd:/usr/sbin/nologin\n",
      "mail:x:8:8:mail:/var/mail:/usr/sbin/nologin\n",
      "news:x:9:9:news:/var/spool/news:/usr/sbin/nologin\n",
      "uucp:x:10:10:uucp:/var/spool/uucp:/usr/sbin/nologin\n",
      "proxy:x:13:13:proxy:/bin:/usr/sbin/nologin\n",
      "www-data:x:33:33:www-data:/var/www:/usr/sbin/nologin\n",
      "backup:x:34:34:backup:/var/backups:/usr/sbin/nologin\n",
      "list:x:38:38:Mailing List Manager:/var/list:/usr/sbin/nologin\n",
      "irc:x:39:39:ircd:/var/run/ircd:/usr/sbin/nologin\n",
      "gnats:x:41:41:Gnats Bug-Reporting System (admin):/var/lib/gnats:/usr/sbin/nologin\n",
      "nobody:x:65534:65534:nobody:/nonexistent:/usr/sbin/nologin\n",
      "systemd-network:x:100:102:systemd Network Management,,,:/run/systemd:/usr/sbin/nologin\n",
      "systemd-resolve:x:101:103:systemd Resolver,,,:/run/systemd:/usr/sbin/nologin\n",
      "systemd-timesync:x:102:104:systemd Time Synchronization,,,:/run/systemd:/usr/sbin/nologin\n",
      "messagebus:x:103:106::/nonexistent:/usr/sbin/nologin\n",
      "syslog:x:104:110::/home/syslog:/usr/sbin/nologin\n",
      "_apt:x:105:65534::/nonexistent:/usr/sbin/nologin\n",
      "tss:x:106:111:TPM software stack,,,:/var/lib/tpm:/bin/false\n",
      "uuidd:x:107:112::/run/uuidd:/usr/sbin/nologin\n",
      "tcpdump:x:108:113::/nonexistent:/usr/sbin/nologin\n",
      "sshd:x:109:65534::/run/sshd:/usr/sbin/nologin\n",
      "landscape:x:110:115::/var/lib/landscape:/usr/sbin/nologin\n",
      "pollinate:x:111:1::/var/cache/pollinate:/bin/false\n",
      "fwupd-refresh:x:112:116:fwupd-refresh user,,,:/run/systemd:/usr/sbin/nologin\n",
      "systemd-coredump:x:999:999:systemd Core Dumper:/:/usr/sbin/nologin\n",
      "lxd:x:998:100::/var/snap/lxd/common/lxd:/bin/false\n",
      "elkomy:x:1000:1000:,,,:/home/elkomy:/bin/bash\n"
     ]
    }
   ],
   "source": [
    "!source ./0x02-shell_redirections/2-hellofile"
   ]
  },
  {
   "cell_type": "code",
   "execution_count": 24,
   "metadata": {},
   "outputs": [
    {
     "name": "stdout",
     "output_type": "stream",
     "text": [
      "#!/bin/bash\n",
      "cat /etc/passwd\n"
     ]
    }
   ],
   "source": [
    "!cat 0x02-shell_redirections/2-hellofile"
   ]
  },
  {
   "cell_type": "code",
   "execution_count": 25,
   "metadata": {},
   "outputs": [
    {
     "name": "stdout",
     "output_type": "stream",
     "text": [
      "[main c71a3b6] 0x02-shell_redirections/2-hellofile\n",
      " 2 files changed, 94 insertions(+), 28 deletions(-)\n",
      " create mode 100755 0x02-shell_redirections/2-hellofile\n"
     ]
    },
    {
     "name": "stdout",
     "output_type": "stream",
     "text": [
      "Enumerating objects: 8, done.\n",
      "Counting objects: 100% (8/8), done.\n",
      "Delta compression using up to 12 threads\n",
      "Compressing objects: 100% (4/4), done.\n",
      "Writing objects: 100% (5/5), 2.10 KiB | 715.00 KiB/s, done.\n",
      "Total 5 (delta 2), reused 0 (delta 0)\n",
      "remote: Resolving deltas: 100% (2/2), completed with 2 local objects.\u001b[K\n",
      "To https://github.com/elkomysara/alx-system_engineering-devops.git\n",
      "   a357abd..c71a3b6  main -> main\n",
      "Branch 'main' set up to track remote branch 'main' from 'origin'.\n"
     ]
    }
   ],
   "source": [
    "!git add .\n",
    "!git commit -m \"0x02-shell_redirections/2-hellofile\"\n",
    "!git push -u origin main"
   ]
  },
  {
   "cell_type": "markdown",
   "metadata": {},
   "source": [
    "###\n",
    "---\n",
    "<center>\n",
    "<h4> 3. What about 2?</h4>\n",
    "</center>\n",
    "\n",
    "---"
   ]
  },
  {
   "cell_type": "markdown",
   "metadata": {},
   "source": [
    "#### Display the content of `/etc/passwd` and `/etc/hosts`.\n",
    "\n",
    "#### Example:\n",
    "```bash\n",
    "$ ./3-twofiles\n",
    "##\n",
    "# User Database\n",
    "#\n",
    "# Note that this file is consulted directly only when the system is running\n",
    "# in single-user mode. At other times this information is provided by\n",
    "# Open Directory.\n",
    "#\n",
    "# See the opendirectoryd(8) man page for additional information about\n",
    "# Open Directory.\n",
    "##\n",
    "nobody:*:-2:-2:Unprivileged User:/var/empty:/usr/bin/false\n",
    "root:*:0:0:System Administrator:/var/root:/bin/sh\n",
    "daemon:*:1:1:System Services:/var/root:/usr/bin/false\n",
    "##\n",
    "# Host Database\n",
    "#\n",
    "# localhost is used to configure the loopback interface\n",
    "# when the system is booting. Do not change this entry.\n",
    "##\n",
    "127.0.0.1   localhost\n",
    "255.255.255.255 broadcasthost\n",
    "::1 localhost\n",
    "$\n",
    "```\n",
    "\n",
    "\n",
    "#### Repo:\n",
    "* GitHub repository: `alx-system_engineering-devops`\n",
    "* Directory: `0x02-shell_redirections`\n",
    "* File: `3-twofiles`"
   ]
  },
  {
   "cell_type": "code",
   "execution_count": 31,
   "metadata": {},
   "outputs": [
    {
     "name": "stdout",
     "output_type": "stream",
     "text": [
      "Overwriting 0x02-shell_redirections/3-twofiles\n"
     ]
    }
   ],
   "source": [
    "%%file 0x02-shell_redirections/3-twofiles\n",
    "#!/bin/bash\n",
    "cat /etc/passwd /etc/hosts"
   ]
  },
  {
   "cell_type": "code",
   "execution_count": 32,
   "metadata": {},
   "outputs": [],
   "source": [
    "%%bash\n",
    "chmod u+x 0x02-shell_redirections/3-twofiles"
   ]
  },
  {
   "cell_type": "code",
   "execution_count": 33,
   "metadata": {},
   "outputs": [
    {
     "name": "stdout",
     "output_type": "stream",
     "text": [
      "#!/bin/bash\n",
      "cat /etc/passwd /etc/hosts\n"
     ]
    }
   ],
   "source": [
    "!cat 0x02-shell_redirections/3-twofiles"
   ]
  },
  {
   "cell_type": "code",
   "execution_count": 34,
   "metadata": {},
   "outputs": [
    {
     "name": "stdout",
     "output_type": "stream",
     "text": [
      "root:x:0:0:root:/root:/bin/bash\n",
      "daemon:x:1:1:daemon:/usr/sbin:/usr/sbin/nologin\n",
      "bin:x:2:2:bin:/bin:/usr/sbin/nologin\n",
      "sys:x:3:3:sys:/dev:/usr/sbin/nologin\n",
      "sync:x:4:65534:sync:/bin:/bin/sync\n",
      "games:x:5:60:games:/usr/games:/usr/sbin/nologin\n",
      "man:x:6:12:man:/var/cache/man:/usr/sbin/nologin\n",
      "lp:x:7:7:lp:/var/spool/lpd:/usr/sbin/nologin\n",
      "mail:x:8:8:mail:/var/mail:/usr/sbin/nologin\n",
      "news:x:9:9:news:/var/spool/news:/usr/sbin/nologin\n",
      "uucp:x:10:10:uucp:/var/spool/uucp:/usr/sbin/nologin\n",
      "proxy:x:13:13:proxy:/bin:/usr/sbin/nologin\n",
      "www-data:x:33:33:www-data:/var/www:/usr/sbin/nologin\n",
      "backup:x:34:34:backup:/var/backups:/usr/sbin/nologin\n",
      "list:x:38:38:Mailing List Manager:/var/list:/usr/sbin/nologin\n",
      "irc:x:39:39:ircd:/var/run/ircd:/usr/sbin/nologin\n",
      "gnats:x:41:41:Gnats Bug-Reporting System (admin):/var/lib/gnats:/usr/sbin/nologin\n",
      "nobody:x:65534:65534:nobody:/nonexistent:/usr/sbin/nologin\n",
      "systemd-network:x:100:102:systemd Network Management,,,:/run/systemd:/usr/sbin/nologin\n",
      "systemd-resolve:x:101:103:systemd Resolver,,,:/run/systemd:/usr/sbin/nologin\n",
      "systemd-timesync:x:102:104:systemd Time Synchronization,,,:/run/systemd:/usr/sbin/nologin\n",
      "messagebus:x:103:106::/nonexistent:/usr/sbin/nologin\n",
      "syslog:x:104:110::/home/syslog:/usr/sbin/nologin\n",
      "_apt:x:105:65534::/nonexistent:/usr/sbin/nologin\n",
      "tss:x:106:111:TPM software stack,,,:/var/lib/tpm:/bin/false\n",
      "uuidd:x:107:112::/run/uuidd:/usr/sbin/nologin\n",
      "tcpdump:x:108:113::/nonexistent:/usr/sbin/nologin\n",
      "sshd:x:109:65534::/run/sshd:/usr/sbin/nologin\n",
      "landscape:x:110:115::/var/lib/landscape:/usr/sbin/nologin\n",
      "pollinate:x:111:1::/var/cache/pollinate:/bin/false\n",
      "fwupd-refresh:x:112:116:fwupd-refresh user,,,:/run/systemd:/usr/sbin/nologin\n",
      "systemd-coredump:x:999:999:systemd Core Dumper:/:/usr/sbin/nologin\n",
      "lxd:x:998:100::/var/snap/lxd/common/lxd:/bin/false\n",
      "elkomy:x:1000:1000:,,,:/home/elkomy:/bin/bash\n",
      "# This file was automatically generated by WSL. To stop automatic generation of this file, add the following entry to /etc/wsl.conf:\n",
      "# [network]\n",
      "# generateHosts = false\n",
      "127.0.0.1\tlocalhost\n",
      "127.0.1.1\telkomy.\telkomy\n",
      "﻿\n",
      "192.168.1.9\thost.docker.internal\n",
      "192.168.1.9\tgateway.docker.internal\n",
      "127.0.0.1\tkubernetes.docker.internal\n",
      "\n",
      "# The following lines are desirable for IPv6 capable hosts\n",
      "::1     ip6-localhost ip6-loopback\n",
      "fe00::0 ip6-localnet\n",
      "ff00::0 ip6-mcastprefix\n",
      "ff02::1 ip6-allnodes\n",
      "ff02::2 ip6-allrouters\n"
     ]
    }
   ],
   "source": [
    "!./0x02-shell_redirections/3-twofiles"
   ]
  },
  {
   "cell_type": "code",
   "execution_count": 35,
   "metadata": {},
   "outputs": [
    {
     "name": "stdout",
     "output_type": "stream",
     "text": [
      "[main a70f871] 0x02-shell_redirections/3-twofiles\n",
      " 2 files changed, 20 insertions(+), 14 deletions(-)\n"
     ]
    },
    {
     "name": "stdout",
     "output_type": "stream",
     "text": [
      "Enumerating objects: 9, done.\n",
      "Counting objects: 100% (9/9), done.\n",
      "Delta compression using up to 12 threads\n",
      "Compressing objects: 100% (4/4), done.\n",
      "Writing objects: 100% (5/5), 632 bytes | 632.00 KiB/s, done.\n",
      "Total 5 (delta 3), reused 0 (delta 0)\n",
      "remote: Resolving deltas: 100% (3/3), completed with 3 local objects.\u001b[K\n",
      "To https://github.com/elkomysara/alx-system_engineering-devops.git\n",
      "   ce26c06..a70f871  main -> main\n",
      "Branch 'main' set up to track remote branch 'main' from 'origin'.\n"
     ]
    }
   ],
   "source": [
    "!git add .\n",
    "!git commit -m \"0x02-shell_redirections/3-twofiles\"\n",
    "!git push -u origin main"
   ]
  },
  {
   "cell_type": "markdown",
   "metadata": {},
   "source": [
    "### \n",
    "\n",
    "\n",
    "---\n",
    "<center>\n",
    "<h4> 4. Last lines of a file</h4>\n",
    "</center>\n",
    "\n",
    "---"
   ]
  },
  {
   "cell_type": "markdown",
   "metadata": {},
   "source": [
    "#### Display the last 10 lines of `/etc/passwd`.\n",
    "#### Example:\n",
    "```bash\n",
    "$ ./4-lastlines\n",
    "_assetcache:*:235:235:Asset Cache Service:/var/empty:/usr/bin/false\n",
    "_coremediaiod:*:236:236:Core Media IO Daemon:/var/empty:/usr/bin/false\n",
    "_launchservicesd:*:239:239:_launchservicesd:/var/empty:/usr/bin/false\n",
    "_iconservices:*:240:240:IconServices:/var/empty:/usr/bin/false\n",
    "_distnote:*:241:241:DistNote:/var/empty:/usr/bin/false\n",
    "_nsurlsessiond:*:242:242:NSURLSession Daemon:/var/db/nsurlsessiond:/usr/bin/false\n",
    "_nsurlstoraged:*:243:243:NSURLStorage Daemon:/var/empty:/usr/bin/false\n",
    "_displaypolicyd:*:244:244:Display Policy Daemon:/var/empty:/usr/bin/false\n",
    "_astris:*:245:245:Astris Services:/var/db/astris:/usr/bin/false\n",
    "_krbfast:*:246:-2:Kerberos FAST Account:/var/empty:/usr/bin/false\n",
    "```\n",
    "Tips: “Thinks of it as a cat, what is at the end of it?”\n",
    "#### Repo:\n",
    "* GitHub repository: `alx-system_engineering-devops`\n",
    "* Directory: `0x02-shell_redirections`\n",
    "* File: `4-lastlines`"
   ]
  },
  {
   "cell_type": "code",
   "execution_count": 40,
   "metadata": {},
   "outputs": [
    {
     "name": "stdout",
     "output_type": "stream",
     "text": [
      "Overwriting 0x02-shell_redirections/4-lastlines\n"
     ]
    }
   ],
   "source": [
    "%%file 0x02-shell_redirections/4-lastlines\n",
    "#!/bin/bash\n",
    "tail -n 10 /etc/passwd"
   ]
  },
  {
   "cell_type": "code",
   "execution_count": 41,
   "metadata": {},
   "outputs": [],
   "source": [
    "!chmod u+x 0x02-shell_redirections/4-lastlines"
   ]
  },
  {
   "cell_type": "code",
   "execution_count": 42,
   "metadata": {},
   "outputs": [
    {
     "name": "stdout",
     "output_type": "stream",
     "text": [
      "#!/bin/bash\n",
      "tail -n 10 /etc/passwd\n"
     ]
    }
   ],
   "source": [
    "!cat 0x02-shell_redirections/4-lastlines"
   ]
  },
  {
   "cell_type": "code",
   "execution_count": 43,
   "metadata": {},
   "outputs": [
    {
     "name": "stdout",
     "output_type": "stream",
     "text": [
      "tss:x:106:111:TPM software stack,,,:/var/lib/tpm:/bin/false\n",
      "uuidd:x:107:112::/run/uuidd:/usr/sbin/nologin\n",
      "tcpdump:x:108:113::/nonexistent:/usr/sbin/nologin\n",
      "sshd:x:109:65534::/run/sshd:/usr/sbin/nologin\n",
      "landscape:x:110:115::/var/lib/landscape:/usr/sbin/nologin\n",
      "pollinate:x:111:1::/var/cache/pollinate:/bin/false\n",
      "fwupd-refresh:x:112:116:fwupd-refresh user,,,:/run/systemd:/usr/sbin/nologin\n",
      "systemd-coredump:x:999:999:systemd Core Dumper:/:/usr/sbin/nologin\n",
      "lxd:x:998:100::/var/snap/lxd/common/lxd:/bin/false\n",
      "elkomy:x:1000:1000:,,,:/home/elkomy:/bin/bash\n"
     ]
    }
   ],
   "source": [
    "!./0x02-shell_redirections/4-lastlines"
   ]
  },
  {
   "cell_type": "code",
   "execution_count": 44,
   "metadata": {},
   "outputs": [
    {
     "name": "stdout",
     "output_type": "stream",
     "text": [
      "[main 313c5ce] 0x02-shell_redirections/4-lastlines\n",
      " 2 files changed, 57 insertions(+), 26 deletions(-)\n",
      " create mode 100755 0x02-shell_redirections/4-lastlines\n",
      "Enumerating objects: 8, done.\n",
      "Counting objects: 100% (8/8), done.\n",
      "Delta compression using up to 12 threads\n",
      "Compressing objects: 100% (4/4), done.\n",
      "Writing objects: 100% (5/5), 1.02 KiB | 1.02 MiB/s, done.\n",
      "Total 5 (delta 3), reused 0 (delta 0)\n"
     ]
    },
    {
     "name": "stdout",
     "output_type": "stream",
     "text": [
      "remote: Resolving deltas: 100% (3/3), completed with 3 local objects.\u001b[K\n",
      "To https://github.com/elkomysara/alx-system_engineering-devops.git\n",
      "   a70f871..313c5ce  main -> main\n",
      "Branch 'main' set up to track remote branch 'main' from 'origin'.\n"
     ]
    }
   ],
   "source": [
    "!git add .\n",
    "!git commit -m \"0x02-shell_redirections/4-lastlines\"\n",
    "!git push -u origin main"
   ]
  },
  {
   "cell_type": "markdown",
   "metadata": {},
   "source": [
    "### \n",
    "\n",
    "\n",
    "---\n",
    "<center>\n",
    "<h4> 5. I'd prefer the first ones actually</h4>\n",
    "</center>\n",
    "\n",
    "---"
   ]
  },
  {
   "cell_type": "markdown",
   "metadata": {},
   "source": [
    "##### Display the first 10 lines of `/etc/passwd`\n",
    "\n",
    "\n",
    "##### Example:\n",
    "\n",
    "\n",
    "```bash\n",
    "$ ./5-firstlines\n",
    "##\n",
    "# User Database\n",
    "#\n",
    "# Note that this file is consulted directly only when the system is running\n",
    "# in single-user mode. At other times this information is provided by\n",
    "# Open Directory.\n",
    "#\n",
    "# See the opendirectoryd(8) man page for additional information about\n",
    "# Open Directory.\n",
    "##\n",
    "$\n",
    "```\n",
    "\n",
    "##### Repo:\n",
    "\n",
    "* GitHub repository: `alx-system_engineering-devops`\n",
    "* Directory: `0x02-shell_redirections`\n",
    "* File: `5-firstlines`"
   ]
  },
  {
   "cell_type": "code",
   "execution_count": 45,
   "metadata": {},
   "outputs": [
    {
     "name": "stdout",
     "output_type": "stream",
     "text": [
      "Writing 0x02-shell_redirections/5-firstlines\n"
     ]
    }
   ],
   "source": [
    "%%file 0x02-shell_redirections/5-firstlines\n",
    "#!/bin/bash\n",
    "head -n 10 /etc/passwd"
   ]
  },
  {
   "cell_type": "code",
   "execution_count": 46,
   "metadata": {},
   "outputs": [
    {
     "name": "stdout",
     "output_type": "stream",
     "text": [
      "root:x:0:0:root:/root:/bin/bash\n",
      "daemon:x:1:1:daemon:/usr/sbin:/usr/sbin/nologin\n",
      "bin:x:2:2:bin:/bin:/usr/sbin/nologin\n",
      "sys:x:3:3:sys:/dev:/usr/sbin/nologin\n",
      "sync:x:4:65534:sync:/bin:/bin/sync\n",
      "games:x:5:60:games:/usr/games:/usr/sbin/nologin\n",
      "man:x:6:12:man:/var/cache/man:/usr/sbin/nologin\n",
      "lp:x:7:7:lp:/var/spool/lpd:/usr/sbin/nologin\n",
      "mail:x:8:8:mail:/var/mail:/usr/sbin/nologin\n",
      "news:x:9:9:news:/var/spool/news:/usr/sbin/nologin\n"
     ]
    }
   ],
   "source": [
    "%%bash\n",
    "chmod u+x 0x02-shell_redirections/5-firstlines\n",
    "./0x02-shell_redirections/5-firstlines"
   ]
  },
  {
   "cell_type": "code",
   "execution_count": 47,
   "metadata": {},
   "outputs": [
    {
     "name": "stdout",
     "output_type": "stream",
     "text": [
      "[main 563cd23] 0x02-shell_redirections/5-firstlines\n",
      " 2 files changed, 64 insertions(+), 54 deletions(-)\n",
      " create mode 100755 0x02-shell_redirections/5-firstlines\n"
     ]
    },
    {
     "name": "stderr",
     "output_type": "stream",
     "text": [
      "To https://github.com/elkomysara/alx-system_engineering-devops.git\n",
      "   313c5ce..563cd23  main -> main\n"
     ]
    }
   ],
   "source": [
    "%%bash\n",
    "git add .\n",
    "git commit -m \"0x02-shell_redirections/5-firstlines\"\n",
    "git push"
   ]
  },
  {
   "cell_type": "markdown",
   "metadata": {},
   "source": [
    "### \n",
    "\n",
    "\n",
    "---\n",
    "<center>\n",
    "<h4> 6. Line #2 </h4>\n",
    "</center>\n",
    "\n",
    "---"
   ]
  },
  {
   "cell_type": "markdown",
   "metadata": {},
   "source": [
    "##### Write a script that displays the third line of the file `iacta` .\n",
    "\n",
    "##### The file `iacta` will be in the working directory \n",
    "* You're not allowed to use 'sed'\n",
    "\n",
    "```bash\n",
    "julien@ubuntu:/tmp/h$ cat iacta \n",
    "Alea iacta est\n",
    "\n",
    "Alea iacta est (\"The die is cast\") is a Latin phrase attributed by Suetonius\n",
    "(as iacta alea est) to Julius Caesar on January 10, 49 BC\n",
    "as he led his army across the Rubicon river in Northern Italy. With this step,\n",
    "he entered Italy at the head of his army in defiance of the Senate and began\n",
    "his long civil war against Pompey and the Optimates. The phrase has been\n",
    "adopted in Italian (Il dado è tratto), Romanian (Zarurile au fost aruncate),\n",
    "Spanish (La suerte está echada), French (Les dés sont jetés), Portuguese (A\n",
    "sorte está lançada), Dutch (De teerling is geworpen),\n",
    "German (Der Würfel ist gefallen), Hungarian (A kocka el van vetve) and many other languages to\n",
    "indicate that events have passed a point of no return.\n",
    "\n",
    "Read more: https://en.wikipedia.org/wiki/Alea_iacta_est\n",
    "julien@ubuntu:/tmp/h$ ./6-third_line \n",
    "Alea iacta est (\"The die is cast\") is a Latin phrase attributed by Suetonius\n",
    "julien@ubuntu:/tmp/h$\n",
    "\n",
    "```\n",
    "Note: The output will differ, depending on the content of the file `iacta` .\n",
    "\n",
    "#### Repo:\n",
    "\n",
    "* GitHub repository: `alx-system_engineering-devops`\n",
    "* Directory: `0x02-shell_redirections`\n",
    "* File: `6-third_line`"
   ]
  },
  {
   "cell_type": "code",
   "execution_count": 53,
   "metadata": {},
   "outputs": [
    {
     "name": "stdout",
     "output_type": "stream",
     "text": [
      "Overwriting 0x02-shell_redirections/6-third_line\n"
     ]
    }
   ],
   "source": [
    "%%file 0x02-shell_redirections/6-third_line\n",
    "#!/bin/bash\n",
    "head -n 3 iacta | tail -n 1 "
   ]
  },
  {
   "cell_type": "code",
   "execution_count": 51,
   "metadata": {},
   "outputs": [],
   "source": [
    "%%bash\n",
    "chmod u+x  0x02-shell_redirections/6-third_line\n",
    "\n"
   ]
  },
  {
   "cell_type": "code",
   "execution_count": 54,
   "metadata": {},
   "outputs": [
    {
     "name": "stdout",
     "output_type": "stream",
     "text": [
      "[main 34dccbd] 6-third_line\n",
      " 2 files changed, 10 insertions(+), 10 deletions(-)\n"
     ]
    },
    {
     "name": "stderr",
     "output_type": "stream",
     "text": [
      "To https://github.com/elkomysara/alx-system_engineering-devops.git\n",
      "   b2c2939..34dccbd  main -> main\n"
     ]
    }
   ],
   "source": [
    "%%bash\n",
    "git add .\n",
    "git commit -m \"6-third_line\"\n",
    "git push"
   ]
  },
  {
   "cell_type": "markdown",
   "metadata": {},
   "source": [
    "### \n",
    "\n",
    "\n",
    "---\n",
    "<center>\n",
    "<h4> 7.It is a good file that cuts iron without making a noise </h4>\n",
    "</center>\n",
    "\n",
    "---"
   ]
  },
  {
   "cell_type": "markdown",
   "metadata": {},
   "source": [
    "##### Write a shell script that creates a file named exactly `\\*\\\\'\"Best School\"\\'\\\\*$\\?\\*\\*\\*\\*\\*:)`  containing the text `Best School` ending by a new line.\n",
    "\n",
    "```bash\n",
    "julien@ubuntu:~/shell$ ls && ./7-file && ls -l && cat -e \\\\*\n",
    "0-mac_and_cheese 7-file 7-file~ Makefile\n",
    "total 20\n",
    "-rwxrw-r-- 1 julien julien 79 Jan 20 06:24 0-mac_and_cheese\n",
    "-rwxrw-r-- 1 julien julien 90 Jan 20 06:40 7-file\n",
    "-rwxrw-r-- 1 julien julien 69 Jan 20 06:37 7-file~\n",
    "-rw-rw-r-- 1 julien julien 14 Jan 20 06:38 Makefile\n",
    "-rw-rw-r-- 1 julien julien 17 Jan 20 06:40 '\\*\\\\'\"Best School\"\\'\\\\*$\\?\\*\\*\\*\\*\\*:)'\n",
    "Best School$\n",
    "julien@ubuntu:~/shell$ \n",
    "```\n",
    "\n",
    "#### Repo:\n",
    "\n",
    "* GitHub repository: `alx-system_engineering-devops`\n",
    "* Directory: `0x02-shell_redirections`\n",
    "* File: `7-file`"
   ]
  },
  {
   "cell_type": "code",
   "execution_count": 64,
   "metadata": {},
   "outputs": [
    {
     "name": "stdout",
     "output_type": "stream",
     "text": [
      "Overwriting 0x02-shell_redirections/7-file\n"
     ]
    }
   ],
   "source": [
    "%%file 0x02-shell_redirections/7-file\n",
    "#!/bin/bash\n",
    "echo \"Best School\" > \\\\\\*\\\\\\\\\\'\\\"Best\\ School\\\"\\\\\\'\\\\\\\\\\*\\$\\\\\\?\\\\\\*\\\\\\*\\\\\\*\\\\\\*\\\\\\*\\:\\)"
   ]
  },
  {
   "cell_type": "code",
   "execution_count": null,
   "metadata": {},
   "outputs": [],
   "source": [
    "#\\\\\\*\\\\\\\\\\'\\\"Best\\ School\\\"\\\\\\'\\\\\\\\\\*\\$\\\\\\?\\\\\\*\\\\\\*\\\\\\*\\\\\\*\\\\\\*\\:\\)"
   ]
  },
  {
   "cell_type": "code",
   "execution_count": 59,
   "metadata": {},
   "outputs": [],
   "source": [
    "%%bash\n",
    "chmod u+x 0x02-shell_redirections/7-file"
   ]
  },
  {
   "cell_type": "code",
   "execution_count": 65,
   "metadata": {},
   "outputs": [],
   "source": [
    "!./0x02-shell_redirections/7-file"
   ]
  },
  {
   "cell_type": "code",
   "execution_count": 66,
   "metadata": {},
   "outputs": [
    {
     "name": "stdout",
     "output_type": "stream",
     "text": [
      "[main 987b10d] 7-everybody\n",
      " 3 files changed, 46 insertions(+), 47 deletions(-)\n",
      " create mode 100755 0x02-shell_redirections/7-file\n",
      " create mode 100644 \"\\\\*\\\\\\\\'\\\"Best School\\\"\\\\'\\\\\\\\*$\\\\?\\\\*\\\\*\\\\*\\\\*\\\\*:)\"\n"
     ]
    },
    {
     "name": "stderr",
     "output_type": "stream",
     "text": [
      "To https://github.com/elkomysara/alx-system_engineering-devops.git\n",
      "   34dccbd..987b10d  main -> main\n"
     ]
    }
   ],
   "source": [
    "%%bash\n",
    "git add .\n",
    "git commit -m \"7-everybody\"\n",
    "git push"
   ]
  },
  {
   "cell_type": "markdown",
   "metadata": {},
   "source": [
    "### \n",
    "\n",
    "\n",
    "---\n",
    "<center>\n",
    "<h4> 8. Save current state of directory </h4>\n",
    "</center>\n",
    "\n",
    "---"
   ]
  },
  {
   "cell_type": "markdown",
   "metadata": {},
   "source": [
    "##### Write a script that writes into the file `ls_cwd_content` the result of the command `ls -la` . If the file `ls_cwd_content` already exists, it should be overwritten. If the file `ls_cwd_content` dose not exist, create it.\n",
    "\n",
    "```bash\n",
    "julien@ubuntu:/tmp/h$ ls -la\n",
    "total 20\n",
    "drwxrwxr-x  2 julien julien 4096 Sep 20 18:18 .\n",
    "drwxrwxrwt 13 root   root   4096 Sep 20 18:18 ..\n",
    "-rwxrw-r--  1 julien julien   36 Sep 20 18:18 8-cwd_state\n",
    "-rw-rw-r--  1 betty  julien   23 Sep 20 14:25 hello\n",
    "-rw-rw-r--  1 julien julien  926 Sep 20 17:52 iacta\n",
    "julien@ubuntu:/tmp/h$ ./8-cwd_state \n",
    "julien@ubuntu:/tmp/h$ ls -la\n",
    "total 24\n",
    "drwxrwxr-x  2 julien julien 4096 Sep 20 18:18 .\n",
    "drwxrwxrwt 13 root   root   4096 Sep 20 18:18 ..\n",
    "-rwxrw-r--  1 julien julien   36 Sep 20 18:18 8-cwd_state\n",
    "-rw-rw-r--  1 betty  julien   23 Sep 20 14:25 hello\n",
    "-rw-rw-r--  1 julien julien  926 Sep 20 17:52 iacta\n",
    "-rw-rw-r--  1 julien julien  329 Sep 20 18:18 ls_cwd_content\n",
    "julien@ubuntu:/tmp/h$ cat ls_cwd_content \n",
    "total 20\n",
    "drwxrwxr-x  2 julien julien 4096 Sep 20 18:18 .\n",
    "drwxrwxrwt 13 root   root   4096 Sep 20 18:18 ..\n",
    "-rwxrw-r--  1 julien julien   36 Sep 20 18:18 8-cwd_state\n",
    "-rw-rw-r--  1 betty  julien   23 Sep 20 14:25 hello\n",
    "-rw-rw-r--  1 julien julien  926 Sep 20 17:52 iacta\n",
    "-rw-rw-r--  1 julien julien    0 Sep 20 18:18 ls_cwd_content\n",
    "julien@ubuntu:/tmp/h$ \n",
    "```\n",
    "\n",
    "#### Repo:\n",
    "\n",
    "* GitHub repository: `alx-system_engineering-devops`\n",
    "* Directory: `0x02-shell_redirections`\n",
    "* File: ` 8-cwd_state`\n"
   ]
  },
  {
   "cell_type": "code",
   "execution_count": 3,
   "metadata": {},
   "outputs": [
    {
     "name": "stdout",
     "output_type": "stream",
     "text": [
      "Writing 0x02-shell_redirections/8-cwd_state\n"
     ]
    }
   ],
   "source": [
    "%%file 0x02-shell_redirections/8-cwd_state\n",
    "#!/bin/bash\n",
    "ls -la > ls_cwd_content"
   ]
  },
  {
   "cell_type": "code",
   "execution_count": 5,
   "metadata": {},
   "outputs": [
    {
     "name": "stdout",
     "output_type": "stream",
     "text": [
      "0x00-shell_basics\n",
      "0x00-shell_basics.ipynb\n",
      "0x01-shell_permissions\n",
      "0x01-shell_permissions.ipynb\n",
      "0x02-shell_redirections\n",
      "0x02. Shell, InputOutput Redirections and filters.ipynb\n",
      "README.md\n",
      "\\*\\\\'\"Best School\"\\'\\\\*$\\?\\*\\*\\*\\*\\*:)\n",
      "hello\n",
      "ls_cwd_content\n",
      "school.mgc\n",
      "test.HTML\n"
     ]
    }
   ],
   "source": [
    "%%bash\n",
    "chmod u+x 0x02-shell_redirections/8-cwd_state\n",
    "./0x02-shell_redirections/8-cwd_state\n",
    "ls\n"
   ]
  },
  {
   "cell_type": "code",
   "execution_count": 12,
   "metadata": {},
   "outputs": [
    {
     "name": "stdout",
     "output_type": "stream",
     "text": [
      "[main 3f22ebb] 8. James Bond\n",
      " 2 files changed, 44 insertions(+), 32 deletions(-)\n",
      " create mode 100755 0x01-shell_permissions/8-James_Bond\n"
     ]
    },
    {
     "name": "stderr",
     "output_type": "stream",
     "text": [
      "To https://github.com/elkomysara/alx-system_engineering-devops.git\n",
      "   33ba3fc..3f22ebb  main -> main\n"
     ]
    }
   ],
   "source": [
    "%%bash\n",
    "git add .\n",
    "git commit -m \"8. James Bond\"\n",
    "git push"
   ]
  },
  {
   "cell_type": "markdown",
   "metadata": {},
   "source": [
    "### \n",
    "\n",
    "\n",
    "---\n",
    "<center>\n",
    "<h4> 9. John Doe</h4>\n",
    "</center>\n",
    "\n",
    "---"
   ]
  },
  {
   "cell_type": "markdown",
   "metadata": {},
   "source": [
    "##### Write a script that sets the mode of the file `hello` to this:\n",
    "\n",
    "```bash\n",
    "-rwxr-x-wx 1 julien julien 23 Sep 20 14:25 hello\n",
    "```\n",
    "\n",
    "* The file `hello` will be in the working directory\n",
    "* You are not allowed to use commas for this script\n",
    "\n",
    "#### Repo:\n",
    "\n",
    "* GitHub repository: `alx-system_engineering-devops`\n",
    "* Directory: `0x01-shell_permissions`\n",
    "* File: `9-John_Doe`"
   ]
  },
  {
   "cell_type": "code",
   "execution_count": 29,
   "metadata": {},
   "outputs": [
    {
     "name": "stdout",
     "output_type": "stream",
     "text": [
      "Overwriting 0x01-shell_permissions/9-John_Doe\n"
     ]
    }
   ],
   "source": [
    "%%file 0x01-shell_permissions/9-John_Doe\n",
    "#!/bin/bash\n",
    "chmod 753 hello"
   ]
  },
  {
   "cell_type": "code",
   "execution_count": 30,
   "metadata": {},
   "outputs": [
    {
     "name": "stdout",
     "output_type": "stream",
     "text": [
      "total 164\n",
      "drwxr-xr-x 2 elkomy elkomy  4096 Mar  9 20:47 0x00-shell_basics\n",
      "-rw-r--r-- 1 elkomy elkomy 75098 Mar  2 15:54 0x00-shell_basics.ipynb\n",
      "drwxr-xr-x 2 elkomy elkomy  4096 Mar  9 20:46 0x01-shell_permissions\n",
      "-rw-r--r-- 1 elkomy elkomy 72905 Mar  9 21:02 0x01-shell_permissions.ipynb\n",
      "-rw-r--r-- 1 elkomy elkomy   108 Mar  2 16:08 README.md\n",
      "-rwxr-x-wx 1 elkomy elkomy     0 Mar  9 01:18 hello\n",
      "-rw-r--r-- 1 elkomy elkomy   688 Mar  2 14:52 school.mgc\n",
      "-rw-r--r-- 1 elkomy elkomy     0 Feb 28 01:08 test.HTML\n"
     ]
    }
   ],
   "source": [
    "%%bash\n",
    "chmod u+x 0x01-shell_permissions/9-John_Doe\n",
    "./0x01-shell_permissions/9-John_Doe\n",
    "ls -l\n"
   ]
  },
  {
   "cell_type": "code",
   "execution_count": 31,
   "metadata": {},
   "outputs": [
    {
     "name": "stdout",
     "output_type": "stream",
     "text": [
      "[main e8a0ede] 9-John Doe\n",
      " 2 files changed, 8 insertions(+), 16 deletions(-)\n",
      " mode change 100644 => 100755 0x01-shell_permissions/9-John_Doe\n"
     ]
    },
    {
     "name": "stderr",
     "output_type": "stream",
     "text": [
      "To https://github.com/elkomysara/alx-system_engineering-devops.git\n",
      "   1cf6806..e8a0ede  main -> main\n"
     ]
    }
   ],
   "source": [
    "%%bash\n",
    "git add .\n",
    "git commit -m \"9-John Doe\"\n",
    "git push"
   ]
  },
  {
   "cell_type": "markdown",
   "metadata": {},
   "source": [
    "### \n",
    "\n",
    "\n",
    "---\n",
    "<center>\n",
    "<h4> 10.Look in the mirror</h4>\n",
    "</center>\n",
    "\n",
    "---"
   ]
  },
  {
   "cell_type": "markdown",
   "metadata": {},
   "source": [
    "##### Write a script that sets the mode of the file hello the same as olleh’s mode.\n",
    "\n",
    "* The file `hello` will be in the working directory\n",
    "* The file `olleh` will be in the working directory\n",
    "\n",
    "```bash\n",
    "julien@ubuntu:/tmp/h$ ls -l\n",
    "total 8\n",
    "-rwxrw-r-- 1 julien julien 42 Sep 20 14:45 10-mirror_permissions\n",
    "-rwxr-x-wx 1 julien julien 23 Sep 20 14:25 hello\n",
    "-rw-rw-r-- 1 julien julien  0 Sep 20 14:43 olleh\n",
    "julien@ubuntu:/tmp/h$ ./10-mirror_permissions \n",
    "julien@ubuntu:/tmp/h$ ls -l\n",
    "total 8\n",
    "-rwxrw-r-- 1 julien julien 42 Sep 20 14:45 10-mirror_permissions\n",
    "-rw-rw-r-- 1 julien julien 23 Sep 20 14:25 hello\n",
    "-rw-rw-r-- 1 julien julien  0 Sep 20 14:43 olleh\n",
    "julien@ubuntu:/tmp/h$ \n",
    "```\n",
    "Note: the mode of `olleh` will not always be 664. Make sure your script works for any mode.\n",
    "\n",
    "#### Repo:\n",
    "\n",
    "* GitHub repository: `alx-system_engineering-devops`\n",
    "* Directory: `0x00-shell_basics`\n",
    "* File: `10-back`"
   ]
  },
  {
   "cell_type": "code",
   "execution_count": 3,
   "metadata": {},
   "outputs": [
    {
     "name": "stdout",
     "output_type": "stream",
     "text": [
      "Overwriting 0x01-shell_permissions/10-mirror_permissions\n"
     ]
    }
   ],
   "source": [
    "%%file 0x01-shell_permissions/10-mirror_permissions\n",
    "#!/bin/bash\n",
    "chmod --reference=olleh hello"
   ]
  },
  {
   "cell_type": "code",
   "execution_count": 4,
   "metadata": {},
   "outputs": [
    {
     "name": "stderr",
     "output_type": "stream",
     "text": [
      "chmod: failed to get attributes of 'olleh': No such file or directory\n"
     ]
    },
    {
     "name": "stdout",
     "output_type": "stream",
     "text": [
      "/home/elkomy/alx-system_engineering-devops\n"
     ]
    }
   ],
   "source": [
    "%%bash\n",
    "chmod u+x 0x01-shell_permissions/10-mirror_permissions\n",
    "source ./0x01-shell_permissions/10-mirror_permissions\n",
    "pwd\n"
   ]
  },
  {
   "cell_type": "code",
   "execution_count": 6,
   "metadata": {},
   "outputs": [
    {
     "name": "stdout",
     "output_type": "stream",
     "text": [
      "[main f9834e8] olleh\n",
      " 1 file changed, 5 insertions(+), 5 deletions(-)\n"
     ]
    },
    {
     "name": "stderr",
     "output_type": "stream",
     "text": [
      "To https://github.com/elkomysara/alx-system_engineering-devops.git\n",
      "   0a15ffa..f9834e8  main -> main\n"
     ]
    }
   ],
   "source": [
    "%%bash\n",
    "git add .\n",
    "git commit -m \"olleh\"\n",
    "git push"
   ]
  },
  {
   "cell_type": "markdown",
   "metadata": {},
   "source": [
    "### \n",
    "\n",
    "\n",
    "---\n",
    "<center>\n",
    "<h4> 11.Directories</h4>\n",
    "</center>\n",
    "\n",
    "---"
   ]
  },
  {
   "cell_type": "markdown",
   "metadata": {},
   "source": [
    "##### Create a script that adds execute permission to all subdirectories of the current directory for the owner, the group owner and all other users.\n",
    "\n",
    "Regular files should not be changed.\n",
    "\n",
    "#### Repo:\n",
    "\n",
    "* GitHub repository: `alx-system_engineering-devops`\n",
    "* Directory: `0x01-shell_permissions`\n",
    "* File: `11-directories_permissions`"
   ]
  },
  {
   "cell_type": "code",
   "execution_count": 11,
   "metadata": {},
   "outputs": [
    {
     "name": "stdout",
     "output_type": "stream",
     "text": [
      "Overwriting 0x01-shell_permissions/11-directories_permissions\n"
     ]
    }
   ],
   "source": [
    "%%file 0x01-shell_permissions/11-directories_permissions\n",
    "#!/bin/bash\n",
    "chmod -R ugo+X ."
   ]
  },
  {
   "cell_type": "code",
   "execution_count": 12,
   "metadata": {},
   "outputs": [
    {
     "name": "stdout",
     "output_type": "stream",
     "text": [
      "/home/elkomy/alx-system_engineering-devops\n"
     ]
    }
   ],
   "source": [
    "%%bash\n",
    "chmod u+x 0x01-shell_permissions/11-directories_permissions\n",
    "source ./0x01-shell_permissions/11-directories_permissions\n",
    "pwd\n"
   ]
  },
  {
   "cell_type": "code",
   "execution_count": 13,
   "metadata": {},
   "outputs": [
    {
     "name": "stdout",
     "output_type": "stream",
     "text": [
      "[main 8950d55] 11-directories_permissions\n",
      " 2 files changed, 10 insertions(+), 17 deletions(-)\n"
     ]
    },
    {
     "name": "stderr",
     "output_type": "stream",
     "text": [
      "To https://github.com/elkomysara/alx-system_engineering-devops.git\n",
      "   1a92d84..8950d55  main -> main\n"
     ]
    }
   ],
   "source": [
    "%%bash\n",
    "git add .\n",
    "git commit -m \"11-directories_permissions\"\n",
    "git push"
   ]
  },
  {
   "cell_type": "markdown",
   "metadata": {},
   "source": [
    "### \n",
    "\n",
    "\n",
    "---\n",
    "<center>\n",
    "<h4> 12.More directoreis></h4>\n",
    "</center>\n",
    "\n",
    "---"
   ]
  },
  {
   "cell_type": "markdown",
   "metadata": {},
   "source": [
    "##### Create a script that creates a directory called `my_dir` with permissions 751 in the working directory.\n",
    "\n",
    "\n",
    "```bash\n",
    "julien@ubuntu:/tmp/h$ ls -l\n",
    "total 20\n",
    "-rwxrwxr-x 1 julien julien   39 Sep 20 14:59 12-directory_permissions\n",
    "drwx--x--x 2 julien julien 4096 Sep 20 14:49 dir0\n",
    "drwx--x--x 2 julien julien 4096 Sep 20 14:49 dir1\n",
    "drwx--x--x 2 julien julien 4096 Sep 20 14:49 dir2\n",
    "-rw-rw-r-- 1 julien julien   23 Sep 20 14:25 hello\n",
    "julien@ubuntu:/tmp/h$ ./12-directory_permission s\n",
    "julien@ubuntu:/tmp/h$ ls -l\n",
    "total 24\n",
    "-rwxrwxr-x 1 julien julien   39 Sep 20 14:59 12-directory_permissions\n",
    "drwx--x--x 2 julien julien 4096 Sep 20 14:49 dir0\n",
    "drwx--x--x 2 julien julien 4096 Sep 20 14:49 dir1\n",
    "drwx--x--x 2 julien julien 4096 Sep 20 14:49 dir2\n",
    "drwxr-x--x 2 julien julien 4096 Sep 20 14:59 my_dir\n",
    "-rw-rw-r-- 1 julien julien   23 Sep 20 14:25 hello\n",
    "julien@ubuntu:/tmp/h$ \n",
    "```\n",
    "#### Repo:\n",
    "\n",
    "* GitHub repository: `alx-system_engineering-devops`\n",
    "* Directory: `0x01-shell_permissions`\n",
    "* File: `12-directory_permissions`"
   ]
  },
  {
   "cell_type": "code",
   "execution_count": 15,
   "metadata": {},
   "outputs": [
    {
     "name": "stdout",
     "output_type": "stream",
     "text": [
      "Overwriting 0x01-shell_permissions/12-directory_permissions\n"
     ]
    }
   ],
   "source": [
    "%%file 0x01-shell_permissions/12-directory_permissions\n",
    "#!/bin/bash\n",
    "mkdir -m 751 my_dir"
   ]
  },
  {
   "cell_type": "code",
   "execution_count": 16,
   "metadata": {},
   "outputs": [],
   "source": [
    "%%bash\n",
    "chmod u+x 0x01-shell_permissions/12-directory_permissions\n",
    "source ./0x01-shell_permissions/12-directory_permissions"
   ]
  },
  {
   "cell_type": "code",
   "execution_count": 17,
   "metadata": {},
   "outputs": [
    {
     "name": "stdout",
     "output_type": "stream",
     "text": [
      "[main 4266f1e] 12-directory_permissions\n",
      " 2 files changed, 37 insertions(+), 29 deletions(-)\n",
      " create mode 100755 0x01-shell_permissions/12-directory_permissions\n"
     ]
    },
    {
     "name": "stderr",
     "output_type": "stream",
     "text": [
      "To https://github.com/elkomysara/alx-system_engineering-devops.git\n",
      "   8950d55..4266f1e  main -> main\n"
     ]
    }
   ],
   "source": [
    "%%bash\n",
    "git add .\n",
    "git commit -m \"12-directory_permissions\"\n",
    "git push"
   ]
  },
  {
   "cell_type": "markdown",
   "metadata": {},
   "source": [
    "### \n",
    "\n",
    "\n",
    "---\n",
    "<center>\n",
    "<h4> 13. Change group</h4>\n",
    "</center>\n",
    "\n",
    "---"
   ]
  },
  {
   "cell_type": "markdown",
   "metadata": {},
   "source": [
    "##### Write a script that changes the group owner to school for the file hello\n",
    "\n",
    "* The file hello will be in the working directory\n",
    "\n",
    "```bash\n",
    "julien@ubuntu:/tmp/h$ ls -l\n",
    "total 24\n",
    "-rwxrwxr-x 1 julien julien   34 Sep 20 15:03 13-change_group\n",
    "drwx--x--x 2 julien julien 4096 Sep 20 14:49 dir0\n",
    "drwx--x--x 2 julien julien 4096 Sep 20 14:49 dir1\n",
    "drwx--x--x 2 julien julien 4096 Sep 20 14:49 dir2\n",
    "drwxr-x--x 2 julien julien 4096 Sep 20 14:59 my_dir\n",
    "-rw-rw-r-- 1 julien julien   23 Sep 20 14:25 hello\n",
    "julien@ubuntu:/tmp/h$ sudo ./13-change_group \n",
    "julien@ubuntu:/tmp/h$ ls -l\n",
    "total 24\n",
    "-rwxrwxr-x 1 julien julien      34 Sep 20 15:03 13-change_group\n",
    "drwx--x--x 2 julien julien    4096 Sep 20 14:49 dir0\n",
    "drwx--x--x 2 julien julien    4096 Sep 20 14:49 dir1\n",
    "drwx--x--x 2 julien julien    4096 Sep 20 14:49 dir2\n",
    "drwxr-x--x 2 julien julien    4096 Sep 20 14:59 my_dir\n",
    "-rw-rw-r-- 1 julien school   23 Sep 20 14:25 hello\n",
    "julien@ubuntu:/tmp/h$ \n",
    "```\n",
    "#### Repo:\n",
    "\n",
    "* GitHub repository: `alx-system_engineering-devops`\n",
    "* Directory: `0x01-shell_permissions`\n",
    "* File: `13-change_group`"
   ]
  },
  {
   "cell_type": "code",
   "execution_count": 18,
   "metadata": {},
   "outputs": [
    {
     "name": "stdout",
     "output_type": "stream",
     "text": [
      "Writing 0x01-shell_permissions/13-change_group\n"
     ]
    }
   ],
   "source": [
    "%%file 0x01-shell_permissions/13-change_group\n",
    "#!/bin/bash\n",
    "chown :school hello"
   ]
  },
  {
   "cell_type": "code",
   "execution_count": 19,
   "metadata": {},
   "outputs": [
    {
     "name": "stderr",
     "output_type": "stream",
     "text": [
      "chown: invalid group: ‘:school’\n"
     ]
    },
    {
     "ename": "CalledProcessError",
     "evalue": "Command 'b'chmod u+x 0x01-shell_permissions/13-change_group\\nsource ./0x01-shell_permissions/13-change_group\\n'' returned non-zero exit status 1.",
     "output_type": "error",
     "traceback": [
      "\u001b[0;31m---------------------------------------------------------------------------\u001b[0m",
      "\u001b[0;31mCalledProcessError\u001b[0m                        Traceback (most recent call last)",
      "Cell \u001b[0;32mIn[19], line 1\u001b[0m\n\u001b[0;32m----> 1\u001b[0m get_ipython()\u001b[38;5;241m.\u001b[39mrun_cell_magic(\u001b[38;5;124m'\u001b[39m\u001b[38;5;124mbash\u001b[39m\u001b[38;5;124m'\u001b[39m, \u001b[38;5;124m'\u001b[39m\u001b[38;5;124m'\u001b[39m, \u001b[38;5;124m'\u001b[39m\u001b[38;5;124mchmod u+x 0x01-shell_permissions/13-change_group\u001b[39m\u001b[38;5;130;01m\\n\u001b[39;00m\u001b[38;5;124msource ./0x01-shell_permissions/13-change_group\u001b[39m\u001b[38;5;130;01m\\n\u001b[39;00m\u001b[38;5;124m'\u001b[39m)\n",
      "File \u001b[0;32m~/anaconda3/envs/cplayground/lib/python3.11/site-packages/IPython/core/interactiveshell.py:2517\u001b[0m, in \u001b[0;36mInteractiveShell.run_cell_magic\u001b[0;34m(self, magic_name, line, cell)\u001b[0m\n\u001b[1;32m   2515\u001b[0m \u001b[38;5;28;01mwith\u001b[39;00m \u001b[38;5;28mself\u001b[39m\u001b[38;5;241m.\u001b[39mbuiltin_trap:\n\u001b[1;32m   2516\u001b[0m     args \u001b[38;5;241m=\u001b[39m (magic_arg_s, cell)\n\u001b[0;32m-> 2517\u001b[0m     result \u001b[38;5;241m=\u001b[39m fn(\u001b[38;5;241m*\u001b[39margs, \u001b[38;5;241m*\u001b[39m\u001b[38;5;241m*\u001b[39mkwargs)\n\u001b[1;32m   2519\u001b[0m \u001b[38;5;66;03m# The code below prevents the output from being displayed\u001b[39;00m\n\u001b[1;32m   2520\u001b[0m \u001b[38;5;66;03m# when using magics with decorator @output_can_be_silenced\u001b[39;00m\n\u001b[1;32m   2521\u001b[0m \u001b[38;5;66;03m# when the last Python token in the expression is a ';'.\u001b[39;00m\n\u001b[1;32m   2522\u001b[0m \u001b[38;5;28;01mif\u001b[39;00m \u001b[38;5;28mgetattr\u001b[39m(fn, magic\u001b[38;5;241m.\u001b[39mMAGIC_OUTPUT_CAN_BE_SILENCED, \u001b[38;5;28;01mFalse\u001b[39;00m):\n",
      "File \u001b[0;32m~/anaconda3/envs/cplayground/lib/python3.11/site-packages/IPython/core/magics/script.py:154\u001b[0m, in \u001b[0;36mScriptMagics._make_script_magic.<locals>.named_script_magic\u001b[0;34m(line, cell)\u001b[0m\n\u001b[1;32m    152\u001b[0m \u001b[38;5;28;01melse\u001b[39;00m:\n\u001b[1;32m    153\u001b[0m     line \u001b[38;5;241m=\u001b[39m script\n\u001b[0;32m--> 154\u001b[0m \u001b[38;5;28;01mreturn\u001b[39;00m \u001b[38;5;28mself\u001b[39m\u001b[38;5;241m.\u001b[39mshebang(line, cell)\n",
      "File \u001b[0;32m~/anaconda3/envs/cplayground/lib/python3.11/site-packages/IPython/core/magics/script.py:314\u001b[0m, in \u001b[0;36mScriptMagics.shebang\u001b[0;34m(self, line, cell)\u001b[0m\n\u001b[1;32m    309\u001b[0m \u001b[38;5;28;01mif\u001b[39;00m args\u001b[38;5;241m.\u001b[39mraise_error \u001b[38;5;129;01mand\u001b[39;00m p\u001b[38;5;241m.\u001b[39mreturncode \u001b[38;5;241m!=\u001b[39m \u001b[38;5;241m0\u001b[39m:\n\u001b[1;32m    310\u001b[0m     \u001b[38;5;66;03m# If we get here and p.returncode is still None, we must have\u001b[39;00m\n\u001b[1;32m    311\u001b[0m     \u001b[38;5;66;03m# killed it but not yet seen its return code. We don't wait for it,\u001b[39;00m\n\u001b[1;32m    312\u001b[0m     \u001b[38;5;66;03m# in case it's stuck in uninterruptible sleep. -9 = SIGKILL\u001b[39;00m\n\u001b[1;32m    313\u001b[0m     rc \u001b[38;5;241m=\u001b[39m p\u001b[38;5;241m.\u001b[39mreturncode \u001b[38;5;129;01mor\u001b[39;00m \u001b[38;5;241m-\u001b[39m\u001b[38;5;241m9\u001b[39m\n\u001b[0;32m--> 314\u001b[0m     \u001b[38;5;28;01mraise\u001b[39;00m CalledProcessError(rc, cell)\n",
      "\u001b[0;31mCalledProcessError\u001b[0m: Command 'b'chmod u+x 0x01-shell_permissions/13-change_group\\nsource ./0x01-shell_permissions/13-change_group\\n'' returned non-zero exit status 1."
     ]
    }
   ],
   "source": [
    "%%bash\n",
    "chmod u+x 0x01-shell_permissions/13-change_group\n",
    "source ./0x01-shell_permissions/13-change_group"
   ]
  },
  {
   "cell_type": "code",
   "execution_count": 20,
   "metadata": {},
   "outputs": [
    {
     "name": "stdout",
     "output_type": "stream",
     "text": [
      "[main 048565d] ghange group\n",
      " 2 files changed, 55 insertions(+), 39 deletions(-)\n",
      " create mode 100755 0x01-shell_permissions/13-change_group\n"
     ]
    },
    {
     "name": "stderr",
     "output_type": "stream",
     "text": [
      "To https://github.com/elkomysara/alx-system_engineering-devops.git\n",
      "   4266f1e..048565d  main -> main\n"
     ]
    }
   ],
   "source": [
    "%%bash\n",
    "git add .\n",
    "git commit -m \"ghange group\"\n",
    "git push"
   ]
  },
  {
   "cell_type": "markdown",
   "metadata": {},
   "source": [
    "### \n",
    "\n",
    "\n",
    "---\n",
    "<center>\n",
    "<h4> 14. Owner and group</h4>\n",
    "</center>\n",
    "\n",
    "---"
   ]
  },
  {
   "cell_type": "markdown",
   "metadata": {},
   "source": [
    "##### Write a script that changes the owner to vincent and the group owner to staff for all the files and directories in the working directory.\n",
    "\n",
    " \n",
    "```bash\n",
    "julien@ubuntu:/tmp/h$ ls -l\n",
    "total 24\n",
    "-rwxrwxr-x 1 julien julien   36 Sep 20 15:06 100-change_owner_and_group\n",
    "drwx--x--x 2 julien julien 4096 Sep 20 14:49 dir0\n",
    "drwx--x--x 2 julien julien 4096 Sep 20 14:49 dir1\n",
    "drwx--x--x 2 julien julien 4096 Sep 20 14:49 dir2\n",
    "drwxr-x--x 2 julien julien 4096 Sep 20 14:59 my_dir\n",
    "-rw-rw-r-- 1 julien julien   23 Sep 20 14:25 hello\n",
    "julien@ubuntu:/tmp/h$ sudo ./100-change_owner_and_group \n",
    "julien@ubuntu:/tmp/h$ ls -l\n",
    "total 24\n",
    "-rwxrwxr-x 1 vincent staff   36 Sep 20 15:06 100-change_owner_and_group\n",
    "drwx--x--x 2 vincent staff 4096 Sep 20 14:49 dir0\n",
    "drwx--x--x 2 vincent staff 4096 Sep 20 14:49 dir1\n",
    "drwx--x--x 2 vincent staff 4096 Sep 20 14:49 dir2\n",
    "drwxr-x--x 2 vincent staff 4096 Sep 20 14:59 my_dir\n",
    "-rw-rw-r-- 1 vincent staff   23 Sep 20 14:25 hello\n",
    "julien@ubuntu:/tmp/h$ \n",
    "```\n",
    "\n",
    "#### Repo:\n",
    "\n",
    "* GitHub repository: `alx-system_engineering-devops`\n",
    "* Directory: `0x01-shell_permissions`\n",
    "* File: `100-change_owner_and_group`"
   ]
  },
  {
   "cell_type": "code",
   "execution_count": 21,
   "metadata": {},
   "outputs": [
    {
     "name": "stdout",
     "output_type": "stream",
     "text": [
      "Writing 0x01-shell_permissions/100-change_owner_and_group\n"
     ]
    }
   ],
   "source": [
    "%%file 0x01-shell_permissions/100-change_owner_and_group\n",
    "#!/bin/bash\n",
    "chown vincent:staff ./*"
   ]
  },
  {
   "cell_type": "code",
   "execution_count": 22,
   "metadata": {},
   "outputs": [
    {
     "name": "stderr",
     "output_type": "stream",
     "text": [
      "chown: invalid user: ‘vincent:staff’\n"
     ]
    },
    {
     "ename": "CalledProcessError",
     "evalue": "Command 'b'\\nchmod u+x 0x01-shell_permissions/100-change_owner_and_group\\nsource ./0x01-shell_permissions/100-change_owner_and_group\\n'' returned non-zero exit status 1.",
     "output_type": "error",
     "traceback": [
      "\u001b[0;31m---------------------------------------------------------------------------\u001b[0m",
      "\u001b[0;31mCalledProcessError\u001b[0m                        Traceback (most recent call last)",
      "Cell \u001b[0;32mIn[22], line 1\u001b[0m\n\u001b[0;32m----> 1\u001b[0m get_ipython()\u001b[38;5;241m.\u001b[39mrun_cell_magic(\u001b[38;5;124m'\u001b[39m\u001b[38;5;124mbash\u001b[39m\u001b[38;5;124m'\u001b[39m, \u001b[38;5;124m'\u001b[39m\u001b[38;5;124m'\u001b[39m, \u001b[38;5;124m'\u001b[39m\u001b[38;5;130;01m\\n\u001b[39;00m\u001b[38;5;124mchmod u+x 0x01-shell_permissions/100-change_owner_and_group\u001b[39m\u001b[38;5;130;01m\\n\u001b[39;00m\u001b[38;5;124msource ./0x01-shell_permissions/100-change_owner_and_group\u001b[39m\u001b[38;5;130;01m\\n\u001b[39;00m\u001b[38;5;124m'\u001b[39m)\n",
      "File \u001b[0;32m~/anaconda3/envs/cplayground/lib/python3.11/site-packages/IPython/core/interactiveshell.py:2517\u001b[0m, in \u001b[0;36mInteractiveShell.run_cell_magic\u001b[0;34m(self, magic_name, line, cell)\u001b[0m\n\u001b[1;32m   2515\u001b[0m \u001b[38;5;28;01mwith\u001b[39;00m \u001b[38;5;28mself\u001b[39m\u001b[38;5;241m.\u001b[39mbuiltin_trap:\n\u001b[1;32m   2516\u001b[0m     args \u001b[38;5;241m=\u001b[39m (magic_arg_s, cell)\n\u001b[0;32m-> 2517\u001b[0m     result \u001b[38;5;241m=\u001b[39m fn(\u001b[38;5;241m*\u001b[39margs, \u001b[38;5;241m*\u001b[39m\u001b[38;5;241m*\u001b[39mkwargs)\n\u001b[1;32m   2519\u001b[0m \u001b[38;5;66;03m# The code below prevents the output from being displayed\u001b[39;00m\n\u001b[1;32m   2520\u001b[0m \u001b[38;5;66;03m# when using magics with decorator @output_can_be_silenced\u001b[39;00m\n\u001b[1;32m   2521\u001b[0m \u001b[38;5;66;03m# when the last Python token in the expression is a ';'.\u001b[39;00m\n\u001b[1;32m   2522\u001b[0m \u001b[38;5;28;01mif\u001b[39;00m \u001b[38;5;28mgetattr\u001b[39m(fn, magic\u001b[38;5;241m.\u001b[39mMAGIC_OUTPUT_CAN_BE_SILENCED, \u001b[38;5;28;01mFalse\u001b[39;00m):\n",
      "File \u001b[0;32m~/anaconda3/envs/cplayground/lib/python3.11/site-packages/IPython/core/magics/script.py:154\u001b[0m, in \u001b[0;36mScriptMagics._make_script_magic.<locals>.named_script_magic\u001b[0;34m(line, cell)\u001b[0m\n\u001b[1;32m    152\u001b[0m \u001b[38;5;28;01melse\u001b[39;00m:\n\u001b[1;32m    153\u001b[0m     line \u001b[38;5;241m=\u001b[39m script\n\u001b[0;32m--> 154\u001b[0m \u001b[38;5;28;01mreturn\u001b[39;00m \u001b[38;5;28mself\u001b[39m\u001b[38;5;241m.\u001b[39mshebang(line, cell)\n",
      "File \u001b[0;32m~/anaconda3/envs/cplayground/lib/python3.11/site-packages/IPython/core/magics/script.py:314\u001b[0m, in \u001b[0;36mScriptMagics.shebang\u001b[0;34m(self, line, cell)\u001b[0m\n\u001b[1;32m    309\u001b[0m \u001b[38;5;28;01mif\u001b[39;00m args\u001b[38;5;241m.\u001b[39mraise_error \u001b[38;5;129;01mand\u001b[39;00m p\u001b[38;5;241m.\u001b[39mreturncode \u001b[38;5;241m!=\u001b[39m \u001b[38;5;241m0\u001b[39m:\n\u001b[1;32m    310\u001b[0m     \u001b[38;5;66;03m# If we get here and p.returncode is still None, we must have\u001b[39;00m\n\u001b[1;32m    311\u001b[0m     \u001b[38;5;66;03m# killed it but not yet seen its return code. We don't wait for it,\u001b[39;00m\n\u001b[1;32m    312\u001b[0m     \u001b[38;5;66;03m# in case it's stuck in uninterruptible sleep. -9 = SIGKILL\u001b[39;00m\n\u001b[1;32m    313\u001b[0m     rc \u001b[38;5;241m=\u001b[39m p\u001b[38;5;241m.\u001b[39mreturncode \u001b[38;5;129;01mor\u001b[39;00m \u001b[38;5;241m-\u001b[39m\u001b[38;5;241m9\u001b[39m\n\u001b[0;32m--> 314\u001b[0m     \u001b[38;5;28;01mraise\u001b[39;00m CalledProcessError(rc, cell)\n",
      "\u001b[0;31mCalledProcessError\u001b[0m: Command 'b'\\nchmod u+x 0x01-shell_permissions/100-change_owner_and_group\\nsource ./0x01-shell_permissions/100-change_owner_and_group\\n'' returned non-zero exit status 1."
     ]
    }
   ],
   "source": [
    "%%bash\n",
    "\n",
    "chmod u+x 0x01-shell_permissions/100-change_owner_and_group\n",
    "source ./0x01-shell_permissions/100-change_owner_and_group\n"
   ]
  },
  {
   "cell_type": "code",
   "execution_count": 23,
   "metadata": {},
   "outputs": [
    {
     "name": "stdout",
     "output_type": "stream",
     "text": [
      "[main d134f28] 0x01-shell_permissions/100-change_owner_and_group\n",
      " 2 files changed, 53 insertions(+), 33 deletions(-)\n",
      " create mode 100755 0x01-shell_permissions/100-change_owner_and_group\n"
     ]
    },
    {
     "name": "stderr",
     "output_type": "stream",
     "text": [
      "To https://github.com/elkomysara/alx-system_engineering-devops.git\n",
      "   048565d..d134f28  main -> main\n"
     ]
    }
   ],
   "source": [
    "%%bash\n",
    "git add .\n",
    "git commit -m \"0x01-shell_permissions/100-change_owner_and_group\"\n",
    "git push"
   ]
  },
  {
   "cell_type": "markdown",
   "metadata": {},
   "source": [
    "### \n",
    "\n",
    "\n",
    "---\n",
    "<center>\n",
    "<h4> 15. Symbolic links</h4>\n",
    "</center>\n",
    "\n",
    "---"
   ]
  },
  {
   "cell_type": "markdown",
   "metadata": {},
   "source": [
    "##### Write a script that changes the owner and the group owner of _hello to vincent and staff respectively.\n",
    "\n",
    "* The file _hello is in the working directory\n",
    "* The file _hello is a symbolic link\n",
    "\n",
    "```bash\n",
    "julien@ubuntu:/tmp/h$ ls -l\n",
    "total 24\n",
    "-rwxrwxr-x 1 julien julien   44 Sep 20 15:12 101-symbolic_link_permissions\n",
    "-rw-rw-r-- 1 julien julien   23 Sep 20 14:25 hello\n",
    "lrwxrwxrwx 1 julien julien    5 Sep 20 15:10 _hello -> hello\n",
    "julien@ubuntu:/tmp/h$ sudo ./101-symbolic_link_permissions \n",
    "julien@ubuntu:/tmp/h$ ls -l\n",
    "total 24\n",
    "-rwxrwxr-x 1 julien julien      44 Sep 20 15:12 101-symbolic_link_permissions\n",
    "-rw-rw-r-- 1 julien julien      23 Sep 20 14:25 hello\n",
    "lrwxrwxrwx 1 vincent  staff    5 Sep 20 15:10 _hello -> hello\n",
    "julien@ubuntu:/tmp/h$ \n",
    "```\n",
    "\n",
    "#### Repo:\n",
    "\n",
    "* GitHub repository: `alx-system_engineering-devops`\n",
    "* Directory: `0x01-shell_permissions`\n",
    "* File: `101-symbolic_link_permissions`"
   ]
  },
  {
   "cell_type": "code",
   "execution_count": 24,
   "metadata": {},
   "outputs": [
    {
     "name": "stdout",
     "output_type": "stream",
     "text": [
      "Writing 0x01-shell_permissions/101-symbolic_link_permissions\n"
     ]
    }
   ],
   "source": [
    "%%file 0x01-shell_permissions/101-symbolic_link_permissions\n",
    "#!/bin/bash\n",
    "chown -h vincent:staff _hello"
   ]
  },
  {
   "cell_type": "code",
   "execution_count": 27,
   "metadata": {},
   "outputs": [
    {
     "name": "stderr",
     "output_type": "stream",
     "text": [
      "chown: invalid user: ‘vincent:staff’\n"
     ]
    },
    {
     "ename": "CalledProcessError",
     "evalue": "Command 'b'chmod u+x  0x01-shell_permissions/101-symbolic_link_permissions\\nsource ./0x01-shell_permissions/101-symbolic_link_permissions\\n'' returned non-zero exit status 1.",
     "output_type": "error",
     "traceback": [
      "\u001b[0;31m---------------------------------------------------------------------------\u001b[0m",
      "\u001b[0;31mCalledProcessError\u001b[0m                        Traceback (most recent call last)",
      "Cell \u001b[0;32mIn[27], line 1\u001b[0m\n\u001b[0;32m----> 1\u001b[0m get_ipython()\u001b[38;5;241m.\u001b[39mrun_cell_magic(\u001b[38;5;124m'\u001b[39m\u001b[38;5;124mbash\u001b[39m\u001b[38;5;124m'\u001b[39m, \u001b[38;5;124m'\u001b[39m\u001b[38;5;124m'\u001b[39m, \u001b[38;5;124m'\u001b[39m\u001b[38;5;124mchmod u+x  0x01-shell_permissions/101-symbolic_link_permissions\u001b[39m\u001b[38;5;130;01m\\n\u001b[39;00m\u001b[38;5;124msource ./0x01-shell_permissions/101-symbolic_link_permissions\u001b[39m\u001b[38;5;130;01m\\n\u001b[39;00m\u001b[38;5;124m'\u001b[39m)\n",
      "File \u001b[0;32m~/anaconda3/envs/cplayground/lib/python3.11/site-packages/IPython/core/interactiveshell.py:2517\u001b[0m, in \u001b[0;36mInteractiveShell.run_cell_magic\u001b[0;34m(self, magic_name, line, cell)\u001b[0m\n\u001b[1;32m   2515\u001b[0m \u001b[38;5;28;01mwith\u001b[39;00m \u001b[38;5;28mself\u001b[39m\u001b[38;5;241m.\u001b[39mbuiltin_trap:\n\u001b[1;32m   2516\u001b[0m     args \u001b[38;5;241m=\u001b[39m (magic_arg_s, cell)\n\u001b[0;32m-> 2517\u001b[0m     result \u001b[38;5;241m=\u001b[39m fn(\u001b[38;5;241m*\u001b[39margs, \u001b[38;5;241m*\u001b[39m\u001b[38;5;241m*\u001b[39mkwargs)\n\u001b[1;32m   2519\u001b[0m \u001b[38;5;66;03m# The code below prevents the output from being displayed\u001b[39;00m\n\u001b[1;32m   2520\u001b[0m \u001b[38;5;66;03m# when using magics with decorator @output_can_be_silenced\u001b[39;00m\n\u001b[1;32m   2521\u001b[0m \u001b[38;5;66;03m# when the last Python token in the expression is a ';'.\u001b[39;00m\n\u001b[1;32m   2522\u001b[0m \u001b[38;5;28;01mif\u001b[39;00m \u001b[38;5;28mgetattr\u001b[39m(fn, magic\u001b[38;5;241m.\u001b[39mMAGIC_OUTPUT_CAN_BE_SILENCED, \u001b[38;5;28;01mFalse\u001b[39;00m):\n",
      "File \u001b[0;32m~/anaconda3/envs/cplayground/lib/python3.11/site-packages/IPython/core/magics/script.py:154\u001b[0m, in \u001b[0;36mScriptMagics._make_script_magic.<locals>.named_script_magic\u001b[0;34m(line, cell)\u001b[0m\n\u001b[1;32m    152\u001b[0m \u001b[38;5;28;01melse\u001b[39;00m:\n\u001b[1;32m    153\u001b[0m     line \u001b[38;5;241m=\u001b[39m script\n\u001b[0;32m--> 154\u001b[0m \u001b[38;5;28;01mreturn\u001b[39;00m \u001b[38;5;28mself\u001b[39m\u001b[38;5;241m.\u001b[39mshebang(line, cell)\n",
      "File \u001b[0;32m~/anaconda3/envs/cplayground/lib/python3.11/site-packages/IPython/core/magics/script.py:314\u001b[0m, in \u001b[0;36mScriptMagics.shebang\u001b[0;34m(self, line, cell)\u001b[0m\n\u001b[1;32m    309\u001b[0m \u001b[38;5;28;01mif\u001b[39;00m args\u001b[38;5;241m.\u001b[39mraise_error \u001b[38;5;129;01mand\u001b[39;00m p\u001b[38;5;241m.\u001b[39mreturncode \u001b[38;5;241m!=\u001b[39m \u001b[38;5;241m0\u001b[39m:\n\u001b[1;32m    310\u001b[0m     \u001b[38;5;66;03m# If we get here and p.returncode is still None, we must have\u001b[39;00m\n\u001b[1;32m    311\u001b[0m     \u001b[38;5;66;03m# killed it but not yet seen its return code. We don't wait for it,\u001b[39;00m\n\u001b[1;32m    312\u001b[0m     \u001b[38;5;66;03m# in case it's stuck in uninterruptible sleep. -9 = SIGKILL\u001b[39;00m\n\u001b[1;32m    313\u001b[0m     rc \u001b[38;5;241m=\u001b[39m p\u001b[38;5;241m.\u001b[39mreturncode \u001b[38;5;129;01mor\u001b[39;00m \u001b[38;5;241m-\u001b[39m\u001b[38;5;241m9\u001b[39m\n\u001b[0;32m--> 314\u001b[0m     \u001b[38;5;28;01mraise\u001b[39;00m CalledProcessError(rc, cell)\n",
      "\u001b[0;31mCalledProcessError\u001b[0m: Command 'b'chmod u+x  0x01-shell_permissions/101-symbolic_link_permissions\\nsource ./0x01-shell_permissions/101-symbolic_link_permissions\\n'' returned non-zero exit status 1."
     ]
    }
   ],
   "source": [
    "%%bash\n",
    "chmod u+x  0x01-shell_permissions/101-symbolic_link_permissions\n",
    "source ./0x01-shell_permissions/101-symbolic_link_permissions"
   ]
  },
  {
   "cell_type": "code",
   "execution_count": 28,
   "metadata": {},
   "outputs": [
    {
     "name": "stdout",
     "output_type": "stream",
     "text": [
      "[main de06374] 101\n",
      " 2 files changed, 45 insertions(+), 59 deletions(-)\n",
      " create mode 100755 0x01-shell_permissions/101-symbolic_link_permissions\n"
     ]
    },
    {
     "name": "stderr",
     "output_type": "stream",
     "text": [
      "To https://github.com/elkomysara/alx-system_engineering-devops.git\n",
      "   d134f28..de06374  main -> main\n"
     ]
    }
   ],
   "source": [
    "%%bash\n",
    "git add .\n",
    "git commit -m \"101\"\n",
    "git push"
   ]
  },
  {
   "cell_type": "markdown",
   "metadata": {},
   "source": [
    "### \n",
    "\n",
    "\n",
    "---\n",
    "<center>\n",
    "<h4> 16. If only</h4>\n",
    "</center>\n",
    "\n",
    "---"
   ]
  },
  {
   "cell_type": "markdown",
   "metadata": {},
   "source": [
    "##### Write a script that changes the owner of the file hello to betty only if it is owned by the user guillaume.\n",
    "\n",
    "* The file hello will be in the working directory\n",
    "\n",
    "\n",
    "```bash\n",
    "julien@ubuntu:/tmp/h$ ls -l\n",
    "total 24\n",
    "-rwxrwxr-x 1 julien    julien      47 Sep 20 15:18 102-if_only \n",
    "-rw-rw-r-- 1 guillaume julien      23 Sep 20 14:25 hello\n",
    "julien@ubuntu:/tmp/h$ sudo ./102-if_only \n",
    "julien@ubuntu:/tmp/h$ ls -l\n",
    "total 24\n",
    "-rwxrwxr-x 1 julien julien      47 Sep 20 15:18 102-if_only \n",
    "-rw-rw-r-- 1 betty  julien      23 Sep 20 14:25 hello\n",
    "julien@ubuntu:/tmp/h$  ```\n",
    "\n",
    "#### Repo:\n",
    "\n",
    "* GitHub repository: `alx-system_engineering-devops`\n",
    "* Directory: `0x01-shell_permissions`\n",
    "* File: `102-if_only`"
   ]
  },
  {
   "cell_type": "code",
   "execution_count": 29,
   "metadata": {},
   "outputs": [
    {
     "name": "stdout",
     "output_type": "stream",
     "text": [
      "Writing 0x01-shell_permissions/102-if_only\n"
     ]
    }
   ],
   "source": [
    "%%file 0x01-shell_permissions/102-if_only\n",
    "#!/bin/bash\n",
    "chown --from=guillaume betty hello"
   ]
  },
  {
   "cell_type": "code",
   "execution_count": 30,
   "metadata": {},
   "outputs": [
    {
     "name": "stderr",
     "output_type": "stream",
     "text": [
      "chown: invalid user: ‘guillaume’\n"
     ]
    },
    {
     "ename": "CalledProcessError",
     "evalue": "Command 'b'chmod u+x 0x01-shell_permissions/102-if_only\\nsource ./0x01-shell_permissions/102-if_only\\n'' returned non-zero exit status 1.",
     "output_type": "error",
     "traceback": [
      "\u001b[0;31m---------------------------------------------------------------------------\u001b[0m",
      "\u001b[0;31mCalledProcessError\u001b[0m                        Traceback (most recent call last)",
      "Cell \u001b[0;32mIn[30], line 1\u001b[0m\n\u001b[0;32m----> 1\u001b[0m get_ipython()\u001b[38;5;241m.\u001b[39mrun_cell_magic(\u001b[38;5;124m'\u001b[39m\u001b[38;5;124mbash\u001b[39m\u001b[38;5;124m'\u001b[39m, \u001b[38;5;124m'\u001b[39m\u001b[38;5;124m'\u001b[39m, \u001b[38;5;124m'\u001b[39m\u001b[38;5;124mchmod u+x 0x01-shell_permissions/102-if_only\u001b[39m\u001b[38;5;130;01m\\n\u001b[39;00m\u001b[38;5;124msource ./0x01-shell_permissions/102-if_only\u001b[39m\u001b[38;5;130;01m\\n\u001b[39;00m\u001b[38;5;124m'\u001b[39m)\n",
      "File \u001b[0;32m~/anaconda3/envs/cplayground/lib/python3.11/site-packages/IPython/core/interactiveshell.py:2517\u001b[0m, in \u001b[0;36mInteractiveShell.run_cell_magic\u001b[0;34m(self, magic_name, line, cell)\u001b[0m\n\u001b[1;32m   2515\u001b[0m \u001b[38;5;28;01mwith\u001b[39;00m \u001b[38;5;28mself\u001b[39m\u001b[38;5;241m.\u001b[39mbuiltin_trap:\n\u001b[1;32m   2516\u001b[0m     args \u001b[38;5;241m=\u001b[39m (magic_arg_s, cell)\n\u001b[0;32m-> 2517\u001b[0m     result \u001b[38;5;241m=\u001b[39m fn(\u001b[38;5;241m*\u001b[39margs, \u001b[38;5;241m*\u001b[39m\u001b[38;5;241m*\u001b[39mkwargs)\n\u001b[1;32m   2519\u001b[0m \u001b[38;5;66;03m# The code below prevents the output from being displayed\u001b[39;00m\n\u001b[1;32m   2520\u001b[0m \u001b[38;5;66;03m# when using magics with decorator @output_can_be_silenced\u001b[39;00m\n\u001b[1;32m   2521\u001b[0m \u001b[38;5;66;03m# when the last Python token in the expression is a ';'.\u001b[39;00m\n\u001b[1;32m   2522\u001b[0m \u001b[38;5;28;01mif\u001b[39;00m \u001b[38;5;28mgetattr\u001b[39m(fn, magic\u001b[38;5;241m.\u001b[39mMAGIC_OUTPUT_CAN_BE_SILENCED, \u001b[38;5;28;01mFalse\u001b[39;00m):\n",
      "File \u001b[0;32m~/anaconda3/envs/cplayground/lib/python3.11/site-packages/IPython/core/magics/script.py:154\u001b[0m, in \u001b[0;36mScriptMagics._make_script_magic.<locals>.named_script_magic\u001b[0;34m(line, cell)\u001b[0m\n\u001b[1;32m    152\u001b[0m \u001b[38;5;28;01melse\u001b[39;00m:\n\u001b[1;32m    153\u001b[0m     line \u001b[38;5;241m=\u001b[39m script\n\u001b[0;32m--> 154\u001b[0m \u001b[38;5;28;01mreturn\u001b[39;00m \u001b[38;5;28mself\u001b[39m\u001b[38;5;241m.\u001b[39mshebang(line, cell)\n",
      "File \u001b[0;32m~/anaconda3/envs/cplayground/lib/python3.11/site-packages/IPython/core/magics/script.py:314\u001b[0m, in \u001b[0;36mScriptMagics.shebang\u001b[0;34m(self, line, cell)\u001b[0m\n\u001b[1;32m    309\u001b[0m \u001b[38;5;28;01mif\u001b[39;00m args\u001b[38;5;241m.\u001b[39mraise_error \u001b[38;5;129;01mand\u001b[39;00m p\u001b[38;5;241m.\u001b[39mreturncode \u001b[38;5;241m!=\u001b[39m \u001b[38;5;241m0\u001b[39m:\n\u001b[1;32m    310\u001b[0m     \u001b[38;5;66;03m# If we get here and p.returncode is still None, we must have\u001b[39;00m\n\u001b[1;32m    311\u001b[0m     \u001b[38;5;66;03m# killed it but not yet seen its return code. We don't wait for it,\u001b[39;00m\n\u001b[1;32m    312\u001b[0m     \u001b[38;5;66;03m# in case it's stuck in uninterruptible sleep. -9 = SIGKILL\u001b[39;00m\n\u001b[1;32m    313\u001b[0m     rc \u001b[38;5;241m=\u001b[39m p\u001b[38;5;241m.\u001b[39mreturncode \u001b[38;5;129;01mor\u001b[39;00m \u001b[38;5;241m-\u001b[39m\u001b[38;5;241m9\u001b[39m\n\u001b[0;32m--> 314\u001b[0m     \u001b[38;5;28;01mraise\u001b[39;00m CalledProcessError(rc, cell)\n",
      "\u001b[0;31mCalledProcessError\u001b[0m: Command 'b'chmod u+x 0x01-shell_permissions/102-if_only\\nsource ./0x01-shell_permissions/102-if_only\\n'' returned non-zero exit status 1."
     ]
    }
   ],
   "source": [
    "%%bash\n",
    "chmod u+x 0x01-shell_permissions/102-if_only\n",
    "source ./0x01-shell_permissions/102-if_only\n"
   ]
  },
  {
   "cell_type": "code",
   "execution_count": 31,
   "metadata": {},
   "outputs": [
    {
     "name": "stdout",
     "output_type": "stream",
     "text": [
      "[main f7131c3] 102\n",
      " 2 files changed, 43 insertions(+), 39 deletions(-)\n",
      " create mode 100755 0x01-shell_permissions/102-if_only\n"
     ]
    },
    {
     "name": "stderr",
     "output_type": "stream",
     "text": [
      "To https://github.com/elkomysara/alx-system_engineering-devops.git\n",
      "   de06374..f7131c3  main -> main\n"
     ]
    }
   ],
   "source": [
    "%%bash\n",
    "git add .\n",
    "git commit -m \"102\"\n",
    "git push"
   ]
  },
  {
   "cell_type": "markdown",
   "metadata": {},
   "source": [
    "### \n",
    "\n",
    "\n",
    "---\n",
    "<center>\n",
    "<h4> 17. Star Wars</h4>\n",
    "</center>\n",
    "\n",
    "---"
   ]
  },
  {
   "cell_type": "markdown",
   "metadata": {},
   "source": [
    "##### Write a script that will play the StarWars IV episode in the terminal.\n",
    "\n",
    "\n",
    "#### Repo:\n",
    "\n",
    "* GitHub repository: `alx-system_engineering-devops`\n",
    "* Directory: `0x01-shell_permissions`\n",
    "* File: `103-Star_Wars`"
   ]
  },
  {
   "cell_type": "code",
   "execution_count": 13,
   "metadata": {},
   "outputs": [
    {
     "name": "stdout",
     "output_type": "stream",
     "text": [
      "Overwriting 0x01-shell_permissions/103-Star_Wars\n"
     ]
    }
   ],
   "source": [
    "%%file 0x01-shell_permissions/103-Star_Wars\n",
    "#!/bin/bash\n",
    "telnet towel.blinkenlights.nl"
   ]
  },
  {
   "cell_type": "code",
   "execution_count": 10,
   "metadata": {},
   "outputs": [
    {
     "name": "stdout",
     "output_type": "stream",
     "text": [
      "Overwriting 0x01-shell_permissions/103-Star_Wars\n"
     ]
    }
   ],
   "source": [
    "%%file 0x01-shell_permissions/103-Star_Wars\n",
    "#!/bin/bash\n",
    "telnet -6 towel.blinkenlights.nl"
   ]
  },
  {
   "cell_type": "code",
   "execution_count": 7,
   "metadata": {},
   "outputs": [
    {
     "name": "stdout",
     "output_type": "stream",
     "text": [
      "Overwriting 0x01-shell_permissions/103-Star_Wars\n"
     ]
    }
   ],
   "source": [
    "%%file 0x01-shell_permissions/103-Star_Wars\n",
    "#!/bin/bash\n",
    "telnet [2001:7b8:666:ffff::1:42]"
   ]
  },
  {
   "cell_type": "code",
   "execution_count": 11,
   "metadata": {},
   "outputs": [],
   "source": [
    "%%bash\n",
    "chmod u+x 0x01-shell_permissions/103-Star_Wars"
   ]
  },
  {
   "cell_type": "code",
   "execution_count": 12,
   "metadata": {},
   "outputs": [
    {
     "name": "stdout",
     "output_type": "stream",
     "text": [
      "Trying 2001:7b8:666:ffff::1:42...\n",
      "telnet: Unable to connect to remote host: Network is unreachable\n"
     ]
    }
   ],
   "source": [
    "!./0x01-shell_permissions/103-Star_Wars"
   ]
  },
  {
   "cell_type": "code",
   "execution_count": 14,
   "metadata": {},
   "outputs": [
    {
     "name": "stdout",
     "output_type": "stream",
     "text": [
      "[main b176dc5] StrarWars\n",
      " 2 files changed, 48 insertions(+), 14 deletions(-)\n",
      " delete mode 100755 0x01-shell_permissions/103-Stare_Wars\n"
     ]
    },
    {
     "name": "stderr",
     "output_type": "stream",
     "text": [
      "To https://github.com/elkomysara/alx-system_engineering-devops.git\n",
      "   0581e6e..b176dc5  main -> main\n"
     ]
    }
   ],
   "source": [
    "%%bash\n",
    "git add .\n",
    "git commit -m \"StrarWars\"\n",
    "git push"
   ]
  },
  {
   "cell_type": "code",
   "execution_count": null,
   "metadata": {},
   "outputs": [],
   "source": []
  }
 ],
 "metadata": {
  "kernelspec": {
   "display_name": "Python 3",
   "language": "python",
   "name": "python3"
  },
  "language_info": {
   "codemirror_mode": {
    "name": "ipython",
    "version": 3
   },
   "file_extension": ".py",
   "mimetype": "text/x-python",
   "name": "python",
   "nbconvert_exporter": "python",
   "pygments_lexer": "ipython3",
   "version": "3.11.7"
  }
 },
 "nbformat": 4,
 "nbformat_minor": 2
}
