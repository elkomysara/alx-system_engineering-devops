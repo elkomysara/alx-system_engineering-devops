{
 "cells": [
  {
   "cell_type": "markdown",
   "metadata": {},
   "source": [
    "---\n",
    "<center>\n",
    "<h1>  alx-system_engineering-devops </h1>\n",
    "</center>\n",
    "\n",
    "---\n"
   ]
  },
  {
   "cell_type": "code",
   "execution_count": 1,
   "metadata": {},
   "outputs": [
    {
     "name": "stdout",
     "output_type": "stream",
     "text": [
      "Overwriting README.md\n"
     ]
    }
   ],
   "source": [
    "%%file README.md\n",
    "\n",
    "## alx-system_engineering-devops/0x00-Shell_basics\n",
    "## alx-system_engineering-devops/0x01-Shell_permissions\n",
    "## alx-system_engineering-devops/0x02-Shell, I/O Redirections and filters\n",
    "## alx-system_engineering-devops/0x03-Shell, init files, variables and expansions\n"
   ]
  },
  {
   "cell_type": "code",
   "execution_count": 2,
   "metadata": {},
   "outputs": [
    {
     "data": {
      "text/plain": [
       "'/home/elkomy/alx-system_engineering-devops'"
      ]
     },
     "execution_count": 2,
     "metadata": {},
     "output_type": "execute_result"
    }
   ],
   "source": [
    "%pwd"
   ]
  },
  {
   "cell_type": "code",
   "execution_count": 1,
   "metadata": {},
   "outputs": [],
   "source": [
    "import os\n",
    "# creating 0x02-shell_redirectionss\n",
    "\n",
    "folder_path = r'/home/elkomy/alx-system_engineering-devops/0x03-Shell_variables_expansions'\n",
    "if not os.path.exists(folder_path):\n",
    "    os.makedirs(folder_path)\n",
    "\n",
    "# Create a README.md inside 0x03-Shell_variables_expansions\n",
    "file_path = os.path.join(folder_path, 'README.md')\n",
    "\n",
    "with open(file_path, 'w') as file:\n",
    "    file.write(\"This is a README.md file inside alx-system_engineering-devops/0x03-Shell_variables_expansions\")\n",
    "\n"
   ]
  },
  {
   "cell_type": "code",
   "execution_count": 2,
   "metadata": {},
   "outputs": [
    {
     "name": "stdout",
     "output_type": "stream",
     "text": [
      "Overwriting 0x03-Shell_variables_expansions/README.md\n"
     ]
    }
   ],
   "source": [
    "%%file 0x03-Shell_variables_expansions/README.md\n",
    "This is a README.md"
   ]
  },
  {
   "cell_type": "code",
   "execution_count": 3,
   "metadata": {},
   "outputs": [
    {
     "name": "stdout",
     "output_type": "stream",
     "text": [
      "[main f6bb29c] commiting README.md\n",
      " 4 files changed, 4243 insertions(+), 6 deletions(-)\n",
      " create mode 100644 0x03-Shell_variables_expansions/README.md\n",
      " create mode 100644 0x03-shell_variables_expansions.ipynb\n",
      "Enumerating objects: 9, done.\n",
      "Counting objects: 100% (9/9), done.\n",
      "Delta compression using up to 12 threads\n",
      "Compressing objects: 100% (5/5), done.\n",
      "Writing objects: 100% (6/6), 889 bytes | 889.00 KiB/s, done.\n",
      "Total 6 (delta 3), reused 1 (delta 0)\n",
      "remote: Resolving deltas: 100% (3/3), completed with 2 local objects.\u001b[K\n",
      "To https://github.com/elkomysara/alx-system_engineering-devops.git\n",
      "   d1b5740..f6bb29c  main -> main\n",
      "Branch 'main' set up to track remote branch 'main' from 'origin'.\n"
     ]
    }
   ],
   "source": [
    "\n",
    "!git add .\n",
    "!git commit -m \"commiting README.md\"\n",
    "!git push -u origin main"
   ]
  },
  {
   "cell_type": "code",
   "execution_count": 4,
   "metadata": {},
   "outputs": [
    {
     "name": "stdout",
     "output_type": "stream",
     "text": [
      "Already up to date.\n",
      "Everything up-to-date\n"
     ]
    }
   ],
   "source": [
    "!git pull\n",
    "!git push"
   ]
  },
  {
   "cell_type": "markdown",
   "metadata": {},
   "source": [
    "###\n",
    "---\n",
    "<center>\n",
    "<h1> 0x03. Shell, init files, variables and expansions  </h1>\n",
    "</center>\n",
    "\n",
    "---\n"
   ]
  },
  {
   "cell_type": "markdown",
   "metadata": {},
   "source": [
    "###\n",
    "---\n",
    "<center>\n",
    "<h4>  0. &lt;o&gt; </h4>\n",
    "</center>\n",
    "\n",
    "---"
   ]
  },
  {
   "cell_type": "markdown",
   "metadata": {},
   "source": [
    "\n",
    "#### WCreate a script that creates an alias.\n",
    "* Name: `ls`\n",
    "* Value: `rm *` \n",
    "\n",
    "```bash\n",
    "julien@ubuntu:/tmp/0x03$ ls\n",
    "0-alias  file1  file2\n",
    "julien@ubuntu:/tmp/0x03$ source ./0-alias \n",
    "julien@ubuntu:/tmp/0x03$ ls\n",
    "julien@ubuntu:/tmp/0x03$ \\ls\n",
    "julien@ubuntu:/tmp/0x03$  \n",
    "```\n",
    "\n",
    "\n",
    "#### Repo:\n",
    "* GitHub repository: ``` alx-system_engineering-devops ```\n",
    "* Directory: ```0x03-shell_variables_expansions``` \n",
    "* File: ``` 0-alias```"
   ]
  },
  {
   "cell_type": "code",
   "execution_count": 16,
   "metadata": {},
   "outputs": [
    {
     "name": "stdout",
     "output_type": "stream",
     "text": [
      "Writing 0x03-shell_variables_expansions/0-alias\n"
     ]
    }
   ],
   "source": [
    "%%file 0x03-shell_variables_expansions/0-alias\n",
    "#!/bin/bash\n",
    "alias ls='rm *'\n"
   ]
  },
  {
   "cell_type": "code",
   "execution_count": 2,
   "metadata": {},
   "outputs": [],
   "source": [
    "!chmod u+x 0x03-shell_variables_expansions/0-alias"
   ]
  },
  {
   "cell_type": "code",
   "execution_count": 17,
   "metadata": {},
   "outputs": [
    {
     "name": "stdout",
     "output_type": "stream",
     "text": [
      "#!/bin/bash$\n",
      "alias ls='rm *'$\n"
     ]
    }
   ],
   "source": [
    "!cat -e 0x03-shell_variables_expansions/0-alias"
   ]
  },
  {
   "cell_type": "code",
   "execution_count": 18,
   "metadata": {},
   "outputs": [],
   "source": [
    "# Dont you dare operate it \n",
    "#%%bash\n",
    "#./0x02-shell_redirections/0-hello_world | cat -e"
   ]
  },
  {
   "cell_type": "code",
   "execution_count": 19,
   "metadata": {},
   "outputs": [
    {
     "name": "stdout",
     "output_type": "stream",
     "text": [
      "[main e1f6ade] 0-alias\n",
      " 3 files changed, 45 insertions(+), 40 deletions(-)\n",
      " create mode 100644 0x03-shell_variables_expansions/0-alias\n",
      " rename {0x03-Shell_variables_expansions => 0x03-shell_variables_expansions}/README.md (100%)\n",
      "Enumerating objects: 7, done.\n",
      "Counting objects: 100% (7/7), done.\n",
      "Delta compression using up to 12 threads\n",
      "Compressing objects: 100% (4/4), done.\n",
      "Writing objects: 100% (5/5), 962 bytes | 962.00 KiB/s, done.\n",
      "Total 5 (delta 2), reused 0 (delta 0)\n",
      "remote: Resolving deltas: 100% (2/2), completed with 2 local objects.\u001b[K\n",
      "To https://github.com/elkomysara/alx-system_engineering-devops.git\n",
      "   f6bb29c..e1f6ade  main -> main\n",
      "Branch 'main' set up to track remote branch 'main' from 'origin'.\n"
     ]
    }
   ],
   "source": [
    "\n",
    "!git add .\n",
    "!git commit -m \"0-alias\"\n",
    "!git push -u origin main"
   ]
  },
  {
   "cell_type": "markdown",
   "metadata": {},
   "source": [
    "###\n",
    "---\n",
    "<center>\n",
    "<h4> 1. Hello you </h4>\n",
    "</center>\n",
    "\n",
    "---\n"
   ]
  },
  {
   "cell_type": "markdown",
   "metadata": {},
   "source": [
    "##### Create a script that prints `hello user`, where user is the current Linux user.\n",
    "```bash\n",
    "    julien@ubuntu:/tmp/0x03$ id\n",
    "    uid=1000(julien) gid=1000(julien) groups=1000(julien),4(adm),24(cdrom),27(sudo),30(dip),46(plugdev),113(lpadmin),128(sambashare)\n",
    "    julien@ubuntu:/tmp/0x03$ ./1-hello_you \n",
    "    hello julien\n",
    "    julien@ubuntu:/tmp/0x03$  \n",
    "```\n",
    "\n",
    "* Repo:\n",
    "\n",
    "    * GitHub repository: <code > alx-system_engineering-devops </code>\n",
    "    * Directory: <code > 0x03-shell_variables_expansions </code>\n",
    "    * File: <code >  File: 1-hello_you </code>\n",
    "   "
   ]
  },
  {
   "cell_type": "code",
   "execution_count": 20,
   "metadata": {},
   "outputs": [
    {
     "name": "stdout",
     "output_type": "stream",
     "text": [
      "Writing 0x03-shell_variables_expansions/1-hello_you\n"
     ]
    }
   ],
   "source": [
    "%%file 0x03-shell_variables_expansions/1-hello_you\n",
    "#!/bin/bash\n",
    "echo hello $USER"
   ]
  },
  {
   "cell_type": "code",
   "execution_count": 21,
   "metadata": {},
   "outputs": [],
   "source": [
    "!chmod u+x 0x03-shell_variables_expansions/1-hello_you"
   ]
  },
  {
   "cell_type": "code",
   "execution_count": 22,
   "metadata": {},
   "outputs": [
    {
     "name": "stdout",
     "output_type": "stream",
     "text": [
      "#!/bin/bash\n",
      "echo hello $USER\n"
     ]
    }
   ],
   "source": [
    "!cat 0x03-shell_variables_expansions/1-hello_you"
   ]
  },
  {
   "cell_type": "code",
   "execution_count": 23,
   "metadata": {},
   "outputs": [
    {
     "name": "stdout",
     "output_type": "stream",
     "text": [
      "hello elkomy\n"
     ]
    }
   ],
   "source": [
    "!./0x03-shell_variables_expansions/1-hello_you"
   ]
  },
  {
   "cell_type": "code",
   "execution_count": 24,
   "metadata": {},
   "outputs": [
    {
     "name": "stdout",
     "output_type": "stream",
     "text": [
      "[main bf07d98] 0x03-shell_variables_expansions/1-hello_you\n",
      " 2 files changed, 34 insertions(+), 28 deletions(-)\n",
      " create mode 100755 0x03-shell_variables_expansions/1-hello_you\n",
      "Enumerating objects: 8, done.\n",
      "Counting objects: 100% (8/8), done.\n",
      "Delta compression using up to 12 threads\n",
      "Compressing objects: 100% (4/4), done.\n",
      "Writing objects: 100% (5/5), 1.02 KiB | 1.02 MiB/s, done.\n",
      "Total 5 (delta 2), reused 0 (delta 0)\n",
      "remote: Resolving deltas: 100% (2/2), completed with 2 local objects.\u001b[K\n",
      "To https://github.com/elkomysara/alx-system_engineering-devops.git\n",
      "   e1f6ade..bf07d98  main -> main\n",
      "Branch 'main' set up to track remote branch 'main' from 'origin'.\n"
     ]
    }
   ],
   "source": [
    "\n",
    "!git add .\n",
    "!git commit -m \"0x03-shell_variables_expansions/1-hello_you\"\n",
    "!git push -u origin main"
   ]
  },
  {
   "cell_type": "markdown",
   "metadata": {},
   "source": [
    "###\n",
    "---\n",
    "<center>\n",
    "<h4> 2. The path to success is to take massive, determined action </h4>\n",
    "</center>\n",
    "\n",
    "---"
   ]
  },
  {
   "cell_type": "markdown",
   "metadata": {},
   "source": [
    "#### Add `/action` to the `PATH`. `/action` should be the last directory the shell looks into when looking for a program.\n",
    "\n",
    "```bash\n",
    "julien@ubuntu:/tmp/0x03$ echo $PATH\n",
    "/home/julien/bin:/home/julien/.local/bin:/usr/local/sbin:/usr/local/bin:/usr/sbin:/usr/bin:/sbin:/bin:/usr/games:/usr/local/games:/snap/bin\n",
    "julien@ubuntu:/tmp/0x03$ source ./2-path \n",
    "julien@ubuntu:/tmp/0x03$ echo $PATH\n",
    "/home/julien/bin:/home/julien/.local/bin:/usr/local/sbin:/usr/local/bin:/usr/sbin:/usr/bin:/sbin:/bin:/usr/games:/usr/local/games:/snap/bin:/action\n",
    "julien@ubuntu:/tmp/0x03$ \n",
    "```\n",
    "\n",
    "\n",
    "#### Repo:\n",
    "* GitHub repository:   <code>alx-system_engineering-devops </code>\n",
    "* Directory:   <code> 0x03-shell_variables_expansions </code>\n",
    "* File:   <code> 2-path</code>"
   ]
  },
  {
   "cell_type": "code",
   "execution_count": 25,
   "metadata": {},
   "outputs": [
    {
     "name": "stdout",
     "output_type": "stream",
     "text": [
      "Writing 0x03-shell_variables_expansions/2-path\n"
     ]
    }
   ],
   "source": [
    "%%file 0x03-shell_variables_expansions/2-path\n",
    "#!/bin/bash\n",
    "export PATH=\"$PATH:/action\""
   ]
  },
  {
   "cell_type": "code",
   "execution_count": 26,
   "metadata": {},
   "outputs": [],
   "source": [
    "!chmod u+x 0x03-shell_variables_expansions/2-path"
   ]
  },
  {
   "cell_type": "code",
   "execution_count": 27,
   "metadata": {},
   "outputs": [
    {
     "name": "stdout",
     "output_type": "stream",
     "text": [
      "[main 67ac465] 0x02-shell_redirections/2-hellofile\n",
      " 2 files changed, 26 insertions(+), 51 deletions(-)\n",
      " create mode 100755 0x03-shell_variables_expansions/2-path\n",
      "Enumerating objects: 8, done.\n",
      "Counting objects: 100% (8/8), done.\n",
      "Delta compression using up to 12 threads\n",
      "Compressing objects: 100% (4/4), done.\n",
      "Writing objects: 100% (5/5), 1.00 KiB | 1.00 MiB/s, done.\n",
      "Total 5 (delta 2), reused 0 (delta 0)\n",
      "remote: Resolving deltas: 100% (2/2), completed with 2 local objects.\u001b[K\n",
      "To https://github.com/elkomysara/alx-system_engineering-devops.git\n",
      "   bf07d98..67ac465  main -> main\n",
      "Branch 'main' set up to track remote branch 'main' from 'origin'.\n"
     ]
    }
   ],
   "source": [
    "!git add .\n",
    "!git commit -m \"0x02-shell_redirections/2-hellofile\"\n",
    "!git push -u origin main"
   ]
  },
  {
   "cell_type": "markdown",
   "metadata": {},
   "source": [
    "###\n",
    "---\n",
    "<center>\n",
    "<h4> 3. If the path be beautiful, let us not ask where it leads</h4>\n",
    "</center>\n",
    "\n",
    "---"
   ]
  },
  {
   "cell_type": "markdown",
   "metadata": {},
   "source": [
    "#### Create a script that counts the number of directories in the `PATH`.\n",
    "```bash\n",
    "julien@ubuntu:/tmp/0x03$ echo $PATH\n",
    "/home/julien/bin:/home/julien/.local/bin:/usr/local/sbin:/usr/local/bin:/usr/sbin:/usr/bin:/sbin:/bin:/usr/games:/usr/local/games:/snap/bin\n",
    "julien@ubuntu:/tmp/0x03$ . ./3-paths \n",
    "11\n",
    "julien@ubuntu:/tmp/0x03$ PATH=/home/julien/bin:/home/julien/.local/bin:/usr/local/sbin:/usr/local/bin:/usr/sbin:/usr/bin:/sbin:/bin:/usr/games:/usr/local/games:/snap/bin:::::/hello\n",
    "julien@ubuntu:/tmp/0x03$ . ./3-paths \n",
    "12\n",
    "julien@ubuntu:/tmp/0x03$ \n",
    "```\n",
    "\n",
    "\n",
    "#### Repo:\n",
    "* GitHub repository: `alx-system_engineering-devops`\n",
    "* Directory: `0x03-shell_variables_expansions`\n",
    "* File: `3-paths`"
   ]
  },
  {
   "cell_type": "code",
   "execution_count": 31,
   "metadata": {},
   "outputs": [
    {
     "name": "stdout",
     "output_type": "stream",
     "text": [
      "Overwriting 0x03-shell_variables_expansions/3-paths\n"
     ]
    }
   ],
   "source": [
    "%%file 0x03-shell_variables_expansions/3-paths\n",
    "#!/bin/bash\n",
    "echo $PATH | tr \":\" \"\\n\" | wc -l"
   ]
  },
  {
   "cell_type": "code",
   "execution_count": 32,
   "metadata": {},
   "outputs": [],
   "source": [
    "%%bash\n",
    "chmod u+x 0x03-shell_variables_expansions/3-paths"
   ]
  },
  {
   "cell_type": "code",
   "execution_count": 33,
   "metadata": {},
   "outputs": [
    {
     "name": "stdout",
     "output_type": "stream",
     "text": [
      "#!/bin/bash\n",
      "echo $PATH | tr \":\" \"\\n\" | wc -l\n"
     ]
    }
   ],
   "source": [
    "!cat 0x03-shell_variables_expansions/3-paths"
   ]
  },
  {
   "cell_type": "code",
   "execution_count": 34,
   "metadata": {},
   "outputs": [
    {
     "name": "stdout",
     "output_type": "stream",
     "text": [
      "77\n"
     ]
    }
   ],
   "source": [
    "!./0x03-shell_variables_expansions/3-paths"
   ]
  },
  {
   "cell_type": "code",
   "execution_count": 35,
   "metadata": {},
   "outputs": [
    {
     "name": "stdout",
     "output_type": "stream",
     "text": [
      "[main f100cd9] 0x02-shell_redirections/3-twofiles\n",
      " 2 files changed, 28 insertions(+), 167 deletions(-)\n",
      " create mode 100755 0x03-shell_variables_expansions/3-paths\n",
      "Enumerating objects: 8, done.\n",
      "Counting objects: 100% (8/8), done.\n",
      "Delta compression using up to 12 threads\n",
      "Compressing objects: 100% (4/4), done.\n",
      "Writing objects: 100% (5/5), 842 bytes | 842.00 KiB/s, done.\n",
      "Total 5 (delta 3), reused 0 (delta 0)\n",
      "remote: Resolving deltas: 100% (3/3), completed with 3 local objects.\u001b[K\n",
      "To https://github.com/elkomysara/alx-system_engineering-devops.git\n",
      "   67ac465..f100cd9  main -> main\n",
      "Branch 'main' set up to track remote branch 'main' from 'origin'.\n"
     ]
    }
   ],
   "source": [
    "!git add .\n",
    "!git commit -m \"0x02-shell_redirections/3-twofiles\"\n",
    "!git push -u origin main"
   ]
  },
  {
   "cell_type": "markdown",
   "metadata": {},
   "source": [
    "### \n",
    "\n",
    "\n",
    "---\n",
    "<center>\n",
    "<h4> 4. Global variables</h4>\n",
    "</center>\n",
    "\n",
    "---"
   ]
  },
  {
   "cell_type": "markdown",
   "metadata": {},
   "source": [
    "#### Create a script that lists environment variables.\n",
    "```bash\n",
    "julien@ubuntu:/tmp/0x03$ source ./4-global_variables\n",
    "CC=gcc\n",
    "CDPATH=.:~:/usr/local:/usr:/\n",
    "CFLAGS=-O2 -fomit-frame-pointer\n",
    "COLORTERM=gnome-terminal\n",
    "CXXFLAGS=-O2 -fomit-frame-pointer\n",
    "DISPLAY=:0\n",
    "DOMAIN=hq.garrels.be\n",
    "e=\n",
    "TOR=vi\n",
    "FCEDIT=vi\n",
    "FIGNORE=.o:~\n",
    "G_BROKEN_FILENAMES=1\n",
    "GDK_USE_XFT=1\n",
    "GDMSESSION=Default\n",
    "GNOME_DESKTOP_SESSION_ID=Default\n",
    "GTK_RC_FILES=/etc/gtk/gtkrc:/nethome/franky/.gtkrc-1.2-gnome2\n",
    "GWMCOLOR=darkgreen\n",
    "GWMTERM=xterm\n",
    "HISTFILESIZE=5000\n",
    "history_control=ignoredups\n",
    "HISTSIZE=2000\n",
    "HOME=/nethome/franky\n",
    "HOSTNAME=octarine.hq.garrels.be\n",
    "INPUTRC=/etc/inputrc\n",
    "IRCNAME=franky\n",
    "JAVA_HOME=/usr/java/j2sdk1.4.0\n",
    "LANG=en_US\n",
    "LDFLAGS=-s\n",
    "LD_LIBRARY_PATH=/usr/lib/mozilla:/usr/lib/mozilla/plugins\n",
    "LESSCHARSET=latin1\n",
    "LESS=-edfMQ\n",
    "LESSOPEN=|/usr/bin/lesspipe.sh %s\n",
    "LEX=flex\n",
    "LOCAL_MACHINE=octarine\n",
    "LOGNAME=franky\n",
    "[...]\n",
    "julien@ubuntu:/tmp/0x03$ \n",
    "```\n",
    "\n",
    "#### Repo:\n",
    "* GitHub repository: `alx-system_engineering-devops`\n",
    "* Directory: `0x03-shell_variables_expansions`\n",
    "* File: `4-global_variables`"
   ]
  },
  {
   "cell_type": "code",
   "execution_count": 42,
   "metadata": {},
   "outputs": [
    {
     "name": "stdout",
     "output_type": "stream",
     "text": [
      "Writing 0x03-shell_variables_expansions/4-global_variables\n"
     ]
    }
   ],
   "source": [
    "%%file 0x03-shell_variables_expansions/4-global_variables\n",
    "#!/bin/bash\n",
    "env"
   ]
  },
  {
   "cell_type": "code",
   "execution_count": 43,
   "metadata": {},
   "outputs": [],
   "source": [
    "!chmod u+x 0x03-shell_variables_expansions/4-global_variables"
   ]
  },
  {
   "cell_type": "code",
   "execution_count": 44,
   "metadata": {},
   "outputs": [
    {
     "name": "stdout",
     "output_type": "stream",
     "text": [
      "#!/bin/bash\n",
      "env\n"
     ]
    }
   ],
   "source": [
    "!cat 0x03-shell_variables_expansions/4-global_variables"
   ]
  },
  {
   "cell_type": "code",
   "execution_count": 45,
   "metadata": {},
   "outputs": [
    {
     "name": "stdout",
     "output_type": "stream",
     "text": [
      "SHELL=/bin/bash\n",
      "PYTHONUNBUFFERED=1\n",
      "WSL2_GUI_APPS_ENABLED=1\n",
      "CONDA_EXE=/home/elkomy/anaconda3/bin/conda\n",
      "_CE_M=\n",
      "WSL_DISTRO_NAME=Ubuntu-20.04\n",
      "ELECTRON_RUN_AS_NODE=1\n",
      "VSCODE_AMD_ENTRYPOINT=vs/workbench/api/node/extensionHostProcess\n",
      "NAME=elkomy\n",
      "PWD=/home/elkomy/alx-system_engineering-devops\n",
      "LOGNAME=elkomy\n",
      "CONDA_PREFIX=/home/elkomy/anaconda3\n",
      "PYDEVD_IPYTHON_COMPATIBLE_DEBUGGING=1\n",
      "_=/usr/bin/env\n",
      "MOTD_SHOWN=update-motd\n",
      "HOME=/home/elkomy\n",
      "LANG=C.UTF-8\n",
      "WSL_INTEROP=/run/WSL/544_interop\n",
      "LS_COLORS=rs=0:di=01;34:ln=01;36:mh=00:pi=40;33:so=01;35:do=01;35:bd=40;33;01:cd=40;33;01:or=40;31;01:mi=00:su=37;41:sg=30;43:ca=30;41:tw=30;42:ow=34;42:st=37;44:ex=01;32:*.tar=01;31:*.tgz=01;31:*.arc=01;31:*.arj=01;31:*.taz=01;31:*.lha=01;31:*.lz4=01;31:*.lzh=01;31:*.lzma=01;31:*.tlz=01;31:*.txz=01;31:*.tzo=01;31:*.t7z=01;31:*.zip=01;31:*.z=01;31:*.dz=01;31:*.gz=01;31:*.lrz=01;31:*.lz=01;31:*.lzo=01;31:*.xz=01;31:*.zst=01;31:*.tzst=01;31:*.bz2=01;31:*.bz=01;31:*.tbz=01;31:*.tbz2=01;31:*.tz=01;31:*.deb=01;31:*.rpm=01;31:*.jar=01;31:*.war=01;31:*.ear=01;31:*.sar=01;31:*.rar=01;31:*.alz=01;31:*.ace=01;31:*.zoo=01;31:*.cpio=01;31:*.7z=01;31:*.rz=01;31:*.cab=01;31:*.wim=01;31:*.swm=01;31:*.dwm=01;31:*.esd=01;31:*.jpg=01;35:*.jpeg=01;35:*.mjpg=01;35:*.mjpeg=01;35:*.gif=01;35:*.bmp=01;35:*.pbm=01;35:*.pgm=01;35:*.ppm=01;35:*.tga=01;35:*.xbm=01;35:*.xpm=01;35:*.tif=01;35:*.tiff=01;35:*.png=01;35:*.svg=01;35:*.svgz=01;35:*.mng=01;35:*.pcx=01;35:*.mov=01;35:*.mpg=01;35:*.mpeg=01;35:*.m2v=01;35:*.mkv=01;35:*.webm=01;35:*.ogm=01;35:*.mp4=01;35:*.m4v=01;35:*.mp4v=01;35:*.vob=01;35:*.qt=01;35:*.nuv=01;35:*.wmv=01;35:*.asf=01;35:*.rm=01;35:*.rmvb=01;35:*.flc=01;35:*.avi=01;35:*.fli=01;35:*.flv=01;35:*.gl=01;35:*.dl=01;35:*.xcf=01;35:*.xwd=01;35:*.yuv=01;35:*.cgm=01;35:*.emf=01;35:*.ogv=01;35:*.ogx=01;35:*.aac=00;36:*.au=00;36:*.flac=00;36:*.m4a=00;36:*.mid=00;36:*.midi=00;36:*.mka=00;36:*.mp3=00;36:*.mpc=00;36:*.ogg=00;36:*.ra=00;36:*.wav=00;36:*.oga=00;36:*.opus=00;36:*.spx=00;36:*.xspf=00;36:\n",
      "WAYLAND_DISPLAY=wayland-0\n",
      "FORCE_COLOR=1\n",
      "CONDA_PROMPT_MODIFIER=(base) \n",
      "PYDEVD_USE_FRAME_EVAL=NO\n",
      "CLICOLOR=1\n",
      "CLICOLOR_FORCE=1\n",
      "LESSCLOSE=/usr/bin/lesspipe %s %s\n",
      "VSCODE_HANDLES_SIGPIPE=true\n",
      "TERM=xterm-color\n",
      "_CE_CONDA=\n",
      "LESSOPEN=| /usr/bin/lesspipe %s\n",
      "USER=elkomy\n",
      "GIT_PAGER=cat\n",
      "PYTHONIOENCODING=utf-8\n",
      "CONDA_SHLVL=1\n",
      "DISPLAY=:0\n",
      "SHLVL=1\n",
      "PAGER=cat\n",
      "VSCODE_CWD=/mnt/c/Users/komy2/AppData/Local/Programs/Microsoft VS Code\n",
      "MPLBACKEND=module://matplotlib_inline.backend_inline\n",
      "CONDA_PYTHON_EXE=/home/elkomy/anaconda3/bin/python\n",
      "XDG_RUNTIME_DIR=/run/user/1000/\n",
      "CONDA_DEFAULT_ENV=base\n",
      "WSLENV=VSCODE_WSL_EXT_LOCATION/up\n",
      "VSCODE_WSL_EXT_LOCATION=/mnt/c/Users/komy2/.vscode/extensions/ms-vscode-remote.remote-wsl-0.88.0\n",
      "XDG_DATA_DIRS=/usr/local/share:/usr/share:/var/lib/snapd/desktop\n",
      "PATH=/home/elkomy/anaconda3/envs/cplayground/bin:/home/elkomy/.vscode-server/bin/5c3e652f63e798a5ac2f31ffd0d863669328dc4c/bin/remote-cli:/home/elkomy/anaconda3/bin:/home/elkomy/anaconda3/condabin:/usr/local/sbin:/usr/local/bin:/usr/sbin:/usr/bin:/sbin:/bin:/usr/games:/usr/local/games:/usr/lib/wsl/lib:/mnt/c/Program Files (x86)/Common Files/Oracle/Java/javapath:/mnt/c/GAMS/44:/mnt/c/GAMS/44/gbin:/mnt/c/WINDOWS/system32:/mnt/c/WINDOWS:/mnt/c/WINDOWS/System32/Wbem:/mnt/c/WINDOWS/System32/WindowsPowerShell/v1.0:/mnt/c/WINDOWS/System32/OpenSSH:/mnt/c/Program Files/Java/jdk-1.8/bin:/mnt/c/Program Files/Calibre2:/mnt/c/msys64/mingw64/bin:/mnt/c/ProgramData/chocolatey/bin:/mnt/c/Program Files/PowerShell/7:/mnt/c/Program Files/PowerShell/7-preview/preview:/mnt/c/Program Files/Git/cmd:/mnt/c/Users/komy2/.pyenv/pyenv-win/bin:/mnt/c/Users/komy2/.pyenv/pyenv-win/shims:/mnt/c/Users/komy2/anaconda3:/mnt/c/Users/komy2/anaconda3/Library/mingw-w64/bin:/mnt/c/Users/komy2/anaconda3/Library/usr/bin:/mnt/c/Users/komy2/anaconda3/Library/bin:/mnt/c/Users/komy2/anaconda3/Scripts:/mnt/c/Users/komy2/AppData/Local/Microsoft/WindowsApps:/mnt/c/Users/komy2/AppData/Local/Programs/Microsoft VS Code/bin:/mnt/c/msys64/usr/bin:/snap/bin:/home/elkomy/.vscode-server/bin/5c3e652f63e798a5ac2f31ffd0d863669328dc4c/bin/remote-cli:/home/elkomy/anaconda3/bin:/home/elkomy/anaconda3/condabin:/usr/local/sbin:/usr/local/bin:/usr/sbin:/usr/bin:/sbin:/bin:/usr/games:/usr/local/games:/usr/lib/wsl/lib:/mnt/c/Program Files (x86)/Common Files/Oracle/Java/javapath:/mnt/c/GAMS/44:/mnt/c/GAMS/44/gbin:/mnt/c/WINDOWS/system32:/mnt/c/WINDOWS:/mnt/c/WINDOWS/System32/Wbem:/mnt/c/WINDOWS/System32/WindowsPowerShell/v1.0:/mnt/c/WINDOWS/System32/OpenSSH:/mnt/c/Program Files/Java/jdk-1.8/bin:/mnt/c/Program Files/Calibre2:/mnt/c/msys64/mingw64/bin:/mnt/c/ProgramData/chocolatey/bin:/mnt/c/Program Files/PowerShell/7:/mnt/c/Program Files/PowerShell/7-preview/preview:/mnt/c/Program Files/Git/cmd:/mnt/c/Users/komy2/.pyenv/pyenv-win/bin:/mnt/c/Users/komy2/.pyenv/pyenv-win/shims:/mnt/c/Users/komy2/anaconda3:/mnt/c/Users/komy2/anaconda3/Library/mingw-w64/bin:/mnt/c/Users/komy2/anaconda3/Library/usr/bin:/mnt/c/Users/komy2/anaconda3/Library/bin:/mnt/c/Users/komy2/anaconda3/Scripts:/mnt/c/Users/komy2/AppData/Local/Microsoft/WindowsApps:/mnt/c/Users/komy2/AppData/Local/Programs/Microsoft VS Code/bin:/mnt/c/msys64/usr/bin:/snap/bin\n",
      "DBUS_SESSION_BUS_ADDRESS=unix:path=/run/user/1000/bus\n",
      "VSCODE_NLS_CONFIG={\"locale\":\"en\",\"osLocale\":\"en\",\"availableLanguages\":{}}\n",
      "HOSTTYPE=x86_64\n",
      "PULSE_SERVER=unix:/mnt/wslg/PulseServer\n",
      "VSCODE_HANDLES_UNCAUGHT_ERRORS=true\n",
      "VSCODE_IPC_HOOK_CLI=/run/user/1000/vscode-ipc-fbaec959-bd3d-40a2-af3c-04cb827617f1.sock\n"
     ]
    }
   ],
   "source": [
    "!source ./0x03-shell_variables_expansions/4-global_variables"
   ]
  },
  {
   "cell_type": "code",
   "execution_count": 46,
   "metadata": {},
   "outputs": [
    {
     "name": "stdout",
     "output_type": "stream",
     "text": [
      "[main dd5bf16] 0x02-shell_redirections/4-lastlines\n",
      " 2 files changed, 72 insertions(+), 33 deletions(-)\n",
      " create mode 100755 0x03-shell_variables_expansions/4-global_variables\n",
      "Enumerating objects: 8, done.\n",
      "Counting objects: 100% (8/8), done.\n",
      "Delta compression using up to 12 threads\n",
      "Compressing objects: 100% (4/4), done.\n",
      "Writing objects: 100% (5/5), 2.52 KiB | 860.00 KiB/s, done.\n",
      "Total 5 (delta 3), reused 0 (delta 0)\n",
      "remote: Resolving deltas: 100% (3/3), completed with 3 local objects.\u001b[K\n",
      "To https://github.com/elkomysara/alx-system_engineering-devops.git\n",
      "   20c434d..dd5bf16  main -> main\n",
      "Branch 'main' set up to track remote branch 'main' from 'origin'.\n"
     ]
    }
   ],
   "source": [
    "!git add .\n",
    "!git commit -m \"0x02-shell_redirections/4-lastlines\"\n",
    "!git push -u origin main"
   ]
  },
  {
   "cell_type": "markdown",
   "metadata": {},
   "source": [
    "### \n",
    "\n",
    "\n",
    "---\n",
    "<center>\n",
    "<h4> 5. Local variables</h4>\n",
    "</center>\n",
    "\n",
    "---"
   ]
  },
  {
   "cell_type": "markdown",
   "metadata": {},
   "source": [
    "##### Create a script that lists all local variables and environment varaibles, and functions.\n",
    "\n",
    "\n",
    "```bash\n",
    "julien@ubuntu:/tmp/0x03$ . ./5-local_variables\n",
    "BASH=/bin/bash\n",
    "BASHOPTS=checkwinsize:cmdhist:complete_fullquote:expand_aliases:extglob:extquote:force_fignore:histappend:interactive_comments:progcomp:promptvars:sourcepath\n",
    "BASH_ALIASES=()\n",
    "BASH_ARGC=()\n",
    "BASH_ARGV=()\n",
    "BASH_CMDS=()\n",
    "BASH_COMPLETION_COMPAT_DIR=/etc/bash_completion.d\n",
    "BASH_LINENO=()\n",
    "BASH_REMATCH=()\n",
    "BASH_SOURCE=()\n",
    "BASH_VERSINFO=([0]=\"4\" [1]=\"3\" [2]=\"46\" [3]=\"1\" [4]=\"release\" [5]=\"x86_64-pc-linux-gnu\")\n",
    "BASH_VERSION='4.3.46(1)-release'\n",
    "CLUTTER_IM_MODULE=xim\n",
    "COLUMNS=133\n",
    "COMPIZ_CONFIG_PROFILE=ubuntu\n",
    "COMP_WORDBREAKS=$' \\t\\n\"\\'><=;|&(:'\n",
    "DBUS_SESSION_BUS_ADDRESS=unix:abstract=/tmp/dbus-Fg27Lr20bq\n",
    "DEFAULTS_PATH=/usr/share/gconf/ubuntu.default.path\n",
    "DESKTOP_SESSION=ubuntu\n",
    "[...]\n",
    "julien@ubuntu:/tmp/0x03$ \n",
    "```\n",
    "\n",
    "##### Repo:\n",
    "\n",
    "* GitHub repository: `alx-system_engineering-devops`\n",
    "* Directory: `0x03-shell_variables_expansions`\n",
    "* File: `5-local_variables`"
   ]
  },
  {
   "cell_type": "code",
   "execution_count": 47,
   "metadata": {},
   "outputs": [
    {
     "name": "stdout",
     "output_type": "stream",
     "text": [
      "Writing 0x03-shell_variables_expansions/5-local_variables\n"
     ]
    }
   ],
   "source": [
    "%%file 0x03-shell_variables_expansions/5-local_variables\n",
    "#!/bin/bash\n",
    "declare"
   ]
  },
  {
   "cell_type": "code",
   "execution_count": 48,
   "metadata": {},
   "outputs": [
    {
     "name": "stdout",
     "output_type": "stream",
     "text": [
      "BASH=/bin/bash\n",
      "BASHOPTS=checkwinsize:cmdhist:complete_fullquote:extquote:force_fignore:globasciiranges:hostcomplete:interactive_comments:progcomp:promptvars:sourcepath\n",
      "BASH_ALIASES=()\n",
      "BASH_ARGC=()\n",
      "BASH_ARGV=()\n",
      "BASH_CMDS=()\n",
      "BASH_LINENO=([0]=\"0\")\n",
      "BASH_SOURCE=([0]=\"./0x03-shell_variables_expansions/5-local_variables\")\n",
      "BASH_VERSINFO=([0]=\"5\" [1]=\"0\" [2]=\"17\" [3]=\"1\" [4]=\"release\" [5]=\"x86_64-pc-linux-gnu\")\n",
      "BASH_VERSION='5.0.17(1)-release'\n",
      "CLICOLOR=1\n",
      "CLICOLOR_FORCE=1\n",
      "CONDA_DEFAULT_ENV=base\n",
      "CONDA_EXE=/home/elkomy/anaconda3/bin/conda\n",
      "CONDA_PREFIX=/home/elkomy/anaconda3\n",
      "CONDA_PROMPT_MODIFIER='(base) '\n",
      "CONDA_PYTHON_EXE=/home/elkomy/anaconda3/bin/python\n",
      "CONDA_SHLVL=1\n",
      "DBUS_SESSION_BUS_ADDRESS=unix:path=/run/user/1000/bus\n",
      "DIRSTACK=()\n",
      "DISPLAY=:0\n",
      "ELECTRON_RUN_AS_NODE=1\n",
      "EUID=1000\n",
      "FORCE_COLOR=1\n",
      "GIT_PAGER=cat\n",
      "GROUPS=()\n",
      "HOME=/home/elkomy\n",
      "HOSTNAME=elkomy\n",
      "HOSTTYPE=x86_64\n",
      "IFS=$' \\t\\n'\n",
      "LANG=C.UTF-8\n",
      "LESSCLOSE='/usr/bin/lesspipe %s %s'\n",
      "LESSOPEN='| /usr/bin/lesspipe %s'\n",
      "LOGNAME=elkomy\n",
      "LS_COLORS='rs=0:di=01;34:ln=01;36:mh=00:pi=40;33:so=01;35:do=01;35:bd=40;33;01:cd=40;33;01:or=40;31;01:mi=00:su=37;41:sg=30;43:ca=30;41:tw=30;42:ow=34;42:st=37;44:ex=01;32:*.tar=01;31:*.tgz=01;31:*.arc=01;31:*.arj=01;31:*.taz=01;31:*.lha=01;31:*.lz4=01;31:*.lzh=01;31:*.lzma=01;31:*.tlz=01;31:*.txz=01;31:*.tzo=01;31:*.t7z=01;31:*.zip=01;31:*.z=01;31:*.dz=01;31:*.gz=01;31:*.lrz=01;31:*.lz=01;31:*.lzo=01;31:*.xz=01;31:*.zst=01;31:*.tzst=01;31:*.bz2=01;31:*.bz=01;31:*.tbz=01;31:*.tbz2=01;31:*.tz=01;31:*.deb=01;31:*.rpm=01;31:*.jar=01;31:*.war=01;31:*.ear=01;31:*.sar=01;31:*.rar=01;31:*.alz=01;31:*.ace=01;31:*.zoo=01;31:*.cpio=01;31:*.7z=01;31:*.rz=01;31:*.cab=01;31:*.wim=01;31:*.swm=01;31:*.dwm=01;31:*.esd=01;31:*.jpg=01;35:*.jpeg=01;35:*.mjpg=01;35:*.mjpeg=01;35:*.gif=01;35:*.bmp=01;35:*.pbm=01;35:*.pgm=01;35:*.ppm=01;35:*.tga=01;35:*.xbm=01;35:*.xpm=01;35:*.tif=01;35:*.tiff=01;35:*.png=01;35:*.svg=01;35:*.svgz=01;35:*.mng=01;35:*.pcx=01;35:*.mov=01;35:*.mpg=01;35:*.mpeg=01;35:*.m2v=01;35:*.mkv=01;35:*.webm=01;35:*.ogm=01;35:*.mp4=01;35:*.m4v=01;35:*.mp4v=01;35:*.vob=01;35:*.qt=01;35:*.nuv=01;35:*.wmv=01;35:*.asf=01;35:*.rm=01;35:*.rmvb=01;35:*.flc=01;35:*.avi=01;35:*.fli=01;35:*.flv=01;35:*.gl=01;35:*.dl=01;35:*.xcf=01;35:*.xwd=01;35:*.yuv=01;35:*.cgm=01;35:*.emf=01;35:*.ogv=01;35:*.ogx=01;35:*.aac=00;36:*.au=00;36:*.flac=00;36:*.m4a=00;36:*.mid=00;36:*.midi=00;36:*.mka=00;36:*.mp3=00;36:*.mpc=00;36:*.ogg=00;36:*.ra=00;36:*.wav=00;36:*.oga=00;36:*.opus=00;36:*.spx=00;36:*.xspf=00;36:'\n",
      "MACHTYPE=x86_64-pc-linux-gnu\n",
      "MOTD_SHOWN=update-motd\n",
      "MPLBACKEND=module://matplotlib_inline.backend_inline\n",
      "NAME=elkomy\n",
      "OPTERR=1\n",
      "OPTIND=1\n",
      "OSTYPE=linux-gnu\n",
      "PAGER=cat\n",
      "PATH='/home/elkomy/anaconda3/envs/cplayground/bin:/home/elkomy/.vscode-server/bin/5c3e652f63e798a5ac2f31ffd0d863669328dc4c/bin/remote-cli:/home/elkomy/anaconda3/bin:/home/elkomy/anaconda3/condabin:/usr/local/sbin:/usr/local/bin:/usr/sbin:/usr/bin:/sbin:/bin:/usr/games:/usr/local/games:/usr/lib/wsl/lib:/mnt/c/Program Files (x86)/Common Files/Oracle/Java/javapath:/mnt/c/GAMS/44:/mnt/c/GAMS/44/gbin:/mnt/c/WINDOWS/system32:/mnt/c/WINDOWS:/mnt/c/WINDOWS/System32/Wbem:/mnt/c/WINDOWS/System32/WindowsPowerShell/v1.0:/mnt/c/WINDOWS/System32/OpenSSH:/mnt/c/Program Files/Java/jdk-1.8/bin:/mnt/c/Program Files/Calibre2:/mnt/c/msys64/mingw64/bin:/mnt/c/ProgramData/chocolatey/bin:/mnt/c/Program Files/PowerShell/7:/mnt/c/Program Files/PowerShell/7-preview/preview:/mnt/c/Program Files/Git/cmd:/mnt/c/Users/komy2/.pyenv/pyenv-win/bin:/mnt/c/Users/komy2/.pyenv/pyenv-win/shims:/mnt/c/Users/komy2/anaconda3:/mnt/c/Users/komy2/anaconda3/Library/mingw-w64/bin:/mnt/c/Users/komy2/anaconda3/Library/usr/bin:/mnt/c/Users/komy2/anaconda3/Library/bin:/mnt/c/Users/komy2/anaconda3/Scripts:/mnt/c/Users/komy2/AppData/Local/Microsoft/WindowsApps:/mnt/c/Users/komy2/AppData/Local/Programs/Microsoft VS Code/bin:/mnt/c/msys64/usr/bin:/snap/bin:/home/elkomy/.vscode-server/bin/5c3e652f63e798a5ac2f31ffd0d863669328dc4c/bin/remote-cli:/home/elkomy/anaconda3/bin:/home/elkomy/anaconda3/condabin:/usr/local/sbin:/usr/local/bin:/usr/sbin:/usr/bin:/sbin:/bin:/usr/games:/usr/local/games:/usr/lib/wsl/lib:/mnt/c/Program Files (x86)/Common Files/Oracle/Java/javapath:/mnt/c/GAMS/44:/mnt/c/GAMS/44/gbin:/mnt/c/WINDOWS/system32:/mnt/c/WINDOWS:/mnt/c/WINDOWS/System32/Wbem:/mnt/c/WINDOWS/System32/WindowsPowerShell/v1.0:/mnt/c/WINDOWS/System32/OpenSSH:/mnt/c/Program Files/Java/jdk-1.8/bin:/mnt/c/Program Files/Calibre2:/mnt/c/msys64/mingw64/bin:/mnt/c/ProgramData/chocolatey/bin:/mnt/c/Program Files/PowerShell/7:/mnt/c/Program Files/PowerShell/7-preview/preview:/mnt/c/Program Files/Git/cmd:/mnt/c/Users/komy2/.pyenv/pyenv-win/bin:/mnt/c/Users/komy2/.pyenv/pyenv-win/shims:/mnt/c/Users/komy2/anaconda3:/mnt/c/Users/komy2/anaconda3/Library/mingw-w64/bin:/mnt/c/Users/komy2/anaconda3/Library/usr/bin:/mnt/c/Users/komy2/anaconda3/Library/bin:/mnt/c/Users/komy2/anaconda3/Scripts:/mnt/c/Users/komy2/AppData/Local/Microsoft/WindowsApps:/mnt/c/Users/komy2/AppData/Local/Programs/Microsoft VS Code/bin:/mnt/c/msys64/usr/bin:/snap/bin'\n",
      "PPID=57521\n",
      "PS4='+ '\n",
      "PULSE_SERVER=unix:/mnt/wslg/PulseServer\n",
      "PWD=/home/elkomy/alx-system_engineering-devops\n"
     ]
    },
    {
     "name": "stdout",
     "output_type": "stream",
     "text": [
      "PYDEVD_IPYTHON_COMPATIBLE_DEBUGGING=1\n",
      "PYDEVD_USE_FRAME_EVAL=NO\n",
      "PYTHONIOENCODING=utf-8\n",
      "PYTHONUNBUFFERED=1\n",
      "SHELL=/bin/bash\n",
      "SHELLOPTS=braceexpand:hashall:interactive-comments\n",
      "SHLVL=2\n",
      "TERM=xterm-color\n",
      "UID=1000\n",
      "USER=elkomy\n",
      "VSCODE_AMD_ENTRYPOINT=vs/workbench/api/node/extensionHostProcess\n",
      "VSCODE_CWD='/mnt/c/Users/komy2/AppData/Local/Programs/Microsoft VS Code'\n",
      "VSCODE_HANDLES_SIGPIPE=true\n",
      "VSCODE_HANDLES_UNCAUGHT_ERRORS=true\n",
      "VSCODE_IPC_HOOK_CLI=/run/user/1000/vscode-ipc-fbaec959-bd3d-40a2-af3c-04cb827617f1.sock\n",
      "VSCODE_NLS_CONFIG='{\"locale\":\"en\",\"osLocale\":\"en\",\"availableLanguages\":{}}'\n",
      "VSCODE_WSL_EXT_LOCATION=/mnt/c/Users/komy2/.vscode/extensions/ms-vscode-remote.remote-wsl-0.88.0\n",
      "WAYLAND_DISPLAY=wayland-0\n",
      "WSL2_GUI_APPS_ENABLED=1\n",
      "WSLENV=VSCODE_WSL_EXT_LOCATION/up\n",
      "WSL_DISTRO_NAME=Ubuntu-20.04\n",
      "WSL_INTEROP=/run/WSL/544_interop\n",
      "XDG_DATA_DIRS=/usr/local/share:/usr/share:/var/lib/snapd/desktop\n",
      "XDG_RUNTIME_DIR=/run/user/1000/\n",
      "_=./0x03-shell_variables_expansions/5-local_variables\n",
      "_CE_CONDA=\n",
      "_CE_M=\n"
     ]
    }
   ],
   "source": [
    "%%bash\n",
    "chmod u+x 0x03-shell_variables_expansions/5-local_variables\n",
    "./0x03-shell_variables_expansions/5-local_variables"
   ]
  },
  {
   "cell_type": "code",
   "execution_count": 49,
   "metadata": {},
   "outputs": [
    {
     "name": "stdout",
     "output_type": "stream",
     "text": [
      "[main ab56858] 0x03-shell_variables_expansions/5-local_variables\n",
      " 2 files changed, 128 insertions(+), 47 deletions(-)\n",
      " create mode 100755 0x03-shell_variables_expansions/5-local_variables\n"
     ]
    },
    {
     "name": "stderr",
     "output_type": "stream",
     "text": [
      "To https://github.com/elkomysara/alx-system_engineering-devops.git\n",
      "   dd5bf16..ab56858  main -> main\n"
     ]
    }
   ],
   "source": [
    "%%bash\n",
    "git add .\n",
    "git commit -m \"0x03-shell_variables_expansions/5-local_variables\"\n",
    "git push"
   ]
  },
  {
   "cell_type": "markdown",
   "metadata": {},
   "source": [
    "### \n",
    "\n",
    "\n",
    "---\n",
    "<center>\n",
    "<h4> 6. Local variable </h4>\n",
    "</center>\n",
    "\n",
    "---"
   ]
  },
  {
   "cell_type": "markdown",
   "metadata": {},
   "source": [
    "##### Create a script that creates a new local variable.\n",
    "* Name: `BEST`\n",
    "* Value: `School`\n",
    "\n",
    "#### Repo:\n",
    "\n",
    "* GitHub repository: `alx-system_engineering-devops`\n",
    "* Directory: `0x03-shell_variables_expansions`\n",
    "* File: `6-create_local_varaible`"
   ]
  },
  {
   "cell_type": "code",
   "execution_count": 50,
   "metadata": {},
   "outputs": [
    {
     "name": "stdout",
     "output_type": "stream",
     "text": [
      "Writing 0x03-shell_variables_expansions/6-create_local_variable\n"
     ]
    }
   ],
   "source": [
    "%%file 0x03-shell_variables_expansions/6-create_local_variable\n",
    "#!/bin/bash\n",
    "BEST=\"School\" "
   ]
  },
  {
   "cell_type": "code",
   "execution_count": 51,
   "metadata": {},
   "outputs": [],
   "source": [
    "%%bash\n",
    "chmod u+x  0x03-shell_variables_expansions/6-create_local_variable\n",
    "\n"
   ]
  },
  {
   "cell_type": "code",
   "execution_count": 52,
   "metadata": {},
   "outputs": [
    {
     "name": "stdout",
     "output_type": "stream",
     "text": [
      "[main e8693d9] 0x03-shell_variables_expansions/6-create_local_variable\n",
      " 2 files changed, 18 insertions(+), 40 deletions(-)\n",
      " create mode 100755 0x03-shell_variables_expansions/6-create_local_variable\n"
     ]
    },
    {
     "name": "stderr",
     "output_type": "stream",
     "text": [
      "To https://github.com/elkomysara/alx-system_engineering-devops.git\n",
      "   ab56858..e8693d9  main -> main\n"
     ]
    }
   ],
   "source": [
    "%%bash\n",
    "git add .\n",
    "git commit -m \"0x03-shell_variables_expansions/6-create_local_variable\"\n",
    "git push"
   ]
  },
  {
   "cell_type": "markdown",
   "metadata": {},
   "source": [
    "### \n",
    "\n",
    "\n",
    "---\n",
    "<center>\n",
    "<h4> 7. Global variable </h4>\n",
    "</center>\n",
    "\n",
    "---"
   ]
  },
  {
   "cell_type": "markdown",
   "metadata": {},
   "source": [
    "##### Create a script that creates a new global variable.\n",
    "\n",
    "* Name: BEST\n",
    "* Value: School\n",
    "#### Repo:\n",
    "\n",
    "* GitHub repository: `alx-system_engineering-devops`\n",
    "* Directory: `0x03-shell_variable_expansions`\n",
    "* File: `7-create_global_variable`"
   ]
  },
  {
   "cell_type": "code",
   "execution_count": 53,
   "metadata": {},
   "outputs": [
    {
     "name": "stdout",
     "output_type": "stream",
     "text": [
      "Writing 0x03-shell_variables_expansions/7-create_global_variable\n"
     ]
    }
   ],
   "source": [
    "%%file 0x03-shell_variables_expansions/7-create_global_variable\n",
    "#!/bin/bash\n",
    "export BEST=\"School\""
   ]
  },
  {
   "cell_type": "code",
   "execution_count": 54,
   "metadata": {},
   "outputs": [],
   "source": [
    "%%bash\n",
    "chmod u+x 0x03-shell_variables_expansions/7-create_global_variable"
   ]
  },
  {
   "cell_type": "code",
   "execution_count": 55,
   "metadata": {},
   "outputs": [],
   "source": [
    "!./0x03-shell_variables_expansions/7-create_global_variable"
   ]
  },
  {
   "cell_type": "code",
   "execution_count": 56,
   "metadata": {},
   "outputs": [
    {
     "name": "stdout",
     "output_type": "stream",
     "text": [
      "[main 92dad2a] 0x03-shell_variables_expansions/7-create_global_variable\n",
      " 2 files changed, 22 insertions(+), 39 deletions(-)\n",
      " create mode 100755 0x03-shell_variables_expansions/7-create_global_variable\n"
     ]
    },
    {
     "name": "stderr",
     "output_type": "stream",
     "text": [
      "To https://github.com/elkomysara/alx-system_engineering-devops.git\n",
      "   e8693d9..92dad2a  main -> main\n"
     ]
    }
   ],
   "source": [
    "%%bash\n",
    "git add .\n",
    "git commit -m \"0x03-shell_variables_expansions/7-create_global_variable\"\n",
    "git push"
   ]
  },
  {
   "cell_type": "markdown",
   "metadata": {},
   "source": [
    "### \n",
    "\n",
    "\n",
    "---\n",
    "<center>\n",
    "<h4> 8. Every addition to true knowledge is an addition to human power </h4>\n",
    "</center>\n",
    "\n",
    "---"
   ]
  },
  {
   "cell_type": "markdown",
   "metadata": {},
   "source": [
    "##### Write a script that prints the result of the addition of 128 with the value stored in the environment variable TRUEKNOWLEDGE, followed by a new line.\n",
    "\n",
    "```bash\n",
    "julien@production-503e7013:~$ export TRUEKNOWLEDGE=1209\n",
    "julien@production-503e7013:~$ ./8-true_knowledge | cat -e\n",
    "1337$\n",
    "julien@production-503e7013:~$\n",
    "```\n",
    "\n",
    "#### Repo:\n",
    "\n",
    "* GitHub repository: `alx-system_engineering-devops`\n",
    "* Directory: `0x03-shell_vairables_expansions`\n",
    "* File: ` 8-true_knowledge`\n"
   ]
  },
  {
   "cell_type": "code",
   "execution_count": 61,
   "metadata": {},
   "outputs": [
    {
     "name": "stdout",
     "output_type": "stream",
     "text": [
      "Overwriting 0x03-shell_variables_expansions/8-true_knowledge\n"
     ]
    }
   ],
   "source": [
    "%%file 0x03-shell_variables_expansions/8-true_knowledge\n",
    "#!/bin/bash\n",
    "echo $((128 + $TRUEKNOWLEDGE))"
   ]
  },
  {
   "cell_type": "code",
   "execution_count": 62,
   "metadata": {},
   "outputs": [],
   "source": [
    "%%bash\n",
    "chmod u+x 0x03-shell_variables_expansions/8-true_knowledge"
   ]
  },
  {
   "cell_type": "code",
   "execution_count": 65,
   "metadata": {},
   "outputs": [
    {
     "name": "stdout",
     "output_type": "stream",
     "text": [
      "1337$\n"
     ]
    }
   ],
   "source": [
    "%%bash\n",
    "export TRUEKNOWLEDGE=1209\n",
    "./0x03-shell_variables_expansions/8-true_knowledge | cat -e\n"
   ]
  },
  {
   "cell_type": "code",
   "execution_count": 66,
   "metadata": {},
   "outputs": [
    {
     "name": "stdout",
     "output_type": "stream",
     "text": [
      "[main 94de287] 0x03-shell_variables_expansions/8-true_knowledge\n",
      " 2 files changed, 34 insertions(+), 56 deletions(-)\n",
      " create mode 100755 0x03-shell_variables_expansions/8-true_knowledge\n"
     ]
    },
    {
     "name": "stderr",
     "output_type": "stream",
     "text": [
      "To https://github.com/elkomysara/alx-system_engineering-devops.git\n",
      "   92dad2a..94de287  main -> main\n"
     ]
    }
   ],
   "source": [
    "%%bash\n",
    "git add .\n",
    "git commit -m \"0x03-shell_variables_expansions/8-true_knowledge\"\n",
    "git push"
   ]
  },
  {
   "cell_type": "markdown",
   "metadata": {},
   "source": [
    "### \n",
    "\n",
    "\n",
    "---\n",
    "<center>\n",
    "<h4> 9. Divide and rule</h4>\n",
    "</center>\n",
    "\n",
    "---"
   ]
  },
  {
   "cell_type": "markdown",
   "metadata": {},
   "source": [
    "##### Write a script that prints the result of POWER divided by DIVIDE, followed by a new line.\n",
    "\n",
    "* POWER and DIVIDE are environment variables\n",
    "\n",
    "```bash\n",
    "julien@production-503e7013:~$ export POWER=42784\n",
    "julien@production-503e7013:~$ export DIVIDE=32\n",
    "julien@production-503e7013:~$ ./9-divide_and_rule | cat -e\n",
    "1337$\n",
    "julien@production-503e7013:~$\n",
    "```\n",
    "\n",
    "\n",
    "#### Repo:\n",
    "\n",
    "* GitHub repository: `alx-system_engineering-devops`\n",
    "* Directory: `0x03-shell_variables_expansions`\n",
    "* File: `9-divide_and_rule`"
   ]
  },
  {
   "cell_type": "code",
   "execution_count": 67,
   "metadata": {},
   "outputs": [
    {
     "name": "stdout",
     "output_type": "stream",
     "text": [
      "Writing 0x03-shell_variables_expansions/9-divide_and_rule\n"
     ]
    }
   ],
   "source": [
    "%%file 0x03-shell_variables_expansions/9-divide_and_rule\n",
    "#!/bin/bash\n",
    "echo $(($POWER / $DIVIDE))"
   ]
  },
  {
   "cell_type": "code",
   "execution_count": 70,
   "metadata": {},
   "outputs": [
    {
     "name": "stdout",
     "output_type": "stream",
     "text": [
      "1337$\n"
     ]
    }
   ],
   "source": [
    "%%bash\n",
    "chmod u+x 0x03-shell_variables_expansions/9-divide_and_rule\n",
    "export POWER=42784\n",
    "export DIVIDE=32\n",
    "\n",
    "./0x03-shell_variables_expansions/9-divide_and_rule | cat -e\n"
   ]
  },
  {
   "cell_type": "code",
   "execution_count": 31,
   "metadata": {},
   "outputs": [
    {
     "name": "stdout",
     "output_type": "stream",
     "text": [
      "[main e8a0ede] 9-John Doe\n",
      " 2 files changed, 8 insertions(+), 16 deletions(-)\n",
      " mode change 100644 => 100755 0x01-shell_permissions/9-John_Doe\n"
     ]
    },
    {
     "name": "stderr",
     "output_type": "stream",
     "text": [
      "To https://github.com/elkomysara/alx-system_engineering-devops.git\n",
      "   1cf6806..e8a0ede  main -> main\n"
     ]
    }
   ],
   "source": [
    "%%bash\n",
    "git add .\n",
    "git commit -m \"9.Divide and rule\"\n",
    "git push"
   ]
  },
  {
   "cell_type": "markdown",
   "metadata": {},
   "source": [
    "### \n",
    "\n",
    "\n",
    "---\n",
    "<center>\n",
    "<h4> 10.No more javascript</h4>\n",
    "</center>\n",
    "\n",
    "---"
   ]
  },
  {
   "cell_type": "markdown",
   "metadata": {},
   "source": [
    "##### Write a script that deletes all the regular files (not the directories) with a `.js` extension that are present in the current directory and all its subfolders.\n",
    "\n",
    "```bash\n",
    "julien@ubuntu:/tmp/h$ ls -lR\n",
    ".:\n",
    "total 24\n",
    "-rwxrw-r-- 1 julien julien   49 Sep 20 18:29 10-no_more_js\n",
    "drwxrwxr-x 2 julien julien 4096 Sep 20 18:23 dir1\n",
    "drwxrwxr-x 2 julien julien 4096 Sep 20 18:24 dir.js\n",
    "-rw-rw-r-- 1 betty  julien   23 Sep 20 14:25 hello\n",
    "-rw-rw-r-- 1 julien julien  982 Sep 20 18:21 iacta\n",
    "-rw-rw-r-- 1 julien julien  329 Sep 20 18:18 ls_cwd_content\n",
    "-rw-rw-r-- 1 julien julien    0 Sep 20 18:23 main.js\n",
    "\n",
    "./dir1:\n",
    "total 0\n",
    "-rw-rw-r-- 1 julien julien 0 Sep 20 18:23 code.js\n",
    "\n",
    "./dir.js:\n",
    "total 0\n",
    "julien@ubuntu:/tmp/h$ ./10-no_more_js \n",
    "julien@ubuntu:/tmp/h$ ls -lR\n",
    ".:\n",
    "total 24\n",
    "-rwxrw-r-- 1 julien julien   49 Sep 20 18:29 10-no_more_js\n",
    "drwxrwxr-x 2 julien julien 4096 Sep 20 18:29 dir1\n",
    "drwxrwxr-x 2 julien julien 4096 Sep 20 18:24 dir.js\n",
    "-rw-rw-r-- 1 betty  julien   23 Sep 20 14:25 hello\n",
    "-rw-rw-r-- 1 julien julien  982 Sep 20 18:21 iacta\n",
    "-rw-rw-r-- 1 julien julien  329 Sep 20 18:18 ls_cwd_content\n",
    "\n",
    "./dir1:\n",
    "total 0\n",
    "\n",
    "./dir.js:\n",
    "total 0\n",
    "julien@ubuntu:/tmp/h$  \n",
    "```\n",
    "\n",
    "#### Repo:\n",
    "\n",
    "* GitHub repository: `alx-system_engineering-devops`\n",
    "* Directory: `0x02-shell_redirections`\n",
    "* File: `10-no_more_js`"
   ]
  },
  {
   "cell_type": "markdown",
   "metadata": {},
   "source": [
    "```bash\n",
    "find [starting_directory] [options] [actions]\n",
    "```"
   ]
  },
  {
   "cell_type": "code",
   "execution_count": 4,
   "metadata": {},
   "outputs": [
    {
     "name": "stdout",
     "output_type": "stream",
     "text": [
      "Writing 0x02-shell_redirections/10-no_more_js\n"
     ]
    }
   ],
   "source": [
    "%%file 0x02-shell_redirections/10-no_more_js\n",
    "#!/bin/bash\n",
    "find . ! -name \"*.js\" -type f -delete \n",
    "#this is the wrong one becuase it deletes all the files but the .js files"
   ]
  },
  {
   "cell_type": "code",
   "execution_count": 8,
   "metadata": {},
   "outputs": [
    {
     "name": "stdout",
     "output_type": "stream",
     "text": [
      "Overwriting 0x02-shell_redirections/10-no_more_js\n"
     ]
    }
   ],
   "source": [
    "%%file 0x02-shell_redirections/10-no_more_js\n",
    "#!/bin/bash\n",
    "find . -type f -name \"*.js\" -delete"
   ]
  },
  {
   "cell_type": "code",
   "execution_count": 9,
   "metadata": {},
   "outputs": [],
   "source": [
    "%%bash\n",
    "chmod u+x 0x02-shell_redirections/10-no_more_js\n"
   ]
  },
  {
   "cell_type": "code",
   "execution_count": 10,
   "metadata": {},
   "outputs": [
    {
     "name": "stdout",
     "output_type": "stream",
     "text": [
      "[main 8c82d61] 0x02-shell_redirections/10-no_more_js\n",
      " 2 files changed, 26 insertions(+), 6 deletions(-)\n"
     ]
    },
    {
     "name": "stderr",
     "output_type": "stream",
     "text": [
      "To https://github.com/elkomysara/alx-system_engineering-devops.git\n",
      "   b28a4b1..8c82d61  main -> main\n"
     ]
    }
   ],
   "source": [
    "%%bash\n",
    "git add .\n",
    "git commit -m \"0x02-shell_redirections/10-no_more_js\"\n",
    "git push"
   ]
  },
  {
   "cell_type": "markdown",
   "metadata": {},
   "source": [
    "### \n",
    "\n",
    "\n",
    "---\n",
    "<center>\n",
    "<h4> 11.Don't just count your directories, make your directories count</h4>\n",
    "</center>\n",
    "\n",
    "---"
   ]
  },
  {
   "cell_type": "markdown",
   "metadata": {},
   "source": [
    "##### Write a script that counts the number of directories and sub-directories in the current directory. \n",
    "* The current and parent directories should not be taken into account.\n",
    "* Hidden directories should be counted.\n",
    "```bash\n",
    "julien@production-503e7013:~/shell/fun_with_the_shell$ ls -lRa\n",
    ".:\n",
    "total 32\n",
    "drwxrwxr-x 3 julien julien 4096 Jan 20 03:53 .\n",
    "drwxrwxr-x 3 julien julien 4096 Jan 20 02:58 ..\n",
    "-rwxr--r-- 1 julien julien 43 Jan 20 02:59 0-commas\n",
    "-rwxr--r-- 1 julien julien 47 Jan 20 02:50 1-empty_casks\n",
    "-rwxrw-r-- 1 julien julien 68 Jan 20 03:35 2-gifs\n",
    "-rwxrw-r-- 1 julien julien 47 Jan 20 03:53 3-directories\n",
    "-rw-rw-r-- 1 julien julien 14 Jan 20 03:35 Makefile\n",
    "drwxrwxr-x 4 julien julien 4096 Jan 20 03:42 test_dir\n",
    "\n",
    "./test_dir:\n",
    "total 16\n",
    "drwxrwxr-x 4 julien julien 4096 Jan 20 03:42 .\n",
    "drwxrwxr-x 3 julien julien 4096 Jan 20 03:53 ..\n",
    "-rw-rw-r-- 1 julien julien 0 Jan 20 03:40 .horrible_selfie.gif\n",
    "-rw-rw-r-- 1 julien julien 0 Jan 20 03:23 README.md\n",
    "-rw-rw-r-- 1 julien julien 0 Jan 20 03:17 docker.gif\n",
    "-rw-rw-r-- 1 julien julien 0 Jan 20 03:17 file.sh\n",
    "drwxrwxr-x 2 julien julien 4096 Jan 20 03:23 photos\n",
    "drwxrwxr-x 2 julien julien 4096 Jan 20 03:23 rep.gif\n",
    "\n",
    "./test_dir/photos:\n",
    "total 8\n",
    "drwxrwxr-x 2 julien julien 4096 Jan 20 03:23 .\n",
    "drwxrwxr-x 4 julien julien 4096 Jan 20 03:42 ..\n",
    "-rw-rw-r-- 1 julien julien 0 Jan 20 03:23 cat.gif\n",
    "-rw-rw-r-- 1 julien julien 0 Jan 20 03:22 index.html\n",
    "-rw-rw-r-- 1 julien julien 0 Jan 20 03:23 main.gif\n",
    "-rw-rw-r-- 1 julien julien 0 Jan 20 03:23 rudy_rigot.gif\n",
    "\n",
    "./test_dir/rep.gif:\n",
    "total 8\n",
    "drwxrwxr-x 2 julien julien 4096 Jan 20 03:23 .\n",
    "drwxrwxr-x 4 julien julien 4096 Jan 20 03:42 ..\n",
    "julien@production-503e7013:~/shell/fun_with_the_shell$ ./11-directories\n",
    "3\n",
    "julien@production-503e7013:~/shell/fun_with_the_shell$\n",
    "```\n",
    "\n",
    "#### Repo:\n",
    "\n",
    "* GitHub repository: `alx-system_engineering-devops`\n",
    "* Directory: `0x02-shell_redirections`\n",
    "* File: `11-directories`"
   ]
  },
  {
   "cell_type": "code",
   "execution_count": 3,
   "metadata": {},
   "outputs": [
    {
     "name": "stdout",
     "output_type": "stream",
     "text": [
      "Overwriting 0x02-shell_redirections/11-directories\n"
     ]
    }
   ],
   "source": [
    "%%file 0x02-shell_redirections/11-directories\n",
    "#!/bin/bash\n",
    "find . -mindepth 1 -type d | wc -l"
   ]
  },
  {
   "cell_type": "code",
   "execution_count": 5,
   "metadata": {},
   "outputs": [],
   "source": [
    "%%bash\n",
    "chmod u+x  0x02-shell_redirections/11-directories\n",
    "\n"
   ]
  },
  {
   "cell_type": "code",
   "execution_count": 8,
   "metadata": {},
   "outputs": [
    {
     "name": "stdout",
     "output_type": "stream",
     "text": [
      "30\n"
     ]
    }
   ],
   "source": [
    "!./0x02-shell_redirections/11-directories"
   ]
  },
  {
   "cell_type": "code",
   "execution_count": 9,
   "metadata": {},
   "outputs": [
    {
     "name": "stdout",
     "output_type": "stream",
     "text": [
      "[main 73088ef] 0x02-shell_redirections/11-directories\n",
      " 2 files changed, 75 insertions(+), 24 deletions(-)\n",
      " create mode 100755 0x02-shell_redirections/11-directories\n"
     ]
    },
    {
     "name": "stderr",
     "output_type": "stream",
     "text": [
      "To https://github.com/elkomysara/alx-system_engineering-devops.git\n",
      "   8c82d61..73088ef  main -> main\n"
     ]
    }
   ],
   "source": [
    "%%bash\n",
    "git add .\n",
    "git commit -m \"0x02-shell_redirections/11-directories\"\n",
    "git push"
   ]
  },
  {
   "cell_type": "markdown",
   "metadata": {},
   "source": [
    "### \n",
    "\n",
    "\n",
    "---\n",
    "<center>\n",
    "<h4> 12.What's new</h4>\n",
    "</center>\n",
    "\n",
    "---"
   ]
  },
  {
   "cell_type": "markdown",
   "metadata": {},
   "source": [
    "##### Create a script that displays the 10 newest files in the current directory.\n",
    "Requirements:\n",
    "* One file per line\n",
    "* Sorted from the newest to the oldest\n",
    "\n",
    "\n",
    "```bash\n",
    "alex@ubuntu:/tmp$ ls -l\n",
    "total 7\n",
    "-rwxr-xr-x 1 501 dialout  32 Sep 27 23:51 0-hello_world\n",
    "-rwxr-xr-x 1 501 dialout  46 Sep 28 11:09 10-no_more_js\n",
    "-rwxr-xr-x 1 501 dialout  43 Sep 28 11:19 11-directories\n",
    "-rwxr-xr-x 1 501 dialout  30 Sep 29 13:43 12-newest_files\n",
    "-rwxr-xr-x 1 501 dialout  28 Sep 27 23:54 1-confused_smiley\n",
    "-rwxr-xr-x 1 501 dialout  28 Sep 27 23:58 2-hellofile\n",
    "-rwxr-xr-x 1 501 dialout  39 Sep 27 23:58 3-twofiles\n",
    "-rwxr-xr-x 1 501 dialout  33 Sep 27 23:59 4-lastlines\n",
    "-rwxr-xr-x 1 501 dialout  33 Sep 28 00:00 5-firstlines\n",
    "-rwxr-xr-x 1 501 dialout  28 Sep 28 00:25 6-third_line\n",
    "-rwxr-xr-x 1 501 dialout 110 Sep 28 00:34 7-file\n",
    "-rwxr-xr-x 1 501 dialout  36 Sep 28 00:34 8-cwd_state\n",
    "-rwxr-xr-x 1 501 dialout  35 Sep 28 00:35 9-duplicate_last_line\n",
    "-rw-r--r-- 1 501 dialout  19 Sep 27 23:51 README.md\n",
    "alex@ubuntu:/tmp$ ./12-newest_files \n",
    "12-newest_files\n",
    "11-directories\n",
    "10-no_more_js\n",
    "9-duplicate_last_line\n",
    "7-file\n",
    "8-cwd_state\n",
    "6-third_line\n",
    "5-firstlines\n",
    "4-lastlines\n",
    "3-twofiles\n",
    "alex@ubuntu:/tmp$ \n",
    "```\n",
    "#### Repo:\n",
    "\n",
    "* GitHub repository: `alx-system_engineering-devops`\n",
    "* Directory: `0x02-shell_redirections`\n",
    "* File: `12-newest_files`"
   ]
  },
  {
   "cell_type": "code",
   "execution_count": 9,
   "metadata": {},
   "outputs": [
    {
     "name": "stdout",
     "output_type": "stream",
     "text": [
      "Overwriting 0x02-shell_redirections/12-newest_files\n"
     ]
    }
   ],
   "source": [
    "%%file 0x02-shell_redirections/12-newest_files\n",
    "#!/bin/bash\n",
    "ls -t |head -n 10"
   ]
  },
  {
   "cell_type": "code",
   "execution_count": 10,
   "metadata": {},
   "outputs": [
    {
     "name": "stdout",
     "output_type": "stream",
     "text": [
      "0x02. Shell, InputOutput Redirections and filters.ipynb\n",
      "0x02-shell_redirections\n",
      "0x00-shell_basics\n",
      "0x01-shell_permissions\n",
      "0x01-shell_permissions.ipynb\n",
      "README.md\n",
      "\\*\\\\'\"Best School\"\\'\\\\*$\\?\\*\\*\\*\\*\\*:)\n",
      "hello\n",
      "iacta\n",
      "ls_cwd_content\n"
     ]
    }
   ],
   "source": [
    "%%bash\n",
    "chmod u+x 0x02-shell_redirections/12-newest_files\n",
    "source ./0x02-shell_redirections/12-newest_files"
   ]
  },
  {
   "cell_type": "code",
   "execution_count": 11,
   "metadata": {},
   "outputs": [
    {
     "name": "stdout",
     "output_type": "stream",
     "text": [
      "[main 7d5007d] 0x02-shell_redirections/12-newest_files\n",
      " 2 files changed, 68 insertions(+), 34 deletions(-)\n",
      " create mode 100755 0x02-shell_redirections/12-newest_files\n"
     ]
    },
    {
     "name": "stderr",
     "output_type": "stream",
     "text": [
      "To https://github.com/elkomysara/alx-system_engineering-devops.git\n",
      "   73088ef..7d5007d  main -> main\n"
     ]
    }
   ],
   "source": [
    "%%bash\n",
    "git add .\n",
    "git commit -m \"0x02-shell_redirections/12-newest_files\"\n",
    "git push"
   ]
  },
  {
   "cell_type": "markdown",
   "metadata": {},
   "source": [
    "### \n",
    "\n",
    "\n",
    "---\n",
    "<center>\n",
    "<h4> 13. Being unique is better than being perfect</h4>\n",
    "</center>\n",
    "\n",
    "---"
   ]
  },
  {
   "cell_type": "markdown",
   "metadata": {},
   "source": [
    "##### Create a script that takes a list of words as input and prints only words that appear exactly once. \n",
    "\n",
    "* Input format: One line, one word\n",
    "* Output format: One line, one word\n",
    "* Words should be sorted\n",
    "\n",
    "```bash\n",
    "julien@ubuntu:/tmp/0x02$ cat list \n",
    "C#\n",
    "C\n",
    "Javascript\n",
    "Perl\n",
    "PHP\n",
    "PHP\n",
    "ASP\n",
    "R\n",
    "Go\n",
    "C#\n",
    "C++\n",
    "R\n",
    "Perl\n",
    "Javascript\n",
    "Javascript\n",
    "Python\n",
    "Javascript\n",
    "Javascript\n",
    "Javascript\n",
    "Java\n",
    "Java\n",
    "Python\n",
    "Javascript\n",
    "Javascript\n",
    "Javascript\n",
    "ASP\n",
    "julien@ubuntu:/tmp/0x02$ cat list | ./13-unique \n",
    "C\n",
    "C++\n",
    "Go\n",
    "julien@ubuntu:/tmp/0x02$ \n",
    "```\n",
    "#### Repo:\n",
    "\n",
    "* GitHub repository: `alx-system_engineering-devops`\n",
    "* Directory: `0x02-shell_redirections`\n",
    "* File: `13-unique`"
   ]
  },
  {
   "cell_type": "code",
   "execution_count": 35,
   "metadata": {},
   "outputs": [
    {
     "name": "stdout",
     "output_type": "stream",
     "text": [
      "Overwriting 0x02-shell_redirections/13-unique\n"
     ]
    }
   ],
   "source": [
    "%%file 0x02-shell_redirections/13-unique\n",
    "#!/bin/bash\n",
    "sort | uniq -u"
   ]
  },
  {
   "cell_type": "code",
   "execution_count": 36,
   "metadata": {},
   "outputs": [],
   "source": [
    "%%bash\n",
    "chmod u+x 0x02-shell_redirections/13-unique"
   ]
  },
  {
   "cell_type": "code",
   "execution_count": 37,
   "metadata": {},
   "outputs": [
    {
     "name": "stdout",
     "output_type": "stream",
     "text": [
      "Overwriting 0x02-shell_redirections/list\n"
     ]
    }
   ],
   "source": [
    "%%file 0x02-shell_redirections/list\n",
    "C#\n",
    "C\n",
    "Javascript\n",
    "Perl\n",
    "PHP\n",
    "PHP\n",
    "ASP\n",
    "R\n",
    "Go\n",
    "C#\n",
    "C++\n",
    "R\n",
    "Perl\n",
    "Javascript\n",
    "Javascript\n",
    "Python\n",
    "Javascript\n",
    "Javascript\n",
    "Javascript\n",
    "Java\n",
    "Java\n",
    "Python\n",
    "Javascript\n",
    "Javascript\n",
    "Javascript\n",
    "ASP"
   ]
  },
  {
   "cell_type": "code",
   "execution_count": 38,
   "metadata": {},
   "outputs": [
    {
     "name": "stdout",
     "output_type": "stream",
     "text": [
      "C\n",
      "C++\n",
      "Go\n"
     ]
    }
   ],
   "source": [
    "!cat 0x02-shell_redirections/list | ./0x02-shell_redirections/13-unique"
   ]
  },
  {
   "cell_type": "code",
   "execution_count": 39,
   "metadata": {},
   "outputs": [
    {
     "name": "stdout",
     "output_type": "stream",
     "text": [
      "[main 66b1d64] 0x02-shell_redirections/13-unique3\n",
      " 1 file changed, 10 insertions(+), 9 deletions(-)\n"
     ]
    },
    {
     "name": "stderr",
     "output_type": "stream",
     "text": [
      "To https://github.com/elkomysara/alx-system_engineering-devops.git\n",
      "   7fd7e0d..66b1d64  main -> main\n"
     ]
    }
   ],
   "source": [
    "%%bash\n",
    "git add .\n",
    "git commit -m \"0x02-shell_redirections/13-unique3\"\n",
    "git push"
   ]
  },
  {
   "cell_type": "markdown",
   "metadata": {},
   "source": [
    "### \n",
    "\n",
    "\n",
    "---\n",
    "<center>\n",
    "<h4> 14. It must be in that file</h4>\n",
    "</center>\n",
    "\n",
    "---"
   ]
  },
  {
   "cell_type": "markdown",
   "metadata": {},
   "source": [
    "##### Display lines containing the pattern \"root\" from the file `/etc/passwd`\n",
    "\n",
    " \n",
    "```bash\n",
    "$ ./14-findthatword\n",
    "root:*:0:0:System Administrator:/var/root:/bin/sh\n",
    "daemon:*:1:1:System Services:/var/root:/usr/bin/false\n",
    "_cvmsroot:*:212:212:CVMS Root:/var/empty:/usr/bin/false\n",
    "$\n",
    "```\n",
    "\n",
    "#### Repo:\n",
    "\n",
    "* GitHub repository: `alx-system_engineering-devops`\n",
    "* Directory: `0x02-shell_redirections`\n",
    "* File: `14-findthatword`"
   ]
  },
  {
   "cell_type": "code",
   "execution_count": 1,
   "metadata": {},
   "outputs": [
    {
     "name": "stdout",
     "output_type": "stream",
     "text": [
      "Writing 0x02-shell_redirections/14-findthatword\n"
     ]
    }
   ],
   "source": [
    "%%file 0x02-shell_redirections/14-findthatword\n",
    "#!/bin/bash\n",
    "grep \"root\" /etc/passwd"
   ]
  },
  {
   "cell_type": "code",
   "execution_count": 2,
   "metadata": {},
   "outputs": [
    {
     "name": "stdout",
     "output_type": "stream",
     "text": [
      "root:x:0:0:root:/root:/bin/bash\n"
     ]
    }
   ],
   "source": [
    "%%bash\n",
    "\n",
    "chmod u+x 0x02-shell_redirections/14-findthatword\n",
    "source ./0x02-shell_redirections/14-findthatword\n"
   ]
  },
  {
   "cell_type": "code",
   "execution_count": 3,
   "metadata": {},
   "outputs": [
    {
     "name": "stdout",
     "output_type": "stream",
     "text": [
      "[main 33ab5d1] 0x02-shell_redirections/14-findthatword\n",
      " 2 files changed, 25 insertions(+), 51 deletions(-)\n",
      " create mode 100755 0x02-shell_redirections/14-findthatword\n"
     ]
    },
    {
     "name": "stderr",
     "output_type": "stream",
     "text": [
      "To https://github.com/elkomysara/alx-system_engineering-devops.git\n",
      "   66b1d64..33ab5d1  main -> main\n"
     ]
    }
   ],
   "source": [
    "%%bash\n",
    "git add .\n",
    "git commit -m \"0x02-shell_redirections/14-findthatword\"\n",
    "git push"
   ]
  },
  {
   "cell_type": "markdown",
   "metadata": {},
   "source": [
    "### \n",
    "\n",
    "\n",
    "---\n",
    "<center>\n",
    "<h4> 15. Count that word</h4>\n",
    "</center>\n",
    "\n",
    "---"
   ]
  },
  {
   "cell_type": "markdown",
   "metadata": {},
   "source": [
    "##### Display the number of lines that contain the pattern \"bin\" in the file /etc/passwd.\n",
    "\n",
    "\n",
    "```bash\n",
    "$ ./15-countthatword\n",
    "81\n",
    "$ \n",
    "```\n",
    "\n",
    "#### Repo:\n",
    "\n",
    "* GitHub repository: `alx-system_engineering-devops`\n",
    "* Directory: `0x02-shell_redirections`\n",
    "* File: `15-countthatword`"
   ]
  },
  {
   "cell_type": "code",
   "execution_count": 4,
   "metadata": {},
   "outputs": [
    {
     "name": "stdout",
     "output_type": "stream",
     "text": [
      "Writing 0x02-shell_redirections/15-countthatword\n"
     ]
    }
   ],
   "source": [
    "%%file 0x02-shell_redirections/15-countthatword\n",
    "#!/bin/bash\n",
    "grep \"bin\" /etc/passwd | wc -l"
   ]
  },
  {
   "cell_type": "code",
   "execution_count": 5,
   "metadata": {},
   "outputs": [
    {
     "name": "stdout",
     "output_type": "stream",
     "text": [
      "34\n"
     ]
    }
   ],
   "source": [
    "%%bash\n",
    "chmod u+x  0x02-shell_redirections/15-countthatword\n",
    "source ./0x02-shell_redirections/15-countthatword"
   ]
  },
  {
   "cell_type": "code",
   "execution_count": 6,
   "metadata": {},
   "outputs": [
    {
     "name": "stdout",
     "output_type": "stream",
     "text": [
      "[main fb17851] 0x02-shell_redirections/15-countthatword\n",
      " 2 files changed, 25 insertions(+), 48 deletions(-)\n",
      " create mode 100755 0x02-shell_redirections/15-countthatword\n"
     ]
    },
    {
     "name": "stderr",
     "output_type": "stream",
     "text": [
      "To https://github.com/elkomysara/alx-system_engineering-devops.git\n",
      "   33ab5d1..fb17851  main -> main\n"
     ]
    }
   ],
   "source": [
    "%%bash\n",
    "git add .\n",
    "git commit -m \"0x02-shell_redirections/15-countthatword\"\n",
    "git push"
   ]
  },
  {
   "cell_type": "markdown",
   "metadata": {},
   "source": [
    "### \n",
    "\n",
    "\n",
    "---\n",
    "<center>\n",
    "<h4> 16. What's next?</h4>\n",
    "</center>\n",
    "\n",
    "---"
   ]
  },
  {
   "cell_type": "markdown",
   "metadata": {},
   "source": [
    "##### Display lines containing the pattern \"root\" and 3 lines after them in the file `/etc/passwd`\n",
    "\n",
    "\n",
    "```bash\n",
    "$ ./16-whatsnext\n",
    "root:*:0:0:System Administrator:/var/root:/bin/sh\n",
    "daemon:*:1:1:System Services:/var/root:/usr/bin/false\n",
    "_uucp:*:4:4:Unix to Unix Copy Protocol:/var/spool/uucp:/usr/sbin/uucico\n",
    "_taskgated:*:13:13:Task Gate Daemon:/var/empty:/usr/bin/false\n",
    "_networkd:*:24:24:Network Services:/var/networkd:/usr/bin/false\n",
    "--\n",
    "_cvmsroot:*:212:212:CVMS Root:/var/empty:/usr/bin/false\n",
    "_usbmuxd:*:213:213:iPhone OS Device Helper:/var/db/lockdown:/usr/bin/false\n",
    "_dovecot:*:214:6:Dovecot Administrator:/var/empty:/usr/bin/false\n",
    "_dpaudio:*:215:215:DP Audio:/var/empty:/usr/bin/false\n",
    "$\n",
    "```\n",
    "\n",
    "#### Repo:\n",
    "\n",
    "* GitHub repository: `alx-system_engineering-devops`\n",
    "* Directory: `0x02-shell_redirections`\n",
    "* File: `16-whatsnext`"
   ]
  },
  {
   "cell_type": "code",
   "execution_count": 2,
   "metadata": {},
   "outputs": [
    {
     "name": "stdout",
     "output_type": "stream",
     "text": [
      "Overwriting 0x02-shell_redirections/16-whatsnext\n"
     ]
    }
   ],
   "source": [
    "%%file 0x02-shell_redirections/16-whatsnext\n",
    "#!/bin/bash\n",
    "grep -A 3 \"root\" /etc/passwd "
   ]
  },
  {
   "cell_type": "code",
   "execution_count": 3,
   "metadata": {},
   "outputs": [
    {
     "name": "stdout",
     "output_type": "stream",
     "text": [
      "root:x:0:0:root:/root:/bin/bash\n",
      "daemon:x:1:1:daemon:/usr/sbin:/usr/sbin/nologin\n",
      "bin:x:2:2:bin:/bin:/usr/sbin/nologin\n",
      "sys:x:3:3:sys:/dev:/usr/sbin/nologin\n"
     ]
    }
   ],
   "source": [
    "%%bash\n",
    "chmod u+x 0x02-shell_redirections/16-whatsnext\n",
    "source ./0x02-shell_redirections/16-whatsnext\n"
   ]
  },
  {
   "cell_type": "code",
   "execution_count": 4,
   "metadata": {},
   "outputs": [
    {
     "name": "stdout",
     "output_type": "stream",
     "text": [
      "[main 3a4cf59] 16\n",
      " 3 files changed, 38 insertions(+), 46 deletions(-)\n",
      " create mode 100755 0x02-shell_redirections/16-whatsnext\n"
     ]
    },
    {
     "name": "stderr",
     "output_type": "stream",
     "text": [
      "To https://github.com/elkomysara/alx-system_engineering-devops.git\n",
      "   fb17851..3a4cf59  main -> main\n"
     ]
    }
   ],
   "source": [
    "%%bash\n",
    "git add .\n",
    "git commit -m \"16\"\n",
    "git push"
   ]
  },
  {
   "cell_type": "markdown",
   "metadata": {},
   "source": [
    "### \n",
    "\n",
    "\n",
    "---\n",
    "<center>\n",
    "<h4> 17. I hate bins</h4>\n",
    "</center>\n",
    "\n",
    "---"
   ]
  },
  {
   "cell_type": "markdown",
   "metadata": {},
   "source": [
    "##### Display all the lines in the file `/etc/passwd` that do not contain the pattern \"bin\".\n",
    "```bash\n",
    "$ ./17-hidethisword\n",
    "##\n",
    "# User Database\n",
    "#\n",
    "# Note that this file is consulted directly only when the system is running\n",
    "# in single-user mode. At other times this information is provided by\n",
    "# Open Directory.\n",
    "#\n",
    "# See the opendirectoryd(8) man page for additional information about\n",
    "# Open Directory.\n",
    "##\n",
    "$\n",
    "```\n",
    "\n",
    "#### Repo:\n",
    "\n",
    "* GitHub repository: `alx-system_engineering-devops`\n",
    "* Directory: `0x02-shell_redirections`\n",
    "* File: `17-hidethisword`"
   ]
  },
  {
   "cell_type": "code",
   "execution_count": 1,
   "metadata": {},
   "outputs": [
    {
     "name": "stdout",
     "output_type": "stream",
     "text": [
      "Writing 0x02-shell_redirections/17-hidethisword\n"
     ]
    }
   ],
   "source": [
    "%%file 0x02-shell_redirections/17-hidethisword\n",
    "#!/bin/bash\n",
    "grep -v \"bin\" /etc/passwd "
   ]
  },
  {
   "cell_type": "code",
   "execution_count": 2,
   "metadata": {},
   "outputs": [],
   "source": [
    "%%bash\n",
    "chmod u+x 0x02-shell_redirections/17-hidethisword"
   ]
  },
  {
   "cell_type": "code",
   "execution_count": 4,
   "metadata": {},
   "outputs": [],
   "source": [
    "!./0x02-shell_redirections/17-hidethisword"
   ]
  },
  {
   "cell_type": "code",
   "execution_count": 5,
   "metadata": {},
   "outputs": [
    {
     "name": "stdout",
     "output_type": "stream",
     "text": [
      "[main ed1c315] 17\n",
      " 2 files changed, 34 insertions(+), 66 deletions(-)\n",
      " create mode 100755 0x02-shell_redirections/17-hidethisword\n"
     ]
    },
    {
     "name": "stderr",
     "output_type": "stream",
     "text": [
      "To https://github.com/elkomysara/alx-system_engineering-devops.git\n",
      "   3a4cf59..ed1c315  main -> main\n"
     ]
    }
   ],
   "source": [
    "%%bash\n",
    "git add .\n",
    "git commit -m \"17\"\n",
    "git push"
   ]
  },
  {
   "cell_type": "code",
   "execution_count": null,
   "metadata": {},
   "outputs": [],
   "source": []
  },
  {
   "cell_type": "markdown",
   "metadata": {},
   "source": [
    "### \n",
    "\n",
    "\n",
    "---\n",
    "<center>\n",
    "<h4> 18. Letters only please</h4>\n",
    "</center>\n",
    "\n",
    "---"
   ]
  },
  {
   "cell_type": "markdown",
   "metadata": {},
   "source": [
    "##### Display all lines of the file `/etc/ssh/sshd_config` starting with a letter.\n",
    "* Include capital letters as well\n",
    "\n",
    "```bash\n",
    "$ ./18-letteronly\n",
    "SyslogFacility AUTHPRIV\n",
    "AuthorizedKeysFile  .ssh/authorized_keys\n",
    "UsePrivilegeSeparation sandbox # Default for new installations.\n",
    "AcceptEnv LANG LC_*\n",
    "Subsystem   sftp    /usr/libexec/sftp-server\n",
    "$\n",
    "```\n",
    "\n",
    "#### Repo:\n",
    "\n",
    "* GitHub repository: `alx-system_engineering-devops`\n",
    "* Directory: `0x02-shell_redirections`\n",
    "* File: `18-letteronly`"
   ]
  },
  {
   "cell_type": "code",
   "execution_count": 6,
   "metadata": {},
   "outputs": [
    {
     "name": "stdout",
     "output_type": "stream",
     "text": [
      "Writing 0x02-shell_redirections/18-letteronly\n"
     ]
    }
   ],
   "source": [
    "%%file 0x02-shell_redirections/18-letteronly\n",
    "#!/bin/bash\n",
    "grep '^[A-Za-z]' /etc/ssh/sshd_config"
   ]
  },
  {
   "cell_type": "code",
   "execution_count": 7,
   "metadata": {},
   "outputs": [],
   "source": [
    "%%bash\n",
    "chmod u+x 0x02-shell_redirections/18-letteronly"
   ]
  },
  {
   "cell_type": "code",
   "execution_count": 8,
   "metadata": {},
   "outputs": [
    {
     "name": "stdout",
     "output_type": "stream",
     "text": [
      "Include /etc/ssh/sshd_config.d/*.conf\n",
      "PasswordAuthentication no\n",
      "ChallengeResponseAuthentication no\n",
      "UsePAM yes\n",
      "X11Forwarding yes\n",
      "PrintMotd no\n",
      "AcceptEnv LANG LC_*\n",
      "Subsystem\tsftp\t/usr/lib/openssh/sftp-server\n"
     ]
    }
   ],
   "source": [
    "!./0x02-shell_redirections/18-letteronly"
   ]
  },
  {
   "cell_type": "code",
   "execution_count": 9,
   "metadata": {},
   "outputs": [
    {
     "name": "stdout",
     "output_type": "stream",
     "text": [
      "[main 2756a94] 18\n",
      " 2 files changed, 137 insertions(+), 6 deletions(-)\n",
      " create mode 100755 0x02-shell_redirections/18-letteronly\n"
     ]
    },
    {
     "name": "stderr",
     "output_type": "stream",
     "text": [
      "To https://github.com/elkomysara/alx-system_engineering-devops.git\n",
      "   ed1c315..2756a94  main -> main\n"
     ]
    }
   ],
   "source": [
    "%%bash\n",
    "git add .\n",
    "git commit -m \"18\"\n",
    "git push"
   ]
  },
  {
   "cell_type": "code",
   "execution_count": null,
   "metadata": {},
   "outputs": [],
   "source": []
  },
  {
   "cell_type": "markdown",
   "metadata": {},
   "source": [
    "### \n",
    "\n",
    "\n",
    "---\n",
    "<center>\n",
    "<h4> 19. A to Z </h4>\n",
    "</center>\n",
    "\n",
    "---"
   ]
  },
  {
   "cell_type": "markdown",
   "metadata": {},
   "source": [
    "##### Replace all characters `A` and `c` from input to `Z` and `e` respectively.\n",
    "\n",
    "\n",
    "```bash\n",
    "julien@ubuntu:/tmp/0x02$ echo 'Replace all characters `A` and `c` from input to `Z` and `e`.' | ./19-AZ \n",
    "Replaee all eharaeters `Z` and `e` from input to `Z` and `e`.\n",
    "julien@ubuntu:/tmp/0x02$ \n",
    "```\n",
    "\n",
    "#### Repo:\n",
    "\n",
    "* GitHub repository: `alx-system_engineering-devops`\n",
    "* Directory: `0x02-shell_redirections`\n",
    "* File: `19-AZ`"
   ]
  },
  {
   "cell_type": "code",
   "execution_count": 10,
   "metadata": {},
   "outputs": [
    {
     "name": "stdout",
     "output_type": "stream",
     "text": [
      "Writing 0x02-shell_redirections/19-AZ\n"
     ]
    }
   ],
   "source": [
    "%%file 0x02-shell_redirections/19-AZ\n",
    "#!/bin/bash\n",
    "sed 'y/Ac/Ze/'"
   ]
  },
  {
   "cell_type": "code",
   "execution_count": 23,
   "metadata": {},
   "outputs": [
    {
     "name": "stdout",
     "output_type": "stream",
     "text": [
      "Overwriting 0x02-shell_redirections/19-AZ\n"
     ]
    }
   ],
   "source": [
    "%%file 0x02-shell_redirections/19-AZ\n",
    "#!/bin/bash\n",
    "tr 'Ac' 'Ze'"
   ]
  },
  {
   "cell_type": "code",
   "execution_count": 19,
   "metadata": {},
   "outputs": [],
   "source": [
    "%%bash\n",
    "chmod u+x 0x02-shell_redirections/19-AZ"
   ]
  },
  {
   "cell_type": "code",
   "execution_count": 20,
   "metadata": {},
   "outputs": [
    {
     "name": "stdout",
     "output_type": "stream",
     "text": [
      "Replaee all eharaeters `Z` and `e` from input to `Z` and `e`.\n"
     ]
    }
   ],
   "source": [
    "!echo 'Replace all characters `A` and `c` from input to `Z` and `e`.' | ./0x02-shell_redirections/19-AZ"
   ]
  },
  {
   "cell_type": "code",
   "execution_count": 21,
   "metadata": {},
   "outputs": [
    {
     "name": "stdout",
     "output_type": "stream",
     "text": [
      "[main 6eba581] 19\n",
      " 2 files changed, 26 insertions(+), 8 deletions(-)\n"
     ]
    },
    {
     "name": "stderr",
     "output_type": "stream",
     "text": [
      "To https://github.com/elkomysara/alx-system_engineering-devops.git\n",
      "   499a07f..6eba581  main -> main\n"
     ]
    }
   ],
   "source": [
    "%%bash\n",
    "git add .\n",
    "git commit -m \"19\"\n",
    "git push"
   ]
  },
  {
   "cell_type": "code",
   "execution_count": null,
   "metadata": {},
   "outputs": [],
   "source": []
  },
  {
   "cell_type": "markdown",
   "metadata": {},
   "source": [
    "### \n",
    "\n",
    "\n",
    "---\n",
    "<center>\n",
    "<h4> 20. Without C, you would live in hiago</h4>\n",
    "</center>\n",
    "\n",
    "---"
   ]
  },
  {
   "cell_type": "markdown",
   "metadata": {},
   "source": [
    "##### Create a script that removes all letters `c` and `C` from input.\n",
    "\n",
    "\n",
    "```bash\n",
    "julien@ubuntu:/tmp/0x02$ echo Chicago | ./20-hiago \n",
    "hiago\n",
    "julien@ubuntu:/tmp/0x02$  \n",
    "```\n",
    "\n",
    "#### Repo:\n",
    "\n",
    "* GitHub repository: `alx-system_engineering-devops`\n",
    "* Directory: `0x02-shell_redirections`\n",
    "* File: `20-hiago`"
   ]
  },
  {
   "cell_type": "code",
   "execution_count": 1,
   "metadata": {},
   "outputs": [
    {
     "name": "stdout",
     "output_type": "stream",
     "text": [
      "Overwriting 0x02-shell_redirections/20-hiago\n"
     ]
    }
   ],
   "source": [
    "%%file 0x02-shell_redirections/20-hiago\n",
    "#!/bin/bash\n",
    "tr -d 'Cc'"
   ]
  },
  {
   "cell_type": "code",
   "execution_count": 2,
   "metadata": {},
   "outputs": [],
   "source": [
    "%%bash\n",
    "chmod u+x 0x02-shell_redirections/20-hiago"
   ]
  },
  {
   "cell_type": "code",
   "execution_count": 3,
   "metadata": {},
   "outputs": [
    {
     "name": "stdout",
     "output_type": "stream",
     "text": [
      "ool ats and ute ats\n"
     ]
    }
   ],
   "source": [
    "!echo 'Cool Cats and cute cats' | ./0x02-shell_redirections/20-hiago"
   ]
  },
  {
   "cell_type": "code",
   "execution_count": 5,
   "metadata": {},
   "outputs": [
    {
     "name": "stdout",
     "output_type": "stream",
     "text": [
      "[main c823c5c] Cc\n",
      " 1 file changed, 4 insertions(+), 4 deletions(-)\n"
     ]
    },
    {
     "name": "stderr",
     "output_type": "stream",
     "text": [
      "To https://github.com/elkomysara/alx-system_engineering-devops.git\n",
      "   7e129ae..c823c5c  main -> main\n"
     ]
    }
   ],
   "source": [
    "%%bash\n",
    "git add .\n",
    "git commit -m \"Cc\"\n",
    "git push"
   ]
  },
  {
   "cell_type": "code",
   "execution_count": null,
   "metadata": {},
   "outputs": [],
   "source": []
  },
  {
   "cell_type": "markdown",
   "metadata": {},
   "source": [
    "### \n",
    "\n",
    "\n",
    "---\n",
    "<center>\n",
    "<h4> 21. esreveR</h4>\n",
    "</center>\n",
    "\n",
    "---"
   ]
  },
  {
   "cell_type": "markdown",
   "metadata": {},
   "source": [
    "##### Create a script that reverse its input.\n",
    "\n",
    "\n",
    "```bash\n",
    "julien@ubuntu:/tmp/0x02$ echo \"Reverse\" | ./21-reverse \n",
    "esreveR\n",
    "julien@ubuntu:/tmp/0x02$ \n",
    "```\n",
    "\n",
    "#### Repo:\n",
    "\n",
    "* GitHub repository: `alx-system_engineering-devops`\n",
    "* Directory: `0x02-shell_redirections`\n",
    "* File: `21-reverse`"
   ]
  },
  {
   "cell_type": "code",
   "execution_count": 6,
   "metadata": {},
   "outputs": [
    {
     "name": "stdout",
     "output_type": "stream",
     "text": [
      "Writing 0x02-shell_redirections/21-reverse\n"
     ]
    }
   ],
   "source": [
    "%%file 0x02-shell_redirections/21-reverse\n",
    "#!/bin/bash\n",
    "rev"
   ]
  },
  {
   "cell_type": "code",
   "execution_count": 7,
   "metadata": {},
   "outputs": [],
   "source": [
    "%%bash\n",
    "chmod u+x 0x02-shell_redirections/21-reverse"
   ]
  },
  {
   "cell_type": "code",
   "execution_count": 8,
   "metadata": {},
   "outputs": [
    {
     "name": "stdout",
     "output_type": "stream",
     "text": [
      "esreveR\n"
     ]
    }
   ],
   "source": [
    "!echo \"Reverse\" | ./0x02-shell_redirections/21-reverse"
   ]
  },
  {
   "cell_type": "code",
   "execution_count": 9,
   "metadata": {},
   "outputs": [
    {
     "name": "stdout",
     "output_type": "stream",
     "text": [
      "[main 35e37c5] esreveR\n",
      " 2 files changed, 116 insertions(+), 4 deletions(-)\n",
      " create mode 100755 0x02-shell_redirections/21-reverse\n"
     ]
    },
    {
     "name": "stderr",
     "output_type": "stream",
     "text": [
      "To https://github.com/elkomysara/alx-system_engineering-devops.git\n",
      "   c823c5c..35e37c5  main -> main\n"
     ]
    }
   ],
   "source": [
    "%%bash\n",
    "git add .\n",
    "git commit -m \"esreveR\"\n",
    "git push"
   ]
  },
  {
   "cell_type": "code",
   "execution_count": null,
   "metadata": {},
   "outputs": [],
   "source": []
  },
  {
   "cell_type": "markdown",
   "metadata": {},
   "source": [
    "### \n",
    "\n",
    "\n",
    "---\n",
    "<center>\n",
    "<h4> 22. DJ Cut Killer</h4>\n",
    "</center>\n",
    "\n",
    "---"
   ]
  },
  {
   "cell_type": "markdown",
   "metadata": {},
   "source": [
    "##### Write a script that displays all users and their home directories, sorted by users.\n",
    "* Based on the the /etc/passwd file\n",
    "\n",
    "######\n",
    "```bash\n",
    "julien@ubuntu:/tmp/0x02$ cat /etc/passwd\n",
    "root:x:0:0:root:/root:/bin/bash\n",
    "daemon:x:1:1:daemon:/usr/sbin:/usr/sbin/nologin\n",
    "bin:x:2:2:bin:/bin:/usr/sbin/nologin\n",
    "sys:x:3:3:sys:/dev:/usr/sbin/nologin\n",
    "sync:x:4:65534:sync:/bin:/bin/sync\n",
    "games:x:5:60:games:/usr/games:/usr/sbin/nologin\n",
    "man:x:6:12:man:/var/cache/man:/usr/sbin/nologin\n",
    "lp:x:7:7:lp:/var/spool/lpd:/usr/sbin/nologin\n",
    "mail:x:8:8:mail:/var/mail:/usr/sbin/nologin\n",
    "news:x:9:9:news:/var/spool/news:/usr/sbin/nologin\n",
    "uucp:x:10:10:uucp:/var/spool/uucp:/usr/sbin/nologin\n",
    "proxy:x:13:13:proxy:/bin:/usr/sbin/nologin\n",
    "www-data:x:33:33:www-data:/var/www:/usr/sbin/nologin\n",
    "backup:x:34:34:backup:/var/backups:/usr/sbin/nologin\n",
    "list:x:38:38:Mailing List Manager:/var/list:/usr/sbin/nologin\n",
    "irc:x:39:39:ircd:/var/run/ircd:/usr/sbin/nologin\n",
    "gnats:x:41:41:Gnats Bug-Reporting System (admin):/var/lib/gnats:/usr/sbin/nologin\n",
    "nobody:x:65534:65534:nobody:/nonexistent:/usr/sbin/nologin\n",
    "systemd-timesync:x:100:102:systemd Time Synchronization,,,:/run/systemd:/bin/false\n",
    "systemd-network:x:101:103:systemd Network Management,,,:/run/systemd/netif:/bin/false\n",
    "systemd-resolve:x:102:104:systemd Resolver,,,:/run/systemd/resolve:/bin/false\n",
    "systemd-bus-proxy:x:103:105:systemd Bus Proxy,,,:/run/systemd:/bin/false\n",
    "syslog:x:104:108::/home/syslog:/bin/false\n",
    "_apt:x:105:65534::/nonexistent:/bin/false\n",
    "messagebus:x:106:110::/var/run/dbus:/bin/false\n",
    "uuidd:x:107:111::/run/uuidd:/bin/false\n",
    "lightdm:x:108:114:Light Display Manager:/var/lib/lightdm:/bin/false\n",
    "whoopsie:x:109:116::/nonexistent:/bin/false\n",
    "avahi-autoipd:x:110:119:Avahi autoip daemon,,,:/var/lib/avahi-autoipd:/bin/false\n",
    "avahi:x:111:120:Avahi mDNS daemon,,,:/var/run/avahi-daemon:/bin/false\n",
    "dnsmasq:x:112:65534:dnsmasq,,,:/var/lib/misc:/bin/false\n",
    "colord:x:113:123:colord colour management daemon,,,:/var/lib/colord:/bin/false\n",
    "speech-dispatcher:x:114:29:Speech Dispatcher,,,:/var/run/speech-dispatcher:/bin/false\n",
    "hplip:x:115:7:HPLIP system user,,,:/var/run/hplip:/bin/false\n",
    "kernoops:x:116:65534:Kernel Oops Tracking Daemon,,,:/:/bin/false\n",
    "pulse:x:117:124:PulseAudio daemon,,,:/var/run/pulse:/bin/false\n",
    "rtkit:x:118:126:RealtimeKit,,,:/proc:/bin/false\n",
    "saned:x:119:127::/var/lib/saned:/bin/false\n",
    "usbmux:x:120:46:usbmux daemon,,,:/var/lib/usbmux:/bin/false\n",
    "julien:x:1000:1000:Julien Barbier,,,:/home/julien:/bin/bash\n",
    "guillaume:x:1001:1001:,,,:/home/guillaume:/bin/bash\n",
    "betty:x:1002:1002::/home/betty:\n",
    "julien@ubuntu:/tmp/0x02$\n",
    "julien@ubuntu:/tmp/0x02$ ./22-users_and_homes \n",
    "_apt:/nonexistent\n",
    "avahi-autoipd:/var/lib/avahi-autoipd\n",
    "avahi:/var/run/avahi-daemon\n",
    "backup:/var/backups\n",
    "betty:/home/betty\n",
    "bin:/bin\n",
    "colord:/var/lib/colord\n",
    "daemon:/usr/sbin\n",
    "dnsmasq:/var/lib/misc\n",
    "games:/usr/games\n",
    "gnats:/var/lib/gnats\n",
    "guillaume:/home/guillaume\n",
    "hplip:/var/run/hplip\n",
    "irc:/var/run/ircd\n",
    "julien:/home/julien\n",
    "kernoops:/\n",
    "lightdm:/var/lib/lightdm\n",
    "list:/var/list\n",
    "lp:/var/spool/lpd\n",
    "mail:/var/mail\n",
    "man:/var/cache/man\n",
    "messagebus:/var/run/dbus\n",
    "news:/var/spool/news\n",
    "nobody:/nonexistent\n",
    "proxy:/bin\n",
    "pulse:/var/run/pulse\n",
    "root:/root\n",
    "rtkit:/proc\n",
    "saned:/var/lib/saned\n",
    "speech-dispatcher:/var/run/speech-dispatcher\n",
    "sync:/bin\n",
    "sys:/dev\n",
    "syslog:/home/syslog\n",
    "systemd-bus-proxy:/run/systemd\n",
    "systemd-network:/run/systemd/netif\n",
    "systemd-resolve:/run/systemd/resolve\n",
    "systemd-timesync:/run/systemd\n",
    "usbmux:/var/lib/usbmux\n",
    "uucp:/var/spool/uucp\n",
    "uuidd:/run/uuidd\n",
    "whoopsie:/nonexistent\n",
    "www-data:/var/www\n",
    "julien@ubuntu:/tmp/0x02$ \n",
    "```\n",
    "\n",
    "#### Repo:\n",
    "\n",
    "* GitHub repository: `alx-system_engineering-devops`\n",
    "* Directory: `0x02-shell_redirections`\n",
    "* File: `22-users_and_homes`"
   ]
  },
  {
   "cell_type": "code",
   "execution_count": 4,
   "metadata": {},
   "outputs": [
    {
     "name": "stdout",
     "output_type": "stream",
     "text": [
      "Writing 0x02-shell_redirections/22-users_and_homes\n"
     ]
    }
   ],
   "source": [
    "%%file 0x02-shell_redirections/22-users_and_homes\n",
    "#!/bin/bash\n",
    "cut -d: -f1,6 /etc/passwd | sort -t: -k1,1"
   ]
  },
  {
   "cell_type": "code",
   "execution_count": 9,
   "metadata": {},
   "outputs": [],
   "source": [
    "%%capture\n",
    "!cut -d: -f1,6 /etc/passwd | sort -t: -k1,1 \n",
    "!cat /etc/passwd"
   ]
  },
  {
   "cell_type": "code",
   "execution_count": 16,
   "metadata": {},
   "outputs": [],
   "source": [
    "%%capture\n",
    "!chmod u+x 0x02-shell_redirections/22-users_and_homes\n",
    "!./0x02-shell_redirections/22-users_and_homes"
   ]
  },
  {
   "cell_type": "code",
   "execution_count": 12,
   "metadata": {},
   "outputs": [
    {
     "name": "stdout",
     "output_type": "stream",
     "text": [
      "[main 5006fc8] 22\n",
      " 2 files changed, 255 insertions(+), 4 deletions(-)\n",
      " create mode 100755 0x02-shell_redirections/22-users_and_homes\n"
     ]
    },
    {
     "name": "stderr",
     "output_type": "stream",
     "text": [
      "To https://github.com/elkomysara/alx-system_engineering-devops.git\n",
      "   35e37c5..5006fc8  main -> main\n"
     ]
    }
   ],
   "source": [
    "%%bash\n",
    "git add .\n",
    "git commit -m \"22\"\n",
    "git push"
   ]
  },
  {
   "cell_type": "code",
   "execution_count": null,
   "metadata": {},
   "outputs": [],
   "source": []
  },
  {
   "cell_type": "markdown",
   "metadata": {},
   "source": [
    "### \n",
    "\n",
    "\n",
    "---\n",
    "<center>\n",
    "<h4> 23. Empty casks make the most noise</h4>\n",
    "</center>\n",
    "\n",
    "---"
   ]
  },
  {
   "cell_type": "markdown",
   "metadata": {},
   "source": [
    "##### Write a command that finds all empty files and directories in the current directory and all sub-directories.\n",
    "\n",
    "* Only the names of the files and directories should be displayed (not the entire path)\n",
    "* Hidden files should be listed\n",
    "* One file name per line\n",
    "* The listing should end with a new line\n",
    "* You are not allowed to use `basename`, `grep`, `egrep`, `fgrep` or `rgrep`\n",
    "\n",
    "######\n",
    "```bash\n",
    "ubuntu@ip-172-31-63-244:~/0x02-shell_redirections$ ls -laR\n",
    ".:\n",
    "total 64\n",
    "drwxrwxr-x 5 ubuntu ubuntu 4096 Oct  7 00:48 .\n",
    "drwxrwxr-x 7 ubuntu ubuntu 4096 Sep 29 21:36 ..\n",
    "-rwxrwxr-x 1 ubuntu ubuntu   56 Feb  8  2016 0-commas\n",
    "drwxrwxr-x 2 ubuntu ubuntu 4096 Feb  8  2016 0-commas-checks\n",
    "-rwxrwxr-x 1 ubuntu ubuntu   48 Feb  8  2016 1-empty_casks\n",
    "-rwxrwxr-x 1 ubuntu ubuntu   68 Feb  8  2016 2-gifs\n",
    "-rwxrwxr-x 1 ubuntu ubuntu   47 Feb  8  2016 3-directories\n",
    "-rwxrwxr-x 1 ubuntu ubuntu   41 Feb  8  2016 4-zeros\n",
    "-rwxrwxr-x 1 ubuntu ubuntu   43 Feb  8  2016 5-rot13\n",
    "-rwxrwxr-x 1 ubuntu ubuntu   25 Feb  8  2016 6-odd\n",
    "-rwxrwxr-x 1 ubuntu ubuntu   73 Feb  8  2016 7-sort_rot13\n",
    "-rw-rw-r-- 1 ubuntu ubuntu    0 Oct  7 00:46 ........gif\n",
    "-rw-rw-r-- 1 ubuntu ubuntu    0 Oct  7 00:47 ..hello.gif\n",
    "drwxrwxr-x 2 ubuntu ubuntu 4096 Oct  7 00:41 javascript\n",
    "-rw-rw-r-- 1 ubuntu ubuntu    0 Oct  7 00:48 Kris_is_awesome :)\n",
    "-rw-rw-r-- 1 ubuntu ubuntu   14 Feb  8  2016 Makefile\n",
    "-rw-rw-r-- 1 ubuntu ubuntu   69 Feb  8  2016 quote\n",
    "-rw-rw-r-- 1 ubuntu ubuntu    0 Oct  7 00:24 Rona_napping.gif\n",
    "-rw-rw-r-- 1 ubuntu ubuntu    0 Oct  6 23:59 root.gif\n",
    "-rw-rw-r-- 1 ubuntu ubuntu    0 Mar 24  2016 ..something\n",
    "drwxrwxr-x 3 ubuntu ubuntu 4096 Feb  8  2016 test_dir\n",
    "-rwxrwxr-x 1 ubuntu ubuntu   54 Feb  8  2016 test.var\n",
    "\n",
    "./0-commas-checks:\n",
    "total 16\n",
    "drwxrwxr-x 2 ubuntu ubuntu 4096 Feb  8  2016 .\n",
    "drwxrwxr-x 5 ubuntu ubuntu 4096 Oct  7 00:48 ..\n",
    "-rw-rw-r-- 1 ubuntu ubuntu 1361 Feb  8  2016 28-check.php\n",
    "-rw-rw-r-- 1 ubuntu ubuntu  481 Feb  8  2016 28-check.php~\n",
    "\n",
    "./javascript:\n",
    "total 8\n",
    "drwxrwxr-x 2 ubuntu ubuntu 4096 Oct  7 00:41 .\n",
    "drwxrwxr-x 5 ubuntu ubuntu 4096 Oct  7 00:48 ..\n",
    "\n",
    "./test_dir:\n",
    "total 12\n",
    "drwxrwxr-x 3 ubuntu ubuntu 4096 Feb  8  2016 .\n",
    "drwxrwxr-x 5 ubuntu ubuntu 4096 Oct  7 00:48 ..\n",
    "-rw-rw-r-- 1 ubuntu ubuntu    0 Feb  8  2016 docker.gif\n",
    "-rw-rw-r-- 1 ubuntu ubuntu    0 Feb  8  2016 file.sh\n",
    "-rw-rw-r-- 1 ubuntu ubuntu    0 Feb  8  2016 .horrible_selfie.gif\n",
    "drwxrwxr-x 2 ubuntu ubuntu 4096 Feb  8  2016 photos\n",
    "-rw-rw-r-- 1 ubuntu ubuntu    0 Feb  8  2016 README.md\n",
    "\n",
    "./test_dir/photos:\n",
    "total 8\n",
    "drwxrwxr-x 2 ubuntu ubuntu 4096 Feb  8  2016 .\n",
    "drwxrwxr-x 3 ubuntu ubuntu 4096 Feb  8  2016 ..\n",
    "-rw-rw-r-- 1 ubuntu ubuntu    0 Feb  8  2016 cat.gif\n",
    "-rw-rw-r-- 1 ubuntu ubuntu    0 Feb  8  2016 index.html\n",
    "-rw-rw-r-- 1 ubuntu ubuntu    0 Feb  8  2016 main.gif\n",
    "-rw-rw-r-- 1 ubuntu ubuntu    0 Feb  8  2016 rudy_rigot.gif\n",
    "ubuntu@ip-172-31-63-244:~/0x02-shell_redirections$ ./100-empty_casks\n",
    "Rona_napping.gif\n",
    "javascript\n",
    "root.gif\n",
    "..something\n",
    "Kris_is_awesome :)\n",
    "..hello.gif\n",
    "file.sh\n",
    "docker.gif\n",
    "README.md\n",
    "index.html\n",
    "main.gif\n",
    "cat.gif\n",
    "rudy_rigot.gif\n",
    ".horrible_selfie.gif\n",
    "........gif\n",
    "ubuntu@ip-172-31-63-244:~/0x02-shell_redirections$\n",
    "```\n",
    "\n",
    "#### Repo:\n",
    "\n",
    "* GitHub repository: `alx-system_engineering-devops`\n",
    "* Directory: `0x02-shell_redirections`\n",
    "* File: `100-empty_casks`"
   ]
  },
  {
   "cell_type": "code",
   "execution_count": 39,
   "metadata": {},
   "outputs": [
    {
     "name": "stdout",
     "output_type": "stream",
     "text": [
      "Overwriting 0x02-shell_redirections/100-empty_casks\n"
     ]
    }
   ],
   "source": [
    "%%file 0x02-shell_redirections/100-empty_casks\n",
    "#!/bin/bash\n",
    "find . -empty -printf \"%f\\n\""
   ]
  },
  {
   "cell_type": "code",
   "execution_count": 40,
   "metadata": {},
   "outputs": [
    {
     "name": "stdout",
     "output_type": "stream",
     "text": [
      "iacta\n",
      "branches\n",
      "tags\n",
      "info\n",
      "test.HTML\n",
      "hello\n"
     ]
    }
   ],
   "source": [
    "\n",
    "!find . -empty -printf \"%f\\n\""
   ]
  },
  {
   "cell_type": "code",
   "execution_count": 41,
   "metadata": {},
   "outputs": [],
   "source": [
    "%%capture\n",
    "!chmod u+x 0x02-shell_redirections/100-empty_casks\n",
    "!./0x02-shell_redirections/100-empty_casks"
   ]
  },
  {
   "cell_type": "code",
   "execution_count": 42,
   "metadata": {},
   "outputs": [
    {
     "name": "stdout",
     "output_type": "stream",
     "text": [
      "[main 2a29647] 100-empty_casks\n",
      " 2 files changed, 8 insertions(+), 9 deletions(-)\n"
     ]
    },
    {
     "name": "stderr",
     "output_type": "stream",
     "text": [
      "To https://github.com/elkomysara/alx-system_engineering-devops.git\n",
      "   82a6b12..2a29647  main -> main\n"
     ]
    }
   ],
   "source": [
    "%%bash\n",
    "git add .\n",
    "git commit -m \"100-empty_casks\"\n",
    "git push"
   ]
  },
  {
   "cell_type": "markdown",
   "metadata": {},
   "source": [
    "<details>\n",
    "  <summary>explanations</summary>\n",
    "\n",
    "| Placeholder | Description |\n",
    "|-------------|-------------|\n",
    "| `%f` | File name without directory |\n",
    "| `%p` | Full path of the file |\n",
    "| `%h` | Directory part of the path |\n",
    "| `%t` | File type |\n",
    "| `%s` | File size in bytes |\n",
    "| `%u` | User ownership |\n",
    "| `%g` | Group ownership |\n",
    "| `%m` | File permissions in octal |\n",
    "| `%A@` | Last access time in human-readable format |\n",
    "| `%P` | Path of the file relative to the starting point |\n",
    "| `%k` | File size in 1K blocks |\n",
    "| `%T@` | Modification time in human-readable format |\n",
    "| `%C@` | Status change time in human-readable format |\n",
    "| `%i` | File’s inode number |\n",
    "| `%n` | Number of hard links to file |\n",
    "| `%l` | Object of symbolic link |\n",
    "| `%d` | Depth of the file in the directory tree |\n",
    "| `%Y` | File type (like `%t`), but follow symbolic links |\n",
    "| `%G` | Group name of file’s owner |\n",
    "| `%U` | User name of file’s owner |\n",
    "\n",
    "</details>\n"
   ]
  },
  {
   "cell_type": "code",
   "execution_count": null,
   "metadata": {},
   "outputs": [],
   "source": []
  },
  {
   "cell_type": "markdown",
   "metadata": {},
   "source": [
    "### \n",
    "\n",
    "\n",
    "---\n",
    "<center>\n",
    "<h4> 24. A gif is worth ten thousand words</h4>\n",
    "</center>\n",
    "\n",
    "---"
   ]
  },
  {
   "cell_type": "markdown",
   "metadata": {},
   "source": [
    "##### Write a script that lists all the files with a `.gif` extension in the current directory and all its sub-directories.\n",
    "\n",
    "* Hidden files should be listed\n",
    "* Only regular files (not directories) should be listed\n",
    "* The names of the files should be displayed without their extensions\n",
    "* The files should be sorted by byte values, but case-insensitive (file `aaa` should be listed before file `bbb`, file `.b` should be listed before file `a`, and file `Rona` should be listed after file `jay`)\n",
    "* One file name per line\n",
    "* The listing should end with a new line\n",
    "* You are not allowed to use `basename`, `grep`, `egrep`, `fgrep` or `rgrep`\n",
    "\n",
    "######\n",
    "```bash\n",
    " julien@production-503e7013:~/shell/fun_with_the_shell$ ls -Rla\n",
    "    .:\n",
    "    total 28\n",
    "    drwxrwxr-x 3 julien julien 4096 Jan 20 03:35 .\n",
    "    drwxrwxr-x 3 julien julien 4096 Jan 20 02:58 ..\n",
    "    -rwxr--r-- 1 julien julien 43 Jan 20 02:59 0-commas\n",
    "    -rwxr--r-- 1 julien julien 47 Jan 20 02:50 1-empty_casks\n",
    "    -rwxrw-r-- 1 julien julien 68 Jan 20 03:35 2-gifs\n",
    "    -rw-rw-r-- 1 julien julien 14 Jan 20 03:35 Makefile\n",
    "    drwxrwxr-x 4 julien julien 4096 Jan 20 03:42 test_dir\n",
    "\n",
    "    ./test_dir:\n",
    "    total 16\n",
    "    drwxrwxr-x 4 julien julien 4096 Jan 20 03:42 .\n",
    "    drwxrwxr-x 3 julien julien 4096 Jan 20 03:35 ..\n",
    "    -rw-rw-r-- 1 julien julien 0 Jan 20 03:40 .horrible_selfie.gif\n",
    "    -rw-rw-r-- 1 julien julien 0 Jan 20 03:23 README.md\n",
    "    -rw-rw-r-- 1 julien julien 0 Jan 20 03:17 docker.gif\n",
    "    -rw-rw-r-- 1 julien julien 0 Jan 20 03:17 file.sh\n",
    "    drwxrwxr-x 2 julien julien 4096 Jan 20 03:23 photos\n",
    "    drwxrwxr-x 2 julien julien 4096 Jan 20 03:23 rep.gif\n",
    "\n",
    "    ./test_dir/photos:\n",
    "    total 8\n",
    "    drwxrwxr-x 2 julien julien 4096 Jan 20 03:23 .\n",
    "    drwxrwxr-x 4 julien julien 4096 Jan 20 03:42 ..\n",
    "    -rw-rw-r-- 1 julien julien 0 Jan 20 03:23 cat.gif\n",
    "    -rw-rw-r-- 1 julien julien 0 Jan 20 03:22 index.html\n",
    "    -rw-rw-r-- 1 julien julien 0 Jan 20 03:23 main.gif\n",
    "    -rw-rw-r-- 1 julien julien 0 Jan 20 03:23 Electra_napping.gif\n",
    "\n",
    "    ./test_dir/rep.gif:\n",
    "    total 8\n",
    "    drwxrwxr-x 2 julien julien 4096 Jan 20 03:23 .\n",
    "    drwxrwxr-x 4 julien julien 4096 Jan 20 03:42 ..\n",
    "    julien@production-503e7013:~/shell/fun_with_the_shell$ ./101-gifs\n",
    "    .horrible_selfie\n",
    "    cat\n",
    "    docker\n",
    "    Electra_napping\n",
    "    main\n",
    "    julien@production-503e7013:~/shell/fun_with_the_shell$\n",
    "```\n",
    "\n",
    "#### Repo:\n",
    "\n",
    "* GitHub repository: `alx-system_engineering-devops`\n",
    "* Directory: `0x02-shell_redirections`\n",
    "* File: `101-gifs`"
   ]
  },
  {
   "cell_type": "code",
   "execution_count": 74,
   "metadata": {},
   "outputs": [
    {
     "name": "stdout",
     "output_type": "stream",
     "text": [
      "Overwriting 0x02-shell_redirections/101-gifs\n"
     ]
    }
   ],
   "source": [
    "%%file 0x02-shell_redirections/101-gifs\n",
    "#!/bin/bash\n",
    "find -type f -name \"*.gif\" | rev | cut -d \"/\" -f 1 | cut -d '.' -f 2- | rev | LC_ALL=C sort -f"
   ]
  },
  {
   "cell_type": "code",
   "execution_count": 67,
   "metadata": {},
   "outputs": [
    {
     "name": "stdout",
     "output_type": "stream",
     "text": [
      "test\n"
     ]
    }
   ],
   "source": [
    "!find -type f -name \"*.gif\" | cut -d \"/\" -f 2 | cut -d '.' -f 1 | LC_ALL=C sort -f"
   ]
  },
  {
   "cell_type": "code",
   "execution_count": 69,
   "metadata": {},
   "outputs": [
    {
     "name": "stdout",
     "output_type": "stream",
     "text": [
      "^C\n"
     ]
    }
   ],
   "source": [
    "!LC_ALL=C sort -f"
   ]
  },
  {
   "cell_type": "code",
   "execution_count": 70,
   "metadata": {},
   "outputs": [],
   "source": [
    "%%capture\n",
    "!chmod u+x 0x02-shell_redirections/101-gifs\n",
    "!./0x02-shell_redirections/101-gifs"
   ]
  },
  {
   "cell_type": "code",
   "execution_count": 75,
   "metadata": {},
   "outputs": [
    {
     "name": "stdout",
     "output_type": "stream",
     "text": [
      "[main b9a92d1] 101-gifs\n",
      " 2 files changed, 7 insertions(+), 9 deletions(-)\n"
     ]
    },
    {
     "name": "stderr",
     "output_type": "stream",
     "text": [
      "To https://github.com/elkomysara/alx-system_engineering-devops.git\n",
      "   54a9dee..b9a92d1  main -> main\n"
     ]
    }
   ],
   "source": [
    "%%bash\n",
    "git add .\n",
    "git commit -m \"101-gifs\"\n",
    "git push"
   ]
  },
  {
   "cell_type": "code",
   "execution_count": null,
   "metadata": {},
   "outputs": [],
   "source": []
  },
  {
   "cell_type": "markdown",
   "metadata": {},
   "source": [
    "### \n",
    "\n",
    "\n",
    "---\n",
    "<center>\n",
    "<h4> 25. Acrostic</h4>\n",
    "</center>\n",
    "\n",
    "---"
   ]
  },
  {
   "cell_type": "markdown",
   "metadata": {},
   "source": [
    "##### An acrostic is a poem (or other form of writing) in which the first letter (or syllable, or word) of each line (or paragraph, or other recurring feature in the text) spells out a word, message or the alphabet. The word comes from the French acrostiche from post-classical Latin acrostichis). As a form of constrained writing, an acrostic can be used as a mnemonic device to aid memory retrieval. [Read more](https://en.wikipedia.org/wiki/Acrostic).\n",
    "\n",
    "Create a script that decodes acrostics that use the first letter of each line.\n",
    "\n",
    "* The ‘decoded’ message has to end with a new line\n",
    "* You are not allowed to use `grep`, `egrep`, `fgrep` or `rgrep`\n",
    "\n",
    "\n",
    "```bash\n",
    "julien@ubuntu:/tmp/0x02$ cat An\\ Acrostic \n",
    "Elizabeth it is in vain you say\n",
    "Love not\"—thou sayest it in so sweet a way:\n",
    "In vain those words from thee or L.E.L.\n",
    "Zantippe's talents had enforced so well:\n",
    "Ah! if that language from thy heart arise,\n",
    "Breath it less gently forth—and veil thine eyes.\n",
    "Endymion, recollect, when Luna tried\n",
    "To cure his love—was cured of all beside—\n",
    "His follie—pride—and passion—for he died.\n",
    "julien@ubuntu:/tmp/0x02$ ./102-acrostic < An\\ Acrostic \n",
    "ELIZABETH\n",
    "julien@ubuntu:/tmp/0x02$ \n",
    "```\n",
    "\n",
    "#### Repo:\n",
    "\n",
    "* GitHub repository: `alx-system_engineering-devops`\n",
    "* Directory: `0x02-shell_redirections`\n",
    "* File: `102-acrostic`"
   ]
  },
  {
   "cell_type": "code",
   "execution_count": 96,
   "metadata": {},
   "outputs": [
    {
     "name": "stdout",
     "output_type": "stream",
     "text": [
      "Overwriting 0x02-shell_redirections/102-acrostic\n"
     ]
    }
   ],
   "source": [
    "%%file 0x02-shell_redirections/102-acrostic\n",
    "#!/bin/bash\n",
    "cut -c1 | paste -s -d ''"
   ]
  },
  {
   "cell_type": "code",
   "execution_count": 81,
   "metadata": {},
   "outputs": [
    {
     "name": "stdout",
     "output_type": "stream",
     "text": [
      "Writing An Acrostic\n"
     ]
    }
   ],
   "source": [
    "%%file \"An Acrostic\"\n",
    "Elizabeth it is in vain you say\n",
    "Love not\"—thou sayest it in so sweet a way:\n",
    "In vain those words from thee or L.E.L.\n",
    "Zantippe's talents had enforced so well:\n",
    "Ah! if that language from thy heart arise,\n",
    "Breath it less gently forth—and veil thine eyes.\n",
    "Endymion, recollect, when Luna tried\n",
    "To cure his love—was cured of all beside—\n",
    "His follie—pride—and passion—for he died."
   ]
  },
  {
   "cell_type": "code",
   "execution_count": 88,
   "metadata": {},
   "outputs": [
    {
     "name": "stdout",
     "output_type": "stream",
     "text": [
      "^C\n"
     ]
    }
   ],
   "source": [
    "!cut -c1 | tr -d '\\n'; echo < An\\ Acrostic"
   ]
  },
  {
   "cell_type": "code",
   "execution_count": 90,
   "metadata": {},
   "outputs": [
    {
     "name": "stdout",
     "output_type": "stream",
     "text": [
      "Elizabeth it is in vain you sayLove not\"—thou sayest it in so sweet a way:In vain those words from thee or L.E.L.Zantippe's talents had enforced so well:Ah! if that language from thy heart arise,Breath it less gently forth—and veil thine eyes.Endymion, recollect, when Luna triedTo cure his love—was cured of all beside—His follie—pride—and passion—for he died.\n"
     ]
    },
    {
     "name": "stdout",
     "output_type": "stream",
     "text": [
      "^C\n"
     ]
    }
   ],
   "source": [
    "!cut -c1 | paste -s -d '' < An\\ Acrostic"
   ]
  },
  {
   "cell_type": "code",
   "execution_count": 82,
   "metadata": {},
   "outputs": [
    {
     "name": "stdout",
     "output_type": "stream",
     "text": [
      "Elizabeth it is in vain you say\n",
      "Love not\"—thou sayest it in so sweet a way:\n",
      "In vain those words from thee or L.E.L.\n",
      "Zantippe's talents had enforced so well:\n",
      "Ah! if that language from thy heart arise,\n",
      "Breath it less gently forth—and veil thine eyes.\n",
      "Endymion, recollect, when Luna tried\n",
      "To cure his love—was cured of all beside—\n",
      "His follie—pride—and passion—for he died.\n"
     ]
    }
   ],
   "source": [
    "!cat An\\ Acrostic"
   ]
  },
  {
   "cell_type": "code",
   "execution_count": 97,
   "metadata": {},
   "outputs": [
    {
     "name": "stdout",
     "output_type": "stream",
     "text": [
      "ELIZABETH\n"
     ]
    }
   ],
   "source": [
    "\n",
    "!chmod u+x 0x02-shell_redirections/102-acrostic\n",
    "!./0x02-shell_redirections/102-acrostic < An\\ Acrostic"
   ]
  },
  {
   "cell_type": "code",
   "execution_count": 98,
   "metadata": {},
   "outputs": [
    {
     "name": "stdout",
     "output_type": "stream",
     "text": [
      "[main 86b560e] 0x02-shell_redirections/102-acrostic\n",
      " 2 files changed, 19 insertions(+), 9 deletions(-)\n"
     ]
    },
    {
     "name": "stderr",
     "output_type": "stream",
     "text": [
      "To https://github.com/elkomysara/alx-system_engineering-devops.git\n",
      "   5a933a3..86b560e  main -> main\n"
     ]
    }
   ],
   "source": [
    "%%bash\n",
    "git add .\n",
    "git commit -m \"0x02-shell_redirections/102-acrostic\"\n",
    "git push"
   ]
  },
  {
   "cell_type": "code",
   "execution_count": null,
   "metadata": {},
   "outputs": [],
   "source": []
  },
  {
   "cell_type": "markdown",
   "metadata": {},
   "source": [
    "### \n",
    "\n",
    "\n",
    "---\n",
    "<center>\n",
    "<h4> 26. The biggest fan</h4>\n",
    "</center>\n",
    "\n",
    "---"
   ]
  },
  {
   "cell_type": "markdown",
   "metadata": {},
   "source": [
    "##### Write a script that parses web servers logs in TSV format as input and displays the 11 hosts or IP addresses which did the most requests.\n",
    "\n",
    "* Order by number of requests, most active host or IP at the top\n",
    "* You are not allowed to use `grep`, `egrep`, `fgrep` or `rgrep`\n",
    "\n",
    "##### Format:\n",
    "```bash\n",
    "host    When possible, the hostname making the request. Uses the IP address if the hostname was unavailable.\n",
    "logname Unused, always -\n",
    "time    In seconds, since 1970\n",
    "method  HTTP method: GET, HEAD, or POST\n",
    "url Requested path\n",
    "response    HTTP response code\n",
    "bytes   Number of bytes in the reply \n",
    "```\n",
    "##### Here is an example with one day of logs of the NASA website (1995).\n",
    "```bash\n",
    "julien@ubuntu:/tmp/0x02$ wget https://s3.amazonaws.com/alx-intranet.hbtn.io/public/nasa_19950801.tsv\n",
    "--2022-03-08 11:08:26--  https://s3.amazonaws.com/alx-intranet.hbtn.io/public/nasa_19950801.tsv\n",
    "Resolving s3.amazonaws.com (s3.amazonaws.com)... 52.217.171.144\n",
    "Connecting to s3.amazonaws.com (s3.amazonaws.com)|52.217.171.144|:443... connected.\n",
    "HTTP request sent, awaiting response... 200 OK\n",
    "Length: 782913 (765K) [binary/octet-stream]\n",
    "Saving to: ‘nasa_19950801.tsv’\n",
    "\n",
    "nasa_19950801.tsv   100%[===================>] 764.56K  --.-KB/s    in 0.008s\n",
    "\n",
    "2022-03-08 11:08:26 (98.4 MB/s) - ‘nasa_19950801.tsv’ saved [782913/782913]\n",
    "\n",
    "julien@ubuntu:/tmp/0x02$ head nasa_19950801.tsv\n",
    "host    logname time    method  url     response        bytes\n",
    "in24.inetnebr.com       -       807249601       GET     /shuttle/missions/sts-68/news/sts-68-mcc-05.txt 200     1839\n",
    "uplherc.upl.com -       807249607       GET     /       304     0\n",
    "uplherc.upl.com -       807249608       GET     /images/ksclogo-medium.gif      304     0\n",
    "uplherc.upl.com -       807249608       GET     /images/MOSAIC-logosmall.gif    304     0\n",
    "uplherc.upl.com -       807249608       GET     /images/USA-logosmall.gif       304     0\n",
    "ix-esc-ca2-07.ix.netcom.com     -       807249609       GET     /images/launch-logo.gif 200     1713\n",
    "uplherc.upl.com -       807249610       GET     /images/WORLD-logosmall.gif     304     0\n",
    "slppp6.intermind.net    -       807249610       GET     /history/skylab/skylab.html     200     1687\n",
    "piweba4y.prodigy.com    -       807249610       GET     /images/launchmedium.gif        200     11853\n",
    "julien@ubuntu:/tmp/0x02$ ./103-the_biggest_fan < nasa_19950801.tsv \n",
    "www-relay.pa-x.dec.com\n",
    "piweba3y.prodigy.com\n",
    "www.thyssen.com\n",
    "130.110.74.81\n",
    "ix-min1-02.ix.netcom.com\n",
    "uplherc.upl.com\n",
    "reggae.iinet.net.au\n",
    "seigate.sumiden.co.jp\n",
    "ircgate1.rcc-irc.si\n",
    "s150.phxslip4.indirect.com\n",
    "torben.dou.dk\n",
    "julien@ubuntu:/tmp/0x02$ \n",
    "```\n",
    "\n",
    "#### Repo:\n",
    "\n",
    "* GitHub repository: `alx-system_engineering-devops`\n",
    "* Directory: `0x02-shell_redirections`\n",
    "* File: `103-the_biggest_fan`"
   ]
  },
  {
   "cell_type": "code",
   "execution_count": 101,
   "metadata": {},
   "outputs": [
    {
     "name": "stdout",
     "output_type": "stream",
     "text": [
      "Writing 0x02-shell_redirections/103-the_biggest_fan\n"
     ]
    }
   ],
   "source": [
    "%%file 0x02-shell_redirections/103-the_biggest_fan\n",
    "#!/bin/bash\n",
    "tail -n +2 | cut -f -1 | sort -k 1 | uniq -c | sort -rnk 1 | head -n 11 | rev | cut -d ' ' -f -1 | rev"
   ]
  },
  {
   "cell_type": "code",
   "execution_count": 99,
   "metadata": {},
   "outputs": [
    {
     "name": "stdout",
     "output_type": "stream",
     "text": [
      "--2024-04-05 16:26:01--  https://s3.amazonaws.com/alx-intranet.hbtn.io/public/nasa_19950801.tsv\n",
      "Resolving s3.amazonaws.com (s3.amazonaws.com)... 54.231.165.48, 52.217.98.118, 52.217.113.40, ...\n",
      "Connecting to s3.amazonaws.com (s3.amazonaws.com)|54.231.165.48|:443... connected.\n",
      "HTTP request sent, awaiting response... 200 OK\n",
      "Length: 782913 (765K) [binary/octet-stream]\n",
      "Saving to: ‘nasa_19950801.tsv’\n",
      "\n",
      "nasa_19950801.tsv   100%[===================>] 764.56K  5.84KB/s    in 2m 2s   \n",
      "\n",
      "2024-04-05 16:28:09 (6.25 KB/s) - ‘nasa_19950801.tsv’ saved [782913/782913]\n",
      "\n"
     ]
    }
   ],
   "source": [
    "!wget https://s3.amazonaws.com/alx-intranet.hbtn.io/public/nasa_19950801.tsv"
   ]
  },
  {
   "cell_type": "code",
   "execution_count": 100,
   "metadata": {},
   "outputs": [
    {
     "name": "stdout",
     "output_type": "stream",
     "text": [
      "host\tlogname\ttime\tmethod\turl\tresponse\tbytes\n",
      "in24.inetnebr.com\t-\t807249601\tGET\t/shuttle/missions/sts-68/news/sts-68-mcc-05.txt\t200\t1839\t\t\n",
      "uplherc.upl.com\t-\t807249607\tGET\t/\t304\t0\t\t\n",
      "uplherc.upl.com\t-\t807249608\tGET\t/images/ksclogo-medium.gif\t304\t0\t\t\n",
      "uplherc.upl.com\t-\t807249608\tGET\t/images/MOSAIC-logosmall.gif\t304\t0\t\t\n",
      "uplherc.upl.com\t-\t807249608\tGET\t/images/USA-logosmall.gif\t304\t0\t\t\n",
      "ix-esc-ca2-07.ix.netcom.com\t-\t807249609\tGET\t/images/launch-logo.gif\t200\t1713\t\t\n",
      "uplherc.upl.com\t-\t807249610\tGET\t/images/WORLD-logosmall.gif\t304\t0\t\t\n",
      "slppp6.intermind.net\t-\t807249610\tGET\t/history/skylab/skylab.html\t200\t1687\t\t\n",
      "piweba4y.prodigy.com\t-\t807249610\tGET\t/images/launchmedium.gif\t200\t11853\t\t\n"
     ]
    }
   ],
   "source": [
    "!head nasa_19950801.tsv"
   ]
  },
  {
   "cell_type": "code",
   "execution_count": 106,
   "metadata": {},
   "outputs": [
    {
     "name": "stdout",
     "output_type": "stream",
     "text": [
      "www-relay.pa-x.dec.com\n",
      "piweba3y.prodigy.com\n",
      "www.thyssen.com\n",
      "130.110.74.81\n",
      "ix-min1-02.ix.netcom.com\n",
      "uplherc.upl.com\n",
      "reggae.iinet.net.au\n",
      "seigate.sumiden.co.jp\n",
      "ircgate1.rcc-irc.si\n",
      "s150.phxslip4.indirect.com\n",
      "torben.dou.dk\n"
     ]
    }
   ],
   "source": [
    "!./0x02-shell_redirections/103-the_biggest_fan < nasa_19950801.tsv"
   ]
  },
  {
   "cell_type": "code",
   "execution_count": 105,
   "metadata": {},
   "outputs": [],
   "source": [
    "\n",
    "!chmod u+x 0x02-shell_redirections/103-the_biggest_fan\n"
   ]
  },
  {
   "cell_type": "code",
   "execution_count": 107,
   "metadata": {},
   "outputs": [
    {
     "name": "stdout",
     "output_type": "stream",
     "text": [
      "[main d1b5740] 103\n",
      " 3 files changed, 10225 insertions(+), 7 deletions(-)\n",
      " create mode 100755 0x02-shell_redirections/103-the_biggest_fan\n",
      " create mode 100644 nasa_19950801.tsv\n"
     ]
    },
    {
     "name": "stderr",
     "output_type": "stream",
     "text": [
      "To https://github.com/elkomysara/alx-system_engineering-devops.git\n",
      "   86b560e..d1b5740  main -> main\n"
     ]
    }
   ],
   "source": [
    "%%bash\n",
    "git add .\n",
    "git commit -m \"103\"\n",
    "git push"
   ]
  },
  {
   "cell_type": "code",
   "execution_count": null,
   "metadata": {},
   "outputs": [],
   "source": []
  }
 ],
 "metadata": {
  "kernelspec": {
   "display_name": "Python 3",
   "language": "python",
   "name": "python3"
  },
  "language_info": {
   "codemirror_mode": {
    "name": "ipython",
    "version": 3
   },
   "file_extension": ".py",
   "mimetype": "text/x-python",
   "name": "python",
   "nbconvert_exporter": "python",
   "pygments_lexer": "ipython3",
   "version": "3.11.7"
  }
 },
 "nbformat": 4,
 "nbformat_minor": 2
}
