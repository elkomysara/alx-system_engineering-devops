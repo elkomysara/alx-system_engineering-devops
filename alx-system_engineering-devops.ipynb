{
 "cells": [
  {
   "cell_type": "markdown",
   "metadata": {},
   "source": [
    "---\n",
    "<center>\n",
    "<h1>  alx-system_engineering-devops </h1>\n",
    "</center>\n",
    "\n",
    "---\n"
   ]
  },
  {
   "cell_type": "markdown",
   "metadata": {},
   "source": [
    "---\n",
    "<center>\n",
    "<h1>  0x00. Shell  </h1>\n",
    "</center>\n",
    "\n",
    "---\n"
   ]
  },
  {
   "cell_type": "code",
   "execution_count": 16,
   "metadata": {},
   "outputs": [
    {
     "name": "stdout",
     "output_type": "stream",
     "text": [
      "c:\\Users\\komy2\\OneDrive\\Desktop\\AlxSE\\Repos\n"
     ]
    },
    {
     "name": "stderr",
     "output_type": "stream",
     "text": [
      "fatal: destination path 'alx-system_engineering-devops' already exists and is not an empty directory.\n"
     ]
    }
   ],
   "source": [
    "%cd c:/Users/komy2/OneDrive/Desktop/AlxSE/Repos/ \n",
    "!git clone git@github.com:elkomysara/alx-system_engineering-devops.git\n"
   ]
  },
  {
   "cell_type": "code",
   "execution_count": 1,
   "metadata": {},
   "outputs": [
    {
     "name": "stdout",
     "output_type": "stream",
     "text": [
      "Reinitialized existing Git repository in C:/Users/komy2/OneDrive/Desktop/AlxSE/Repos/alx-system_engineering-devops/.git/\n"
     ]
    },
    {
     "name": "stderr",
     "output_type": "stream",
     "text": [
      "warning: in the working copy of 'README.md', LF will be replaced by CRLF the next time Git touches it\n"
     ]
    },
    {
     "name": "stdout",
     "output_type": "stream",
     "text": [
      "[main d6f5ffb] first commit\n",
      " 1 file changed, 1 insertion(+)\n"
     ]
    },
    {
     "name": "stderr",
     "output_type": "stream",
     "text": [
      "error: remote origin already exists.\n"
     ]
    },
    {
     "name": "stdout",
     "output_type": "stream",
     "text": [
      "branch 'main' set up to track 'origin/main'.\n"
     ]
    },
    {
     "name": "stderr",
     "output_type": "stream",
     "text": [
      "To https://github.com/elkomysara/alx-system_engineering-devops.git\n",
      "   cef742c..d6f5ffb  main -> main\n",
      "error: remote origin already exists.\n"
     ]
    },
    {
     "name": "stdout",
     "output_type": "stream",
     "text": [
      "branch 'main' set up to track 'origin/main'."
     ]
    },
    {
     "name": "stderr",
     "output_type": "stream",
     "text": [
      "Everything up-to-date\n"
     ]
    },
    {
     "name": "stdout",
     "output_type": "stream",
     "text": [
      "\n"
     ]
    }
   ],
   "source": [
    "\n",
    "#create a new repository on the command line\n",
    "!echo \"# alx-system_engineering-devops\" >> README.md\n",
    "!git init\n",
    "!git add README.md\n",
    "!git commit -m \"first commit\"\n",
    "!git branch -M main\n",
    "!git remote add origin git@github.com:elkomysara/alx-system_engineering-devops.git\n",
    "!git push -u origin main\n",
    "#push an existing repository from the command line\n",
    "!git remote add origin git@github.com:elkomysara/alx-system_engineering-devops.git\n",
    "!git branch -M main\n",
    "!git push -u origin main"
   ]
  },
  {
   "cell_type": "markdown",
   "metadata": {},
   "source": [
    "---\n",
    "<center>\n",
    "<h4> 0. Where am I? </h4>\n",
    "</center>\n",
    "\n",
    "---"
   ]
  },
  {
   "cell_type": "markdown",
   "metadata": {},
   "source": [
    "\n",
    "#### Write a script that prints the absolute path name of the current working directory. \n",
    "#### Example:\n",
    "<code> $ ./0-current_working_directory  </code>\n",
    "\n",
    "<code> /root/alx-system_engineering-devops/0x00-shell_basics  </code>\n",
    "\n",
    "\n",
    "#### Repo:\n",
    "\n",
    "* GitHub repository: <code> alx-system_engineering-devops </code>\n",
    "* Directory: <code> 0x00-shell_basics </code>\n",
    "* File: <code>  0-current_working_directory </code>"
   ]
  },
  {
   "cell_type": "code",
   "execution_count": 2,
   "metadata": {},
   "outputs": [
    {
     "name": "stdout",
     "output_type": "stream",
     "text": [
      "Overwriting README.md\n"
     ]
    }
   ],
   "source": [
    "%%file README.md\n",
    "\n",
    "This is a mandatory file."
   ]
  },
  {
   "cell_type": "code",
   "execution_count": 16,
   "metadata": {},
   "outputs": [],
   "source": [
    "import os\n",
    "# creating 0x00-shell_basics folder\n",
    "\n",
    "folder_path = r'C:/Users/komy2\\OneDrive\\Desktop\\AlxSE\\Repos\\alx-system_engineering-devops\\0x00-shell_basics'\n",
    "if not os.path.exists(folder_path):\n",
    "    os.makedirs(folder_path)\n",
    "\n",
    "# Create a README.md inside 0x00-shell_basics\n",
    "file_path = os.path.join(folder_path, 'README.md')\n",
    "\n",
    "with open(file_path, 'w') as file:\n",
    "    file.write(\"This is a mandatory file\")\n",
    "\n",
    "# Create 0-current_working_directory\n",
    "file_path = os.path.join(folder_path, '0-current_working_directory')\n",
    "with open(file_path, 'w') as file:\n",
    "    file.write(\"#!/bin/bash\\npwd\\n\")"
   ]
  },
  {
   "cell_type": "code",
   "execution_count": 13,
   "metadata": {},
   "outputs": [],
   "source": [
    "!chmod u+x C:/Users/komy2/OneDrive/Desktop/AlxSE/Repos/alx-system_engineering-devops/0x00-shell_basics/0-current_working_directory"
   ]
  },
  {
   "cell_type": "code",
   "execution_count": 17,
   "metadata": {},
   "outputs": [
    {
     "name": "stdout",
     "output_type": "stream",
     "text": [
      "#!/bin/bash\n",
      "pwd\n"
     ]
    }
   ],
   "source": [
    "!cat 0x00-shell_basics/0-current_working_directory"
   ]
  },
  {
   "cell_type": "code",
   "execution_count": 27,
   "metadata": {},
   "outputs": [
    {
     "name": "stderr",
     "output_type": "stream",
     "text": [
      "warning: in the working copy of 'alx-system_engineering-devops.ipynb', LF will be replaced by CRLF the next time Git touches it\n"
     ]
    },
    {
     "name": "stdout",
     "output_type": "stream",
     "text": [
      "[main e75e867] commit 0-current_working_directory\n",
      " 1 file changed, 4 insertions(+), 4 deletions(-)\n",
      "branch 'main' set up to track 'origin/main'.\n"
     ]
    },
    {
     "name": "stderr",
     "output_type": "stream",
     "text": [
      "To https://github.com/elkomysara/alx-system_engineering-devops.git\n",
      "   c6d18f0..e75e867  main -> main\n"
     ]
    }
   ],
   "source": [
    "\n",
    "!git add .\n",
    "!git commit -m \"commit 0-current_working_directory\"\n",
    "!git push -u origin main"
   ]
  },
  {
   "cell_type": "markdown",
   "metadata": {},
   "source": [
    "\n",
    "---\n",
    "<center>\n",
    "<h4> 1. What’s in there? </h4>\n",
    "</center>\n",
    "\n",
    "---\n"
   ]
  },
  {
   "cell_type": "markdown",
   "metadata": {},
   "source": [
    "* Display the contents list of your current directory.\n",
    "* Example:\n",
    "\n",
    "\n",
    "    <code > $ ./1-listit </code>   \n",
    "    <code > Applications    Documents   Dropbox Movies Pictures\n",
    "    Desktop Downloads   Library Music Public\n",
    "    </code>  \n",
    "\n",
    "* Repo:\n",
    "\n",
    "    * GitHub repository: <code > alx-system_engineering-devops </code>\n",
    "    * Directory: <code > 0x00-shell_basics </code>\n",
    "    * File: <code >  File: 1-listit </code>\n",
    "   "
   ]
  },
  {
   "cell_type": "code",
   "execution_count": 28,
   "metadata": {},
   "outputs": [],
   "source": [
    "import os\n",
    "# creating 0x00-shell_basics folder\n",
    "\n",
    "folder_path = r'C:/Users/komy2\\OneDrive\\Desktop\\AlxSE\\Repos\\alx-system_engineering-devops\\0x00-shell_basics'\n",
    "if not os.path.exists(folder_path):\n",
    "    os.makedirs(folder_path)\n",
    "\n",
    "# Create 0-current_working_directory\n",
    "file_path = os.path.join(folder_path, '1-listit')\n",
    "with open(file_path, 'w') as file:\n",
    "    file.write(\"#!/bin/bash\\nls\\n\")"
   ]
  },
  {
   "cell_type": "markdown",
   "metadata": {},
   "source": [
    "* You cant put any notation like "
   ]
  },
  {
   "cell_type": "code",
   "execution_count": 30,
   "metadata": {},
   "outputs": [],
   "source": [
    "!chmod u+x C:/Users/komy2/OneDrive/Desktop/AlxSE/Repos/alx-system_engineering-devops/0x00-shell_basics/1-listit"
   ]
  },
  {
   "cell_type": "code",
   "execution_count": 31,
   "metadata": {},
   "outputs": [
    {
     "name": "stderr",
     "output_type": "stream",
     "text": [
      "warning: in the working copy of 'alx-system_engineering-devops.ipynb', LF will be replaced by CRLF the next time Git touches it\n"
     ]
    },
    {
     "name": "stdout",
     "output_type": "stream",
     "text": [
      "[main 464b6f0] commit 1-listit\n",
      " 2 files changed, 32 insertions(+), 48 deletions(-)\n",
      " create mode 100644 0x00-shell_basics/1-listit\n",
      "branch 'main' set up to track 'origin/main'.\n"
     ]
    },
    {
     "name": "stderr",
     "output_type": "stream",
     "text": [
      "To https://github.com/elkomysara/alx-system_engineering-devops.git\n",
      "   e75e867..464b6f0  main -> main\n"
     ]
    }
   ],
   "source": [
    "\n",
    "!git add .\n",
    "!git commit -m \"commit 1-listit\"\n",
    "!git push -u origin main"
   ]
  },
  {
   "cell_type": "markdown",
   "metadata": {},
   "source": [
    "\n",
    "---\n",
    "<center>\n",
    "<h4> 2. There is no place like home </h4>\n",
    "</center>\n",
    "\n",
    "---"
   ]
  },
  {
   "cell_type": "markdown",
   "metadata": {},
   "source": [
    "#### Write a script that changes the working directory to the user’s home directory.\n",
    "* You are not allowed to use any shell variables\n",
    "\n",
    "    `julien@ubuntu:/tmp$ pwd ` \n",
    "\n",
    "    `/tmp`\n",
    "\n",
    "    `julien@ubuntu:/tmp$ echo $HOME`\n",
    "\n",
    "    `/home/julien`\n",
    "\n",
    "    `julien@ubuntu:/tmp$ source ./2-bring_me_home`\n",
    "\n",
    "    `julien@ubuntu:~$ pwd`\n",
    "\n",
    "    `/home/julien`\n",
    "\n",
    "    `julien@ubuntu:~$`\n",
    "\n",
    "\n",
    "#### Repo:\n",
    "* GitHub repository:   <code>alx-system_engineering-devops </code>\n",
    "* Directory:   <code> 0x00-shell_basics </code>\n",
    "* File:   <code> 2-bring_me_home </code>"
   ]
  },
  {
   "cell_type": "code",
   "execution_count": 44,
   "metadata": {},
   "outputs": [
    {
     "name": "stdout",
     "output_type": "stream",
     "text": [
      "Overwriting C:/Users/komy2/OneDrive/Desktop/AlxSE/Repos/alx-system_engineering-devops/0x00-shell_basics/2-bring_me_home\n"
     ]
    }
   ],
   "source": [
    "%%file C:/Users/komy2/OneDrive/Desktop/AlxSE/Repos/alx-system_engineering-devops/0x00-shell_basics/2-bring_me_home\n",
    "#!/bin/bash\n",
    "cd ~/"
   ]
  },
  {
   "cell_type": "code",
   "execution_count": 35,
   "metadata": {},
   "outputs": [],
   "source": [
    "!chmod u+x C:/Users/komy2/OneDrive/Desktop/AlxSE/Repos/alx-system_engineering-devops/0x00-shell_basics/2-bring_me_home"
   ]
  },
  {
   "cell_type": "code",
   "execution_count": 43,
   "metadata": {},
   "outputs": [
    {
     "name": "stderr",
     "output_type": "stream",
     "text": [
      "warning: in the working copy of 'alx-system_engineering-devops.ipynb', LF will be replaced by CRLF the next time Git touches it\n"
     ]
    },
    {
     "name": "stdout",
     "output_type": "stream",
     "text": [
      "[main 628da9d] commit 2-bring_me_home\n",
      " 2 files changed, 8 insertions(+), 7 deletions(-)\n",
      "branch 'main' set up to track 'origin/main'.\n"
     ]
    },
    {
     "name": "stderr",
     "output_type": "stream",
     "text": [
      "To https://github.com/elkomysara/alx-system_engineering-devops.git\n",
      "   007fd53..628da9d  main -> main\n"
     ]
    }
   ],
   "source": [
    "!git add .\n",
    "!git commit -m \"commit 2-bring_me_home\"\n",
    "!git push -u origin main"
   ]
  },
  {
   "cell_type": "markdown",
   "metadata": {},
   "source": [
    "\n",
    "---\n",
    "<center>\n",
    "<h4> 3.The long format </h4>\n",
    "</center>\n",
    "\n",
    "---"
   ]
  },
  {
   "cell_type": "markdown",
   "metadata": {},
   "source": [
    "#### Display current directory contents in a long format\n",
    "\n",
    "#### Example:\n",
    "\n",
    "`$ ./3-listfiles`\n",
    "\n",
    "`total 32`\n",
    "\n",
    "`-rwxr-xr-x@ 1 sylvain staff 18 Jan 25 00:19 0-current_working_directory`\n",
    "\n",
    "`-rwxr-xr-x@ 1 sylvain staff 19 Jan 25 00:23 1-listit`\n",
    "\n",
    "`-rwxr-xr-x@ 1 sylvain staff 18 Jan 25 00:29 2-bring_me_home`\n",
    "\n",
    "`-rwxr-xr-x@ 1 sylvain staff 18 Jan 25 00:39 3-listfiles`\n",
    "\n",
    "`$`\n",
    "\n",
    "\n",
    "#### Repo:\n",
    "* GitHub repository: `alx-system_engineering-devops`\n",
    "* Directory: `0x00-shell_basics`\n",
    "* File: `3-listfiles`"
   ]
  },
  {
   "cell_type": "code",
   "execution_count": 39,
   "metadata": {},
   "outputs": [
    {
     "name": "stdout",
     "output_type": "stream",
     "text": [
      "Writing C:/Users/komy2/OneDrive/Desktop/AlxSE/Repos/alx-system_engineering-devops/0x00-shell_basics/3-listfiles\n"
     ]
    }
   ],
   "source": [
    "%%file C:/Users/komy2/OneDrive/Desktop/AlxSE/Repos/alx-system_engineering-devops/0x00-shell_basics/3-listfiles\n",
    "#!/bin/bash\n",
    "cd ~\\n"
   ]
  },
  {
   "cell_type": "code",
   "execution_count": 29,
   "metadata": {},
   "outputs": [
    {
     "name": "stderr",
     "output_type": "stream",
     "text": [
      "error: Your local changes to the following files would be overwritten by checkout:\n",
      "\talx-zero_day.ipynb\n",
      "Please commit your changes or stash them before you switch branches.\n",
      "Aborting\n",
      "rm: C:/Users/komy2/OneDrive/Desktop/AlxSE/Repos/alx-zero_day/0x03-git/js: No such file or directory\n",
      "warning: in the working copy of 'alx-zero_day.ipynb', LF will be replaced by CRLF the next time Git touches it\n"
     ]
    },
    {
     "name": "stdout",
     "output_type": "stream",
     "text": [
      "[update_script d359f72] Hot fix\n",
      " 1 file changed, 7 insertions(+), 7 deletions(-)\n",
      "branch 'main' set up to track 'origin/main'.\n"
     ]
    },
    {
     "name": "stderr",
     "output_type": "stream",
     "text": [
      "To https://github.com/elkomysara/alx-zero_day.git\n",
      "   a76cad3..d359f72  main -> main\n",
      "warning: branch.main.remote has multiple values\n",
      "warning: branch.main.merge has multiple values\n"
     ]
    }
   ],
   "source": [
    "#Now that the changes are isolated correctly from the main branch\n",
    "\n",
    "#Create a quick fix in your project and it needs to be deployed now:\n",
    "#Change branch to main\n",
    "!git switch main\n",
    "\n",
    "#Update the file bash/alx by replacing echo \"ALX\" with echo \"ALX School is so cool!\"\n",
    "!echo -e '!#/bin/bash/necho \"ALX School is so cool!\"' > \"C:/Users/komy2/OneDrive/Desktop/AlxSE/Repos/alx-zero_day/0x03-git/bash/alx\"\n",
    "\n",
    "#Delete the directory js\n",
    "!rm -r \"C:/Users/komy2/OneDrive/Desktop/AlxSE/Repos/alx-zero_day/0x03-git/js/\"\n",
    "#Commit your changes (message: “Hot fix”) and push to the origin\n",
    "!git add .\n",
    "!git commit -m \"Hot fix\"\n",
    "!git branch -M main\n",
    "!git push -u origin main"
   ]
  },
  {
   "cell_type": "markdown",
   "metadata": {},
   "source": [
    "### 4. Collaboration: be up to date"
   ]
  },
  {
   "cell_type": "markdown",
   "metadata": {},
   "source": [
    "#### Work on the same branch as your co-workers and it’s best if you keep up to date with their changes.\n",
    "\n",
    "* update your file README.md in the main branch \n",
    "\n",
    "#### After that:\n",
    "\n",
    "* Get all changes of the main branch locally (i.e. your README.md file will be updated)\n",
    "* Create a new file up_to_date at the root of your directory and in it, write the git command line used\n",
    "* Add up_to_date to git, commit (message: “How to be up to date in git”), and push to the origin\n",
    "\n",
    "#### Repo:\n",
    "* GitHub repository: alx-zero_day\n",
    "* Directory: 0x03-git\n",
    "* File: README.md, up_to_date"
   ]
  },
  {
   "cell_type": "code",
   "execution_count": 37,
   "metadata": {},
   "outputs": [
    {
     "name": "stdout",
     "output_type": "stream",
     "text": [
      "Already up to date.\n"
     ]
    }
   ],
   "source": [
    "# update your file README.md in the main branch \n",
    "# (github website)\n",
    "!rm -r \n",
    "#Get all changes of the main branch locally (i.e. your README.md file will be updated)\n",
    "!git pull\n",
    "#Create a new file up_to_date at the root of your directory and in it, write the git command line used\n",
    "!echo 'git pull' > \"C:/Users/komy2/OneDrive/Desktop/AlxSE/Repos/alx-zero_day/0x03-git/up_to_date\""
   ]
  },
  {
   "cell_type": "code",
   "execution_count": 38,
   "metadata": {},
   "outputs": [
    {
     "name": "stderr",
     "output_type": "stream",
     "text": [
      "warning: in the working copy of 'alx-zero_day.ipynb', LF will be replaced by CRLF the next time Git touches it\n"
     ]
    },
    {
     "name": "stdout",
     "output_type": "stream",
     "text": [
      "[main 493c27a] How to be up to date in git\n",
      " 3 files changed, 22 insertions(+), 21 deletions(-)\n",
      " create mode 100644 0x03-git/up_to_date\n",
      " delete mode 100644 up_to_date\n",
      "branch 'main' set up to track 'origin/main'.\n"
     ]
    },
    {
     "name": "stderr",
     "output_type": "stream",
     "text": [
      "To https://github.com/elkomysara/alx-zero_day.git\n",
      "   dbb8fdf..493c27a  main -> main\n",
      "warning: branch.main.remote has multiple values\n",
      "warning: branch.main.merge has multiple values\n"
     ]
    }
   ],
   "source": [
    "#Add up_to_date to git, commit (message: “How to be up to date in git”), and push to the origin\n",
    "!git add .\n",
    "!git commit -m \"How to be up to date in git\"\n",
    "!git branch -M main\n",
    "!git push -u origin main"
   ]
  },
  {
   "cell_type": "markdown",
   "metadata": {},
   "source": [
    "### 5. HAAA what did you do???"
   ]
  },
  {
   "cell_type": "markdown",
   "metadata": {},
   "source": [
    "##### What happens when you update the same file at the same time?\n",
    "##### Merge the branch update_script to main: “Cool, all my changes will be now part of the main branch, ready to be deployed!”\n",
    "##### CONFLICT (content): Merge conflict in bash/alx\n",
    "##### You have conflicts between two branches on the same file.\n",
    "##### Resolve conflicts by using the version of the branch update_script, and push the result to the origin.\n",
    "##### You should have all your work from the branch update_script (new file and two updated files) and all latest main commits (new files, delete folder, etc.), without conflicts.\n",
    "\n",
    "##### Repo:\n",
    "\n",
    "* GitHub repository: alx-zero_day\n",
    "* Directory: 0x03-git"
   ]
  },
  {
   "cell_type": "code",
   "execution_count": 40,
   "metadata": {},
   "outputs": [
    {
     "name": "stdout",
     "output_type": "stream",
     "text": [
      "M\talx-zero_day.ipynb\n",
      "Your branch is up to date with 'origin/main'.\n"
     ]
    },
    {
     "name": "stderr",
     "output_type": "stream",
     "text": [
      "Already on 'main'\n"
     ]
    },
    {
     "name": "stdout",
     "output_type": "stream",
     "text": [
      "Already up to date.\n",
      "branch 'main' set up to track 'origin/main'.\n"
     ]
    },
    {
     "name": "stderr",
     "output_type": "stream",
     "text": [
      "warning: branch.main.remote has multiple values\n",
      "warning: branch.main.merge has multiple values\n",
      "Everything up-to-date\n"
     ]
    }
   ],
   "source": [
    "# Merge the branch update_script to main: \"Cool, all my changes will be now part of the main branch, ready to be deployed!\"\n",
    "!git switch main\n",
    "!git merge origin/update_script\n",
    "!git push -u origin main\n"
   ]
  },
  {
   "cell_type": "markdown",
   "metadata": {},
   "source": [
    "### 6. Never push too much"
   ]
  },
  {
   "cell_type": "markdown",
   "metadata": {},
   "source": [
    "#### Create a .gitignore file and define a rule to never push ~ files (generated by Emacs). \n",
    "\n",
    "#### Repo:\n",
    "\n",
    "* GitHub repository: alx-zero_day\n",
    "* Directory: 0x03-git\n",
    "* File: .gitignore"
   ]
  },
  {
   "cell_type": "code",
   "execution_count": 41,
   "metadata": {},
   "outputs": [
    {
     "name": "stderr",
     "output_type": "stream",
     "text": [
      "The system cannot find the path specified.\n",
      "warning: in the working copy of 'alx-zero_day.ipynb', LF will be replaced by CRLF the next time Git touches it\n"
     ]
    },
    {
     "name": "stdout",
     "output_type": "stream",
     "text": [
      "[main 7593c11]  gitignore\n",
      " 2 files changed, 43 insertions(+)\n",
      " create mode 100644 0x03-git/.gitignore\n",
      "branch 'main' set up to track 'origin/main'.\n"
     ]
    },
    {
     "name": "stderr",
     "output_type": "stream",
     "text": [
      "To https://github.com/elkomysara/alx-zero_day.git\n",
      "   173f40f..7593c11  main -> main\n",
      "warning: branch.main.remote has multiple values\n",
      "warning: branch.main.merge has multiple values\n"
     ]
    }
   ],
   "source": [
    "!cd ~/alx-zero_day/\n",
    "!echo \"*~\" > \"C:/Users/komy2/OneDrive/Desktop/AlxSE/Repos/alx-zero_day/0x03-git/.gitignore\"\n",
    "!git add .\n",
    "!git commit -m \" gitignore\"\n",
    "!git push -u origin main"
   ]
  },
  {
   "cell_type": "markdown",
   "metadata": {},
   "source": [
    "### NEXT <code> alx-system_engineering-devops </code>"
   ]
  },
  {
   "cell_type": "code",
   "execution_count": 2,
   "metadata": {},
   "outputs": [],
   "source": [
    "import os\n",
    "# creating alx-zero_day folder\n",
    "\n",
    "folder_path = r'C:/Users/komy2\\OneDrive\\Desktop\\AlxSE\\Repos\\alx-system_engineering-devops'\n",
    "if not os.path.exists(folder_path):\n",
    "    os.makedirs(folder_path)\n",
    "\n",
    "# Create a README.md inside alx-zero_day\n",
    "file_path = os.path.join(folder_path, 'README.md')\n",
    "\n",
    "with open(file_path, 'w') as file:\n",
    "    file.write(\"This is a mandatory file\")"
   ]
  },
  {
   "cell_type": "code",
   "execution_count": 5,
   "metadata": {},
   "outputs": [
    {
     "ename": "NameError",
     "evalue": "name 'alx' is not defined",
     "output_type": "error",
     "traceback": [
      "\u001b[1;31m---------------------------------------------------------------------------\u001b[0m",
      "\u001b[1;31mNameError\u001b[0m                                 Traceback (most recent call last)",
      "Cell \u001b[1;32mIn[5], line 11\u001b[0m\n\u001b[0;32m      7\u001b[0m dest_folder \u001b[38;5;241m=\u001b[39m \u001b[38;5;124m\"\u001b[39m\u001b[38;5;124mC:/Users/komy2/OneDrive/Desktop/AlxSE/Repos/alx-system_engineering-devops\u001b[39m\u001b[38;5;124m\"\u001b[39m\n\u001b[0;32m      9\u001b[0m shutil\u001b[38;5;241m.\u001b[39mcopy(source_file, dest_folder)\n\u001b[1;32m---> 11\u001b[0m os\u001b[38;5;241m.\u001b[39mrename(source_file,\u001b[43malx\u001b[49m\u001b[38;5;241m-\u001b[39msystem_engineering\u001b[38;5;241m-\u001b[39mdevops\u001b[38;5;241m.\u001b[39mipynb)\n",
      "\u001b[1;31mNameError\u001b[0m: name 'alx' is not defined"
     ]
    }
   ],
   "source": [
    "import shutil\n",
    "import os\n",
    "\n",
    "# copy the ipynb file from zero_day to alx-zero_day\n",
    "\n",
    "source_file = \"C:/Users/komy2/OneDrive/Desktop/AlxSE/Repos/alx-zero_day/alx-zero_day.ipynb\"  \n",
    "dest_folder = \"C:/Users/komy2/OneDrive/Desktop/AlxSE/Repos/alx-system_engineering-devops\"\n",
    "\n",
    "shutil.copy(source_file, dest_folder)\n",
    "\n",
    "os.rename(source_file,r\"alx-system_engineering-devops.ipynb\")"
   ]
  },
  {
   "cell_type": "code",
   "execution_count": 7,
   "metadata": {},
   "outputs": [
    {
     "name": "stdout",
     "output_type": "stream",
     "text": [
      "Microsoft Windows [Version 10.0.22631.3007]\n",
      "(c) Microsoft Corporation. All rights reserved.\n",
      "\n",
      "(c:\\Users\\komy2\\OneDrive\\Desktop\\AlxSE\\Repos\\zero_day\\.conda) c:\\Users\\komy2\\OneDrive\\Desktop\\AlxSE\\Repos\\zero_day>copy \"C:/Users/komy2/OneDrive/Desktop/AlxSE/Repos/zero_day/zero_day.ipynb\" \"C:/Users/komy2/OneDrive/Desktop/AlxSE/Repos/alx-zero_day\"\n",
      "        1 file(s) copied.\n",
      "\n",
      "(c:\\Users\\komy2\\OneDrive\\Desktop\\AlxSE\\Repos\\zero_day\\.conda) c:\\Users\\komy2\\OneDrive\\Desktop\\AlxSE\\Repos\\zero_day>"
     ]
    }
   ],
   "source": [
    "%%cmd\n",
    "copy \"C:/Users/komy2/OneDrive/Desktop/AlxSE/Repos/alx-zero_day/alx-zero_day.ipynb\" \"C:/Users/komy2/OneDrive/Desktop/AlxSE/Repos/alx-system_engineering-devops\"\n"
   ]
  },
  {
   "cell_type": "code",
   "execution_count": 10,
   "metadata": {},
   "outputs": [],
   "source": [
    "\n",
    "!cp \"C:/Users/komy2/OneDrive/Desktop/AlxSE/Repos/zero_day/zero_day.ipynb\" \"C:/Users/komy2/OneDrive/Desktop/AlxSE/Repos/alx-zero_day\"\n"
   ]
  },
  {
   "cell_type": "code",
   "execution_count": null,
   "metadata": {},
   "outputs": [],
   "source": []
  }
 ],
 "metadata": {
  "kernelspec": {
   "display_name": "Python 3",
   "language": "python",
   "name": "python3"
  },
  "language_info": {
   "codemirror_mode": {
    "name": "ipython",
    "version": 3
   },
   "file_extension": ".py",
   "mimetype": "text/x-python",
   "name": "python",
   "nbconvert_exporter": "python",
   "pygments_lexer": "ipython3",
   "version": "3.12.1"
  }
 },
 "nbformat": 4,
 "nbformat_minor": 2
}
