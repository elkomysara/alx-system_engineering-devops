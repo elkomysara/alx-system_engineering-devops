{
 "cells": [
  {
   "cell_type": "markdown",
   "metadata": {},
   "source": [
    "---\n",
    "<center>\n",
    "<h1>  alx-system_engineering-devops </h1>\n",
    "</center>\n",
    "\n",
    "---\n"
   ]
  },
  {
   "cell_type": "markdown",
   "metadata": {},
   "source": [
    "###\n",
    "---\n",
    "<center>\n",
    "<h1>  0x00. Shell  </h1>\n",
    "</center>\n",
    "\n",
    "---\n"
   ]
  },
  {
   "cell_type": "code",
   "execution_count": 3,
   "metadata": {},
   "outputs": [
    {
     "data": {
      "text/plain": [
       "'/home/elkomy/alx-system_engineering-devops'"
      ]
     },
     "execution_count": 3,
     "metadata": {},
     "output_type": "execute_result"
    }
   ],
   "source": [
    "%pwd"
   ]
  },
  {
   "cell_type": "code",
   "execution_count": 8,
   "metadata": {},
   "outputs": [
    {
     "name": "stdout",
     "output_type": "stream",
     "text": [
      "Reinitialized existing Git repository in /home/elkomy/alx-system_engineering-devops/.git/\n",
      "[main 284258f] first commit\n",
      " 1 file changed, 10 insertions(+), 15 deletions(-)\n",
      "fatal: remote origin already exists.\n",
      "Enumerating objects: 5, done.\n",
      "Counting objects: 100% (5/5), done.\n",
      "Delta compression using up to 12 threads\n",
      "Compressing objects: 100% (3/3), done.\n",
      "Writing objects: 100% (3/3), 445 bytes | 445.00 KiB/s, done.\n",
      "Total 3 (delta 2), reused 0 (delta 0)\n",
      "remote: Resolving deltas: 100% (2/2), completed with 2 local objects.\u001b[K\n",
      "To https://github.com/elkomysara/alx-system_engineering-devops.git\n",
      "   09c5162..284258f  main -> main\n",
      "Branch 'main' set up to track remote branch 'main' from 'origin'.\n",
      "fatal: remote origin already exists.\n",
      "Branch 'main' set up to track remote branch 'main' from 'origin'.\n",
      "Everything up-to-date\n"
     ]
    }
   ],
   "source": [
    "\n",
    "#create a new repository on the command line\n",
    "!echo \"# alx-system_engineering-devops\" > README.md\n",
    "!git init\n",
    "!git add .\n",
    "!git commit -m \"first commit\"\n",
    "!git branch -M main\n",
    "!git remote add origin git@github.com:elkomysara/alx-system_engineering-devops.git\n",
    "!git push -u origin main\n",
    "# #push an existing repository from the command line\n",
    "!git remote add origin git@github.com:elkomysara/alx-system_engineering-devops.git\n",
    "!git branch -M main\n",
    "!git push -u origin main"
   ]
  },
  {
   "cell_type": "code",
   "execution_count": 9,
   "metadata": {},
   "outputs": [
    {
     "name": "stdout",
     "output_type": "stream",
     "text": [
      "Already up to date.\n"
     ]
    }
   ],
   "source": [
    "!git pull"
   ]
  },
  {
   "cell_type": "code",
   "execution_count": 6,
   "metadata": {},
   "outputs": [
    {
     "name": "stdout",
     "output_type": "stream",
     "text": [
      "Everything up-to-date\n"
     ]
    }
   ],
   "source": [
    "!git push"
   ]
  },
  {
   "cell_type": "markdown",
   "metadata": {},
   "source": [
    "###\n",
    "---\n",
    "<center>\n",
    "<h4> 0. Where am I? </h4>\n",
    "</center>\n",
    "\n",
    "---"
   ]
  },
  {
   "cell_type": "markdown",
   "metadata": {},
   "source": [
    "\n",
    "#### Write a script that prints the absolute path name of the current working directory. \n",
    "#### Example:\n",
    "```bash\n",
    "$ ./0-current_working_directory\n",
    "/root/alx-system_engineering-devops/0x00-shell_basics\n",
    "$\n",
    "```\n",
    "\n",
    "\n",
    "#### Repo:\n",
    "\n",
    "* GitHub repository: ``` alx-system_engineering-devops ```\n",
    "* Directory: <code> 0x00-shell_basics </code>\n",
    "* File: <code>  0-current_working_directory </code>"
   ]
  },
  {
   "cell_type": "code",
   "execution_count": 7,
   "metadata": {},
   "outputs": [
    {
     "name": "stdout",
     "output_type": "stream",
     "text": [
      "Overwriting README.md\n"
     ]
    }
   ],
   "source": [
    "%%file README.md\n",
    "\n",
    "This is a file inside the folder alx-system_engineering-devops.\n",
    "This is a mandatory file."
   ]
  },
  {
   "cell_type": "code",
   "execution_count": 15,
   "metadata": {},
   "outputs": [],
   "source": [
    "import os\n",
    "# creating 0x00-shell_basics folder\n",
    "\n",
    "folder_path = r'/home/elkomy/alx-system_engineering-devops/0x00-shell_basics'\n",
    "if not os.path.exists(folder_path):\n",
    "    os.makedirs(folder_path)\n",
    "\n",
    "# Create a README.md inside 0x00-shell_basics\n",
    "file_path = os.path.join(folder_path, 'README.md')\n",
    "\n",
    "with open(file_path, 'w') as file:\n",
    "    file.write(\"This is a README.md file inside alx-system_engineering-devops/0x00-shell_basics\")\n",
    "\n",
    "# Create 0-current_working_directory\n",
    "file_path = os.path.join(folder_path, '0-current_working_directory')\n",
    "with open(file_path, 'w') as file:\n",
    "    file.write(\"#!/bin/bash\\npwd\\n\")"
   ]
  },
  {
   "cell_type": "code",
   "execution_count": 17,
   "metadata": {},
   "outputs": [],
   "source": [
    "!chmod u+x /home/elkomy/alx-system_engineering-devops/0x00-shell_basics/0-current_working_directory"
   ]
  },
  {
   "cell_type": "code",
   "execution_count": 18,
   "metadata": {},
   "outputs": [
    {
     "name": "stdout",
     "output_type": "stream",
     "text": [
      "#!/bin/bash\n",
      "pwd\n"
     ]
    }
   ],
   "source": [
    "!cat 0x00-shell_basics/0-current_working_directory"
   ]
  },
  {
   "cell_type": "code",
   "execution_count": 21,
   "metadata": {},
   "outputs": [
    {
     "name": "stdout",
     "output_type": "stream",
     "text": [
      "/home/elkomy/alx-system_engineering-devops\n"
     ]
    }
   ],
   "source": [
    "%%bash\n",
    "./0x00-shell_basics/0-current_working_directory"
   ]
  },
  {
   "cell_type": "code",
   "execution_count": 17,
   "metadata": {},
   "outputs": [
    {
     "name": "stdout",
     "output_type": "stream",
     "text": [
      "[main fb4fa36] commit 0-current_working_directory\n",
      " 2 files changed, 37 insertions(+), 19 deletions(-)\n",
      " mode change 100644 => 100755 0x00-shell_basics/0-current_working_directory\n",
      "Enumerating objects: 7, done.\n",
      "Counting objects: 100% (7/7), done.\n",
      "Delta compression using up to 12 threads\n",
      "Compressing objects: 100% (4/4), done.\n",
      "Writing objects: 100% (4/4), 573 bytes | 573.00 KiB/s, done.\n",
      "Total 4 (delta 3), reused 0 (delta 0)\n",
      "remote: Resolving deltas: 100% (3/3), completed with 3 local objects.\u001b[K\n",
      "To https://github.com/elkomysara/alx-system_engineering-devops.git\n",
      "   7baf591..fb4fa36  main -> main\n",
      "Branch 'main' set up to track remote branch 'main' from 'origin'.\n"
     ]
    }
   ],
   "source": [
    "\n",
    "!git add .\n",
    "!git commit -m \"commit 0-current_working_directory\"\n",
    "!git push -u origin main"
   ]
  },
  {
   "cell_type": "markdown",
   "metadata": {},
   "source": [
    "###\n",
    "---\n",
    "<center>\n",
    "<h4> 1. What’s in there? </h4>\n",
    "</center>\n",
    "\n",
    "---\n"
   ]
  },
  {
   "cell_type": "markdown",
   "metadata": {},
   "source": [
    "* Display the contents list of your current directory.\n",
    "* Example:\n",
    "    ```bash\n",
    "    $ ./1-listit\n",
    "    Applications    Documents   Dropbox Movies Pictures\n",
    "    Desktop Downloads   Library Music Public\n",
    "    $\n",
    "    ```\n",
    "\n",
    "* Repo:\n",
    "\n",
    "    * GitHub repository: <code > alx-system_engineering-devops </code>\n",
    "    * Directory: <code > 0x00-shell_basics </code>\n",
    "    * File: <code >  File: 1-listit </code>\n",
    "   "
   ]
  },
  {
   "cell_type": "code",
   "execution_count": 28,
   "metadata": {},
   "outputs": [],
   "source": [
    "# import os\n",
    "# # creating 0x00-shell_basics folder\n",
    "\n",
    "# folder_path = r'C:/Users/komy2/OneDrive/Desktop/AlxSE/Repos/alx-system_engineering-devops/0x00-shell_basics'\n",
    "# if not os.path.exists(folder_path):\n",
    "#     os.makedirs(folder_path)\n",
    "\n",
    "# # Create 0-current_working_directory\n",
    "# file_path = os.path.join(folder_path, '1-listit')\n",
    "# with open(file_path, 'w') as file:\n",
    "#     file.write(\"#!/bin/bash/nls/n\")"
   ]
  },
  {
   "cell_type": "code",
   "execution_count": 27,
   "metadata": {},
   "outputs": [
    {
     "name": "stdout",
     "output_type": "stream",
     "text": [
      "Overwriting /home/elkomy/alx-system_engineering-devops/0x00-shell_basics/1-listit\n"
     ]
    }
   ],
   "source": [
    "%%file /home/elkomy/alx-system_engineering-devops/0x00-shell_basics/1-listit\n",
    "#!/bin/bash\n",
    "ls"
   ]
  },
  {
   "cell_type": "markdown",
   "metadata": {},
   "source": [
    "* You cant put any notation like "
   ]
  },
  {
   "cell_type": "code",
   "execution_count": 28,
   "metadata": {},
   "outputs": [],
   "source": [
    "!chmod u+x /home/elkomy/alx-system_engineering-devops/0x00-shell_basics/1-listit"
   ]
  },
  {
   "cell_type": "code",
   "execution_count": 29,
   "metadata": {},
   "outputs": [
    {
     "name": "stdout",
     "output_type": "stream",
     "text": [
      "[main 008d5c7] commit 1-listit1\n",
      " 2 files changed, 8 insertions(+), 10 deletions(-)\n",
      "Enumerating objects: 9, done.\n",
      "Counting objects: 100% (9/9), done.\n",
      "Delta compression using up to 12 threads\n",
      "Compressing objects: 100% (4/4), done.\n",
      "Writing objects: 100% (5/5), 547 bytes | 547.00 KiB/s, done.\n",
      "Total 5 (delta 3), reused 0 (delta 0)\n",
      "remote: Resolving deltas: 100% (3/3), completed with 3 local objects.\u001b[K\n",
      "To https://github.com/elkomysara/alx-system_engineering-devops.git\n",
      "   77f7c48..008d5c7  main -> main\n",
      "Branch 'main' set up to track remote branch 'main' from 'origin'.\n"
     ]
    }
   ],
   "source": [
    "\n",
    "!git add .\n",
    "!git commit -m \"commit 1-listit1\"\n",
    "!git push -u origin main"
   ]
  },
  {
   "cell_type": "markdown",
   "metadata": {},
   "source": [
    "###\n",
    "---\n",
    "<center>\n",
    "<h4> 2. There is no place like home </h4>\n",
    "</center>\n",
    "\n",
    "---"
   ]
  },
  {
   "cell_type": "markdown",
   "metadata": {},
   "source": [
    "#### Write a script that changes the working directory to the user’s home directory.\n",
    "* You are not allowed to use any shell variables\n",
    "\n",
    "```bash\n",
    "\n",
    "julien@ubuntu:/tmp$ pwd\n",
    "/tmp\n",
    "julien@ubuntu:/tmp$ echo $HOME\n",
    "/home/julien\n",
    "julien@ubuntu:/tmp$ source ./2-bring_me_home\n",
    "julien@ubuntu:~$ pwd\n",
    "/home/julien\n",
    "julien@ubuntu:~$ \n",
    "```\n",
    "\n",
    "\n",
    "#### Repo:\n",
    "* GitHub repository:   <code>alx-system_engineering-devops </code>\n",
    "* Directory:   <code> 0x00-shell_basics </code>\n",
    "* File:   <code> 2-bring_me_home </code>"
   ]
  },
  {
   "cell_type": "code",
   "execution_count": 31,
   "metadata": {},
   "outputs": [
    {
     "name": "stdout",
     "output_type": "stream",
     "text": [
      "Overwriting /home/elkomy/alx-system_engineering-devops/0x00-shell_basics/2-bring_me_home\n"
     ]
    }
   ],
   "source": [
    "%%file /home/elkomy/alx-system_engineering-devops/0x00-shell_basics/2-bring_me_home\n",
    "#!/bin/bash\n",
    "cd ~"
   ]
  },
  {
   "cell_type": "code",
   "execution_count": 32,
   "metadata": {},
   "outputs": [],
   "source": [
    "!chmod u+x /home/elkomy/alx-system_engineering-devops/0x00-shell_basics/2-bring_me_home"
   ]
  },
  {
   "cell_type": "code",
   "execution_count": 33,
   "metadata": {},
   "outputs": [
    {
     "name": "stdout",
     "output_type": "stream",
     "text": [
      "[main ec539e2] commit 2-bring_me_home\n",
      " 2 files changed, 9 insertions(+), 9 deletions(-)\n",
      " mode change 100644 => 100755 0x00-shell_basics/2-bring_me_home\n",
      "Enumerating objects: 7, done.\n",
      "Counting objects: 100% (7/7), done.\n",
      "Delta compression using up to 12 threads\n",
      "Compressing objects: 100% (4/4), done.\n",
      "Writing objects: 100% (4/4), 481 bytes | 481.00 KiB/s, done.\n",
      "Total 4 (delta 3), reused 0 (delta 0)\n",
      "remote: Resolving deltas: 100% (3/3), completed with 3 local objects.\u001b[K\n",
      "To https://github.com/elkomysara/alx-system_engineering-devops.git\n",
      "   008d5c7..ec539e2  main -> main\n",
      "Branch 'main' set up to track remote branch 'main' from 'origin'.\n"
     ]
    }
   ],
   "source": [
    "!git add .\n",
    "!git commit -m \"commit 2-bring_me_home\"\n",
    "!git push -u origin main"
   ]
  },
  {
   "cell_type": "markdown",
   "metadata": {},
   "source": [
    "###\n",
    "---\n",
    "<center>\n",
    "<h4> 3.The long format </h4>\n",
    "</center>\n",
    "\n",
    "---"
   ]
  },
  {
   "cell_type": "markdown",
   "metadata": {},
   "source": [
    "#### Display current directory contents in a long format\n",
    "\n",
    "#### Example:\n",
    "\n",
    "```bash\n",
    "$ ./3-listfiles\n",
    "total 32\n",
    "-rwxr-xr-x@ 1 sylvain staff 18 Jan 25 00:19 0-current_working_directory\n",
    "-rwxr-xr-x@ 1 sylvain staff 19 Jan 25 00:23 1-listit\n",
    "-rwxr-xr-x@ 1 sylvain staff 18 Jan 25 00:29 2-bring_me_home\n",
    "-rwxr-xr-x@ 1 sylvain staff 18 Jan 25 00:39 3-listfiles\n",
    "$\n",
    "```\n",
    "\n",
    "\n",
    "#### Repo:\n",
    "* GitHub repository: `alx-system_engineering-devops`\n",
    "* Directory: `0x00-shell_basics`\n",
    "* File: `3-listfiles`"
   ]
  },
  {
   "cell_type": "code",
   "execution_count": 2,
   "metadata": {},
   "outputs": [
    {
     "name": "stdout",
     "output_type": "stream",
     "text": [
      "Overwriting /home/elkomy/alx-system_engineering-devops/0x00-shell_basics/3-listfiles\n"
     ]
    }
   ],
   "source": [
    "%%file /home/elkomy/alx-system_engineering-devops/0x00-shell_basics/3-listfiles\n",
    "#!/bin/bash\n",
    "ls -l"
   ]
  },
  {
   "cell_type": "code",
   "execution_count": 3,
   "metadata": {},
   "outputs": [],
   "source": [
    "%%bash\n",
    "chmod u+x /home/elkomy/alx-system_engineering-devops/0x00-shell_basics/3-listfiles"
   ]
  },
  {
   "cell_type": "code",
   "execution_count": 4,
   "metadata": {},
   "outputs": [
    {
     "name": "stdout",
     "output_type": "stream",
     "text": [
      "[main e48f9a6] commit 3-listfiles\n",
      " 1 file changed, 15 insertions(+), 34 deletions(-)\n",
      "Enumerating objects: 5, done.\n",
      "Counting objects: 100% (5/5), done.\n",
      "Delta compression using up to 12 threads\n",
      "Compressing objects: 100% (3/3), done.\n",
      "Writing objects: 100% (3/3), 410 bytes | 410.00 KiB/s, done.\n",
      "Total 3 (delta 2), reused 0 (delta 0)\n",
      "remote: Resolving deltas: 100% (2/2), completed with 2 local objects.\u001b[K\n",
      "To https://github.com/elkomysara/alx-system_engineering-devops.git\n",
      "   8f9e440..e48f9a6  main -> main\n",
      "Branch 'main' set up to track remote branch 'main' from 'origin'.\n"
     ]
    }
   ],
   "source": [
    "!git add .\n",
    "!git commit -m \"commit 3-listfiles\"\n",
    "!git push -u origin main"
   ]
  },
  {
   "cell_type": "markdown",
   "metadata": {},
   "source": [
    "### \n",
    "\n",
    "\n",
    "---\n",
    "<center>\n",
    "<h4> 4. Hidden files </h4>\n",
    "</center>\n",
    "\n",
    "---"
   ]
  },
  {
   "cell_type": "markdown",
   "metadata": {},
   "source": [
    "#### Display current directory contents, including hidden files (starting with `.`). Use the long format.\n",
    "\n",
    "Example:\n",
    "\n",
    "```bash\n",
    "$ ./4-listmorefiles\n",
    "total 32\n",
    "drwxr-xr-x@ 6 sylvain staff 204 Jan 25 00:29 .\n",
    "drwxr-xr-x@ 43 sylvain staff 1462 Jan 25 00:19 ..\n",
    "-rwxr-xr-x@ 1 sylvain staff 18 Jan 25 00:19 0-current_working_directory\n",
    "-rwxr-xr-x@ 1 sylvain staff 19 Jan 25 00:23 1-listit\n",
    "-rwxr-xr-x@ 1 sylvain staff 18 Jan 25 00:29 2-bring_me_home\n",
    "-rwxr-xr-x@ 1 sylvain staff 18 Jan 25 00:39 3-listfiles\n",
    "-rwxr-xr-x@ 1 sylvain staff 18 Jan 25 00:41 4-listmorefiles\n",
    "$\n",
    "```\n",
    "\n",
    "#### Repo:\n",
    "* GitHub repository: `alx-system_engineering-devops`\n",
    "* Directory: `0x00-shell_basics`\n",
    "* File: `4-listmorefiles`"
   ]
  },
  {
   "cell_type": "code",
   "execution_count": 6,
   "metadata": {},
   "outputs": [
    {
     "name": "stdout",
     "output_type": "stream",
     "text": [
      "Overwriting /home/elkomy/alx-system_engineering-devops/0x00-shell_basics/4-listmorefiles\n"
     ]
    }
   ],
   "source": [
    "%%file /home/elkomy/alx-system_engineering-devops/0x00-shell_basics/4-listmorefiles\n",
    "#!/bin/bash\n",
    "ls -la"
   ]
  },
  {
   "cell_type": "code",
   "execution_count": 7,
   "metadata": {},
   "outputs": [],
   "source": [
    "!chmod u+x /home/elkomy/alx-system_engineering-devops/0x00-shell_basics/4-listmorefiles"
   ]
  },
  {
   "cell_type": "code",
   "execution_count": 8,
   "metadata": {},
   "outputs": [
    {
     "name": "stdout",
     "output_type": "stream",
     "text": [
      "[main 1b33355] committing the 4-listmorefiles\n",
      " 2 files changed, 14 insertions(+), 15 deletions(-)\n",
      " mode change 100644 => 100755 0x00-shell_basics/4-listmorefiles\n",
      "Enumerating objects: 7, done.\n",
      "Counting objects: 100% (7/7), done.\n",
      "Delta compression using up to 12 threads\n",
      "Compressing objects: 100% (4/4), done.\n",
      "Writing objects: 100% (4/4), 506 bytes | 506.00 KiB/s, done.\n",
      "Total 4 (delta 3), reused 0 (delta 0)\n",
      "remote: Resolving deltas: 100% (3/3), completed with 3 local objects.\u001b[K\n",
      "To https://github.com/elkomysara/alx-system_engineering-devops.git\n",
      "   e48f9a6..1b33355  main -> main\n",
      "Branch 'main' set up to track remote branch 'main' from 'origin'.\n"
     ]
    }
   ],
   "source": [
    "!git add .\n",
    "!git commit -m \"committing the 4-listmorefiles\"\n",
    "!git push -u origin main"
   ]
  },
  {
   "cell_type": "code",
   "execution_count": 9,
   "metadata": {},
   "outputs": [
    {
     "name": "stdout",
     "output_type": "stream",
     "text": [
      "total 52\n",
      "drwxr-xr-x  4 elkomy elkomy  4096 Feb 10 18:49 .\n",
      "drwxr-xr-x 15 elkomy elkomy  4096 Feb 10 19:07 ..\n",
      "drwxr-xr-x  8 elkomy elkomy  4096 Feb 11 00:07 .git\n",
      "-rw-r--r--  1 elkomy elkomy    11 Feb 10 18:55 .gitignore\n",
      "drwxr-xr-x  2 elkomy elkomy  4096 Feb 10 18:49 0x00-shell_basics\n",
      "-rw-r--r--  1 elkomy elkomy    32 Feb 10 18:52 README.md\n",
      "-rw-r--r--  1 elkomy elkomy 27213 Feb 11 00:07 alx-system_engineering-devops.ipynb\n"
     ]
    }
   ],
   "source": [
    "%%bash\n",
    "./0x00-shell_basics/4-listmorefiles"
   ]
  },
  {
   "cell_type": "markdown",
   "metadata": {},
   "source": [
    "### \n",
    "\n",
    "\n",
    "---\n",
    "<center>\n",
    "<h4> 5. I love numbers </h4>\n",
    "</center>\n",
    "\n",
    "---"
   ]
  },
  {
   "cell_type": "markdown",
   "metadata": {},
   "source": [
    "##### Display Current directory contents.\n",
    "* Long format\n",
    "* With user and group IDs displayed numerically\n",
    "* and hidden files (starting with .)\n",
    "\n",
    "##### Example:\n",
    "\n",
    "```bash\n",
    "$ ./5-listfilesdigitonly\n",
    "total 32\n",
    "drwxr-xr-x@ 6 501 20 204 Jan 25 00:29 .\n",
    "drwxr-xr-x@ 43 501 20 1462 Jan 25 00:19 ..\n",
    "-rwxr-xr-x@ 1 501 20 18 Jan 25 00:19 0-current_working_directory\n",
    "-rwxr-xr-x@ 1 501 20 18 Jan 25 00:23 1-listfiles\n",
    "-rwxr-xr-x@ 1 501 20 19 Jan 25 00:29 2-bring_me_home\n",
    "-rwxr-xr-x@ 1 501 20 20 Jan 25 00:39 3-listfiles\n",
    "-rwxr-xr-x@ 1 501 20 18 Jan 25 00:41 4-listmorefiles\n",
    "-rwxr-xr-x@ 1 501 20 18 Jan 25 00:43 5-listfilesdigitonly\n",
    "```\n",
    "\n",
    "##### Repo:\n",
    "\n",
    "* GitHub repository: alx-system_engineering-devops\n",
    "* Directory: 0x00-shell_basics\n",
    "* File: 5-listfilesdigitonly"
   ]
  },
  {
   "cell_type": "markdown",
   "metadata": {},
   "source": []
  },
  {
   "cell_type": "code",
   "execution_count": 11,
   "metadata": {},
   "outputs": [
    {
     "name": "stdout",
     "output_type": "stream",
     "text": [
      "Writing 0x00-shell_basics/5-listfilesdigitonly\n"
     ]
    }
   ],
   "source": [
    "%%file 0x00-shell_basics/5-listfilesdigitonly\n",
    "#!/bin/bash\n",
    "ls -lan"
   ]
  },
  {
   "cell_type": "code",
   "execution_count": 12,
   "metadata": {},
   "outputs": [
    {
     "name": "stdout",
     "output_type": "stream",
     "text": [
      "total 52\n",
      "drwxr-xr-x  4 1000 1000  4096 Feb 11 00:26 .\n",
      "drwxr-xr-x 15 1000 1000  4096 Feb 10 19:07 ..\n",
      "drwxr-xr-x  8 1000 1000  4096 Feb 11 00:07 .git\n",
      "-rw-r--r--  1 1000 1000    11 Feb 10 18:55 .gitignore\n",
      "drwxr-xr-x  2 1000 1000  4096 Feb 11 00:26 0x00-shell_basics\n",
      "-rw-r--r--  1 1000 1000    32 Feb 10 18:52 README.md\n",
      "-rw-r--r--  1 1000 1000 27721 Feb 11 00:27 alx-system_engineering-devops.ipynb\n"
     ]
    }
   ],
   "source": [
    "%%bash\n",
    "chmod u+x 0x00-shell_basics/5-listfilesdigitonly\n",
    "./0x00-shell_basics/5-listfilesdigitonly"
   ]
  },
  {
   "cell_type": "code",
   "execution_count": 13,
   "metadata": {},
   "outputs": [
    {
     "name": "stdout",
     "output_type": "stream",
     "text": [
      "[main 2a7811e] 5-listfilesdigitonly\n",
      " 2 files changed, 108 insertions(+), 63 deletions(-)\n",
      " create mode 100755 0x00-shell_basics/5-listfilesdigitonly\n"
     ]
    },
    {
     "name": "stderr",
     "output_type": "stream",
     "text": [
      "To https://github.com/elkomysara/alx-system_engineering-devops.git\n",
      "   1b33355..2a7811e  main -> main\n"
     ]
    }
   ],
   "source": [
    "%%bash\n",
    "git add .\n",
    "git commit -m \"5-listfilesdigitonly\"\n",
    "git push"
   ]
  },
  {
   "cell_type": "markdown",
   "metadata": {},
   "source": [
    "### \n",
    "\n",
    "\n",
    "---\n",
    "<center>\n",
    "<h4> 6.Welcome </h4>\n",
    "</center>\n",
    "\n",
    "---"
   ]
  },
  {
   "cell_type": "markdown",
   "metadata": {},
   "source": [
    "##### Create a script that creates a directory named my_first_directory in the /tmp/ directory.\n",
    "\n",
    "##### Example:\n",
    "```bash\n",
    "$ ./6-firstdirectory\n",
    "$ file /tmp/my_first_directory/\n",
    "/tmp/my_first_directory/: directory\n",
    "$\n",
    "```\n",
    "\n",
    "#### Repo:\n",
    "\n",
    "* GitHub repository: `alx-system_engineering-devops`\n",
    "* Directory: `0x00-shell_basics`\n",
    "* File: `6-firstdirectory`"
   ]
  },
  {
   "cell_type": "code",
   "execution_count": 41,
   "metadata": {},
   "outputs": [
    {
     "name": "stderr",
     "output_type": "stream",
     "text": [
      "The system cannot find the path specified.\n",
      "warning: in the working copy of 'alx-zero_day.ipynb', LF will be replaced by CRLF the next time Git touches it\n"
     ]
    },
    {
     "name": "stdout",
     "output_type": "stream",
     "text": [
      "[main 7593c11]  gitignore\n",
      " 2 files changed, 43 insertions(+)\n",
      " create mode 100644 0x03-git/.gitignore\n",
      "branch 'main' set up to track 'origin/main'.\n"
     ]
    },
    {
     "name": "stderr",
     "output_type": "stream",
     "text": [
      "To https://github.com/elkomysara/alx-zero_day.git\n",
      "   173f40f..7593c11  main -> main\n",
      "warning: branch.main.remote has multiple values\n",
      "warning: branch.main.merge has multiple values\n"
     ]
    }
   ],
   "source": [
    "!cd ~/alx-zero_day/\n",
    "!echo \"*~\" > \"C:/Users/komy2/OneDrive/Desktop/AlxSE/Repos/alx-zero_day/0x03-git/.gitignore\"\n",
    "!git add .\n",
    "!git commit -m \" gitignore\"\n",
    "!git push -u origin main"
   ]
  },
  {
   "cell_type": "markdown",
   "metadata": {},
   "source": [
    "### NEXT <code> alx-system_engineering-devops </code>"
   ]
  },
  {
   "cell_type": "code",
   "execution_count": 2,
   "metadata": {},
   "outputs": [],
   "source": [
    "import os\n",
    "# creating alx-zero_day folder\n",
    "\n",
    "folder_path = r'C:/Users/komy2/OneDrive/Desktop/AlxSE/Repos/alx-system_engineering-devops'\n",
    "if not os.path.exists(folder_path):\n",
    "    os.makedirs(folder_path)\n",
    "\n",
    "# Create a README.md inside alx-zero_day\n",
    "file_path = os.path.join(folder_path, 'README.md')\n",
    "\n",
    "with open(file_path, 'w') as file:\n",
    "    file.write(\"This is a mandatory file\")"
   ]
  },
  {
   "cell_type": "code",
   "execution_count": 5,
   "metadata": {},
   "outputs": [
    {
     "ename": "NameError",
     "evalue": "name 'alx' is not defined",
     "output_type": "error",
     "traceback": [
      "\u001b[1;31m---------------------------------------------------------------------------\u001b[0m",
      "\u001b[1;31mNameError\u001b[0m                                 Traceback (most recent call last)",
      "Cell \u001b[1;32mIn[5], line 11\u001b[0m\n\u001b[0;32m      7\u001b[0m dest_folder \u001b[38;5;241m=\u001b[39m \u001b[38;5;124m\"\u001b[39m\u001b[38;5;124mC:/Users/komy2/OneDrive/Desktop/AlxSE/Repos/alx-system_engineering-devops\u001b[39m\u001b[38;5;124m\"\u001b[39m\n\u001b[0;32m      9\u001b[0m shutil\u001b[38;5;241m.\u001b[39mcopy(source_file, dest_folder)\n\u001b[1;32m---> 11\u001b[0m os\u001b[38;5;241m.\u001b[39mrename(source_file,\u001b[43malx\u001b[49m\u001b[38;5;241m-\u001b[39msystem_engineering\u001b[38;5;241m-\u001b[39mdevops\u001b[38;5;241m.\u001b[39mipynb)\n",
      "\u001b[1;31mNameError\u001b[0m: name 'alx' is not defined"
     ]
    }
   ],
   "source": [
    "import shutil\n",
    "import os\n",
    "\n",
    "# copy the ipynb file from zero_day to alx-zero_day\n",
    "\n",
    "source_file = \"C:/Users/komy2/OneDrive/Desktop/AlxSE/Repos/alx-zero_day/alx-zero_day.ipynb\"  \n",
    "dest_folder = \"C:/Users/komy2/OneDrive/Desktop/AlxSE/Repos/alx-system_engineering-devops\"\n",
    "\n",
    "shutil.copy(source_file, dest_folder)\n",
    "\n",
    "os.rename(source_file,r\"alx-system_engineering-devops.ipynb\")"
   ]
  },
  {
   "cell_type": "code",
   "execution_count": 7,
   "metadata": {},
   "outputs": [
    {
     "name": "stdout",
     "output_type": "stream",
     "text": [
      "Microsoft Windows [Version 10.0.22631.3007]\n",
      "(c) Microsoft Corporation. All rights reserved.\n",
      "\n",
      "(c:\\Users\\komy2\\OneDrive\\Desktop\\AlxSE\\Repos\\zero_day\\.conda) c:\\Users\\komy2\\OneDrive\\Desktop\\AlxSE\\Repos\\zero_day>copy \"C:/Users/komy2/OneDrive/Desktop/AlxSE/Repos/zero_day/zero_day.ipynb\" \"C:/Users/komy2/OneDrive/Desktop/AlxSE/Repos/alx-zero_day\"\n",
      "        1 file(s) copied.\n",
      "\n",
      "(c:\\Users\\komy2\\OneDrive\\Desktop\\AlxSE\\Repos\\zero_day\\.conda) c:\\Users\\komy2\\OneDrive\\Desktop\\AlxSE\\Repos\\zero_day>"
     ]
    }
   ],
   "source": [
    "%%cmd\n",
    "copy \"C:/Users/komy2/OneDrive/Desktop/AlxSE/Repos/alx-zero_day/alx-zero_day.ipynb\" \"C:/Users/komy2/OneDrive/Desktop/AlxSE/Repos/alx-system_engineering-devops\"\n"
   ]
  },
  {
   "cell_type": "code",
   "execution_count": 10,
   "metadata": {},
   "outputs": [],
   "source": [
    "\n",
    "!cp \"C:/Users/komy2/OneDrive/Desktop/AlxSE/Repos/zero_day/zero_day.ipynb\" \"C:/Users/komy2/OneDrive/Desktop/AlxSE/Repos/alx-zero_day\"\n"
   ]
  },
  {
   "cell_type": "code",
   "execution_count": null,
   "metadata": {},
   "outputs": [],
   "source": []
  }
 ],
 "metadata": {
  "kernelspec": {
   "display_name": "Python 3",
   "language": "python",
   "name": "python3"
  },
  "language_info": {
   "codemirror_mode": {
    "name": "ipython",
    "version": 3
   },
   "file_extension": ".py",
   "mimetype": "text/x-python",
   "name": "python",
   "nbconvert_exporter": "python",
   "pygments_lexer": "ipython3",
   "version": "3.11.5"
  }
 },
 "nbformat": 4,
 "nbformat_minor": 2
}
