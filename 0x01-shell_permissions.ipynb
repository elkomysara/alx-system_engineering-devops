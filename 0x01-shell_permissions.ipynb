{
 "cells": [
  {
   "cell_type": "markdown",
   "metadata": {},
   "source": [
    "---\n",
    "<center>\n",
    "<h1>  alx-system_engineering-devops </h1>\n",
    "</center>\n",
    "\n",
    "---\n"
   ]
  },
  {
   "cell_type": "code",
   "execution_count": null,
   "metadata": {},
   "outputs": [
    {
     "name": "stdout",
     "output_type": "stream",
     "text": [
      "Reinitialized existing Git repository in /home/elkomy/alx-system_engineering-devops/.git/\n",
      "[main 65cddee] first commit\n",
      " 6 files changed, 2939 insertions(+), 21 deletions(-)\n",
      " rename alx-system_engineering-devops.ipynb => 0x00-shell_basics.ipynb (99%)\n",
      " create mode 100644 0x01-shell_permissions.ipynb\n",
      " create mode 100644 0x01-shell_permissions/README.md\n",
      " rewrite README.md (100%)\n",
      " delete mode 120000 __ls__\n"
     ]
    },
    {
     "name": "stdout",
     "output_type": "stream",
     "text": [
      "fatal: remote origin already exists.\n",
      "Enumerating objects: 11, done.\n",
      "Counting objects: 100% (11/11), done.\n",
      "Delta compression using up to 12 threads\n",
      "Compressing objects: 100% (5/5), done.\n",
      "Writing objects: 100% (8/8), 9.73 KiB | 9.73 MiB/s, done.\n",
      "Total 8 (delta 1), reused 0 (delta 0)\n",
      "remote: Resolving deltas: 100% (1/1), done.\u001b[K\n",
      "To https://github.com/elkomysara/alx-system_engineering-devops.git\n",
      "   77198b0..65cddee  main -> main\n",
      "Branch 'main' set up to track remote branch 'main' from 'origin'.\n",
      "fatal: remote origin already exists.\n",
      "Branch 'main' set up to track remote branch 'main' from 'origin'.\n",
      "Everything up-to-date\n"
     ]
    }
   ],
   "source": [
    "\n",
    "#create a new repository on the command line\n",
    "!echo \"# alx-system_engineering-devops\" > README.md\n",
    "!git init\n",
    "!git add .\n",
    "!git commit -m \"first commit\"\n",
    "!git branch -M main\n",
    "!git remote add origin git@github.com:elkomysara/alx-system_engineering-devops.git\n",
    "!git push -u origin main\n",
    "# #push an existing repository from the command line\n",
    "!git remote add origin git@github.com:elkomysara/alx-system_engineering-devops.git\n",
    "!git branch -M main\n",
    "!git push -u origin main"
   ]
  },
  {
   "cell_type": "code",
   "execution_count": 9,
   "metadata": {},
   "outputs": [
    {
     "name": "stdout",
     "output_type": "stream",
     "text": [
      "Overwriting README.md\n"
     ]
    }
   ],
   "source": [
    "%%file README.md\n",
    "\n",
    "## alx-system_engineering-devops/0x00-shell_basics\n",
    "## alx-system_engineering-devops/0x01-shell_permissions"
   ]
  },
  {
   "cell_type": "code",
   "execution_count": null,
   "metadata": {},
   "outputs": [],
   "source": [
    "import os\n",
    "# creating 0x01. Shell, permissions\n",
    "\n",
    "folder_path = r'/home/elkomy/alx-system_engineering-devops/0x01-shell_permissions'\n",
    "if not os.path.exists(folder_path):\n",
    "    os.makedirs(folder_path)\n",
    "\n",
    "# Create a README.md inside 0x00-shell_basics\n",
    "file_path = os.path.join(folder_path, 'README.md')\n",
    "\n",
    "with open(file_path, 'w') as file:\n",
    "    file.write(\"This is a README.md file inside alx-system_engineering-devops/0x01-shell_permissions\")\n",
    "\n"
   ]
  },
  {
   "cell_type": "code",
   "execution_count": 6,
   "metadata": {},
   "outputs": [
    {
     "name": "stdout",
     "output_type": "stream",
     "text": [
      "Overwriting 0x01-shell_permissions/README.md\n"
     ]
    }
   ],
   "source": [
    "%%file 0x01-shell_permissions/README.md\n",
    "## alx-system_engineering-devops/0x01-shell_permissions"
   ]
  },
  {
   "cell_type": "code",
   "execution_count": null,
   "metadata": {},
   "outputs": [
    {
     "name": "stdout",
     "output_type": "stream",
     "text": [
      "[main e4c0f50] commiting the alx-system_devops-engineering README.md file\n",
      " 2 files changed, 42 insertions(+), 28 deletions(-)\n",
      "Enumerating objects: 7, done.\n",
      "Counting objects: 100% (7/7), done.\n",
      "Delta compression using up to 12 threads\n",
      "Compressing objects: 100% (4/4), done.\n",
      "Writing objects: 100% (4/4), 843 bytes | 843.00 KiB/s, done.\n",
      "Total 4 (delta 2), reused 0 (delta 0)\n",
      "remote: Resolving deltas: 100% (2/2), completed with 2 local objects.\u001b[K\n",
      "To https://github.com/elkomysara/alx-system_engineering-devops.git\n",
      "   154bd60..e4c0f50  main -> main\n",
      "Branch 'main' set up to track remote branch 'main' from 'origin'.\n"
     ]
    }
   ],
   "source": [
    "\n",
    "!git add .\n",
    "!git commit -m \"\"\n",
    "!git push -u origin main"
   ]
  },
  {
   "cell_type": "code",
   "execution_count": 8,
   "metadata": {},
   "outputs": [
    {
     "name": "stdout",
     "output_type": "stream",
     "text": [
      "Already up to date.\n"
     ]
    },
    {
     "name": "stdout",
     "output_type": "stream",
     "text": [
      "Everything up-to-date\n"
     ]
    }
   ],
   "source": [
    "!git pull\n",
    "!git push"
   ]
  },
  {
   "cell_type": "markdown",
   "metadata": {},
   "source": [
    "###\n",
    "---\n",
    "<center>\n",
    "<h1>  0x01. Shell, permissions  </h1>\n",
    "</center>\n",
    "\n",
    "---\n"
   ]
  },
  {
   "cell_type": "markdown",
   "metadata": {},
   "source": [
    "###\n",
    "---\n",
    "<center>\n",
    "<h4>  0. My name is Betty </h4>\n",
    "</center>\n",
    "\n",
    "---"
   ]
  },
  {
   "cell_type": "markdown",
   "metadata": {},
   "source": [
    "\n",
    "#### Create a script that switches the current user to the user betty. \n",
    "* You should use exactly 8 characters for your command (+1 character for the new line)\n",
    "* You can assume that the user betty will exist when we will run your script\n",
    "\n",
    "```bash\n",
    "julien@ubuntu:/tmp/h$ tail -1 0-iam_betty | wc -c\n",
    "9\n",
    "julien@ubuntu:/tmp/h$\n",
    "```\n",
    "\n",
    "\n",
    "#### Repo:\n",
    "* GitHub repository: ``` alx-system_engineering-devops ```\n",
    "* Directory: <code> 0x01-shell_permissions </code>\n",
    "* File: <code>  0-iam_betty</code>"
   ]
  },
  {
   "cell_type": "code",
   "execution_count": 8,
   "metadata": {},
   "outputs": [
    {
     "name": "stdout",
     "output_type": "stream",
     "text": [
      "Overwriting 0x01-shell_permissions/0-iam_betty\n"
     ]
    }
   ],
   "source": [
    "%%file 0x01-shell_permissions/0-iam_betty\n",
    "#!/bin/bash\n",
    "su betty\n"
   ]
  },
  {
   "cell_type": "code",
   "execution_count": 2,
   "metadata": {},
   "outputs": [],
   "source": [
    "!chmod u+x /home/elkomy/alx-system_engineering-devops/0x01-shell_permissions/0-iam_betty"
   ]
  },
  {
   "cell_type": "code",
   "execution_count": 4,
   "metadata": {},
   "outputs": [
    {
     "name": "stdout",
     "output_type": "stream",
     "text": [
      "#!/bin/bash\n",
      "su -betty\n"
     ]
    }
   ],
   "source": [
    "!cat 0x01-shell_permissions/0-iam_betty"
   ]
  },
  {
   "cell_type": "code",
   "execution_count": 9,
   "metadata": {},
   "outputs": [
    {
     "name": "stdout",
     "output_type": "stream",
     "text": [
      "9\n"
     ]
    }
   ],
   "source": [
    "%%bash\n",
    "tail -1 0x01-shell_permissions/0-iam_betty | wc -c"
   ]
  },
  {
   "cell_type": "code",
   "execution_count": 6,
   "metadata": {},
   "outputs": [
    {
     "name": "stdout",
     "output_type": "stream",
     "text": [
      "[main 375e218] commit 0-current_working_directory\n",
      " 3 files changed, 138 insertions(+), 112 deletions(-)\n",
      " create mode 100755 0x01-shell_permissions/0-iam_betty\n",
      "Enumerating objects: 10, done.\n",
      "Counting objects: 100% (10/10), done.\n",
      "Delta compression using up to 12 threads\n",
      "Compressing objects: 100% (5/5), done.\n",
      "Writing objects: 100% (6/6), 2.36 KiB | 2.36 MiB/s, done.\n",
      "Total 6 (delta 2), reused 0 (delta 0)\n",
      "remote: Resolving deltas: 100% (2/2), completed with 2 local objects.\u001b[K\n",
      "To https://github.com/elkomysara/alx-system_engineering-devops.git\n",
      "   65cddee..375e218  main -> main\n",
      "Branch 'main' set up to track remote branch 'main' from 'origin'.\n"
     ]
    }
   ],
   "source": [
    "\n",
    "!git add .\n",
    "!git commit -m \"commit 0-current_working_directory\"\n",
    "!git push -u origin main"
   ]
  },
  {
   "cell_type": "markdown",
   "metadata": {},
   "source": [
    "###\n",
    "---\n",
    "<center>\n",
    "<h4> 1. Who am I </h4>\n",
    "</center>\n",
    "\n",
    "---\n"
   ]
  },
  {
   "cell_type": "markdown",
   "metadata": {},
   "source": [
    "* Write a script that prints the effective username of the current user.\n",
    "* Example:\n",
    "    ```bash\n",
    "    julien@ubuntu:/tmp/h$ ./1-who_am_i\n",
    "    julien\n",
    "    julien@ubuntu:/tmp/h$ \n",
    "    ```\n",
    "\n",
    "* Repo:\n",
    "\n",
    "    * GitHub repository: <code > alx-system_engineering-devops </code>\n",
    "    * Directory: <code > 0x01-shell_permissions </code>\n",
    "    * File: <code >  File: 1-who_am_i </code>\n",
    "   "
   ]
  },
  {
   "cell_type": "code",
   "execution_count": 1,
   "metadata": {},
   "outputs": [
    {
     "name": "stdout",
     "output_type": "stream",
     "text": [
      "Writing 0x01-shell_permissions/1-who_am_i\n"
     ]
    }
   ],
   "source": [
    "%%file 0x01-shell_permissions/1-who_am_i\n",
    "#!/bin/bash\n",
    "whoami"
   ]
  },
  {
   "cell_type": "code",
   "execution_count": 2,
   "metadata": {},
   "outputs": [],
   "source": [
    "!chmod u+x /home/elkomy/alx-system_engineering-devops/0x01-shell_permissions/1-who_am_i"
   ]
  },
  {
   "cell_type": "code",
   "execution_count": 4,
   "metadata": {},
   "outputs": [
    {
     "name": "stdout",
     "output_type": "stream",
     "text": [
      "#!/bin/bash\n",
      "whoami\n"
     ]
    }
   ],
   "source": [
    "!cat 0x01-shell_permissions/1-who_am_i"
   ]
  },
  {
   "cell_type": "code",
   "execution_count": 6,
   "metadata": {},
   "outputs": [
    {
     "name": "stdout",
     "output_type": "stream",
     "text": [
      "elkomy\n"
     ]
    }
   ],
   "source": [
    "!./0x01-shell_permissions/1-who_am_i"
   ]
  },
  {
   "cell_type": "code",
   "execution_count": 8,
   "metadata": {},
   "outputs": [
    {
     "name": "stdout",
     "output_type": "stream",
     "text": [
      "[main 8cb791d] whoami\n",
      " 2 files changed, 14 insertions(+), 12 deletions(-)\n",
      "Enumerating objects: 7, done.\n",
      "Counting objects: 100% (7/7), done.\n",
      "Delta compression using up to 12 threads\n",
      "Compressing objects: 100% (4/4), done.\n",
      "Writing objects: 100% (4/4), 527 bytes | 527.00 KiB/s, done.\n",
      "Total 4 (delta 2), reused 0 (delta 0)\n",
      "remote: Resolving deltas: 100% (2/2), completed with 2 local objects.\u001b[K\n",
      "To https://github.com/elkomysara/alx-system_engineering-devops.git\n",
      "   b9277cb..8cb791d  main -> main\n",
      "Branch 'main' set up to track remote branch 'main' from 'origin'.\n"
     ]
    }
   ],
   "source": [
    "\n",
    "!git add .\n",
    "!git commit -m \"whoami\"\n",
    "!git push -u origin main"
   ]
  },
  {
   "cell_type": "markdown",
   "metadata": {},
   "source": [
    "###\n",
    "---\n",
    "<center>\n",
    "<h4> 2. Groups </h4>\n",
    "</center>\n",
    "\n",
    "---"
   ]
  },
  {
   "cell_type": "markdown",
   "metadata": {},
   "source": [
    "#### Write a script that prints all the groups the current user is part of.\n",
    "\n",
    "```bash\n",
    "julien@ubuntu:/tmp/h$ ./2-groups\n",
    "julien adm cdrom sudo dip plugdev lpadmin sambashare\n",
    "julien@ubuntu:/tmp/h$ \n",
    "```\n",
    "\n",
    "\n",
    "#### Repo:\n",
    "* GitHub repository:   <code>alx-system_engineering-devops </code>\n",
    "* Directory:   <code> 0x01-shell_permissions </code>\n",
    "* File:   <code> 2-groups</code>"
   ]
  },
  {
   "cell_type": "code",
   "execution_count": 1,
   "metadata": {},
   "outputs": [
    {
     "name": "stdout",
     "output_type": "stream",
     "text": [
      "Writing 0x01-shell_permissions/2-groups\n"
     ]
    }
   ],
   "source": [
    "%%file 0x01-shell_permissions/2-groups\n",
    "#!/bin/bash\n",
    "id -nG"
   ]
  },
  {
   "cell_type": "code",
   "execution_count": 2,
   "metadata": {},
   "outputs": [],
   "source": [
    "!chmod u+x /home/elkomy/alx-system_engineering-devops/0x01-shell_permissions/2-groups"
   ]
  },
  {
   "cell_type": "code",
   "execution_count": 3,
   "metadata": {},
   "outputs": [
    {
     "name": "stdout",
     "output_type": "stream",
     "text": [
      "elkomy adm dialout cdrom floppy sudo audio dip video plugdev netdev\n"
     ]
    }
   ],
   "source": [
    "!source ./0x01-shell_permissions/2-groups"
   ]
  },
  {
   "cell_type": "code",
   "execution_count": 4,
   "metadata": {},
   "outputs": [
    {
     "name": "stdout",
     "output_type": "stream",
     "text": [
      "#!/bin/bash\n",
      "id -nG\n"
     ]
    }
   ],
   "source": [
    "!cat 0x01-shell_permissions/2-groups"
   ]
  },
  {
   "cell_type": "code",
   "execution_count": 5,
   "metadata": {},
   "outputs": [
    {
     "name": "stdout",
     "output_type": "stream",
     "text": [
      "[main 99867fe] group\n",
      " 2 files changed, 46 insertions(+), 45 deletions(-)\n",
      " create mode 100755 0x01-shell_permissions/2-groups\n",
      "Enumerating objects: 8, done.\n",
      "Counting objects: 100% (8/8), done.\n",
      "Delta compression using up to 12 threads\n",
      "Compressing objects: 100% (4/4), done.\n",
      "Writing objects: 100% (5/5), 895 bytes | 895.00 KiB/s, done.\n",
      "Total 5 (delta 2), reused 0 (delta 0)\n",
      "remote: Resolving deltas: 100% (2/2), completed with 2 local objects.\u001b[K\n",
      "To https://github.com/elkomysara/alx-system_engineering-devops.git\n",
      "   8cb791d..99867fe  main -> main\n",
      "Branch 'main' set up to track remote branch 'main' from 'origin'.\n"
     ]
    }
   ],
   "source": [
    "!git add .\n",
    "!git commit -m \"group\"\n",
    "!git push -u origin main"
   ]
  },
  {
   "cell_type": "markdown",
   "metadata": {},
   "source": [
    "###\n",
    "---\n",
    "<center>\n",
    "<h4> 3.New owner </h4>\n",
    "</center>\n",
    "\n",
    "---"
   ]
  },
  {
   "cell_type": "markdown",
   "metadata": {},
   "source": [
    "#### Write a script that changes the owner of the file `hello` to the user `betty`.\n",
    "\n",
    "\n",
    "```bash\n",
    "julien@ubuntu:/tmp/h$ ls -l\n",
    "total 4\n",
    "-rwxrw-r-- 1 julien julien 30 Sep 20 14:23 3-new_owner\n",
    "-rw-rw-r-- 1 julien julien  0 Sep 20 14:18 hello\n",
    "julien@ubuntu:/tmp/h$ sudo ./3-new_owner \n",
    "julien@ubuntu:/tmp/h$ ls -l\n",
    "total 4\n",
    "-rwxrw-r-- 1 julien julien 30 Sep 20 14:23 3-new_owner\n",
    "-rw-rw-r-- 1 betty  julien  0 Sep 20 14:18 hello\n",
    "julien@ubuntu:/tmp/h$\n",
    "```\n",
    "\n",
    "\n",
    "#### Repo:\n",
    "* GitHub repository: `alx-system_engineering-devops`\n",
    "* Directory: `0x01-shell_permissions`\n",
    "* File: `3-new_owner`"
   ]
  },
  {
   "cell_type": "code",
   "execution_count": 1,
   "metadata": {},
   "outputs": [
    {
     "name": "stdout",
     "output_type": "stream",
     "text": [
      "Writing 0x01-shell_permissions/3-new_owner\n"
     ]
    }
   ],
   "source": [
    "%%file 0x01-shell_permissions/3-new_owner\n",
    "#!/bin/bash\n",
    "chown betty: hello"
   ]
  },
  {
   "cell_type": "code",
   "execution_count": 2,
   "metadata": {},
   "outputs": [],
   "source": [
    "%%bash\n",
    "chmod u+x /home/elkomy/alx-system_engineering-devops/0x01-shell_permissions/3-new_owner"
   ]
  },
  {
   "cell_type": "code",
   "execution_count": 3,
   "metadata": {},
   "outputs": [
    {
     "name": "stdout",
     "output_type": "stream",
     "text": [
      "#!/bin/bash\n",
      "chown betty: hello\n"
     ]
    }
   ],
   "source": [
    "!cat 0x01-shell_permissions/3-new_owner"
   ]
  },
  {
   "cell_type": "code",
   "execution_count": 4,
   "metadata": {},
   "outputs": [
    {
     "name": "stdout",
     "output_type": "stream",
     "text": [
      "chown: invalid spec: ‘betty:’\n"
     ]
    }
   ],
   "source": [
    "!./0x01-shell_permissions/3-new_owner"
   ]
  },
  {
   "cell_type": "code",
   "execution_count": 5,
   "metadata": {},
   "outputs": [
    {
     "name": "stdout",
     "output_type": "stream",
     "text": [
      "[main b1d5c23] chown betty: hello\n",
      " 2 files changed, 39 insertions(+), 37 deletions(-)\n",
      " create mode 100755 0x01-shell_permissions/3-new_owner\n",
      "Enumerating objects: 8, done.\n",
      "Counting objects: 100% (8/8), done.\n",
      "Delta compression using up to 12 threads\n",
      "Compressing objects: 100% (4/4), done.\n",
      "Writing objects: 100% (5/5), 890 bytes | 296.00 KiB/s, done.\n",
      "Total 5 (delta 3), reused 0 (delta 0)\n",
      "remote: Resolving deltas: 100% (3/3), completed with 3 local objects.\u001b[K\n",
      "To https://github.com/elkomysara/alx-system_engineering-devops.git\n",
      "   99867fe..b1d5c23  main -> main\n",
      "Branch 'main' set up to track remote branch 'main' from 'origin'.\n"
     ]
    }
   ],
   "source": [
    "!git add .\n",
    "!git commit -m \"chown betty: hello\"\n",
    "!git push -u origin main"
   ]
  },
  {
   "cell_type": "markdown",
   "metadata": {},
   "source": [
    "### \n",
    "\n",
    "\n",
    "---\n",
    "<center>\n",
    "<h4> 4. Empty! </h4>\n",
    "</center>\n",
    "\n",
    "---"
   ]
  },
  {
   "cell_type": "markdown",
   "metadata": {},
   "source": [
    "#### Write a script that creates an empty file called `hello`.\n",
    "\n",
    "\n",
    "#### Repo:\n",
    "* GitHub repository: `alx-system_engineering-devops`\n",
    "* Directory: `0x01-shell_permissions`\n",
    "* File: `4-empty`"
   ]
  },
  {
   "cell_type": "code",
   "execution_count": 6,
   "metadata": {},
   "outputs": [
    {
     "name": "stdout",
     "output_type": "stream",
     "text": [
      "Writing 0x01-shell_permissions/4-empty\n"
     ]
    }
   ],
   "source": [
    "%%file \n",
    "#!/bin/bash\n",
    "touch hello"
   ]
  },
  {
   "cell_type": "code",
   "execution_count": 7,
   "metadata": {},
   "outputs": [],
   "source": [
    "!chmod u+x 0x01-shell_permissions/4-empty"
   ]
  },
  {
   "cell_type": "code",
   "execution_count": 8,
   "metadata": {},
   "outputs": [
    {
     "name": "stdout",
     "output_type": "stream",
     "text": [
      "#!/bin/bash\n",
      "touch hello\n"
     ]
    }
   ],
   "source": [
    "!cat 0x01-shell_permissions/4-empty"
   ]
  },
  {
   "cell_type": "code",
   "execution_count": 9,
   "metadata": {},
   "outputs": [],
   "source": [
    "!./0x01-shell_permissions/4-empty"
   ]
  },
  {
   "cell_type": "code",
   "execution_count": 12,
   "metadata": {},
   "outputs": [
    {
     "name": "stdout",
     "output_type": "stream",
     "text": [
      "[main f040ad5] Hello\n",
      " 1 file changed, 28 insertions(+), 28 deletions(-)\n",
      "Enumerating objects: 5, done.\n",
      "Counting objects: 100% (5/5), done.\n",
      "Delta compression using up to 12 threads\n",
      "Compressing objects: 100% (3/3), done.\n",
      "Writing objects: 100% (3/3), 473 bytes | 473.00 KiB/s, done.\n",
      "Total 3 (delta 2), reused 0 (delta 0)\n",
      "remote: Resolving deltas: 100% (2/2), completed with 2 local objects.\u001b[K\n",
      "To https://github.com/elkomysara/alx-system_engineering-devops.git\n",
      "   9f7a3ea..f040ad5  main -> main\n",
      "Branch 'main' set up to track remote branch 'main' from 'origin'.\n"
     ]
    }
   ],
   "source": [
    "!git add .\n",
    "!git commit -m \"Hello\"\n",
    "!git push -u origin main"
   ]
  },
  {
   "cell_type": "code",
   "execution_count": 11,
   "metadata": {},
   "outputs": [],
   "source": [
    "%%bash\n",
    "./0x01-shell_permissions/4-empty"
   ]
  },
  {
   "cell_type": "code",
   "execution_count": null,
   "metadata": {},
   "outputs": [],
   "source": []
  },
  {
   "cell_type": "markdown",
   "metadata": {},
   "source": [
    "### \n",
    "\n",
    "\n",
    "---\n",
    "<center>\n",
    "<h4> 5. Execute</h4>\n",
    "</center>\n",
    "\n",
    "---"
   ]
  },
  {
   "cell_type": "markdown",
   "metadata": {},
   "source": [
    "##### Write a script that adds execute permission to the owner of the file hello.\n",
    "\n",
    "* The file hello will be in the working directory\n",
    "\n",
    "\n",
    "```bash\n",
    "julien@ubuntu:/tmp/h$ ls -l\n",
    "total 8\n",
    "-rwxrw-r-- 1 julien julien 28 Sep 20 14:26 5-execute\n",
    "-rw-rw-r-- 1 julien julien 23 Sep 20 14:25 hello\n",
    "julien@ubuntu:/tmp/h$ ./hello\n",
    "bash: ./hello: Permission denied\n",
    "julien@ubuntu:/tmp/h$ ./5-execute \n",
    "julien@ubuntu:/tmp/h$ ls -l\n",
    "total 8\n",
    "-rwxrw-r-- 1 julien julien 28 Sep 20 14:26 5-execute\n",
    "-rwxrw-r-- 1 julien julien 23 Sep 20 14:25 hello\n",
    "julien@ubuntu:/tmp/h$ \n",
    "```\n",
    "\n",
    "##### Repo:\n",
    "\n",
    "* GitHub repository: `alx-system_engineering-devops`\n",
    "* Directory: `0x01-shell_permissions`\n",
    "* File: `5-execute`"
   ]
  },
  {
   "cell_type": "code",
   "execution_count": 1,
   "metadata": {},
   "outputs": [
    {
     "name": "stdout",
     "output_type": "stream",
     "text": [
      "Writing 0x01-shell_permissions/5-execute\n"
     ]
    }
   ],
   "source": [
    "%%file 0x01-shell_permissions/5-execute\n",
    "#!/bin/bash\n",
    "chmod u+x hello"
   ]
  },
  {
   "cell_type": "code",
   "execution_count": 2,
   "metadata": {},
   "outputs": [],
   "source": [
    "%%bash\n",
    "chmod u+x 0x01-shell_permissions/5-execute\n",
    "./0x01-shell_permissions/5-execute"
   ]
  },
  {
   "cell_type": "code",
   "execution_count": 3,
   "metadata": {},
   "outputs": [
    {
     "name": "stdout",
     "output_type": "stream",
     "text": [
      "[main 3b2eab6] 0x01-shell_permissions/5-execute\n",
      " 3 files changed, 38 insertions(+), 59 deletions(-)\n",
      " create mode 100755 0x01-shell_permissions/5-execute\n",
      " mode change 100644 => 100755 hello\n"
     ]
    },
    {
     "name": "stderr",
     "output_type": "stream",
     "text": [
      "To https://github.com/elkomysara/alx-system_engineering-devops.git\n",
      "   f040ad5..3b2eab6  main -> main\n"
     ]
    }
   ],
   "source": [
    "%%bash\n",
    "git add .\n",
    "git commit -m \"0x01-shell_permissions/5-execute\"\n",
    "git push"
   ]
  },
  {
   "cell_type": "markdown",
   "metadata": {},
   "source": [
    "### \n",
    "\n",
    "\n",
    "---\n",
    "<center>\n",
    "<h4> 6.Multiple permissions </h4>\n",
    "</center>\n",
    "\n",
    "---"
   ]
  },
  {
   "cell_type": "markdown",
   "metadata": {},
   "source": [
    "##### Write a script that adds execute permission to the owner and the group owner, and read permission to other users, to the file `hello`.\n",
    "\n",
    "    * The file `hello` will be in the working directory\n",
    "\n",
    "```bash\n",
    "julien@ubuntu:/tmp/h$ ls -l\n",
    "total 8\n",
    "-rwxrw-r-- 1 julien julien 36 Sep 20 14:31 6-multiple_permissions\n",
    "-r--r----- 1 julien julien 23 Sep 20 14:25 hello\n",
    "julien@ubuntu:/tmp/h$ ./6-multiple_permissions \n",
    "julien@ubuntu:/tmp/h$ ls -l\n",
    "total 8\n",
    "-rwxrw-r-- 1 julien julien 36 Sep 20 14:31 6-multiple_permissions\n",
    "-r-xr-xr-- 1 julien julien 23 Sep 20 14:25 hello\n",
    "julien@ubuntu:/tmp/h$ \n",
    "\n",
    "```\n",
    "\n",
    "#### Repo:\n",
    "\n",
    "* GitHub repository: `alx-system_engineering-devops`\n",
    "* Directory: `0x01-shell_permissions`\n",
    "* File: `6-multiple_permissions`"
   ]
  },
  {
   "cell_type": "code",
   "execution_count": 4,
   "metadata": {},
   "outputs": [
    {
     "name": "stdout",
     "output_type": "stream",
     "text": [
      "Writing 0x01-shell_permissions/6-multiple_permissions\n"
     ]
    }
   ],
   "source": [
    "%%file 0x01-shell_permissions/6-multiple_permissions\n",
    "#!/bin/bash\n",
    "chmod u+x,g+x hello"
   ]
  },
  {
   "cell_type": "code",
   "execution_count": 5,
   "metadata": {},
   "outputs": [
    {
     "name": "stdout",
     "output_type": "stream",
     "text": [
      "total 164\n",
      "drwxr-xr-x 2 elkomy elkomy  4096 Mar  2 14:09 0x00-shell_basics\n",
      "-rw-r--r-- 1 elkomy elkomy 75098 Mar  2 15:54 0x00-shell_basics.ipynb\n",
      "drwxr-xr-x 2 elkomy elkomy  4096 Mar  9 18:26 0x01-shell_permissions\n",
      "-rw-r--r-- 1 elkomy elkomy 71862 Mar  9 18:50 0x01-shell_permissions.ipynb\n",
      "-rw-r--r-- 1 elkomy elkomy   108 Mar  2 16:08 README.md\n",
      "-rwxr-xr-- 1 elkomy elkomy     0 Mar  9 01:18 hello\n",
      "-rw-r--r-- 1 elkomy elkomy   688 Mar  2 14:52 school.mgc\n",
      "-rw-r--r-- 1 elkomy elkomy     0 Feb 28 01:08 test.HTML\n"
     ]
    }
   ],
   "source": [
    "%%bash\n",
    "chmod u+x 0x01-shell_permissions/6-multiple_permissions\n",
    "./0x01-shell_permissions/6-multiple_permissions\n",
    "ls -l\n"
   ]
  },
  {
   "cell_type": "code",
   "execution_count": 6,
   "metadata": {},
   "outputs": [
    {
     "name": "stdout",
     "output_type": "stream",
     "text": [
      "[main 3c9fdc1] 6-multiple_permissions\n",
      " 2 files changed, 43 insertions(+), 39 deletions(-)\n",
      " create mode 100755 0x01-shell_permissions/6-multiple_permissions\n"
     ]
    },
    {
     "name": "stderr",
     "output_type": "stream",
     "text": [
      "To https://github.com/elkomysara/alx-system_engineering-devops.git\n",
      "   3b2eab6..3c9fdc1  main -> main\n"
     ]
    }
   ],
   "source": [
    "%%bash\n",
    "git add .\n",
    "git commit -m \"6-multiple_permissions\"\n",
    "git push"
   ]
  },
  {
   "cell_type": "markdown",
   "metadata": {},
   "source": [
    "### \n",
    "\n",
    "\n",
    "---\n",
    "<center>\n",
    "<h4> 7.Everybody! </h4>\n",
    "</center>\n",
    "\n",
    "---"
   ]
  },
  {
   "cell_type": "markdown",
   "metadata": {},
   "source": [
    "##### Write a script that adds execution permission to the owner, the group owner and the other users, to the file hello\n",
    "\n",
    "    * The file hello will be in the working directory\n",
    "    * You are not allowed to use commas for this script\n",
    "\n",
    "```bash\n",
    "julien@ubuntu:/tmp/h$ ls -l\n",
    "total 8\n",
    "-rwxrw-r-- 1 julien julien 28 Sep 20 14:35 7-everybody\n",
    "-rw-r----- 1 julien julien 23 Sep 20 14:25 hello\n",
    "julien@ubuntu:/tmp/h$ ./7-everybody \n",
    "julien@ubuntu:/tmp/h$ ls -l\n",
    "total 8\n",
    "-rwxrw-r-- 1 julien julien 28 Sep 20 14:35 7-everybody\n",
    "-rwxr-x--x 1 julien julien 23 Sep 20 14:25 hello\n",
    "julien@ubuntu:/tmp/h$ \n",
    "```\n",
    "\n",
    "#### Repo:\n",
    "\n",
    "* GitHub repository: `alx-system_engineering-devops`\n",
    "* Directory: `0x01-shell_permissions`\n",
    "* File: `7-everybody`"
   ]
  },
  {
   "cell_type": "code",
   "execution_count": 7,
   "metadata": {},
   "outputs": [
    {
     "name": "stdout",
     "output_type": "stream",
     "text": [
      "Writing 0x01-shell_permissions/7-everybody\n"
     ]
    }
   ],
   "source": [
    "%%file 0x01-shell_permissions/7-everybody\n",
    "#!/bin/bash\n",
    "chmod +x hello"
   ]
  },
  {
   "cell_type": "code",
   "execution_count": 8,
   "metadata": {},
   "outputs": [
    {
     "name": "stdout",
     "output_type": "stream",
     "text": [
      "total 164\n",
      "drwxr-xr-x 2 elkomy elkomy  4096 Mar  2 14:09 0x00-shell_basics\n",
      "-rw-r--r-- 1 elkomy elkomy 75098 Mar  2 15:54 0x00-shell_basics.ipynb\n",
      "drwxr-xr-x 2 elkomy elkomy  4096 Mar  9 19:34 0x01-shell_permissions\n",
      "-rw-r--r-- 1 elkomy elkomy 72274 Mar  9 19:34 0x01-shell_permissions.ipynb\n",
      "-rw-r--r-- 1 elkomy elkomy   108 Mar  2 16:08 README.md\n",
      "-rwxr-xr-x 1 elkomy elkomy     0 Mar  9 01:18 hello\n",
      "-rw-r--r-- 1 elkomy elkomy   688 Mar  2 14:52 school.mgc\n",
      "-rw-r--r-- 1 elkomy elkomy     0 Feb 28 01:08 test.HTML\n"
     ]
    }
   ],
   "source": [
    "%%bash\n",
    "chmod u+x 0x01-shell_permissions/7-everybody\n",
    "./0x01-shell_permissions/7-everybody\n",
    "ls -l"
   ]
  },
  {
   "cell_type": "code",
   "execution_count": 9,
   "metadata": {},
   "outputs": [
    {
     "name": "stdout",
     "output_type": "stream",
     "text": [
      "[main 33ba3fc] 7-everybody\n",
      " 2 files changed, 42 insertions(+), 39 deletions(-)\n",
      " create mode 100755 0x01-shell_permissions/7-everybody\n"
     ]
    },
    {
     "name": "stderr",
     "output_type": "stream",
     "text": [
      "To https://github.com/elkomysara/alx-system_engineering-devops.git\n",
      "   3c9fdc1..33ba3fc  main -> main\n"
     ]
    }
   ],
   "source": [
    "%%bash\n",
    "git add .\n",
    "git commit -m \"7-everybody\"\n",
    "git push"
   ]
  },
  {
   "cell_type": "markdown",
   "metadata": {},
   "source": [
    "### \n",
    "\n",
    "\n",
    "---\n",
    "<center>\n",
    "<h4> 8. James Bond </h4>\n",
    "</center>\n",
    "\n",
    "---"
   ]
  },
  {
   "cell_type": "markdown",
   "metadata": {},
   "source": [
    "##### Write a script that sets the permission to the file hello as follows:\n",
    "\n",
    "* Owner: no permission at all\n",
    "* Group: no permission at all\n",
    "* Other users: all the permissions\n",
    "\n",
    "The file `hello` will be in the working directory You are not allowed to use commas for this script\n",
    "\n",
    "```bash\n",
    "julien@ubuntu:/tmp/h$ ls -l\n",
    "total 8\n",
    "-rwxrw-r-- 1 julien julien 28 Sep 20 14:40 8-James_Bond\n",
    "-rwxr-x--x 1 julien julien 23 Sep 20 14:25 hello\n",
    "julien@ubuntu:/tmp/h$ ./8-James_Bond \n",
    "julien@ubuntu:/tmp/h$ ls -l\n",
    "total 8\n",
    "-rwxrw-r-- 1 julien julien 28 Sep 20 14:40 8-James_Bond\n",
    "-------rwx 1 julien julien 23 Sep 20 14:25 hello\n",
    "julien@ubuntu:/tmp/h$ \n",
    "```\n",
    "\n",
    "#### Repo:\n",
    "\n",
    "* GitHub repository: `alx-system_engineering-devops`\n",
    "* Directory: `0x00-shell_basics`\n",
    "* File: ` 8-firstdelete`\n"
   ]
  },
  {
   "cell_type": "code",
   "execution_count": 10,
   "metadata": {},
   "outputs": [
    {
     "name": "stdout",
     "output_type": "stream",
     "text": [
      "Writing 0x01-shell_permissions/8-James_Bond\n"
     ]
    }
   ],
   "source": [
    "%%file 0x01-shell_permissions/8-James_Bond\n",
    "#!/bin/bash\n",
    "chmod 007 hello"
   ]
  },
  {
   "cell_type": "code",
   "execution_count": 11,
   "metadata": {},
   "outputs": [
    {
     "name": "stderr",
     "output_type": "stream",
     "text": [
      "bash: line 2: .0x01-shell_permissions/8-James_Bond: No such file or directory\n"
     ]
    },
    {
     "name": "stdout",
     "output_type": "stream",
     "text": [
      "total 164\n",
      "drwxr-xr-x 2 elkomy elkomy  4096 Mar  2 14:09 0x00-shell_basics\n",
      "-rw-r--r-- 1 elkomy elkomy 75098 Mar  2 15:54 0x00-shell_basics.ipynb\n",
      "drwxr-xr-x 2 elkomy elkomy  4096 Mar  9 20:10 0x01-shell_permissions\n",
      "-rw-r--r-- 1 elkomy elkomy 72813 Mar  9 20:10 0x01-shell_permissions.ipynb\n",
      "-rw-r--r-- 1 elkomy elkomy   108 Mar  2 16:08 README.md\n",
      "-rwxr-xr-x 1 elkomy elkomy     0 Mar  9 01:18 hello\n",
      "-rw-r--r-- 1 elkomy elkomy   688 Mar  2 14:52 school.mgc\n",
      "-rw-r--r-- 1 elkomy elkomy     0 Feb 28 01:08 test.HTML\n"
     ]
    }
   ],
   "source": [
    "%%bash\n",
    "chmod u+x 0x01-shell_permissions/8-James_Bond\n",
    ".0x01-shell_permissions/8-James_Bond\n",
    "ls -l"
   ]
  },
  {
   "cell_type": "code",
   "execution_count": 12,
   "metadata": {},
   "outputs": [
    {
     "name": "stdout",
     "output_type": "stream",
     "text": [
      "[main 3f22ebb] 8. James Bond\n",
      " 2 files changed, 44 insertions(+), 32 deletions(-)\n",
      " create mode 100755 0x01-shell_permissions/8-James_Bond\n"
     ]
    },
    {
     "name": "stderr",
     "output_type": "stream",
     "text": [
      "To https://github.com/elkomysara/alx-system_engineering-devops.git\n",
      "   33ba3fc..3f22ebb  main -> main\n"
     ]
    }
   ],
   "source": [
    "%%bash\n",
    "git add .\n",
    "git commit -m \"8. James Bond\"\n",
    "git push"
   ]
  },
  {
   "cell_type": "markdown",
   "metadata": {},
   "source": [
    "### \n",
    "\n",
    "\n",
    "---\n",
    "<center>\n",
    "<h4> 9. John Doe</h4>\n",
    "</center>\n",
    "\n",
    "---"
   ]
  },
  {
   "cell_type": "markdown",
   "metadata": {},
   "source": [
    "##### Write a script that sets the mode of the file `hello` to this:\n",
    "\n",
    "```bash\n",
    "-rwxr-x-wx 1 julien julien 23 Sep 20 14:25 hello\n",
    "```\n",
    "\n",
    "* The file `hello` will be in the working directory\n",
    "* You are not allowed to use commas for this script\n",
    "\n",
    "#### Repo:\n",
    "\n",
    "* GitHub repository: `alx-system_engineering-devops`\n",
    "* Directory: `0x01-shell_permissions`\n",
    "* File: `9-John_Doe`"
   ]
  },
  {
   "cell_type": "code",
   "execution_count": 29,
   "metadata": {},
   "outputs": [
    {
     "name": "stdout",
     "output_type": "stream",
     "text": [
      "Overwriting 0x01-shell_permissions/9-John_Doe\n"
     ]
    }
   ],
   "source": [
    "%%file 0x01-shell_permissions/9-John_Doe\n",
    "#!/bin/bash\n",
    "chmod 753 hello"
   ]
  },
  {
   "cell_type": "code",
   "execution_count": 30,
   "metadata": {},
   "outputs": [
    {
     "name": "stdout",
     "output_type": "stream",
     "text": [
      "total 164\n",
      "drwxr-xr-x 2 elkomy elkomy  4096 Mar  9 20:47 0x00-shell_basics\n",
      "-rw-r--r-- 1 elkomy elkomy 75098 Mar  2 15:54 0x00-shell_basics.ipynb\n",
      "drwxr-xr-x 2 elkomy elkomy  4096 Mar  9 20:46 0x01-shell_permissions\n",
      "-rw-r--r-- 1 elkomy elkomy 72905 Mar  9 21:02 0x01-shell_permissions.ipynb\n",
      "-rw-r--r-- 1 elkomy elkomy   108 Mar  2 16:08 README.md\n",
      "-rwxr-x-wx 1 elkomy elkomy     0 Mar  9 01:18 hello\n",
      "-rw-r--r-- 1 elkomy elkomy   688 Mar  2 14:52 school.mgc\n",
      "-rw-r--r-- 1 elkomy elkomy     0 Feb 28 01:08 test.HTML\n"
     ]
    }
   ],
   "source": [
    "%%bash\n",
    "chmod u+x 0x01-shell_permissions/9-John_Doe\n",
    "./0x01-shell_permissions/9-John_Doe\n",
    "ls -l\n"
   ]
  },
  {
   "cell_type": "code",
   "execution_count": 31,
   "metadata": {},
   "outputs": [
    {
     "name": "stdout",
     "output_type": "stream",
     "text": [
      "[main e8a0ede] 9-John Doe\n",
      " 2 files changed, 8 insertions(+), 16 deletions(-)\n",
      " mode change 100644 => 100755 0x01-shell_permissions/9-John_Doe\n"
     ]
    },
    {
     "name": "stderr",
     "output_type": "stream",
     "text": [
      "To https://github.com/elkomysara/alx-system_engineering-devops.git\n",
      "   1cf6806..e8a0ede  main -> main\n"
     ]
    }
   ],
   "source": [
    "%%bash\n",
    "git add .\n",
    "git commit -m \"9-John Doe\"\n",
    "git push"
   ]
  },
  {
   "cell_type": "markdown",
   "metadata": {},
   "source": [
    "### \n",
    "\n",
    "\n",
    "---\n",
    "<center>\n",
    "<h4> 10.Look in the mirror</h4>\n",
    "</center>\n",
    "\n",
    "---"
   ]
  },
  {
   "cell_type": "markdown",
   "metadata": {},
   "source": [
    "##### Write a script that sets the mode of the file hello the same as olleh’s mode.\n",
    "\n",
    "* The file `hello` will be in the working directory\n",
    "* The file `olleh` will be in the working directory\n",
    "\n",
    "```bash\n",
    "julien@ubuntu:/tmp/h$ ls -l\n",
    "total 8\n",
    "-rwxrw-r-- 1 julien julien 42 Sep 20 14:45 10-mirror_permissions\n",
    "-rwxr-x-wx 1 julien julien 23 Sep 20 14:25 hello\n",
    "-rw-rw-r-- 1 julien julien  0 Sep 20 14:43 olleh\n",
    "julien@ubuntu:/tmp/h$ ./10-mirror_permissions \n",
    "julien@ubuntu:/tmp/h$ ls -l\n",
    "total 8\n",
    "-rwxrw-r-- 1 julien julien 42 Sep 20 14:45 10-mirror_permissions\n",
    "-rw-rw-r-- 1 julien julien 23 Sep 20 14:25 hello\n",
    "-rw-rw-r-- 1 julien julien  0 Sep 20 14:43 olleh\n",
    "julien@ubuntu:/tmp/h$ \n",
    "```\n",
    "Note: the mode of `olleh` will not always be 664. Make sure your script works for any mode.\n",
    "\n",
    "#### Repo:\n",
    "\n",
    "* GitHub repository: `alx-system_engineering-devops`\n",
    "* Directory: `0x00-shell_basics`\n",
    "* File: `10-back`"
   ]
  },
  {
   "cell_type": "code",
   "execution_count": 3,
   "metadata": {},
   "outputs": [
    {
     "name": "stdout",
     "output_type": "stream",
     "text": [
      "Overwriting 0x01-shell_permissions/10-mirror_permissions\n"
     ]
    }
   ],
   "source": [
    "%%file 0x01-shell_permissions/10-mirror_permissions\n",
    "#!/bin/bash\n",
    "chmod --reference=olleh hello"
   ]
  },
  {
   "cell_type": "code",
   "execution_count": 4,
   "metadata": {},
   "outputs": [
    {
     "name": "stderr",
     "output_type": "stream",
     "text": [
      "chmod: failed to get attributes of 'olleh': No such file or directory\n"
     ]
    },
    {
     "name": "stdout",
     "output_type": "stream",
     "text": [
      "/home/elkomy/alx-system_engineering-devops\n"
     ]
    }
   ],
   "source": [
    "%%bash\n",
    "chmod u+x 0x01-shell_permissions/10-mirror_permissions\n",
    "source ./0x01-shell_permissions/10-mirror_permissions\n",
    "pwd\n"
   ]
  },
  {
   "cell_type": "code",
   "execution_count": 6,
   "metadata": {},
   "outputs": [
    {
     "name": "stdout",
     "output_type": "stream",
     "text": [
      "[main f9834e8] olleh\n",
      " 1 file changed, 5 insertions(+), 5 deletions(-)\n"
     ]
    },
    {
     "name": "stderr",
     "output_type": "stream",
     "text": [
      "To https://github.com/elkomysara/alx-system_engineering-devops.git\n",
      "   0a15ffa..f9834e8  main -> main\n"
     ]
    }
   ],
   "source": [
    "%%bash\n",
    "git add .\n",
    "git commit -m \"olleh\"\n",
    "git push"
   ]
  },
  {
   "cell_type": "markdown",
   "metadata": {},
   "source": [
    "### \n",
    "\n",
    "\n",
    "---\n",
    "<center>\n",
    "<h4> 11.Directories</h4>\n",
    "</center>\n",
    "\n",
    "---"
   ]
  },
  {
   "cell_type": "markdown",
   "metadata": {},
   "source": [
    "##### Create a script that adds execute permission to all subdirectories of the current directory for the owner, the group owner and all other users.\n",
    "\n",
    "Regular files should not be changed.\n",
    "\n",
    "#### Repo:\n",
    "\n",
    "* GitHub repository: `alx-system_engineering-devops`\n",
    "* Directory: `0x01-shell_permissions`\n",
    "* File: `11-directories_permissions`"
   ]
  },
  {
   "cell_type": "code",
   "execution_count": 11,
   "metadata": {},
   "outputs": [
    {
     "name": "stdout",
     "output_type": "stream",
     "text": [
      "Overwriting 0x01-shell_permissions/11-directories_permissions\n"
     ]
    }
   ],
   "source": [
    "%%file 0x01-shell_permissions/11-directories_permissions\n",
    "#!/bin/bash\n",
    "chmod -R ugo+X ."
   ]
  },
  {
   "cell_type": "code",
   "execution_count": 12,
   "metadata": {},
   "outputs": [
    {
     "name": "stdout",
     "output_type": "stream",
     "text": [
      "/home/elkomy/alx-system_engineering-devops\n"
     ]
    }
   ],
   "source": [
    "%%bash\n",
    "chmod u+x 0x01-shell_permissions/11-directories_permissions\n",
    "source ./0x01-shell_permissions/11-directories_permissions\n",
    "pwd\n"
   ]
  },
  {
   "cell_type": "code",
   "execution_count": 13,
   "metadata": {},
   "outputs": [
    {
     "name": "stdout",
     "output_type": "stream",
     "text": [
      "[main 8950d55] 11-directories_permissions\n",
      " 2 files changed, 10 insertions(+), 17 deletions(-)\n"
     ]
    },
    {
     "name": "stderr",
     "output_type": "stream",
     "text": [
      "To https://github.com/elkomysara/alx-system_engineering-devops.git\n",
      "   1a92d84..8950d55  main -> main\n"
     ]
    }
   ],
   "source": [
    "%%bash\n",
    "git add .\n",
    "git commit -m \"11-directories_permissions\"\n",
    "git push"
   ]
  },
  {
   "cell_type": "markdown",
   "metadata": {},
   "source": [
    "### \n",
    "\n",
    "\n",
    "---\n",
    "<center>\n",
    "<h4> 12.More directoreis></h4>\n",
    "</center>\n",
    "\n",
    "---"
   ]
  },
  {
   "cell_type": "markdown",
   "metadata": {},
   "source": [
    "##### Create a script that creates a directory called `my_dir` with permissions 751 in the working directory.\n",
    "\n",
    "\n",
    "```bash\n",
    "julien@ubuntu:/tmp/h$ ls -l\n",
    "total 20\n",
    "-rwxrwxr-x 1 julien julien   39 Sep 20 14:59 12-directory_permissions\n",
    "drwx--x--x 2 julien julien 4096 Sep 20 14:49 dir0\n",
    "drwx--x--x 2 julien julien 4096 Sep 20 14:49 dir1\n",
    "drwx--x--x 2 julien julien 4096 Sep 20 14:49 dir2\n",
    "-rw-rw-r-- 1 julien julien   23 Sep 20 14:25 hello\n",
    "julien@ubuntu:/tmp/h$ ./12-directory_permission s\n",
    "julien@ubuntu:/tmp/h$ ls -l\n",
    "total 24\n",
    "-rwxrwxr-x 1 julien julien   39 Sep 20 14:59 12-directory_permissions\n",
    "drwx--x--x 2 julien julien 4096 Sep 20 14:49 dir0\n",
    "drwx--x--x 2 julien julien 4096 Sep 20 14:49 dir1\n",
    "drwx--x--x 2 julien julien 4096 Sep 20 14:49 dir2\n",
    "drwxr-x--x 2 julien julien 4096 Sep 20 14:59 my_dir\n",
    "-rw-rw-r-- 1 julien julien   23 Sep 20 14:25 hello\n",
    "julien@ubuntu:/tmp/h$ \n",
    "```\n",
    "#### Repo:\n",
    "\n",
    "* GitHub repository: `alx-system_engineering-devops`\n",
    "* Directory: `0x01-shell_permissions`\n",
    "* File: `12-directory_permissions`"
   ]
  },
  {
   "cell_type": "code",
   "execution_count": 15,
   "metadata": {},
   "outputs": [
    {
     "name": "stdout",
     "output_type": "stream",
     "text": [
      "Overwriting 0x01-shell_permissions/12-directory_permissions\n"
     ]
    }
   ],
   "source": [
    "%%file 0x01-shell_permissions/12-directory_permissions\n",
    "#!/bin/bash\n",
    "mkdir -m 751 my_dir"
   ]
  },
  {
   "cell_type": "code",
   "execution_count": 16,
   "metadata": {},
   "outputs": [],
   "source": [
    "%%bash\n",
    "chmod u+x 0x01-shell_permissions/12-directory_permissions\n",
    "source ./0x01-shell_permissions/12-directory_permissions"
   ]
  },
  {
   "cell_type": "code",
   "execution_count": 17,
   "metadata": {},
   "outputs": [
    {
     "name": "stdout",
     "output_type": "stream",
     "text": [
      "[main 4266f1e] 12-directory_permissions\n",
      " 2 files changed, 37 insertions(+), 29 deletions(-)\n",
      " create mode 100755 0x01-shell_permissions/12-directory_permissions\n"
     ]
    },
    {
     "name": "stderr",
     "output_type": "stream",
     "text": [
      "To https://github.com/elkomysara/alx-system_engineering-devops.git\n",
      "   8950d55..4266f1e  main -> main\n"
     ]
    }
   ],
   "source": [
    "%%bash\n",
    "git add .\n",
    "git commit -m \"12-directory_permissions\"\n",
    "git push"
   ]
  },
  {
   "cell_type": "markdown",
   "metadata": {},
   "source": [
    "### \n",
    "\n",
    "\n",
    "---\n",
    "<center>\n",
    "<h4> 13. Change group</h4>\n",
    "</center>\n",
    "\n",
    "---"
   ]
  },
  {
   "cell_type": "markdown",
   "metadata": {},
   "source": [
    "##### Write a script that changes the group owner to school for the file hello\n",
    "\n",
    "* The file hello will be in the working directory\n",
    "\n",
    "```bash\n",
    "julien@ubuntu:/tmp/h$ ls -l\n",
    "total 24\n",
    "-rwxrwxr-x 1 julien julien   34 Sep 20 15:03 13-change_group\n",
    "drwx--x--x 2 julien julien 4096 Sep 20 14:49 dir0\n",
    "drwx--x--x 2 julien julien 4096 Sep 20 14:49 dir1\n",
    "drwx--x--x 2 julien julien 4096 Sep 20 14:49 dir2\n",
    "drwxr-x--x 2 julien julien 4096 Sep 20 14:59 my_dir\n",
    "-rw-rw-r-- 1 julien julien   23 Sep 20 14:25 hello\n",
    "julien@ubuntu:/tmp/h$ sudo ./13-change_group \n",
    "julien@ubuntu:/tmp/h$ ls -l\n",
    "total 24\n",
    "-rwxrwxr-x 1 julien julien      34 Sep 20 15:03 13-change_group\n",
    "drwx--x--x 2 julien julien    4096 Sep 20 14:49 dir0\n",
    "drwx--x--x 2 julien julien    4096 Sep 20 14:49 dir1\n",
    "drwx--x--x 2 julien julien    4096 Sep 20 14:49 dir2\n",
    "drwxr-x--x 2 julien julien    4096 Sep 20 14:59 my_dir\n",
    "-rw-rw-r-- 1 julien school   23 Sep 20 14:25 hello\n",
    "julien@ubuntu:/tmp/h$ \n",
    "```\n",
    "#### Repo:\n",
    "\n",
    "* GitHub repository: `alx-system_engineering-devops`\n",
    "* Directory: `0x01-shell_permissions`\n",
    "* File: `13-change_group`"
   ]
  },
  {
   "cell_type": "code",
   "execution_count": 18,
   "metadata": {},
   "outputs": [
    {
     "name": "stdout",
     "output_type": "stream",
     "text": [
      "Writing 0x01-shell_permissions/13-change_group\n"
     ]
    }
   ],
   "source": [
    "%%file 0x01-shell_permissions/13-change_group\n",
    "#!/bin/bash\n",
    "chown :school hello"
   ]
  },
  {
   "cell_type": "code",
   "execution_count": 19,
   "metadata": {},
   "outputs": [
    {
     "name": "stderr",
     "output_type": "stream",
     "text": [
      "chown: invalid group: ‘:school’\n"
     ]
    },
    {
     "ename": "CalledProcessError",
     "evalue": "Command 'b'chmod u+x 0x01-shell_permissions/13-change_group\\nsource ./0x01-shell_permissions/13-change_group\\n'' returned non-zero exit status 1.",
     "output_type": "error",
     "traceback": [
      "\u001b[0;31m---------------------------------------------------------------------------\u001b[0m",
      "\u001b[0;31mCalledProcessError\u001b[0m                        Traceback (most recent call last)",
      "Cell \u001b[0;32mIn[19], line 1\u001b[0m\n\u001b[0;32m----> 1\u001b[0m get_ipython()\u001b[38;5;241m.\u001b[39mrun_cell_magic(\u001b[38;5;124m'\u001b[39m\u001b[38;5;124mbash\u001b[39m\u001b[38;5;124m'\u001b[39m, \u001b[38;5;124m'\u001b[39m\u001b[38;5;124m'\u001b[39m, \u001b[38;5;124m'\u001b[39m\u001b[38;5;124mchmod u+x 0x01-shell_permissions/13-change_group\u001b[39m\u001b[38;5;130;01m\\n\u001b[39;00m\u001b[38;5;124msource ./0x01-shell_permissions/13-change_group\u001b[39m\u001b[38;5;130;01m\\n\u001b[39;00m\u001b[38;5;124m'\u001b[39m)\n",
      "File \u001b[0;32m~/anaconda3/envs/cplayground/lib/python3.11/site-packages/IPython/core/interactiveshell.py:2517\u001b[0m, in \u001b[0;36mInteractiveShell.run_cell_magic\u001b[0;34m(self, magic_name, line, cell)\u001b[0m\n\u001b[1;32m   2515\u001b[0m \u001b[38;5;28;01mwith\u001b[39;00m \u001b[38;5;28mself\u001b[39m\u001b[38;5;241m.\u001b[39mbuiltin_trap:\n\u001b[1;32m   2516\u001b[0m     args \u001b[38;5;241m=\u001b[39m (magic_arg_s, cell)\n\u001b[0;32m-> 2517\u001b[0m     result \u001b[38;5;241m=\u001b[39m fn(\u001b[38;5;241m*\u001b[39margs, \u001b[38;5;241m*\u001b[39m\u001b[38;5;241m*\u001b[39mkwargs)\n\u001b[1;32m   2519\u001b[0m \u001b[38;5;66;03m# The code below prevents the output from being displayed\u001b[39;00m\n\u001b[1;32m   2520\u001b[0m \u001b[38;5;66;03m# when using magics with decorator @output_can_be_silenced\u001b[39;00m\n\u001b[1;32m   2521\u001b[0m \u001b[38;5;66;03m# when the last Python token in the expression is a ';'.\u001b[39;00m\n\u001b[1;32m   2522\u001b[0m \u001b[38;5;28;01mif\u001b[39;00m \u001b[38;5;28mgetattr\u001b[39m(fn, magic\u001b[38;5;241m.\u001b[39mMAGIC_OUTPUT_CAN_BE_SILENCED, \u001b[38;5;28;01mFalse\u001b[39;00m):\n",
      "File \u001b[0;32m~/anaconda3/envs/cplayground/lib/python3.11/site-packages/IPython/core/magics/script.py:154\u001b[0m, in \u001b[0;36mScriptMagics._make_script_magic.<locals>.named_script_magic\u001b[0;34m(line, cell)\u001b[0m\n\u001b[1;32m    152\u001b[0m \u001b[38;5;28;01melse\u001b[39;00m:\n\u001b[1;32m    153\u001b[0m     line \u001b[38;5;241m=\u001b[39m script\n\u001b[0;32m--> 154\u001b[0m \u001b[38;5;28;01mreturn\u001b[39;00m \u001b[38;5;28mself\u001b[39m\u001b[38;5;241m.\u001b[39mshebang(line, cell)\n",
      "File \u001b[0;32m~/anaconda3/envs/cplayground/lib/python3.11/site-packages/IPython/core/magics/script.py:314\u001b[0m, in \u001b[0;36mScriptMagics.shebang\u001b[0;34m(self, line, cell)\u001b[0m\n\u001b[1;32m    309\u001b[0m \u001b[38;5;28;01mif\u001b[39;00m args\u001b[38;5;241m.\u001b[39mraise_error \u001b[38;5;129;01mand\u001b[39;00m p\u001b[38;5;241m.\u001b[39mreturncode \u001b[38;5;241m!=\u001b[39m \u001b[38;5;241m0\u001b[39m:\n\u001b[1;32m    310\u001b[0m     \u001b[38;5;66;03m# If we get here and p.returncode is still None, we must have\u001b[39;00m\n\u001b[1;32m    311\u001b[0m     \u001b[38;5;66;03m# killed it but not yet seen its return code. We don't wait for it,\u001b[39;00m\n\u001b[1;32m    312\u001b[0m     \u001b[38;5;66;03m# in case it's stuck in uninterruptible sleep. -9 = SIGKILL\u001b[39;00m\n\u001b[1;32m    313\u001b[0m     rc \u001b[38;5;241m=\u001b[39m p\u001b[38;5;241m.\u001b[39mreturncode \u001b[38;5;129;01mor\u001b[39;00m \u001b[38;5;241m-\u001b[39m\u001b[38;5;241m9\u001b[39m\n\u001b[0;32m--> 314\u001b[0m     \u001b[38;5;28;01mraise\u001b[39;00m CalledProcessError(rc, cell)\n",
      "\u001b[0;31mCalledProcessError\u001b[0m: Command 'b'chmod u+x 0x01-shell_permissions/13-change_group\\nsource ./0x01-shell_permissions/13-change_group\\n'' returned non-zero exit status 1."
     ]
    }
   ],
   "source": [
    "%%bash\n",
    "chmod u+x 0x01-shell_permissions/13-change_group\n",
    "source ./0x01-shell_permissions/13-change_group"
   ]
  },
  {
   "cell_type": "code",
   "execution_count": 20,
   "metadata": {},
   "outputs": [
    {
     "name": "stdout",
     "output_type": "stream",
     "text": [
      "[main 048565d] ghange group\n",
      " 2 files changed, 55 insertions(+), 39 deletions(-)\n",
      " create mode 100755 0x01-shell_permissions/13-change_group\n"
     ]
    },
    {
     "name": "stderr",
     "output_type": "stream",
     "text": [
      "To https://github.com/elkomysara/alx-system_engineering-devops.git\n",
      "   4266f1e..048565d  main -> main\n"
     ]
    }
   ],
   "source": [
    "%%bash\n",
    "git add .\n",
    "git commit -m \"ghange group\"\n",
    "git push"
   ]
  },
  {
   "cell_type": "markdown",
   "metadata": {},
   "source": [
    "### \n",
    "\n",
    "\n",
    "---\n",
    "<center>\n",
    "<h4> 14. Owner and group</h4>\n",
    "</center>\n",
    "\n",
    "---"
   ]
  },
  {
   "cell_type": "markdown",
   "metadata": {},
   "source": [
    "##### Write a script that changes the owner to vincent and the group owner to staff for all the files and directories in the working directory.\n",
    "\n",
    " \n",
    "```bash\n",
    "julien@ubuntu:/tmp/h$ ls -l\n",
    "total 24\n",
    "-rwxrwxr-x 1 julien julien   36 Sep 20 15:06 100-change_owner_and_group\n",
    "drwx--x--x 2 julien julien 4096 Sep 20 14:49 dir0\n",
    "drwx--x--x 2 julien julien 4096 Sep 20 14:49 dir1\n",
    "drwx--x--x 2 julien julien 4096 Sep 20 14:49 dir2\n",
    "drwxr-x--x 2 julien julien 4096 Sep 20 14:59 my_dir\n",
    "-rw-rw-r-- 1 julien julien   23 Sep 20 14:25 hello\n",
    "julien@ubuntu:/tmp/h$ sudo ./100-change_owner_and_group \n",
    "julien@ubuntu:/tmp/h$ ls -l\n",
    "total 24\n",
    "-rwxrwxr-x 1 vincent staff   36 Sep 20 15:06 100-change_owner_and_group\n",
    "drwx--x--x 2 vincent staff 4096 Sep 20 14:49 dir0\n",
    "drwx--x--x 2 vincent staff 4096 Sep 20 14:49 dir1\n",
    "drwx--x--x 2 vincent staff 4096 Sep 20 14:49 dir2\n",
    "drwxr-x--x 2 vincent staff 4096 Sep 20 14:59 my_dir\n",
    "-rw-rw-r-- 1 vincent staff   23 Sep 20 14:25 hello\n",
    "julien@ubuntu:/tmp/h$ \n",
    "```\n",
    "\n",
    "#### Repo:\n",
    "\n",
    "* GitHub repository: `alx-system_engineering-devops`\n",
    "* Directory: `0x01-shell_permissions`\n",
    "* File: `100-change_owner_and_group`"
   ]
  },
  {
   "cell_type": "code",
   "execution_count": 21,
   "metadata": {},
   "outputs": [
    {
     "name": "stdout",
     "output_type": "stream",
     "text": [
      "Writing 0x01-shell_permissions/100-change_owner_and_group\n"
     ]
    }
   ],
   "source": [
    "%%file 0x01-shell_permissions/100-change_owner_and_group\n",
    "#!/bin/bash\n",
    "chown vincent:staff ./*"
   ]
  },
  {
   "cell_type": "code",
   "execution_count": 22,
   "metadata": {},
   "outputs": [
    {
     "name": "stderr",
     "output_type": "stream",
     "text": [
      "chown: invalid user: ‘vincent:staff’\n"
     ]
    },
    {
     "ename": "CalledProcessError",
     "evalue": "Command 'b'\\nchmod u+x 0x01-shell_permissions/100-change_owner_and_group\\nsource ./0x01-shell_permissions/100-change_owner_and_group\\n'' returned non-zero exit status 1.",
     "output_type": "error",
     "traceback": [
      "\u001b[0;31m---------------------------------------------------------------------------\u001b[0m",
      "\u001b[0;31mCalledProcessError\u001b[0m                        Traceback (most recent call last)",
      "Cell \u001b[0;32mIn[22], line 1\u001b[0m\n\u001b[0;32m----> 1\u001b[0m get_ipython()\u001b[38;5;241m.\u001b[39mrun_cell_magic(\u001b[38;5;124m'\u001b[39m\u001b[38;5;124mbash\u001b[39m\u001b[38;5;124m'\u001b[39m, \u001b[38;5;124m'\u001b[39m\u001b[38;5;124m'\u001b[39m, \u001b[38;5;124m'\u001b[39m\u001b[38;5;130;01m\\n\u001b[39;00m\u001b[38;5;124mchmod u+x 0x01-shell_permissions/100-change_owner_and_group\u001b[39m\u001b[38;5;130;01m\\n\u001b[39;00m\u001b[38;5;124msource ./0x01-shell_permissions/100-change_owner_and_group\u001b[39m\u001b[38;5;130;01m\\n\u001b[39;00m\u001b[38;5;124m'\u001b[39m)\n",
      "File \u001b[0;32m~/anaconda3/envs/cplayground/lib/python3.11/site-packages/IPython/core/interactiveshell.py:2517\u001b[0m, in \u001b[0;36mInteractiveShell.run_cell_magic\u001b[0;34m(self, magic_name, line, cell)\u001b[0m\n\u001b[1;32m   2515\u001b[0m \u001b[38;5;28;01mwith\u001b[39;00m \u001b[38;5;28mself\u001b[39m\u001b[38;5;241m.\u001b[39mbuiltin_trap:\n\u001b[1;32m   2516\u001b[0m     args \u001b[38;5;241m=\u001b[39m (magic_arg_s, cell)\n\u001b[0;32m-> 2517\u001b[0m     result \u001b[38;5;241m=\u001b[39m fn(\u001b[38;5;241m*\u001b[39margs, \u001b[38;5;241m*\u001b[39m\u001b[38;5;241m*\u001b[39mkwargs)\n\u001b[1;32m   2519\u001b[0m \u001b[38;5;66;03m# The code below prevents the output from being displayed\u001b[39;00m\n\u001b[1;32m   2520\u001b[0m \u001b[38;5;66;03m# when using magics with decorator @output_can_be_silenced\u001b[39;00m\n\u001b[1;32m   2521\u001b[0m \u001b[38;5;66;03m# when the last Python token in the expression is a ';'.\u001b[39;00m\n\u001b[1;32m   2522\u001b[0m \u001b[38;5;28;01mif\u001b[39;00m \u001b[38;5;28mgetattr\u001b[39m(fn, magic\u001b[38;5;241m.\u001b[39mMAGIC_OUTPUT_CAN_BE_SILENCED, \u001b[38;5;28;01mFalse\u001b[39;00m):\n",
      "File \u001b[0;32m~/anaconda3/envs/cplayground/lib/python3.11/site-packages/IPython/core/magics/script.py:154\u001b[0m, in \u001b[0;36mScriptMagics._make_script_magic.<locals>.named_script_magic\u001b[0;34m(line, cell)\u001b[0m\n\u001b[1;32m    152\u001b[0m \u001b[38;5;28;01melse\u001b[39;00m:\n\u001b[1;32m    153\u001b[0m     line \u001b[38;5;241m=\u001b[39m script\n\u001b[0;32m--> 154\u001b[0m \u001b[38;5;28;01mreturn\u001b[39;00m \u001b[38;5;28mself\u001b[39m\u001b[38;5;241m.\u001b[39mshebang(line, cell)\n",
      "File \u001b[0;32m~/anaconda3/envs/cplayground/lib/python3.11/site-packages/IPython/core/magics/script.py:314\u001b[0m, in \u001b[0;36mScriptMagics.shebang\u001b[0;34m(self, line, cell)\u001b[0m\n\u001b[1;32m    309\u001b[0m \u001b[38;5;28;01mif\u001b[39;00m args\u001b[38;5;241m.\u001b[39mraise_error \u001b[38;5;129;01mand\u001b[39;00m p\u001b[38;5;241m.\u001b[39mreturncode \u001b[38;5;241m!=\u001b[39m \u001b[38;5;241m0\u001b[39m:\n\u001b[1;32m    310\u001b[0m     \u001b[38;5;66;03m# If we get here and p.returncode is still None, we must have\u001b[39;00m\n\u001b[1;32m    311\u001b[0m     \u001b[38;5;66;03m# killed it but not yet seen its return code. We don't wait for it,\u001b[39;00m\n\u001b[1;32m    312\u001b[0m     \u001b[38;5;66;03m# in case it's stuck in uninterruptible sleep. -9 = SIGKILL\u001b[39;00m\n\u001b[1;32m    313\u001b[0m     rc \u001b[38;5;241m=\u001b[39m p\u001b[38;5;241m.\u001b[39mreturncode \u001b[38;5;129;01mor\u001b[39;00m \u001b[38;5;241m-\u001b[39m\u001b[38;5;241m9\u001b[39m\n\u001b[0;32m--> 314\u001b[0m     \u001b[38;5;28;01mraise\u001b[39;00m CalledProcessError(rc, cell)\n",
      "\u001b[0;31mCalledProcessError\u001b[0m: Command 'b'\\nchmod u+x 0x01-shell_permissions/100-change_owner_and_group\\nsource ./0x01-shell_permissions/100-change_owner_and_group\\n'' returned non-zero exit status 1."
     ]
    }
   ],
   "source": [
    "%%bash\n",
    "\n",
    "chmod u+x 0x01-shell_permissions/100-change_owner_and_group\n",
    "source ./0x01-shell_permissions/100-change_owner_and_group\n"
   ]
  },
  {
   "cell_type": "code",
   "execution_count": 23,
   "metadata": {},
   "outputs": [
    {
     "name": "stdout",
     "output_type": "stream",
     "text": [
      "[main d134f28] 0x01-shell_permissions/100-change_owner_and_group\n",
      " 2 files changed, 53 insertions(+), 33 deletions(-)\n",
      " create mode 100755 0x01-shell_permissions/100-change_owner_and_group\n"
     ]
    },
    {
     "name": "stderr",
     "output_type": "stream",
     "text": [
      "To https://github.com/elkomysara/alx-system_engineering-devops.git\n",
      "   048565d..d134f28  main -> main\n"
     ]
    }
   ],
   "source": [
    "%%bash\n",
    "git add .\n",
    "git commit -m \"0x01-shell_permissions/100-change_owner_and_group\"\n",
    "git push"
   ]
  },
  {
   "cell_type": "markdown",
   "metadata": {},
   "source": [
    "### \n",
    "\n",
    "\n",
    "---\n",
    "<center>\n",
    "<h4> 15. Symbolic links</h4>\n",
    "</center>\n",
    "\n",
    "---"
   ]
  },
  {
   "cell_type": "markdown",
   "metadata": {},
   "source": [
    "##### Write a script that changes the owner and the group owner of _hello to vincent and staff respectively.\n",
    "\n",
    "* The file _hello is in the working directory\n",
    "* The file _hello is a symbolic link\n",
    "\n",
    "```bash\n",
    "julien@ubuntu:/tmp/h$ ls -l\n",
    "total 24\n",
    "-rwxrwxr-x 1 julien julien   44 Sep 20 15:12 101-symbolic_link_permissions\n",
    "-rw-rw-r-- 1 julien julien   23 Sep 20 14:25 hello\n",
    "lrwxrwxrwx 1 julien julien    5 Sep 20 15:10 _hello -> hello\n",
    "julien@ubuntu:/tmp/h$ sudo ./101-symbolic_link_permissions \n",
    "julien@ubuntu:/tmp/h$ ls -l\n",
    "total 24\n",
    "-rwxrwxr-x 1 julien julien      44 Sep 20 15:12 101-symbolic_link_permissions\n",
    "-rw-rw-r-- 1 julien julien      23 Sep 20 14:25 hello\n",
    "lrwxrwxrwx 1 vincent  staff    5 Sep 20 15:10 _hello -> hello\n",
    "julien@ubuntu:/tmp/h$ \n",
    "```\n",
    "\n",
    "#### Repo:\n",
    "\n",
    "* GitHub repository: `alx-system_engineering-devops`\n",
    "* Directory: `0x01-shell_permissions`\n",
    "* File: `101-symbolic_link_permissions`"
   ]
  },
  {
   "cell_type": "code",
   "execution_count": 24,
   "metadata": {},
   "outputs": [
    {
     "name": "stdout",
     "output_type": "stream",
     "text": [
      "Writing 0x01-shell_permissions/101-symbolic_link_permissions\n"
     ]
    }
   ],
   "source": [
    "%%file 0x01-shell_permissions/101-symbolic_link_permissions\n",
    "#!/bin/bash\n",
    "chown -h vincent:staff _hello"
   ]
  },
  {
   "cell_type": "code",
   "execution_count": 27,
   "metadata": {},
   "outputs": [
    {
     "name": "stderr",
     "output_type": "stream",
     "text": [
      "chown: invalid user: ‘vincent:staff’\n"
     ]
    },
    {
     "ename": "CalledProcessError",
     "evalue": "Command 'b'chmod u+x  0x01-shell_permissions/101-symbolic_link_permissions\\nsource ./0x01-shell_permissions/101-symbolic_link_permissions\\n'' returned non-zero exit status 1.",
     "output_type": "error",
     "traceback": [
      "\u001b[0;31m---------------------------------------------------------------------------\u001b[0m",
      "\u001b[0;31mCalledProcessError\u001b[0m                        Traceback (most recent call last)",
      "Cell \u001b[0;32mIn[27], line 1\u001b[0m\n\u001b[0;32m----> 1\u001b[0m get_ipython()\u001b[38;5;241m.\u001b[39mrun_cell_magic(\u001b[38;5;124m'\u001b[39m\u001b[38;5;124mbash\u001b[39m\u001b[38;5;124m'\u001b[39m, \u001b[38;5;124m'\u001b[39m\u001b[38;5;124m'\u001b[39m, \u001b[38;5;124m'\u001b[39m\u001b[38;5;124mchmod u+x  0x01-shell_permissions/101-symbolic_link_permissions\u001b[39m\u001b[38;5;130;01m\\n\u001b[39;00m\u001b[38;5;124msource ./0x01-shell_permissions/101-symbolic_link_permissions\u001b[39m\u001b[38;5;130;01m\\n\u001b[39;00m\u001b[38;5;124m'\u001b[39m)\n",
      "File \u001b[0;32m~/anaconda3/envs/cplayground/lib/python3.11/site-packages/IPython/core/interactiveshell.py:2517\u001b[0m, in \u001b[0;36mInteractiveShell.run_cell_magic\u001b[0;34m(self, magic_name, line, cell)\u001b[0m\n\u001b[1;32m   2515\u001b[0m \u001b[38;5;28;01mwith\u001b[39;00m \u001b[38;5;28mself\u001b[39m\u001b[38;5;241m.\u001b[39mbuiltin_trap:\n\u001b[1;32m   2516\u001b[0m     args \u001b[38;5;241m=\u001b[39m (magic_arg_s, cell)\n\u001b[0;32m-> 2517\u001b[0m     result \u001b[38;5;241m=\u001b[39m fn(\u001b[38;5;241m*\u001b[39margs, \u001b[38;5;241m*\u001b[39m\u001b[38;5;241m*\u001b[39mkwargs)\n\u001b[1;32m   2519\u001b[0m \u001b[38;5;66;03m# The code below prevents the output from being displayed\u001b[39;00m\n\u001b[1;32m   2520\u001b[0m \u001b[38;5;66;03m# when using magics with decorator @output_can_be_silenced\u001b[39;00m\n\u001b[1;32m   2521\u001b[0m \u001b[38;5;66;03m# when the last Python token in the expression is a ';'.\u001b[39;00m\n\u001b[1;32m   2522\u001b[0m \u001b[38;5;28;01mif\u001b[39;00m \u001b[38;5;28mgetattr\u001b[39m(fn, magic\u001b[38;5;241m.\u001b[39mMAGIC_OUTPUT_CAN_BE_SILENCED, \u001b[38;5;28;01mFalse\u001b[39;00m):\n",
      "File \u001b[0;32m~/anaconda3/envs/cplayground/lib/python3.11/site-packages/IPython/core/magics/script.py:154\u001b[0m, in \u001b[0;36mScriptMagics._make_script_magic.<locals>.named_script_magic\u001b[0;34m(line, cell)\u001b[0m\n\u001b[1;32m    152\u001b[0m \u001b[38;5;28;01melse\u001b[39;00m:\n\u001b[1;32m    153\u001b[0m     line \u001b[38;5;241m=\u001b[39m script\n\u001b[0;32m--> 154\u001b[0m \u001b[38;5;28;01mreturn\u001b[39;00m \u001b[38;5;28mself\u001b[39m\u001b[38;5;241m.\u001b[39mshebang(line, cell)\n",
      "File \u001b[0;32m~/anaconda3/envs/cplayground/lib/python3.11/site-packages/IPython/core/magics/script.py:314\u001b[0m, in \u001b[0;36mScriptMagics.shebang\u001b[0;34m(self, line, cell)\u001b[0m\n\u001b[1;32m    309\u001b[0m \u001b[38;5;28;01mif\u001b[39;00m args\u001b[38;5;241m.\u001b[39mraise_error \u001b[38;5;129;01mand\u001b[39;00m p\u001b[38;5;241m.\u001b[39mreturncode \u001b[38;5;241m!=\u001b[39m \u001b[38;5;241m0\u001b[39m:\n\u001b[1;32m    310\u001b[0m     \u001b[38;5;66;03m# If we get here and p.returncode is still None, we must have\u001b[39;00m\n\u001b[1;32m    311\u001b[0m     \u001b[38;5;66;03m# killed it but not yet seen its return code. We don't wait for it,\u001b[39;00m\n\u001b[1;32m    312\u001b[0m     \u001b[38;5;66;03m# in case it's stuck in uninterruptible sleep. -9 = SIGKILL\u001b[39;00m\n\u001b[1;32m    313\u001b[0m     rc \u001b[38;5;241m=\u001b[39m p\u001b[38;5;241m.\u001b[39mreturncode \u001b[38;5;129;01mor\u001b[39;00m \u001b[38;5;241m-\u001b[39m\u001b[38;5;241m9\u001b[39m\n\u001b[0;32m--> 314\u001b[0m     \u001b[38;5;28;01mraise\u001b[39;00m CalledProcessError(rc, cell)\n",
      "\u001b[0;31mCalledProcessError\u001b[0m: Command 'b'chmod u+x  0x01-shell_permissions/101-symbolic_link_permissions\\nsource ./0x01-shell_permissions/101-symbolic_link_permissions\\n'' returned non-zero exit status 1."
     ]
    }
   ],
   "source": [
    "%%bash\n",
    "chmod u+x  0x01-shell_permissions/101-symbolic_link_permissions\n",
    "source ./0x01-shell_permissions/101-symbolic_link_permissions"
   ]
  },
  {
   "cell_type": "code",
   "execution_count": 28,
   "metadata": {},
   "outputs": [
    {
     "name": "stdout",
     "output_type": "stream",
     "text": [
      "[main de06374] 101\n",
      " 2 files changed, 45 insertions(+), 59 deletions(-)\n",
      " create mode 100755 0x01-shell_permissions/101-symbolic_link_permissions\n"
     ]
    },
    {
     "name": "stderr",
     "output_type": "stream",
     "text": [
      "To https://github.com/elkomysara/alx-system_engineering-devops.git\n",
      "   d134f28..de06374  main -> main\n"
     ]
    }
   ],
   "source": [
    "%%bash\n",
    "git add .\n",
    "git commit -m \"101\"\n",
    "git push"
   ]
  },
  {
   "cell_type": "markdown",
   "metadata": {},
   "source": [
    "### \n",
    "\n",
    "\n",
    "---\n",
    "<center>\n",
    "<h4> 16. If only</h4>\n",
    "</center>\n",
    "\n",
    "---"
   ]
  },
  {
   "cell_type": "markdown",
   "metadata": {},
   "source": [
    "##### Write a script that changes the owner of the file hello to betty only if it is owned by the user guillaume.\n",
    "\n",
    "* The file hello will be in the working directory\n",
    "\n",
    "\n",
    "```bash\n",
    "julien@ubuntu:/tmp/h$ ls -l\n",
    "total 24\n",
    "-rwxrwxr-x 1 julien    julien      47 Sep 20 15:18 102-if_only \n",
    "-rw-rw-r-- 1 guillaume julien      23 Sep 20 14:25 hello\n",
    "julien@ubuntu:/tmp/h$ sudo ./102-if_only \n",
    "julien@ubuntu:/tmp/h$ ls -l\n",
    "total 24\n",
    "-rwxrwxr-x 1 julien julien      47 Sep 20 15:18 102-if_only \n",
    "-rw-rw-r-- 1 betty  julien      23 Sep 20 14:25 hello\n",
    "julien@ubuntu:/tmp/h$  ```\n",
    "\n",
    "#### Repo:\n",
    "\n",
    "* GitHub repository: `alx-system_engineering-devops`\n",
    "* Directory: `0x01-shell_permissions`\n",
    "* File: `102-if_only`"
   ]
  },
  {
   "cell_type": "code",
   "execution_count": 29,
   "metadata": {},
   "outputs": [
    {
     "name": "stdout",
     "output_type": "stream",
     "text": [
      "Writing 0x01-shell_permissions/102-if_only\n"
     ]
    }
   ],
   "source": [
    "%%file 0x01-shell_permissions/102-if_only\n",
    "#!/bin/bash\n",
    "chown --from=guillaume betty hello"
   ]
  },
  {
   "cell_type": "code",
   "execution_count": 30,
   "metadata": {},
   "outputs": [
    {
     "name": "stderr",
     "output_type": "stream",
     "text": [
      "chown: invalid user: ‘guillaume’\n"
     ]
    },
    {
     "ename": "CalledProcessError",
     "evalue": "Command 'b'chmod u+x 0x01-shell_permissions/102-if_only\\nsource ./0x01-shell_permissions/102-if_only\\n'' returned non-zero exit status 1.",
     "output_type": "error",
     "traceback": [
      "\u001b[0;31m---------------------------------------------------------------------------\u001b[0m",
      "\u001b[0;31mCalledProcessError\u001b[0m                        Traceback (most recent call last)",
      "Cell \u001b[0;32mIn[30], line 1\u001b[0m\n\u001b[0;32m----> 1\u001b[0m get_ipython()\u001b[38;5;241m.\u001b[39mrun_cell_magic(\u001b[38;5;124m'\u001b[39m\u001b[38;5;124mbash\u001b[39m\u001b[38;5;124m'\u001b[39m, \u001b[38;5;124m'\u001b[39m\u001b[38;5;124m'\u001b[39m, \u001b[38;5;124m'\u001b[39m\u001b[38;5;124mchmod u+x 0x01-shell_permissions/102-if_only\u001b[39m\u001b[38;5;130;01m\\n\u001b[39;00m\u001b[38;5;124msource ./0x01-shell_permissions/102-if_only\u001b[39m\u001b[38;5;130;01m\\n\u001b[39;00m\u001b[38;5;124m'\u001b[39m)\n",
      "File \u001b[0;32m~/anaconda3/envs/cplayground/lib/python3.11/site-packages/IPython/core/interactiveshell.py:2517\u001b[0m, in \u001b[0;36mInteractiveShell.run_cell_magic\u001b[0;34m(self, magic_name, line, cell)\u001b[0m\n\u001b[1;32m   2515\u001b[0m \u001b[38;5;28;01mwith\u001b[39;00m \u001b[38;5;28mself\u001b[39m\u001b[38;5;241m.\u001b[39mbuiltin_trap:\n\u001b[1;32m   2516\u001b[0m     args \u001b[38;5;241m=\u001b[39m (magic_arg_s, cell)\n\u001b[0;32m-> 2517\u001b[0m     result \u001b[38;5;241m=\u001b[39m fn(\u001b[38;5;241m*\u001b[39margs, \u001b[38;5;241m*\u001b[39m\u001b[38;5;241m*\u001b[39mkwargs)\n\u001b[1;32m   2519\u001b[0m \u001b[38;5;66;03m# The code below prevents the output from being displayed\u001b[39;00m\n\u001b[1;32m   2520\u001b[0m \u001b[38;5;66;03m# when using magics with decorator @output_can_be_silenced\u001b[39;00m\n\u001b[1;32m   2521\u001b[0m \u001b[38;5;66;03m# when the last Python token in the expression is a ';'.\u001b[39;00m\n\u001b[1;32m   2522\u001b[0m \u001b[38;5;28;01mif\u001b[39;00m \u001b[38;5;28mgetattr\u001b[39m(fn, magic\u001b[38;5;241m.\u001b[39mMAGIC_OUTPUT_CAN_BE_SILENCED, \u001b[38;5;28;01mFalse\u001b[39;00m):\n",
      "File \u001b[0;32m~/anaconda3/envs/cplayground/lib/python3.11/site-packages/IPython/core/magics/script.py:154\u001b[0m, in \u001b[0;36mScriptMagics._make_script_magic.<locals>.named_script_magic\u001b[0;34m(line, cell)\u001b[0m\n\u001b[1;32m    152\u001b[0m \u001b[38;5;28;01melse\u001b[39;00m:\n\u001b[1;32m    153\u001b[0m     line \u001b[38;5;241m=\u001b[39m script\n\u001b[0;32m--> 154\u001b[0m \u001b[38;5;28;01mreturn\u001b[39;00m \u001b[38;5;28mself\u001b[39m\u001b[38;5;241m.\u001b[39mshebang(line, cell)\n",
      "File \u001b[0;32m~/anaconda3/envs/cplayground/lib/python3.11/site-packages/IPython/core/magics/script.py:314\u001b[0m, in \u001b[0;36mScriptMagics.shebang\u001b[0;34m(self, line, cell)\u001b[0m\n\u001b[1;32m    309\u001b[0m \u001b[38;5;28;01mif\u001b[39;00m args\u001b[38;5;241m.\u001b[39mraise_error \u001b[38;5;129;01mand\u001b[39;00m p\u001b[38;5;241m.\u001b[39mreturncode \u001b[38;5;241m!=\u001b[39m \u001b[38;5;241m0\u001b[39m:\n\u001b[1;32m    310\u001b[0m     \u001b[38;5;66;03m# If we get here and p.returncode is still None, we must have\u001b[39;00m\n\u001b[1;32m    311\u001b[0m     \u001b[38;5;66;03m# killed it but not yet seen its return code. We don't wait for it,\u001b[39;00m\n\u001b[1;32m    312\u001b[0m     \u001b[38;5;66;03m# in case it's stuck in uninterruptible sleep. -9 = SIGKILL\u001b[39;00m\n\u001b[1;32m    313\u001b[0m     rc \u001b[38;5;241m=\u001b[39m p\u001b[38;5;241m.\u001b[39mreturncode \u001b[38;5;129;01mor\u001b[39;00m \u001b[38;5;241m-\u001b[39m\u001b[38;5;241m9\u001b[39m\n\u001b[0;32m--> 314\u001b[0m     \u001b[38;5;28;01mraise\u001b[39;00m CalledProcessError(rc, cell)\n",
      "\u001b[0;31mCalledProcessError\u001b[0m: Command 'b'chmod u+x 0x01-shell_permissions/102-if_only\\nsource ./0x01-shell_permissions/102-if_only\\n'' returned non-zero exit status 1."
     ]
    }
   ],
   "source": [
    "%%bash\n",
    "chmod u+x 0x01-shell_permissions/102-if_only\n",
    "source ./0x01-shell_permissions/102-if_only\n"
   ]
  },
  {
   "cell_type": "code",
   "execution_count": 31,
   "metadata": {},
   "outputs": [
    {
     "name": "stdout",
     "output_type": "stream",
     "text": [
      "[main f7131c3] 102\n",
      " 2 files changed, 43 insertions(+), 39 deletions(-)\n",
      " create mode 100755 0x01-shell_permissions/102-if_only\n"
     ]
    },
    {
     "name": "stderr",
     "output_type": "stream",
     "text": [
      "To https://github.com/elkomysara/alx-system_engineering-devops.git\n",
      "   de06374..f7131c3  main -> main\n"
     ]
    }
   ],
   "source": [
    "%%bash\n",
    "git add .\n",
    "git commit -m \"102\"\n",
    "git push"
   ]
  },
  {
   "cell_type": "markdown",
   "metadata": {},
   "source": [
    "### \n",
    "\n",
    "\n",
    "---\n",
    "<center>\n",
    "<h4> 17. Star Wars</h4>\n",
    "</center>\n",
    "\n",
    "---"
   ]
  },
  {
   "cell_type": "markdown",
   "metadata": {},
   "source": [
    "##### Write a script that will play the StarWars IV episode in the terminal.\n",
    "\n",
    "\n",
    "#### Repo:\n",
    "\n",
    "* GitHub repository: `alx-system_engineering-devops`\n",
    "* Directory: `0x01-shell_permissions`\n",
    "* File: `103-Star_Wars`"
   ]
  },
  {
   "cell_type": "code",
   "execution_count": 13,
   "metadata": {},
   "outputs": [
    {
     "name": "stdout",
     "output_type": "stream",
     "text": [
      "Overwriting 0x01-shell_permissions/103-Star_Wars\n"
     ]
    }
   ],
   "source": [
    "%%file 0x01-shell_permissions/103-Star_Wars\n",
    "#!/bin/bash\n",
    "telnet towel.blinkenlights.nl"
   ]
  },
  {
   "cell_type": "code",
   "execution_count": 10,
   "metadata": {},
   "outputs": [
    {
     "name": "stdout",
     "output_type": "stream",
     "text": [
      "Overwriting 0x01-shell_permissions/103-Star_Wars\n"
     ]
    }
   ],
   "source": [
    "%%file 0x01-shell_permissions/103-Star_Wars\n",
    "#!/bin/bash\n",
    "telnet -6 towel.blinkenlights.nl"
   ]
  },
  {
   "cell_type": "code",
   "execution_count": 7,
   "metadata": {},
   "outputs": [
    {
     "name": "stdout",
     "output_type": "stream",
     "text": [
      "Overwriting 0x01-shell_permissions/103-Star_Wars\n"
     ]
    }
   ],
   "source": [
    "%%file 0x01-shell_permissions/103-Star_Wars\n",
    "#!/bin/bash\n",
    "telnet [2001:7b8:666:ffff::1:42]"
   ]
  },
  {
   "cell_type": "code",
   "execution_count": 11,
   "metadata": {},
   "outputs": [],
   "source": [
    "%%bash\n",
    "chmod u+x 0x01-shell_permissions/103-Star_Wars"
   ]
  },
  {
   "cell_type": "code",
   "execution_count": 12,
   "metadata": {},
   "outputs": [
    {
     "name": "stdout",
     "output_type": "stream",
     "text": [
      "Trying 2001:7b8:666:ffff::1:42...\n",
      "telnet: Unable to connect to remote host: Network is unreachable\n"
     ]
    }
   ],
   "source": [
    "!./0x01-shell_permissions/103-Star_Wars"
   ]
  },
  {
   "cell_type": "code",
   "execution_count": 4,
   "metadata": {},
   "outputs": [
    {
     "name": "stdout",
     "output_type": "stream",
     "text": [
      "[main 0581e6e] StrarWars\n",
      " 1 file changed, 11 insertions(+), 406 deletions(-)\n"
     ]
    },
    {
     "name": "stderr",
     "output_type": "stream",
     "text": [
      "To https://github.com/elkomysara/alx-system_engineering-devops.git\n",
      "   80ce041..0581e6e  main -> main\n"
     ]
    }
   ],
   "source": [
    "%%bash\n",
    "git add .\n",
    "git commit -m \"StrarWars\"\n",
    "git push"
   ]
  }
 ],
 "metadata": {
  "kernelspec": {
   "display_name": "Python 3",
   "language": "python",
   "name": "python3"
  },
  "language_info": {
   "codemirror_mode": {
    "name": "ipython",
    "version": 3
   },
   "file_extension": ".py",
   "mimetype": "text/x-python",
   "name": "python",
   "nbconvert_exporter": "python",
   "pygments_lexer": "ipython3",
   "version": "3.11.7"
  }
 },
 "nbformat": 4,
 "nbformat_minor": 2
}
