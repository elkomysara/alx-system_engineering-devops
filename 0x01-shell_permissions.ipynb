{
 "cells": [
  {
   "cell_type": "markdown",
   "metadata": {},
   "source": [
    "---\n",
    "<center>\n",
    "<h1>  alx-system_engineering-devops </h1>\n",
    "</center>\n",
    "\n",
    "---\n"
   ]
  },
  {
   "cell_type": "code",
   "execution_count": null,
   "metadata": {},
   "outputs": [
    {
     "name": "stdout",
     "output_type": "stream",
     "text": [
      "Reinitialized existing Git repository in /home/elkomy/alx-system_engineering-devops/.git/\n",
      "[main 65cddee] first commit\n",
      " 6 files changed, 2939 insertions(+), 21 deletions(-)\n",
      " rename alx-system_engineering-devops.ipynb => 0x00-shell_basics.ipynb (99%)\n",
      " create mode 100644 0x01-shell_permissions.ipynb\n",
      " create mode 100644 0x01-shell_permissions/README.md\n",
      " rewrite README.md (100%)\n",
      " delete mode 120000 __ls__\n"
     ]
    },
    {
     "name": "stdout",
     "output_type": "stream",
     "text": [
      "fatal: remote origin already exists.\n",
      "Enumerating objects: 11, done.\n",
      "Counting objects: 100% (11/11), done.\n",
      "Delta compression using up to 12 threads\n",
      "Compressing objects: 100% (5/5), done.\n",
      "Writing objects: 100% (8/8), 9.73 KiB | 9.73 MiB/s, done.\n",
      "Total 8 (delta 1), reused 0 (delta 0)\n",
      "remote: Resolving deltas: 100% (1/1), done.\u001b[K\n",
      "To https://github.com/elkomysara/alx-system_engineering-devops.git\n",
      "   77198b0..65cddee  main -> main\n",
      "Branch 'main' set up to track remote branch 'main' from 'origin'.\n",
      "fatal: remote origin already exists.\n",
      "Branch 'main' set up to track remote branch 'main' from 'origin'.\n",
      "Everything up-to-date\n"
     ]
    }
   ],
   "source": [
    "\n",
    "#create a new repository on the command line\n",
    "!echo \"# alx-system_engineering-devops\" > README.md\n",
    "!git init\n",
    "!git add .\n",
    "!git commit -m \"first commit\"\n",
    "!git branch -M main\n",
    "!git remote add origin git@github.com:elkomysara/alx-system_engineering-devops.git\n",
    "!git push -u origin main\n",
    "# #push an existing repository from the command line\n",
    "!git remote add origin git@github.com:elkomysara/alx-system_engineering-devops.git\n",
    "!git branch -M main\n",
    "!git push -u origin main"
   ]
  },
  {
   "cell_type": "code",
   "execution_count": 9,
   "metadata": {},
   "outputs": [
    {
     "name": "stdout",
     "output_type": "stream",
     "text": [
      "Overwriting README.md\n"
     ]
    }
   ],
   "source": [
    "%%file README.md\n",
    "\n",
    "## alx-system_engineering-devops/0x00-shell_basics\n",
    "## alx-system_engineering-devops/0x01-shell_permissions"
   ]
  },
  {
   "cell_type": "code",
   "execution_count": null,
   "metadata": {},
   "outputs": [],
   "source": [
    "import os\n",
    "# creating 0x01. Shell, permissions\n",
    "\n",
    "folder_path = r'/home/elkomy/alx-system_engineering-devops/0x01-shell_permissions'\n",
    "if not os.path.exists(folder_path):\n",
    "    os.makedirs(folder_path)\n",
    "\n",
    "# Create a README.md inside 0x00-shell_basics\n",
    "file_path = os.path.join(folder_path, 'README.md')\n",
    "\n",
    "with open(file_path, 'w') as file:\n",
    "    file.write(\"This is a README.md file inside alx-system_engineering-devops/0x01-shell_permissions\")\n",
    "\n"
   ]
  },
  {
   "cell_type": "code",
   "execution_count": 6,
   "metadata": {},
   "outputs": [
    {
     "name": "stdout",
     "output_type": "stream",
     "text": [
      "Overwriting 0x01-shell_permissions/README.md\n"
     ]
    }
   ],
   "source": [
    "%%file 0x01-shell_permissions/README.md\n",
    "## alx-system_engineering-devops/0x01-shell_permissions"
   ]
  },
  {
   "cell_type": "code",
   "execution_count": null,
   "metadata": {},
   "outputs": [
    {
     "name": "stdout",
     "output_type": "stream",
     "text": [
      "[main e4c0f50] commiting the alx-system_devops-engineering README.md file\n",
      " 2 files changed, 42 insertions(+), 28 deletions(-)\n",
      "Enumerating objects: 7, done.\n",
      "Counting objects: 100% (7/7), done.\n",
      "Delta compression using up to 12 threads\n",
      "Compressing objects: 100% (4/4), done.\n",
      "Writing objects: 100% (4/4), 843 bytes | 843.00 KiB/s, done.\n",
      "Total 4 (delta 2), reused 0 (delta 0)\n",
      "remote: Resolving deltas: 100% (2/2), completed with 2 local objects.\u001b[K\n",
      "To https://github.com/elkomysara/alx-system_engineering-devops.git\n",
      "   154bd60..e4c0f50  main -> main\n",
      "Branch 'main' set up to track remote branch 'main' from 'origin'.\n"
     ]
    }
   ],
   "source": [
    "\n",
    "!git add .\n",
    "!git commit -m \"\"\n",
    "!git push -u origin main"
   ]
  },
  {
   "cell_type": "code",
   "execution_count": 8,
   "metadata": {},
   "outputs": [
    {
     "name": "stdout",
     "output_type": "stream",
     "text": [
      "Already up to date.\n"
     ]
    },
    {
     "name": "stdout",
     "output_type": "stream",
     "text": [
      "Everything up-to-date\n"
     ]
    }
   ],
   "source": [
    "!git pull\n",
    "!git push"
   ]
  },
  {
   "cell_type": "markdown",
   "metadata": {},
   "source": [
    "###\n",
    "---\n",
    "<center>\n",
    "<h1>  0x01. Shell, permissions  </h1>\n",
    "</center>\n",
    "\n",
    "---\n"
   ]
  },
  {
   "cell_type": "markdown",
   "metadata": {},
   "source": [
    "###\n",
    "---\n",
    "<center>\n",
    "<h4>  0. My name is Betty </h4>\n",
    "</center>\n",
    "\n",
    "---"
   ]
  },
  {
   "cell_type": "markdown",
   "metadata": {},
   "source": [
    "\n",
    "#### Create a script that switches the current user to the user betty. \n",
    "* You should use exactly 8 characters for your command (+1 character for the new line)\n",
    "* You can assume that the user betty will exist when we will run your script\n",
    "\n",
    "```bash\n",
    "julien@ubuntu:/tmp/h$ tail -1 0-iam_betty | wc -c\n",
    "9\n",
    "julien@ubuntu:/tmp/h$\n",
    "```\n",
    "\n",
    "\n",
    "#### Repo:\n",
    "* GitHub repository: ``` alx-system_engineering-devops ```\n",
    "* Directory: <code> 0x01-shell_permissions </code>\n",
    "* File: <code>  0-iam_betty</code>"
   ]
  },
  {
   "cell_type": "code",
   "execution_count": 8,
   "metadata": {},
   "outputs": [
    {
     "name": "stdout",
     "output_type": "stream",
     "text": [
      "Overwriting 0x01-shell_permissions/0-iam_betty\n"
     ]
    }
   ],
   "source": [
    "%%file 0x01-shell_permissions/0-iam_betty\n",
    "#!/bin/bash\n",
    "su betty\n"
   ]
  },
  {
   "cell_type": "code",
   "execution_count": 2,
   "metadata": {},
   "outputs": [],
   "source": [
    "!chmod u+x /home/elkomy/alx-system_engineering-devops/0x01-shell_permissions/0-iam_betty"
   ]
  },
  {
   "cell_type": "code",
   "execution_count": 4,
   "metadata": {},
   "outputs": [
    {
     "name": "stdout",
     "output_type": "stream",
     "text": [
      "#!/bin/bash\n",
      "su -betty\n"
     ]
    }
   ],
   "source": [
    "!cat 0x01-shell_permissions/0-iam_betty"
   ]
  },
  {
   "cell_type": "code",
   "execution_count": 9,
   "metadata": {},
   "outputs": [
    {
     "name": "stdout",
     "output_type": "stream",
     "text": [
      "9\n"
     ]
    }
   ],
   "source": [
    "%%bash\n",
    "tail -1 0x01-shell_permissions/0-iam_betty | wc -c"
   ]
  },
  {
   "cell_type": "code",
   "execution_count": 6,
   "metadata": {},
   "outputs": [
    {
     "name": "stdout",
     "output_type": "stream",
     "text": [
      "[main 375e218] commit 0-current_working_directory\n",
      " 3 files changed, 138 insertions(+), 112 deletions(-)\n",
      " create mode 100755 0x01-shell_permissions/0-iam_betty\n",
      "Enumerating objects: 10, done.\n",
      "Counting objects: 100% (10/10), done.\n",
      "Delta compression using up to 12 threads\n",
      "Compressing objects: 100% (5/5), done.\n",
      "Writing objects: 100% (6/6), 2.36 KiB | 2.36 MiB/s, done.\n",
      "Total 6 (delta 2), reused 0 (delta 0)\n",
      "remote: Resolving deltas: 100% (2/2), completed with 2 local objects.\u001b[K\n",
      "To https://github.com/elkomysara/alx-system_engineering-devops.git\n",
      "   65cddee..375e218  main -> main\n",
      "Branch 'main' set up to track remote branch 'main' from 'origin'.\n"
     ]
    }
   ],
   "source": [
    "\n",
    "!git add .\n",
    "!git commit -m \"commit 0-current_working_directory\"\n",
    "!git push -u origin main"
   ]
  },
  {
   "cell_type": "markdown",
   "metadata": {},
   "source": [
    "###\n",
    "---\n",
    "<center>\n",
    "<h4> 1. Who am I </h4>\n",
    "</center>\n",
    "\n",
    "---\n"
   ]
  },
  {
   "cell_type": "markdown",
   "metadata": {},
   "source": [
    "* Write a script that prints the effective username of the current user.\n",
    "* Example:\n",
    "    ```bash\n",
    "    julien@ubuntu:/tmp/h$ ./1-who_am_i\n",
    "    julien\n",
    "    julien@ubuntu:/tmp/h$ \n",
    "    ```\n",
    "\n",
    "* Repo:\n",
    "\n",
    "    * GitHub repository: <code > alx-system_engineering-devops </code>\n",
    "    * Directory: <code > 0x01-shell_permissions </code>\n",
    "    * File: <code >  File: 1-who_am_i </code>\n",
    "   "
   ]
  },
  {
   "cell_type": "code",
   "execution_count": 1,
   "metadata": {},
   "outputs": [
    {
     "name": "stdout",
     "output_type": "stream",
     "text": [
      "Writing 0x01-shell_permissions/1-who_am_i\n"
     ]
    }
   ],
   "source": [
    "%%file 0x01-shell_permissions/1-who_am_i\n",
    "#!/bin/bash\n",
    "whoami"
   ]
  },
  {
   "cell_type": "code",
   "execution_count": 2,
   "metadata": {},
   "outputs": [],
   "source": [
    "!chmod u+x /home/elkomy/alx-system_engineering-devops/0x01-shell_permissions/1-who_am_i"
   ]
  },
  {
   "cell_type": "code",
   "execution_count": 4,
   "metadata": {},
   "outputs": [
    {
     "name": "stdout",
     "output_type": "stream",
     "text": [
      "#!/bin/bash\n",
      "whoami\n"
     ]
    }
   ],
   "source": [
    "!cat 0x01-shell_permissions/1-who_am_i"
   ]
  },
  {
   "cell_type": "code",
   "execution_count": 6,
   "metadata": {},
   "outputs": [
    {
     "name": "stdout",
     "output_type": "stream",
     "text": [
      "elkomy\n"
     ]
    }
   ],
   "source": [
    "!./0x01-shell_permissions/1-who_am_i"
   ]
  },
  {
   "cell_type": "code",
   "execution_count": 8,
   "metadata": {},
   "outputs": [
    {
     "name": "stdout",
     "output_type": "stream",
     "text": [
      "[main 8cb791d] whoami\n",
      " 2 files changed, 14 insertions(+), 12 deletions(-)\n",
      "Enumerating objects: 7, done.\n",
      "Counting objects: 100% (7/7), done.\n",
      "Delta compression using up to 12 threads\n",
      "Compressing objects: 100% (4/4), done.\n",
      "Writing objects: 100% (4/4), 527 bytes | 527.00 KiB/s, done.\n",
      "Total 4 (delta 2), reused 0 (delta 0)\n",
      "remote: Resolving deltas: 100% (2/2), completed with 2 local objects.\u001b[K\n",
      "To https://github.com/elkomysara/alx-system_engineering-devops.git\n",
      "   b9277cb..8cb791d  main -> main\n",
      "Branch 'main' set up to track remote branch 'main' from 'origin'.\n"
     ]
    }
   ],
   "source": [
    "\n",
    "!git add .\n",
    "!git commit -m \"whoami\"\n",
    "!git push -u origin main"
   ]
  },
  {
   "cell_type": "markdown",
   "metadata": {},
   "source": [
    "###\n",
    "---\n",
    "<center>\n",
    "<h4> 2. Groups </h4>\n",
    "</center>\n",
    "\n",
    "---"
   ]
  },
  {
   "cell_type": "markdown",
   "metadata": {},
   "source": [
    "#### Write a script that prints all the groups the current user is part of.\n",
    "\n",
    "```bash\n",
    "julien@ubuntu:/tmp/h$ ./2-groups\n",
    "julien adm cdrom sudo dip plugdev lpadmin sambashare\n",
    "julien@ubuntu:/tmp/h$ \n",
    "```\n",
    "\n",
    "\n",
    "#### Repo:\n",
    "* GitHub repository:   <code>alx-system_engineering-devops </code>\n",
    "* Directory:   <code> 0x01-shell_permissions </code>\n",
    "* File:   <code> 2-groups</code>"
   ]
  },
  {
   "cell_type": "code",
   "execution_count": 1,
   "metadata": {},
   "outputs": [
    {
     "name": "stdout",
     "output_type": "stream",
     "text": [
      "Writing 0x01-shell_permissions/2-groups\n"
     ]
    }
   ],
   "source": [
    "%%file 0x01-shell_permissions/2-groups\n",
    "#!/bin/bash\n",
    "id -nG"
   ]
  },
  {
   "cell_type": "code",
   "execution_count": 2,
   "metadata": {},
   "outputs": [],
   "source": [
    "!chmod u+x /home/elkomy/alx-system_engineering-devops/0x01-shell_permissions/2-groups"
   ]
  },
  {
   "cell_type": "code",
   "execution_count": 3,
   "metadata": {},
   "outputs": [
    {
     "name": "stdout",
     "output_type": "stream",
     "text": [
      "elkomy adm dialout cdrom floppy sudo audio dip video plugdev netdev\n"
     ]
    }
   ],
   "source": [
    "!source ./0x01-shell_permissions/2-groups"
   ]
  },
  {
   "cell_type": "code",
   "execution_count": 4,
   "metadata": {},
   "outputs": [
    {
     "name": "stdout",
     "output_type": "stream",
     "text": [
      "#!/bin/bash\n",
      "id -nG\n"
     ]
    }
   ],
   "source": [
    "!cat 0x01-shell_permissions/2-groups"
   ]
  },
  {
   "cell_type": "code",
   "execution_count": 5,
   "metadata": {},
   "outputs": [
    {
     "name": "stdout",
     "output_type": "stream",
     "text": [
      "[main 99867fe] group\n",
      " 2 files changed, 46 insertions(+), 45 deletions(-)\n",
      " create mode 100755 0x01-shell_permissions/2-groups\n",
      "Enumerating objects: 8, done.\n",
      "Counting objects: 100% (8/8), done.\n",
      "Delta compression using up to 12 threads\n",
      "Compressing objects: 100% (4/4), done.\n",
      "Writing objects: 100% (5/5), 895 bytes | 895.00 KiB/s, done.\n",
      "Total 5 (delta 2), reused 0 (delta 0)\n",
      "remote: Resolving deltas: 100% (2/2), completed with 2 local objects.\u001b[K\n",
      "To https://github.com/elkomysara/alx-system_engineering-devops.git\n",
      "   8cb791d..99867fe  main -> main\n",
      "Branch 'main' set up to track remote branch 'main' from 'origin'.\n"
     ]
    }
   ],
   "source": [
    "!git add .\n",
    "!git commit -m \"group\"\n",
    "!git push -u origin main"
   ]
  },
  {
   "cell_type": "markdown",
   "metadata": {},
   "source": [
    "###\n",
    "---\n",
    "<center>\n",
    "<h4> 3.New owner </h4>\n",
    "</center>\n",
    "\n",
    "---"
   ]
  },
  {
   "cell_type": "markdown",
   "metadata": {},
   "source": [
    "#### Write a script that changes the owner of the file `hello` to the user `betty`.\n",
    "\n",
    "\n",
    "```bash\n",
    "julien@ubuntu:/tmp/h$ ls -l\n",
    "total 4\n",
    "-rwxrw-r-- 1 julien julien 30 Sep 20 14:23 3-new_owner\n",
    "-rw-rw-r-- 1 julien julien  0 Sep 20 14:18 hello\n",
    "julien@ubuntu:/tmp/h$ sudo ./3-new_owner \n",
    "julien@ubuntu:/tmp/h$ ls -l\n",
    "total 4\n",
    "-rwxrw-r-- 1 julien julien 30 Sep 20 14:23 3-new_owner\n",
    "-rw-rw-r-- 1 betty  julien  0 Sep 20 14:18 hello\n",
    "julien@ubuntu:/tmp/h$\n",
    "```\n",
    "\n",
    "\n",
    "#### Repo:\n",
    "* GitHub repository: `alx-system_engineering-devops`\n",
    "* Directory: `0x01-shell_permissions`\n",
    "* File: `3-new_owner`"
   ]
  },
  {
   "cell_type": "code",
   "execution_count": 1,
   "metadata": {},
   "outputs": [
    {
     "name": "stdout",
     "output_type": "stream",
     "text": [
      "Writing 0x01-shell_permissions/3-new_owner\n"
     ]
    }
   ],
   "source": [
    "%%file 0x01-shell_permissions/3-new_owner\n",
    "#!/bin/bash\n",
    "chown betty: hello"
   ]
  },
  {
   "cell_type": "code",
   "execution_count": 2,
   "metadata": {},
   "outputs": [],
   "source": [
    "%%bash\n",
    "chmod u+x /home/elkomy/alx-system_engineering-devops/0x01-shell_permissions/3-new_owner"
   ]
  },
  {
   "cell_type": "code",
   "execution_count": 3,
   "metadata": {},
   "outputs": [
    {
     "name": "stdout",
     "output_type": "stream",
     "text": [
      "#!/bin/bash\n",
      "chown betty: hello\n"
     ]
    }
   ],
   "source": [
    "!cat 0x01-shell_permissions/3-new_owner"
   ]
  },
  {
   "cell_type": "code",
   "execution_count": 4,
   "metadata": {},
   "outputs": [
    {
     "name": "stdout",
     "output_type": "stream",
     "text": [
      "chown: invalid spec: ‘betty:’\n"
     ]
    }
   ],
   "source": [
    "!./0x01-shell_permissions/3-new_owner"
   ]
  },
  {
   "cell_type": "code",
   "execution_count": 5,
   "metadata": {},
   "outputs": [
    {
     "name": "stdout",
     "output_type": "stream",
     "text": [
      "[main b1d5c23] chown betty: hello\n",
      " 2 files changed, 39 insertions(+), 37 deletions(-)\n",
      " create mode 100755 0x01-shell_permissions/3-new_owner\n",
      "Enumerating objects: 8, done.\n",
      "Counting objects: 100% (8/8), done.\n",
      "Delta compression using up to 12 threads\n",
      "Compressing objects: 100% (4/4), done.\n",
      "Writing objects: 100% (5/5), 890 bytes | 296.00 KiB/s, done.\n",
      "Total 5 (delta 3), reused 0 (delta 0)\n",
      "remote: Resolving deltas: 100% (3/3), completed with 3 local objects.\u001b[K\n",
      "To https://github.com/elkomysara/alx-system_engineering-devops.git\n",
      "   99867fe..b1d5c23  main -> main\n",
      "Branch 'main' set up to track remote branch 'main' from 'origin'.\n"
     ]
    }
   ],
   "source": [
    "!git add .\n",
    "!git commit -m \"chown betty: hello\"\n",
    "!git push -u origin main"
   ]
  },
  {
   "cell_type": "markdown",
   "metadata": {},
   "source": [
    "### \n",
    "\n",
    "\n",
    "---\n",
    "<center>\n",
    "<h4> 4. Empty! </h4>\n",
    "</center>\n",
    "\n",
    "---"
   ]
  },
  {
   "cell_type": "markdown",
   "metadata": {},
   "source": [
    "#### Write a script that creates an empty file called `hello`.\n",
    "\n",
    "\n",
    "#### Repo:\n",
    "* GitHub repository: `alx-system_engineering-devops`\n",
    "* Directory: `0x01-shell_permissions`\n",
    "* File: `4-empty`"
   ]
  },
  {
   "cell_type": "code",
   "execution_count": 6,
   "metadata": {},
   "outputs": [
    {
     "name": "stdout",
     "output_type": "stream",
     "text": [
      "Writing 0x01-shell_permissions/4-empty\n"
     ]
    }
   ],
   "source": [
    "%%file \n",
    "#!/bin/bash\n",
    "touch hello"
   ]
  },
  {
   "cell_type": "code",
   "execution_count": 7,
   "metadata": {},
   "outputs": [],
   "source": [
    "!chmod u+x 0x01-shell_permissions/4-empty"
   ]
  },
  {
   "cell_type": "code",
   "execution_count": 8,
   "metadata": {},
   "outputs": [
    {
     "name": "stdout",
     "output_type": "stream",
     "text": [
      "#!/bin/bash\n",
      "touch hello\n"
     ]
    }
   ],
   "source": [
    "!cat 0x01-shell_permissions/4-empty"
   ]
  },
  {
   "cell_type": "code",
   "execution_count": 9,
   "metadata": {},
   "outputs": [],
   "source": [
    "!./0x01-shell_permissions/4-empty"
   ]
  },
  {
   "cell_type": "code",
   "execution_count": 12,
   "metadata": {},
   "outputs": [
    {
     "name": "stdout",
     "output_type": "stream",
     "text": [
      "[main f040ad5] Hello\n",
      " 1 file changed, 28 insertions(+), 28 deletions(-)\n",
      "Enumerating objects: 5, done.\n",
      "Counting objects: 100% (5/5), done.\n",
      "Delta compression using up to 12 threads\n",
      "Compressing objects: 100% (3/3), done.\n",
      "Writing objects: 100% (3/3), 473 bytes | 473.00 KiB/s, done.\n",
      "Total 3 (delta 2), reused 0 (delta 0)\n",
      "remote: Resolving deltas: 100% (2/2), completed with 2 local objects.\u001b[K\n",
      "To https://github.com/elkomysara/alx-system_engineering-devops.git\n",
      "   9f7a3ea..f040ad5  main -> main\n",
      "Branch 'main' set up to track remote branch 'main' from 'origin'.\n"
     ]
    }
   ],
   "source": [
    "!git add .\n",
    "!git commit -m \"Hello\"\n",
    "!git push -u origin main"
   ]
  },
  {
   "cell_type": "code",
   "execution_count": 11,
   "metadata": {},
   "outputs": [],
   "source": [
    "%%bash\n",
    "./0x01-shell_permissions/4-empty"
   ]
  },
  {
   "cell_type": "code",
   "execution_count": null,
   "metadata": {},
   "outputs": [],
   "source": []
  },
  {
   "cell_type": "markdown",
   "metadata": {},
   "source": [
    "### \n",
    "\n",
    "\n",
    "---\n",
    "<center>\n",
    "<h4> 5. Execute</h4>\n",
    "</center>\n",
    "\n",
    "---"
   ]
  },
  {
   "cell_type": "markdown",
   "metadata": {},
   "source": [
    "##### Write a script that adds execute permission to the owner of the file hello.\n",
    "\n",
    "* The file hello will be in the working directory\n",
    "\n",
    "\n",
    "```bash\n",
    "julien@ubuntu:/tmp/h$ ls -l\n",
    "total 8\n",
    "-rwxrw-r-- 1 julien julien 28 Sep 20 14:26 5-execute\n",
    "-rw-rw-r-- 1 julien julien 23 Sep 20 14:25 hello\n",
    "julien@ubuntu:/tmp/h$ ./hello\n",
    "bash: ./hello: Permission denied\n",
    "julien@ubuntu:/tmp/h$ ./5-execute \n",
    "julien@ubuntu:/tmp/h$ ls -l\n",
    "total 8\n",
    "-rwxrw-r-- 1 julien julien 28 Sep 20 14:26 5-execute\n",
    "-rwxrw-r-- 1 julien julien 23 Sep 20 14:25 hello\n",
    "julien@ubuntu:/tmp/h$ \n",
    "```\n",
    "\n",
    "##### Repo:\n",
    "\n",
    "* GitHub repository: `alx-system_engineering-devops`\n",
    "* Directory: `0x01-shell_permissions`\n",
    "* File: `5-execute`"
   ]
  },
  {
   "cell_type": "code",
   "execution_count": 1,
   "metadata": {},
   "outputs": [
    {
     "name": "stdout",
     "output_type": "stream",
     "text": [
      "Writing 0x01-shell_permissions/5-execute\n"
     ]
    }
   ],
   "source": [
    "%%file 0x01-shell_permissions/5-execute\n",
    "#!/bin/bash\n",
    "chmod u+x hello"
   ]
  },
  {
   "cell_type": "code",
   "execution_count": 2,
   "metadata": {},
   "outputs": [],
   "source": [
    "%%bash\n",
    "chmod u+x 0x01-shell_permissions/5-execute\n",
    "./0x01-shell_permissions/5-execute"
   ]
  },
  {
   "cell_type": "code",
   "execution_count": 3,
   "metadata": {},
   "outputs": [
    {
     "name": "stdout",
     "output_type": "stream",
     "text": [
      "[main 3b2eab6] 0x01-shell_permissions/5-execute\n",
      " 3 files changed, 38 insertions(+), 59 deletions(-)\n",
      " create mode 100755 0x01-shell_permissions/5-execute\n",
      " mode change 100644 => 100755 hello\n"
     ]
    },
    {
     "name": "stderr",
     "output_type": "stream",
     "text": [
      "To https://github.com/elkomysara/alx-system_engineering-devops.git\n",
      "   f040ad5..3b2eab6  main -> main\n"
     ]
    }
   ],
   "source": [
    "%%bash\n",
    "git add .\n",
    "git commit -m \"0x01-shell_permissions/5-execute\"\n",
    "git push"
   ]
  },
  {
   "cell_type": "markdown",
   "metadata": {},
   "source": [
    "### \n",
    "\n",
    "\n",
    "---\n",
    "<center>\n",
    "<h4> 6.Multiple permissions </h4>\n",
    "</center>\n",
    "\n",
    "---"
   ]
  },
  {
   "cell_type": "markdown",
   "metadata": {},
   "source": [
    "##### Write a script that adds execute permission to the owner and the group owner, and read permission to other users, to the file `hello`.\n",
    "\n",
    "    * The file `hello` will be in the working directory\n",
    "\n",
    "```bash\n",
    "julien@ubuntu:/tmp/h$ ls -l\n",
    "total 8\n",
    "-rwxrw-r-- 1 julien julien 36 Sep 20 14:31 6-multiple_permissions\n",
    "-r--r----- 1 julien julien 23 Sep 20 14:25 hello\n",
    "julien@ubuntu:/tmp/h$ ./6-multiple_permissions \n",
    "julien@ubuntu:/tmp/h$ ls -l\n",
    "total 8\n",
    "-rwxrw-r-- 1 julien julien 36 Sep 20 14:31 6-multiple_permissions\n",
    "-r-xr-xr-- 1 julien julien 23 Sep 20 14:25 hello\n",
    "julien@ubuntu:/tmp/h$ \n",
    "\n",
    "```\n",
    "\n",
    "#### Repo:\n",
    "\n",
    "* GitHub repository: `alx-system_engineering-devops`\n",
    "* Directory: `0x01-shell_permissions`\n",
    "* File: `6-multiple_permissions`"
   ]
  },
  {
   "cell_type": "code",
   "execution_count": 4,
   "metadata": {},
   "outputs": [
    {
     "name": "stdout",
     "output_type": "stream",
     "text": [
      "Writing 0x01-shell_permissions/6-multiple_permissions\n"
     ]
    }
   ],
   "source": [
    "%%file 0x01-shell_permissions/6-multiple_permissions\n",
    "#!/bin/bash\n",
    "chmod u+x,g+x hello"
   ]
  },
  {
   "cell_type": "code",
   "execution_count": 5,
   "metadata": {},
   "outputs": [
    {
     "name": "stdout",
     "output_type": "stream",
     "text": [
      "total 164\n",
      "drwxr-xr-x 2 elkomy elkomy  4096 Mar  2 14:09 0x00-shell_basics\n",
      "-rw-r--r-- 1 elkomy elkomy 75098 Mar  2 15:54 0x00-shell_basics.ipynb\n",
      "drwxr-xr-x 2 elkomy elkomy  4096 Mar  9 18:26 0x01-shell_permissions\n",
      "-rw-r--r-- 1 elkomy elkomy 71862 Mar  9 18:50 0x01-shell_permissions.ipynb\n",
      "-rw-r--r-- 1 elkomy elkomy   108 Mar  2 16:08 README.md\n",
      "-rwxr-xr-- 1 elkomy elkomy     0 Mar  9 01:18 hello\n",
      "-rw-r--r-- 1 elkomy elkomy   688 Mar  2 14:52 school.mgc\n",
      "-rw-r--r-- 1 elkomy elkomy     0 Feb 28 01:08 test.HTML\n"
     ]
    }
   ],
   "source": [
    "%%bash\n",
    "chmod u+x 0x01-shell_permissions/6-multiple_permissions\n",
    "./0x01-shell_permissions/6-multiple_permissions\n",
    "ls -l\n"
   ]
  },
  {
   "cell_type": "code",
   "execution_count": 6,
   "metadata": {},
   "outputs": [
    {
     "name": "stdout",
     "output_type": "stream",
     "text": [
      "[main 3c9fdc1] 6-multiple_permissions\n",
      " 2 files changed, 43 insertions(+), 39 deletions(-)\n",
      " create mode 100755 0x01-shell_permissions/6-multiple_permissions\n"
     ]
    },
    {
     "name": "stderr",
     "output_type": "stream",
     "text": [
      "To https://github.com/elkomysara/alx-system_engineering-devops.git\n",
      "   3b2eab6..3c9fdc1  main -> main\n"
     ]
    }
   ],
   "source": [
    "%%bash\n",
    "git add .\n",
    "git commit -m \"6-multiple_permissions\"\n",
    "git push"
   ]
  },
  {
   "cell_type": "markdown",
   "metadata": {},
   "source": [
    "### \n",
    "\n",
    "\n",
    "---\n",
    "<center>\n",
    "<h4> 7.Everybody! </h4>\n",
    "</center>\n",
    "\n",
    "---"
   ]
  },
  {
   "cell_type": "markdown",
   "metadata": {},
   "source": [
    "##### Write a script that adds execution permission to the owner, the group owner and the other users, to the file hello\n",
    "\n",
    "    * The file hello will be in the working directory\n",
    "    * You are not allowed to use commas for this script\n",
    "\n",
    "```bash\n",
    "julien@ubuntu:/tmp/h$ ls -l\n",
    "total 8\n",
    "-rwxrw-r-- 1 julien julien 28 Sep 20 14:35 7-everybody\n",
    "-rw-r----- 1 julien julien 23 Sep 20 14:25 hello\n",
    "julien@ubuntu:/tmp/h$ ./7-everybody \n",
    "julien@ubuntu:/tmp/h$ ls -l\n",
    "total 8\n",
    "-rwxrw-r-- 1 julien julien 28 Sep 20 14:35 7-everybody\n",
    "-rwxr-x--x 1 julien julien 23 Sep 20 14:25 hello\n",
    "julien@ubuntu:/tmp/h$ \n",
    "```\n",
    "\n",
    "#### Repo:\n",
    "\n",
    "* GitHub repository: `alx-system_engineering-devops`\n",
    "* Directory: `0x01-shell_permissions`\n",
    "* File: `7-everybody`"
   ]
  },
  {
   "cell_type": "code",
   "execution_count": 7,
   "metadata": {},
   "outputs": [
    {
     "name": "stdout",
     "output_type": "stream",
     "text": [
      "Writing 0x01-shell_permissions/7-everybody\n"
     ]
    }
   ],
   "source": [
    "%%file 0x01-shell_permissions/7-everybody\n",
    "#!/bin/bash\n",
    "chmod +x hello"
   ]
  },
  {
   "cell_type": "code",
   "execution_count": 8,
   "metadata": {},
   "outputs": [
    {
     "name": "stdout",
     "output_type": "stream",
     "text": [
      "total 164\n",
      "drwxr-xr-x 2 elkomy elkomy  4096 Mar  2 14:09 0x00-shell_basics\n",
      "-rw-r--r-- 1 elkomy elkomy 75098 Mar  2 15:54 0x00-shell_basics.ipynb\n",
      "drwxr-xr-x 2 elkomy elkomy  4096 Mar  9 19:34 0x01-shell_permissions\n",
      "-rw-r--r-- 1 elkomy elkomy 72274 Mar  9 19:34 0x01-shell_permissions.ipynb\n",
      "-rw-r--r-- 1 elkomy elkomy   108 Mar  2 16:08 README.md\n",
      "-rwxr-xr-x 1 elkomy elkomy     0 Mar  9 01:18 hello\n",
      "-rw-r--r-- 1 elkomy elkomy   688 Mar  2 14:52 school.mgc\n",
      "-rw-r--r-- 1 elkomy elkomy     0 Feb 28 01:08 test.HTML\n"
     ]
    }
   ],
   "source": [
    "%%bash\n",
    "chmod u+x 0x01-shell_permissions/7-everybody\n",
    "./0x01-shell_permissions/7-everybody\n",
    "ls -l"
   ]
  },
  {
   "cell_type": "code",
   "execution_count": 9,
   "metadata": {},
   "outputs": [
    {
     "name": "stdout",
     "output_type": "stream",
     "text": [
      "[main 33ba3fc] 7-everybody\n",
      " 2 files changed, 42 insertions(+), 39 deletions(-)\n",
      " create mode 100755 0x01-shell_permissions/7-everybody\n"
     ]
    },
    {
     "name": "stderr",
     "output_type": "stream",
     "text": [
      "To https://github.com/elkomysara/alx-system_engineering-devops.git\n",
      "   3c9fdc1..33ba3fc  main -> main\n"
     ]
    }
   ],
   "source": [
    "%%bash\n",
    "git add .\n",
    "git commit -m \"7-everybody\"\n",
    "git push"
   ]
  },
  {
   "cell_type": "markdown",
   "metadata": {},
   "source": [
    "### \n",
    "\n",
    "\n",
    "---\n",
    "<center>\n",
    "<h4> 8. James Bond </h4>\n",
    "</center>\n",
    "\n",
    "---"
   ]
  },
  {
   "cell_type": "markdown",
   "metadata": {},
   "source": [
    "##### Write a script that sets the permission to the file hello as follows:\n",
    "\n",
    "* Owner: no permission at all\n",
    "* Group: no permission at all\n",
    "* Other users: all the permissions\n",
    "\n",
    "The file `hello` will be in the working directory You are not allowed to use commas for this script\n",
    "\n",
    "```bash\n",
    "julien@ubuntu:/tmp/h$ ls -l\n",
    "total 8\n",
    "-rwxrw-r-- 1 julien julien 28 Sep 20 14:40 8-James_Bond\n",
    "-rwxr-x--x 1 julien julien 23 Sep 20 14:25 hello\n",
    "julien@ubuntu:/tmp/h$ ./8-James_Bond \n",
    "julien@ubuntu:/tmp/h$ ls -l\n",
    "total 8\n",
    "-rwxrw-r-- 1 julien julien 28 Sep 20 14:40 8-James_Bond\n",
    "-------rwx 1 julien julien 23 Sep 20 14:25 hello\n",
    "julien@ubuntu:/tmp/h$ \n",
    "```\n",
    "\n",
    "#### Repo:\n",
    "\n",
    "* GitHub repository: `alx-system_engineering-devops`\n",
    "* Directory: `0x00-shell_basics`\n",
    "* File: ` 8-firstdelete`\n"
   ]
  },
  {
   "cell_type": "code",
   "execution_count": 10,
   "metadata": {},
   "outputs": [
    {
     "name": "stdout",
     "output_type": "stream",
     "text": [
      "Writing 0x01-shell_permissions/8-James_Bond\n"
     ]
    }
   ],
   "source": [
    "%%file 0x01-shell_permissions/8-James_Bond\n",
    "#!/bin/bash\n",
    "chmod 007 hello"
   ]
  },
  {
   "cell_type": "code",
   "execution_count": 11,
   "metadata": {},
   "outputs": [
    {
     "name": "stderr",
     "output_type": "stream",
     "text": [
      "bash: line 2: .0x01-shell_permissions/8-James_Bond: No such file or directory\n"
     ]
    },
    {
     "name": "stdout",
     "output_type": "stream",
     "text": [
      "total 164\n",
      "drwxr-xr-x 2 elkomy elkomy  4096 Mar  2 14:09 0x00-shell_basics\n",
      "-rw-r--r-- 1 elkomy elkomy 75098 Mar  2 15:54 0x00-shell_basics.ipynb\n",
      "drwxr-xr-x 2 elkomy elkomy  4096 Mar  9 20:10 0x01-shell_permissions\n",
      "-rw-r--r-- 1 elkomy elkomy 72813 Mar  9 20:10 0x01-shell_permissions.ipynb\n",
      "-rw-r--r-- 1 elkomy elkomy   108 Mar  2 16:08 README.md\n",
      "-rwxr-xr-x 1 elkomy elkomy     0 Mar  9 01:18 hello\n",
      "-rw-r--r-- 1 elkomy elkomy   688 Mar  2 14:52 school.mgc\n",
      "-rw-r--r-- 1 elkomy elkomy     0 Feb 28 01:08 test.HTML\n"
     ]
    }
   ],
   "source": [
    "%%bash\n",
    "chmod u+x 0x01-shell_permissions/8-James_Bond\n",
    ".0x01-shell_permissions/8-James_Bond\n",
    "ls -l"
   ]
  },
  {
   "cell_type": "code",
   "execution_count": 9,
   "metadata": {},
   "outputs": [
    {
     "name": "stdout",
     "output_type": "stream",
     "text": [
      "[main 48b966a] 8-firstdelete\n",
      " 2 files changed, 143 insertions(+), 2 deletions(-)\n",
      " create mode 100755 0x00-shell_basics/8-firstdelete\n"
     ]
    },
    {
     "name": "stderr",
     "output_type": "stream",
     "text": [
      "To https://github.com/elkomysara/alx-system_engineering-devops.git\n",
      "   4f4b402..48b966a  main -> main\n"
     ]
    }
   ],
   "source": [
    "%%bash\n",
    "git add .\n",
    "git commit -m \"8. James Bond\"\n",
    "git push"
   ]
  },
  {
   "cell_type": "markdown",
   "metadata": {},
   "source": [
    "### \n",
    "\n",
    "\n",
    "---\n",
    "<center>\n",
    "<h4> 9.Bye bye My first directory</h4>\n",
    "</center>\n",
    "\n",
    "---"
   ]
  },
  {
   "cell_type": "markdown",
   "metadata": {},
   "source": [
    "##### Delete the directory `my_first_directory` that is in the `/tmp` directory.\n",
    "\n",
    "##### Example:\n",
    "```bash\n",
    "$ ./9-firstdirdeletion\n",
    "$ file /tmp/my_first_directory\n",
    "/tmp/my_first_directory: cannot open `/tmp/my_first_directory' (No such file or directory)\n",
    "$\n",
    "```\n",
    "\n",
    "#### Repo:\n",
    "\n",
    "* GitHub repository: `alx-system_engineering-devops`\n",
    "* Directory: `0x00-shell_basics`\n",
    "* File: `  9-firstdirdeletion`"
   ]
  },
  {
   "cell_type": "code",
   "execution_count": 17,
   "metadata": {},
   "outputs": [
    {
     "name": "stdout",
     "output_type": "stream",
     "text": [
      "Overwriting 0x00-shell_basics/9-firstdirdeletion\n"
     ]
    }
   ],
   "source": [
    "%%file 0x00-shell_basics/9-firstdirdeletion\n",
    "#!/bin/bash\n",
    "rm -rf /tmp/my_first_directory/"
   ]
  },
  {
   "cell_type": "code",
   "execution_count": 20,
   "metadata": {},
   "outputs": [
    {
     "name": "stdout",
     "output_type": "stream",
     "text": [
      "/tmp/my_first_directory: cannot open `/tmp/my_first_directory' (No such file or directory)\n",
      "pyright-9863-3yBGUfZlxDqq\n",
      "pyright-9863-9QzMys6VU6ZY\n",
      "pyright-9863-gyFPUbndjCI5\n",
      "pyright-9863-hqvX5SBuKjzU\n",
      "python-languageserver-cancellation\n",
      "snap-private-tmp\n",
      "systemd-private-959f346fd803484a9825f3b0d492c837-ModemManager.service-2xfSxf\n",
      "systemd-private-959f346fd803484a9825f3b0d492c837-systemd-logind.service-vJoCkf\n",
      "systemd-private-959f346fd803484a9825f3b0d492c837-systemd-resolved.service-n0ZkLf\n"
     ]
    }
   ],
   "source": [
    "%%bash\n",
    "chmod u+x 0x00-shell_basics/9-firstdirdeletion\n",
    "./0x00-shell_basics/9-firstdirdeletion\n",
    "file /tmp/my_first_directory\n",
    "ls /tmp/\n"
   ]
  },
  {
   "cell_type": "code",
   "execution_count": 21,
   "metadata": {},
   "outputs": [
    {
     "name": "stdout",
     "output_type": "stream",
     "text": [
      "[main 3431094] 9-firstdirdeletion\n",
      " 2 files changed, 11 insertions(+), 20 deletions(-)\n",
      " mode change 100644 => 100755 0x00-shell_basics/9-firstdirdeletion\n"
     ]
    },
    {
     "name": "stderr",
     "output_type": "stream",
     "text": [
      "To https://github.com/elkomysara/alx-system_engineering-devops.git\n",
      "   86d5bc6..3431094  main -> main\n"
     ]
    }
   ],
   "source": [
    "%%bash\n",
    "git add .\n",
    "git commit -m \"9-firstdirdeletion\"\n",
    "git push"
   ]
  },
  {
   "cell_type": "markdown",
   "metadata": {},
   "source": [
    "### \n",
    "\n",
    "\n",
    "---\n",
    "<center>\n",
    "<h4> 10.Back to the future</h4>\n",
    "</center>\n",
    "\n",
    "---"
   ]
  },
  {
   "cell_type": "markdown",
   "metadata": {},
   "source": [
    "##### Write a script that changes the working directory to the previous one.\n",
    "\n",
    "```bash\n",
    "julien@ubuntu:/tmp$ pwd\n",
    "/tmp\n",
    "julien@ubuntu:/tmp$ cd /var\n",
    "julien@ubuntu:/var$ pwd\n",
    "/var\n",
    "julien@ubuntu:/var$ source ./10-back\n",
    "/tmp\n",
    "julien@ubuntu:/tmp$ pwd\n",
    "/tmp\n",
    "```\n",
    "\n",
    "#### Repo:\n",
    "\n",
    "* GitHub repository: `alx-system_engineering-devops`\n",
    "* Directory: `0x00-shell_basics`\n",
    "* File: `10-back`"
   ]
  },
  {
   "cell_type": "code",
   "execution_count": 22,
   "metadata": {},
   "outputs": [
    {
     "name": "stdout",
     "output_type": "stream",
     "text": [
      "Writing 0x00-shell_basics/10-back\n"
     ]
    }
   ],
   "source": [
    "%%file 0x00-shell_basics/10-back\n",
    "#!/bin/bash\n",
    "cd -"
   ]
  },
  {
   "cell_type": "code",
   "execution_count": 23,
   "metadata": {},
   "outputs": [
    {
     "name": "stderr",
     "output_type": "stream",
     "text": [
      "./0x00-shell_basics/10-back: line 2: cd: OLDPWD not set\n"
     ]
    },
    {
     "name": "stdout",
     "output_type": "stream",
     "text": [
      "/home/elkomy/alx-system_engineering-devops\n"
     ]
    }
   ],
   "source": [
    "%%bash\n",
    "chmod u+x 0x00-shell_basics/10-back\n",
    "source ./0x00-shell_basics/10-back\n",
    "pwd\n"
   ]
  },
  {
   "cell_type": "code",
   "execution_count": 24,
   "metadata": {},
   "outputs": [
    {
     "name": "stdout",
     "output_type": "stream",
     "text": [
      "[main cbf178f] 10-back\n",
      " 2 files changed, 125 insertions(+), 6 deletions(-)\n",
      " create mode 100755 0x00-shell_basics/10-back\n"
     ]
    },
    {
     "name": "stderr",
     "output_type": "stream",
     "text": [
      "To https://github.com/elkomysara/alx-system_engineering-devops.git\n",
      "   3431094..cbf178f  main -> main\n"
     ]
    }
   ],
   "source": [
    "%%bash\n",
    "git add .\n",
    "git commit -m \"10-back\"\n",
    "git push"
   ]
  },
  {
   "cell_type": "markdown",
   "metadata": {},
   "source": [
    "### \n",
    "\n",
    "\n",
    "---\n",
    "<center>\n",
    "<h4> 11.Lists</h4>\n",
    "</center>\n",
    "\n",
    "---"
   ]
  },
  {
   "cell_type": "markdown",
   "metadata": {},
   "source": [
    "##### Write a script that lists all files (even ones with names beginning with a period character, which are normally hidden) in the current directory and the parent of the working directory and the `/boot` directory (in this order), in long format.\n",
    "\n",
    "#### Repo:\n",
    "\n",
    "* GitHub repository: `alx-system_engineering-devops`\n",
    "* Directory: `0x00-shell_basics`\n",
    "* File: `11-lists`"
   ]
  },
  {
   "cell_type": "code",
   "execution_count": 28,
   "metadata": {},
   "outputs": [
    {
     "name": "stdout",
     "output_type": "stream",
     "text": [
      "Overwriting 0x00-shell_basics/11-lists\n"
     ]
    }
   ],
   "source": [
    "%%file 0x00-shell_basics/11-lists\n",
    "#!/bin/bash\n",
    "ls -la . .. /boot"
   ]
  },
  {
   "cell_type": "code",
   "execution_count": 29,
   "metadata": {},
   "outputs": [
    {
     "name": "stdout",
     "output_type": "stream",
     "text": [
      ".:\n",
      "total 72\n",
      "drwxr-xr-x  4 elkomy elkomy  4096 Feb 11 00:26 .\n",
      "drwxr-xr-x 17 elkomy elkomy  4096 Feb 24 17:50 ..\n",
      "drwxr-xr-x  8 elkomy elkomy  4096 Feb 27 21:55 .git\n",
      "-rw-r--r--  1 elkomy elkomy    11 Feb 10 18:55 .gitignore\n",
      "drwxr-xr-x  2 elkomy elkomy  4096 Feb 27 21:54 0x00-shell_basics\n",
      "-rw-r--r--  1 elkomy elkomy   554 Feb 24 22:01 README.md\n",
      "-rw-r--r--  1 elkomy elkomy 46579 Feb 27 21:57 alx-system_engineering-devops.ipynb\n",
      "\n",
      "..:\n",
      "total 132\n",
      "drwxr-xr-x 17 elkomy elkomy  4096 Feb 24 17:50 .\n",
      "drwxr-xr-x  3 root   root    4096 Feb  9 21:36 ..\n",
      "-rw-------  1 elkomy elkomy  2135 Feb 25 04:50 .bash_history\n",
      "-rw-r--r--  1 elkomy elkomy   220 Feb  9 21:36 .bash_logout\n",
      "-rw-r--r--  1 elkomy elkomy  4250 Feb 10 10:53 .bashrc\n",
      "drwx------  4 elkomy elkomy  4096 Feb 10 11:16 .cache\n",
      "drwxr-xr-x  2 elkomy elkomy  4096 Feb 10 11:02 .conda\n",
      "drwxr-xr-x  3 elkomy elkomy  4096 Feb 10 11:01 .dotnet\n",
      "-rw-r--r--  1 elkomy elkomy    56 Feb 10 16:01 .gitconfig\n",
      "drwxr-xr-x  3 elkomy elkomy  4096 Feb 10 11:50 .ipython\n",
      "drwxr-xr-x  3 elkomy elkomy  4096 Feb 24 17:51 .jupyter\n",
      "drwxr-xr-x  2 elkomy elkomy  4096 Feb  9 21:36 .landscape\n",
      "drwxr-xr-x  3 elkomy elkomy  4096 Feb 10 10:54 .local\n",
      "-rw-r--r--  1 elkomy elkomy     0 Feb 27 20:37 .motd_shown\n",
      "drwx------  3 elkomy elkomy  4096 Feb 10 11:02 .nv\n",
      "-rw-r--r--  1 elkomy elkomy   807 Feb  9 21:36 .profile\n",
      "-rw-r--r--  1 elkomy elkomy     0 Feb  9 22:01 .sudo_as_admin_successful\n",
      "drwxr-xr-x  2 elkomy elkomy  4096 Feb 10 19:07 .vscode\n",
      "drwxr-xr-x  3 elkomy elkomy  4096 Feb 10 10:58 .vscode-remote-containers\n",
      "drwxr-xr-x  5 elkomy elkomy  4096 Feb 10 10:58 .vscode-server\n",
      "-rw-r--r--  1 elkomy elkomy   478 Feb 10 10:53 .zshrc\n",
      "drwxr-xr-x  4 elkomy elkomy  4096 Feb 11 00:26 alx-system_engineering-devops\n",
      "-rw-r--r--  1 elkomy elkomy 32288 Feb 10 18:47 alx-system_engineering-devops.ipynb\n",
      "drwxr-xr-x 32 elkomy elkomy  4096 Feb 10 10:52 anaconda3\n",
      "-rw-r--r--  1 elkomy elkomy  3853 Feb 10 18:49 control.ipynb\n",
      "drwxr-xr-x  3 elkomy elkomy  4096 Feb 24 21:02 cplayground\n",
      "drwxr-xr-x  4 elkomy elkomy  4096 Feb 10 13:15 zero_day\n",
      "\n",
      "/boot:\n",
      "total 8\n",
      "drwxr-xr-x  2 root root 4096 May 31  2023 .\n",
      "drwxr-xr-x 19 root root 4096 Feb 27 20:37 ..\n",
      "/home/elkomy/alx-system_engineering-devops\n"
     ]
    }
   ],
   "source": [
    "%%bash\n",
    "chmod u+x 0x00-shell_basics/11-lists\n",
    "source ./0x00-shell_basics/11-lists\n",
    "pwd\n"
   ]
  },
  {
   "cell_type": "code",
   "execution_count": 31,
   "metadata": {},
   "outputs": [
    {
     "name": "stdout",
     "output_type": "stream",
     "text": [
      "[main f504d26] 11-lists\n",
      " 1 file changed, 4 insertions(+), 5 deletions(-)\n"
     ]
    },
    {
     "name": "stderr",
     "output_type": "stream",
     "text": [
      "To https://github.com/elkomysara/alx-system_engineering-devops.git\n",
      "   ba21aaf..f504d26  main -> main\n"
     ]
    }
   ],
   "source": [
    "%%bash\n",
    "git add .\n",
    "git commit -m \"11-lists\"\n",
    "git push"
   ]
  },
  {
   "cell_type": "markdown",
   "metadata": {},
   "source": [
    "### \n",
    "\n",
    "\n",
    "---\n",
    "<center>\n",
    "<h4> 12.File type</h4>\n",
    "</center>\n",
    "\n",
    "---"
   ]
  },
  {
   "cell_type": "markdown",
   "metadata": {},
   "source": [
    "##### Write a script that prints the type of the file named `iamafile`. The file `iamafile` will be in the `/tmp` directory when we will run your script.\n",
    "\n",
    "##### Example\n",
    "```bash\n",
    "ubuntu@ip-172-31-63-244:~$ ./12-file_type\n",
    "/tmp/iamafile: ELF 64-bit LSB  executable, x86-64, version 1 (SYSV), dynamically linked (uses shared libs), for GNU/Linux 2.6.24, BuildID[sha1]=bd39c07194a778ccc066fc963ca152bdfaa3f971, stripped\n",
    "```\n",
    "#### Repo:\n",
    "\n",
    "* GitHub repository: `alx-system_engineering-devops`\n",
    "* Directory: `0x00-shell_basics`\n",
    "* File: `12-file_type`"
   ]
  },
  {
   "cell_type": "code",
   "execution_count": 32,
   "metadata": {},
   "outputs": [
    {
     "name": "stdout",
     "output_type": "stream",
     "text": [
      "Writing 0x00-shell_basics/12-file_type\n"
     ]
    }
   ],
   "source": [
    "%%file 0x00-shell_basics/12-file_type\n",
    "#!/bin/bash\n",
    "file /tmp/iamafile"
   ]
  },
  {
   "cell_type": "code",
   "execution_count": 33,
   "metadata": {},
   "outputs": [
    {
     "name": "stdout",
     "output_type": "stream",
     "text": [
      "/tmp/iamafile: cannot open `/tmp/iamafile' (No such file or directory)\n"
     ]
    }
   ],
   "source": [
    "%%bash\n",
    "chmod u+x 0x00-shell_basics/12-file_type\n",
    "source ./0x00-shell_basics/12-file_type"
   ]
  },
  {
   "cell_type": "code",
   "execution_count": 34,
   "metadata": {},
   "outputs": [
    {
     "name": "stdout",
     "output_type": "stream",
     "text": [
      "[main 94a5f7f] 12-file_type\n",
      " 2 files changed, 106 insertions(+), 4 deletions(-)\n",
      " create mode 100755 0x00-shell_basics/12-file_type\n"
     ]
    },
    {
     "name": "stderr",
     "output_type": "stream",
     "text": [
      "To https://github.com/elkomysara/alx-system_engineering-devops.git\n",
      "   f504d26..94a5f7f  main -> main\n"
     ]
    }
   ],
   "source": [
    "%%bash\n",
    "git add .\n",
    "git commit -m \"12-file_type\"\n",
    "git push"
   ]
  },
  {
   "cell_type": "markdown",
   "metadata": {},
   "source": [
    "### \n",
    "\n",
    "\n",
    "---\n",
    "<center>\n",
    "<h4> 13. We are symbols, and inhabit symbols</h4>\n",
    "</center>\n",
    "\n",
    "---"
   ]
  },
  {
   "cell_type": "markdown",
   "metadata": {},
   "source": [
    "##### Create a symbolic link to `/bin/ls`, named `__ls__`. The symbolic link should be created in the current working directory.\n",
    "\n",
    "##### Example\n",
    "```bash\n",
    "ubuntu@ip-172-31-63-244:/tmp/sym$ ls -la\n",
    "total 144\n",
    "drwxrwxr-x  2 ubuntu ubuntu   4096 Sep 20 03:24 .\n",
    "drwxrwxrwt 12 root   root   139264 Sep 20 03:24 ..\n",
    "ubuntu@ip-172-31-63-244:/tmp/sym$./13-symbolic_link\n",
    "ubuntu@ip-172-31-63-244:/tmp/sym$ ls -la\n",
    "total 144\n",
    "drwxrwxr-x  2 ubuntu ubuntu   4096 Sep 20 03:24 .\n",
    "drwxrwxrwt 12 root   root   139264 Sep 20 03:24 ..\n",
    "lrwxrwxrwx  1 ubuntu ubuntu      7 Sep 20 03:24 __ls__ -> /bin/ls\n",
    "```\n",
    "#### Repo:\n",
    "\n",
    "* GitHub repository: `alx-system_engineering-devops`\n",
    "* Directory: `0x00-shell_basics`\n",
    "* File: `13-symbolic_link`"
   ]
  },
  {
   "cell_type": "code",
   "execution_count": 44,
   "metadata": {},
   "outputs": [
    {
     "name": "stdout",
     "output_type": "stream",
     "text": [
      "Writing 0x00-shell_basics/13-symbolic_link\n"
     ]
    }
   ],
   "source": [
    "%%file 0x00-shell_basics/13-symbolic_link\n",
    "#!/bin/bash\n",
    "ln -s /bin/ls __ls__"
   ]
  },
  {
   "cell_type": "code",
   "execution_count": 49,
   "metadata": {},
   "outputs": [
    {
     "name": "stdout",
     "output_type": "stream",
     "text": [
      "total 80\n",
      "drwxr-xr-x  4 elkomy elkomy  4096 Feb 28 00:25 .\n",
      "drwxr-xr-x 17 elkomy elkomy  4096 Feb 24 17:50 ..\n",
      "drwxr-xr-x  8 elkomy elkomy  4096 Feb 28 00:25 .git\n",
      "-rw-r--r--  1 elkomy elkomy    11 Feb 10 18:55 .gitignore\n",
      "drwxr-xr-x  2 elkomy elkomy  4096 Feb 28 00:24 0x00-shell_basics\n",
      "-rw-r--r--  1 elkomy elkomy   554 Feb 24 22:01 README.md\n",
      "lrwxrwxrwx  1 elkomy elkomy     7 Feb 28 00:25 __ls__ -> /bin/ls\n",
      "-rw-r--r--  1 elkomy elkomy 53716 Feb 28 00:26 alx-system_engineering-devops.ipynb\n"
     ]
    }
   ],
   "source": [
    "%%bash\n",
    "chmod u+x 0x00-shell_basics/13-symbolic_link\n",
    "#source ./0x00-shell_basics/13-symbolic_link\n",
    "ls -la"
   ]
  },
  {
   "cell_type": "code",
   "execution_count": 50,
   "metadata": {},
   "outputs": [
    {
     "name": "stdout",
     "output_type": "stream",
     "text": [
      "[main d2e757b] 13-symbolic_link\n",
      " 1 file changed, 26 insertions(+), 8 deletions(-)\n"
     ]
    },
    {
     "name": "stderr",
     "output_type": "stream",
     "text": [
      "To https://github.com/elkomysara/alx-system_engineering-devops.git\n",
      "   e07588b..d2e757b  main -> main\n"
     ]
    }
   ],
   "source": [
    "%%bash\n",
    "git add .\n",
    "git commit -m \"13-symbolic_link\"\n",
    "git push"
   ]
  },
  {
   "cell_type": "markdown",
   "metadata": {},
   "source": [
    "### \n",
    "\n",
    "\n",
    "---\n",
    "<center>\n",
    "<h4> 14. Copy HTML files</h4>\n",
    "</center>\n",
    "\n",
    "---"
   ]
  },
  {
   "cell_type": "markdown",
   "metadata": {},
   "source": [
    "##### Create a script that copies all the HTML files from the current working directory to the parent of the working directory, but only copy files that did not exist in the parent of the working directory or were newer than the versions in the parent of the working directory.\n",
    "\n",
    "##### You can consider that all HTML files have the extension `.html`\n",
    "\n",
    "#### Repo:\n",
    "\n",
    "* GitHub repository: `alx-system_engineering-devops`\n",
    "* Directory: `0x00-shell_basics`\n",
    "* File: `14-copy_html`"
   ]
  },
  {
   "cell_type": "code",
   "execution_count": 61,
   "metadata": {},
   "outputs": [
    {
     "name": "stdout",
     "output_type": "stream",
     "text": [
      "Overwriting 0x00-shell_basics/14-copy_html\n"
     ]
    }
   ],
   "source": [
    "%%file 0x00-shell_basics/14-copy_html\n",
    "#!/bin/bash\n",
    "cp -u  *.html .."
   ]
  },
  {
   "cell_type": "code",
   "execution_count": 62,
   "metadata": {},
   "outputs": [
    {
     "name": "stderr",
     "output_type": "stream",
     "text": [
      "cp: cannot stat '*.html': No such file or directory\n"
     ]
    },
    {
     "name": "stdout",
     "output_type": "stream",
     "text": [
      "total 80\n",
      "drwxr-xr-x  4 elkomy elkomy  4096 Feb 28 00:38 .\n",
      "drwxr-xr-x 17 elkomy elkomy  4096 Feb 28 00:39 ..\n",
      "drwxr-xr-x  8 elkomy elkomy  4096 Feb 28 00:42 .git\n",
      "-rw-r--r--  1 elkomy elkomy    11 Feb 10 18:55 .gitignore\n",
      "drwxr-xr-x  2 elkomy elkomy  4096 Feb 28 00:37 0x00-shell_basics\n",
      "-rw-r--r--  1 elkomy elkomy   554 Feb 24 22:01 README.md\n",
      "lrwxrwxrwx  1 elkomy elkomy     7 Feb 28 00:25 __ls__ -> /bin/ls\n",
      "-rw-r--r--  1 elkomy elkomy 56901 Feb 28 00:43 alx-system_engineering-devops.ipynb\n",
      "-rw-r--r--  1 elkomy elkomy     0 Feb 28 00:43 test.HTML\n"
     ]
    }
   ],
   "source": [
    "%%bash\n",
    "touch ./test.HTML\n",
    "chmod u+x 0x00-shell_basics/14-copy_html\n",
    "source ./0x00-shell_basics/14-copy_html\n",
    "ls -la"
   ]
  },
  {
   "cell_type": "code",
   "execution_count": 63,
   "metadata": {},
   "outputs": [
    {
     "name": "stdout",
     "output_type": "stream",
     "text": [
      "[main e386718] 14-copy_html\n",
      " 2 files changed, 18 insertions(+), 11 deletions(-)\n"
     ]
    },
    {
     "name": "stderr",
     "output_type": "stream",
     "text": [
      "To https://github.com/elkomysara/alx-system_engineering-devops.git\n",
      "   b395211..e386718  main -> main\n"
     ]
    }
   ],
   "source": [
    "%%bash\n",
    "git add .\n",
    "git commit -m \"14-copy_html\"\n",
    "git push"
   ]
  },
  {
   "cell_type": "markdown",
   "metadata": {},
   "source": [
    "### \n",
    "\n",
    "\n",
    "---\n",
    "<center>\n",
    "<h4> 15. Let's move</h4>\n",
    "</center>\n",
    "\n",
    "---"
   ]
  },
  {
   "cell_type": "markdown",
   "metadata": {},
   "source": [
    "##### Create a script that moves all files beginning with an uppercase letter to the directory `/tmp/u`.\n",
    "\n",
    "##### You can assume that the directory `/tmp/u` will exist when we will run your script\n",
    "\n",
    "##### You can consider that all HTML files have the extension `.html`\n",
    "```bash\n",
    "ubuntu@ip-172-31-63-244:/tmp/sym$ ls -la\n",
    "total 148\n",
    "drwxrwxr-x  3 ubuntu ubuntu   4096 Sep 20 03:33 .\n",
    "drwxrwxrwt 12 root   root   139264 Sep 20 03:26 ..\n",
    "-rw-rw-r--  1 ubuntu ubuntu      0 Sep 20 03:32 My_file\n",
    "lrwxrwxrwx  1 ubuntu ubuntu      7 Sep 20 03:24 __ls__ -> /bin/ls\n",
    "-rw-rw-r--  1 ubuntu ubuntu      0 Sep 20 03:32 Elif_ym\n",
    "-rw-rw-r--  1 ubuntu ubuntu      0 Sep 20 03:32 random_file\n",
    "ubuntu@ip-172-31-63-244:/tmp/sym$ ls -la /tmp/u\n",
    "total 8\n",
    "drwxrwxr-x 2 ubuntu ubuntu 4096 Sep 20 03:33 .\n",
    "drwxrwxr-x 3 ubuntu ubuntu 4096 Sep 20 03:33 ..\n",
    "ubuntu@ip-172-31-63-244:/tmp/sym$ ./100-lets_move\n",
    "ubuntu@ip-172-31-63-244:/tmp/sym$ ls -la\n",
    "total 148\n",
    "drwxrwxr-x  3 ubuntu ubuntu   4096 Sep 20 03:33 .\n",
    "drwxrwxrwt 12 root   root   139264 Sep 20 03:26 ..\n",
    "lrwxrwxrwx  1 ubuntu ubuntu      7 Sep 20 03:24 __ls__ -> /bin/ls\n",
    "-rw-rw-r--  1 ubuntu ubuntu      0 Sep 20 03:32 random_file\n",
    "ubuntu@ip-172-31-63-244:/tmp/sym$ ls -la /tmp/u\n",
    "total 8\n",
    "drwxrwxr-x 2 ubuntu ubuntu 4096 Sep 20 03:33 .\n",
    "drwxrwxr-x 3 ubuntu ubuntu 4096 Sep 20 03:33 ..\n",
    "-rw-rw-r-- 1 ubuntu ubuntu    0 Sep 20 03:32 My_file\n",
    "-rw-rw-r-- 1 ubuntu ubuntu    0 Sep 20 03:32 Elif_ym\n",
    "```\n",
    "\n",
    "#### Repo:\n",
    "\n",
    "* GitHub repository: `alx-system_engineering-devops`\n",
    "* Directory: `0x00-shell_basics`\n",
    "* File: `100-lets_move`"
   ]
  },
  {
   "cell_type": "code",
   "execution_count": 64,
   "metadata": {},
   "outputs": [
    {
     "name": "stdout",
     "output_type": "stream",
     "text": [
      "Writing 0x00-shell_basics/100-lets_move\n"
     ]
    }
   ],
   "source": [
    "%%file 0x00-shell_basics/100-lets_move\n",
    "#!/bin/bash\n",
    "mv [[:upper:]]* /tmp/u/"
   ]
  },
  {
   "cell_type": "code",
   "execution_count": 65,
   "metadata": {},
   "outputs": [
    {
     "name": "stderr",
     "output_type": "stream",
     "text": [
      "mv: cannot move 'README.md' to '/tmp/u/': Not a directory\n"
     ]
    },
    {
     "name": "stdout",
     "output_type": "stream",
     "text": [
      "total 84\n",
      "drwxr-xr-x  4 elkomy elkomy  4096 Feb 28 00:38 .\n",
      "drwxr-xr-x 17 elkomy elkomy  4096 Feb 28 00:39 ..\n",
      "drwxr-xr-x  8 elkomy elkomy  4096 Feb 28 00:43 .git\n",
      "-rw-r--r--  1 elkomy elkomy    11 Feb 10 18:55 .gitignore\n",
      "drwxr-xr-x  2 elkomy elkomy  4096 Feb 28 00:49 0x00-shell_basics\n",
      "-rw-r--r--  1 elkomy elkomy   554 Feb 24 22:01 README.md\n",
      "lrwxrwxrwx  1 elkomy elkomy     7 Feb 28 00:25 __ls__ -> /bin/ls\n",
      "-rw-r--r--  1 elkomy elkomy 61343 Feb 28 00:49 alx-system_engineering-devops.ipynb\n",
      "-rw-r--r--  1 elkomy elkomy     0 Feb 28 00:49 test.HTML\n"
     ]
    }
   ],
   "source": [
    "%%bash\n",
    "touch ./test.HTML\n",
    "chmod u+x 0x00-shell_basics/100-lets_move\n",
    "source ./0x00-shell_basics/100-lets_move\n",
    "ls -la"
   ]
  },
  {
   "cell_type": "code",
   "execution_count": 66,
   "metadata": {},
   "outputs": [
    {
     "name": "stdout",
     "output_type": "stream",
     "text": [
      "[main 34a8c29] 100-lets_move\n",
      " 2 files changed, 150 insertions(+), 4 deletions(-)\n",
      " create mode 100755 0x00-shell_basics/100-lets_move\n"
     ]
    },
    {
     "name": "stderr",
     "output_type": "stream",
     "text": [
      "To https://github.com/elkomysara/alx-system_engineering-devops.git\n",
      "   e386718..34a8c29  main -> main\n"
     ]
    }
   ],
   "source": [
    "%%bash\n",
    "git add .\n",
    "git commit -m \"100-lets_move\"\n",
    "git push"
   ]
  },
  {
   "cell_type": "markdown",
   "metadata": {},
   "source": [
    "### \n",
    "\n",
    "\n",
    "---\n",
    "<center>\n",
    "<h4> 16. Clean Emacs</h4>\n",
    "</center>\n",
    "\n",
    "---"
   ]
  },
  {
   "cell_type": "markdown",
   "metadata": {},
   "source": [
    "##### Create a script that deletes all files in the current working directory that end with the character `~`.\n",
    "\n",
    "\n",
    "```bash\n",
    "ubuntu@ip-172-31-63-244:/tmp/sym$ ls\n",
    "main.c  main.c~  Makefile~\n",
    "ubuntu@ip-172-31-63-244:/tmp/sym$ ./101-clean_emacs\n",
    "ubuntu@ip-172-31-63-244:/tmp/emacs$ ls\n",
    "main.c\n",
    "ubuntu@ip-172-31-63-244:/tmp/emacs$ ```\n",
    "\n",
    "#### Repo:\n",
    "\n",
    "* GitHub repository: `alx-system_engineering-devops`\n",
    "* Directory: `0x00-shell_basics`\n",
    "* File: `101-clean_emacs`"
   ]
  },
  {
   "cell_type": "code",
   "execution_count": 67,
   "metadata": {},
   "outputs": [
    {
     "name": "stdout",
     "output_type": "stream",
     "text": [
      "Writing 0x00-shell_basics/101-clean_emacs\n"
     ]
    }
   ],
   "source": [
    "%%file 0x00-shell_basics/101-clean_emacs\n",
    "#!/bin/bash\n",
    "rm *~"
   ]
  },
  {
   "cell_type": "code",
   "execution_count": 68,
   "metadata": {},
   "outputs": [
    {
     "name": "stderr",
     "output_type": "stream",
     "text": [
      "rm: cannot remove '*~': No such file or directory\n"
     ]
    },
    {
     "name": "stdout",
     "output_type": "stream",
     "text": [
      "total 88\n",
      "drwxr-xr-x  4 elkomy elkomy  4096 Feb 28 00:38 .\n",
      "drwxr-xr-x 17 elkomy elkomy  4096 Feb 28 00:39 ..\n",
      "drwxr-xr-x  8 elkomy elkomy  4096 Feb 28 00:50 .git\n",
      "-rw-r--r--  1 elkomy elkomy    11 Feb 10 18:55 .gitignore\n",
      "drwxr-xr-x  2 elkomy elkomy  4096 Feb 28 00:56 0x00-shell_basics\n",
      "-rw-r--r--  1 elkomy elkomy   554 Feb 24 22:01 README.md\n",
      "lrwxrwxrwx  1 elkomy elkomy     7 Feb 28 00:25 __ls__ -> /bin/ls\n",
      "-rw-r--r--  1 elkomy elkomy 64487 Feb 28 00:56 alx-system_engineering-devops.ipynb\n",
      "-rw-r--r--  1 elkomy elkomy     0 Feb 28 00:56 test.HTML\n"
     ]
    }
   ],
   "source": [
    "%%bash\n",
    "touch ./test.HTML\n",
    "chmod u+x 0x00-shell_basics/101-clean_emacs\n",
    "source ./0x00-shell_basics/101-clean_emacs\n",
    "ls -la"
   ]
  },
  {
   "cell_type": "code",
   "execution_count": 69,
   "metadata": {},
   "outputs": [
    {
     "name": "stdout",
     "output_type": "stream",
     "text": [
      "[main 7631878] 101-clean_emacs\n",
      " 2 files changed, 130 insertions(+), 4 deletions(-)\n",
      " create mode 100755 0x00-shell_basics/101-clean_emacs\n"
     ]
    },
    {
     "name": "stderr",
     "output_type": "stream",
     "text": [
      "To https://github.com/elkomysara/alx-system_engineering-devops.git\n",
      "   34a8c29..7631878  main -> main\n"
     ]
    }
   ],
   "source": [
    "%%bash\n",
    "git add .\n",
    "git commit -m \"101-clean_emacs\"\n",
    "git push"
   ]
  },
  {
   "cell_type": "markdown",
   "metadata": {},
   "source": [
    "### \n",
    "\n",
    "\n",
    "---\n",
    "<center>\n",
    "<h4> 17. Tree</h4>\n",
    "</center>\n",
    "\n",
    "---"
   ]
  },
  {
   "cell_type": "markdown",
   "metadata": {},
   "source": [
    "##### Create a script that creates the directories` welcome/`, `welcome/to/` and `welcome/to/school` in the current directory.\n",
    "\n",
    "##### You are only allowed to use two spaces (and lines) in your script, not more.\n",
    "\n",
    "\n",
    "```bash\n",
    "julien@ubuntu:/tmp/h$ ls -l\n",
    "total 4\n",
    "-rwxrw-r-- 1 julien julien 44 Sep 20 12:09 102-tree\n",
    "julien@ubuntu:/tmp/h$ wc -l 102-tree \n",
    "2 102-tree\n",
    "julien@ubuntu:/tmp/h$ head -1 102-tree \n",
    "#!/bin/bash\n",
    "julien@ubuntu:/tmp/h$ tr -cd ' ' < 102-tree | wc -c # you do not have to understand this yet, but the result should be 2, 1 or 0\n",
    "2\n",
    "julien@ubuntu:/tmp/h$ ./102-tree \n",
    "julien@ubuntu:/tmp/h$ ls\n",
    "102-tree  welcome\n",
    "julien@ubuntu:/tmp/h$ ls welcome/\n",
    "to\n",
    "julien@ubuntu:/tmp/h$ ls -l welcome/to\n",
    "total 4\n",
    "drwxrwxr-x 2 julien julien 4096 Sep 20 12:11 school\n",
    "julien@ubuntu:/tmp/h$ \n",
    " ```\n",
    "\n",
    "#### Repo:\n",
    "\n",
    "* GitHub repository: `alx-system_engineering-devops`\n",
    "* Directory: `0x00-shell_basics`\n",
    "* File: `102-tree`"
   ]
  },
  {
   "cell_type": "code",
   "execution_count": 85,
   "metadata": {},
   "outputs": [],
   "source": [
    "#create multiple nested folders by adding the -p \n",
    "# –p option ensures that intermediate directories are created"
   ]
  },
  {
   "cell_type": "code",
   "execution_count": 86,
   "metadata": {},
   "outputs": [
    {
     "name": "stdout",
     "output_type": "stream",
     "text": [
      "Overwriting 0x00-shell_basics/102-tree\n"
     ]
    }
   ],
   "source": [
    "%%file 0x00-shell_basics/102-tree\n",
    "#!/bin/bash\n",
    "mkdir -p welcome/to/school"
   ]
  },
  {
   "cell_type": "code",
   "execution_count": 87,
   "metadata": {},
   "outputs": [],
   "source": [
    "%%bash\n",
    "touch ./test.HTML\n",
    "chmod u+x 0x00-shell_basics/102-tree\n",
    "source ./0x00-shell_basics/102-tree\n",
    "ls welcome/to/school/"
   ]
  },
  {
   "cell_type": "code",
   "execution_count": 89,
   "metadata": {},
   "outputs": [
    {
     "name": "stdout",
     "output_type": "stream",
     "text": [
      "[main 79a006e] 102-tree\n",
      " 1 file changed, 4 insertions(+), 4 deletions(-)\n"
     ]
    },
    {
     "name": "stderr",
     "output_type": "stream",
     "text": [
      "To https://github.com/elkomysara/alx-system_engineering-devops.git\n",
      "   c6a7b42..79a006e  main -> main\n"
     ]
    }
   ],
   "source": [
    "%%bash\n",
    "git add .\n",
    "git commit -m \"102-tree\"\n",
    "git push"
   ]
  },
  {
   "cell_type": "markdown",
   "metadata": {},
   "source": [
    "### \n",
    "\n",
    "\n",
    "---\n",
    "<center>\n",
    "<h4> 18. Life is a series of commas, not periods</h4>\n",
    "</center>\n",
    "\n",
    "---"
   ]
  },
  {
   "cell_type": "markdown",
   "metadata": {},
   "source": [
    "##### Write a command that lists all the files and directories of the current directory, separated by commas `(,)`.\n",
    "\n",
    "* Directory names should end with a slash (/)\n",
    "* Files and directories starting with a dot (.) should be listed\n",
    "* The listing should be alpha ordered, except for the directories . and .. which should be listed at the very beginning\n",
    "* Only digits and letters are used to sort; Digits should come first\n",
    "* You can assume that all the files we will test with will have at least one letter or one digit\n",
    "* The listing should end with a new line\n",
    "\n",
    "\n",
    "```bash\n",
    "ubuntu@ubuntu:~/$ ls -a\n",
    "\n",
    ".  ..  0-commas  0-commas-checks  1-empty_casks  2-gifs  3-directories  4-zeros  5-rot13  6-odd  7-sort_rot13  Makefile  quote  .test  test_dir  test.var\n",
    "\n",
    "ubuntu@ubuntu:~/$ ./103-commas\n",
    "\n",
    "./, ../, 0-commas, 0-commas-checks/, 1-empty_casks, 2-gifs, 3-directories, 4-zeros, 5-rot13, 6-odd, 7-sort_rot13, Makefile, quote, .test, test_dir/, test.var\n",
    "\n",
    "ubuntu@ubuntu:~/$\n",
    "\n",
    "#### Repo:\n",
    "\n",
    "* GitHub repository: `alx-system_engineering-devops`\n",
    "* Directory: `0x00-shell_basics`\n",
    "* File: `103-commas`"
   ]
  },
  {
   "cell_type": "code",
   "execution_count": null,
   "metadata": {},
   "outputs": [],
   "source": []
  },
  {
   "cell_type": "code",
   "execution_count": 90,
   "metadata": {},
   "outputs": [
    {
     "name": "stdout",
     "output_type": "stream",
     "text": [
      "Writing 0x00-shell_basics/103-commas\n"
     ]
    }
   ],
   "source": [
    "%%file 0x00-shell_basics/103-commas\n",
    "#!/bin/bash\n",
    "ls -axmp"
   ]
  },
  {
   "cell_type": "code",
   "execution_count": 91,
   "metadata": {},
   "outputs": [
    {
     "name": "stdout",
     "output_type": "stream",
     "text": [
      "./, ../, .git/, .gitignore, 0x00-shell_basics/, README.md, __ls__,\n",
      "alx-system_engineering-devops.ipynb, test.HTML, welcome/\n"
     ]
    }
   ],
   "source": [
    "%%bash\n",
    "chmod u+x 0x00-shell_basics/103-commas\n",
    "source ./0x00-shell_basics/103-commas\n"
   ]
  },
  {
   "cell_type": "code",
   "execution_count": 92,
   "metadata": {},
   "outputs": [
    {
     "name": "stdout",
     "output_type": "stream",
     "text": [
      "[main f0c6483] 103-commas\n",
      " 2 files changed, 128 insertions(+), 4 deletions(-)\n",
      " create mode 100755 0x00-shell_basics/103-commas\n"
     ]
    },
    {
     "name": "stderr",
     "output_type": "stream",
     "text": [
      "To https://github.com/elkomysara/alx-system_engineering-devops.git\n",
      "   79a006e..f0c6483  main -> main\n"
     ]
    }
   ],
   "source": [
    "%%bash\n",
    "git add .\n",
    "git commit -m \"103-commas\"\n",
    "git push"
   ]
  },
  {
   "cell_type": "markdown",
   "metadata": {},
   "source": [
    "### \n",
    "\n",
    "\n",
    "---\n",
    "<center>\n",
    "<h4> 19.File type: School</h4>\n",
    "</center>\n",
    "\n",
    "---"
   ]
  },
  {
   "cell_type": "markdown",
   "metadata": {},
   "source": [
    "##### Create a magic file school.mgc that can be used with the command file to detect School data files. School data files always contain the string SCHOOL at offset 0.\n",
    "\n",
    "\n",
    "```bash\n",
    "ubuntu@ip-172-31-63-244:/tmp/magic$ cp /bin/ls .\n",
    "ubuntu@ip-172-31-63-244:/tmp/magic$ ls -la\n",
    "total 268\n",
    "drwxrwxr-x  2 ubuntu ubuntu   4096 Sep 20 02:44 .\n",
    "drwxrwxrwt 11 root   root   139264 Sep 20 02:44 ..\n",
    "-rw-r--r--  1 ubuntu ubuntu    496 Sep 20 02:42 school.mgc\n",
    "-rwxr-xr-x  1 ubuntu ubuntu 110080 Sep 20 02:43 ls\n",
    "-rw-rw-r--  1 ubuntu ubuntu     50 Sep 20 02:06 thisisaschoolfile\n",
    "-rw-rw-r--  1 ubuntu ubuntu     30 Sep 20 02:16 thisisatextfile\n",
    "ubuntu@ip-172-31-63-244:/tmp/magic$ file --mime-type -m school.mgc *\n",
    "school.mgc:         application/octet-stream\n",
    "ls:                    application/octet-stream\n",
    "thisisaschoolfile: School\n",
    "thisisatextfile:       text/plain\n",
    "ubuntu@ip-172-31-63-244:/tmp/magic$ file -m school.mgc *\n",
    "school.mgc:         data\n",
    "ls:                    data\n",
    "thisisaschoolfile: School data\n",
    "thisisatextfile:       ASCII text\n",
    "ubuntu@ip-172-31-63-244:/tmp/magic$\n",
    "```\n",
    "\n",
    "#### Repo:\n",
    "\n",
    "* GitHub repository: `alx-system_engineering-devops`\n",
    "* Directory: `0x00-shell_basics`\n",
    "* File: `104-school.mgc`"
   ]
  },
  {
   "cell_type": "code",
   "execution_count": 5,
   "metadata": {},
   "outputs": [
    {
     "name": "stdout",
     "output_type": "stream",
     "text": [
      "Overwriting 0x00-shell_basics/school.mgc\n"
     ]
    }
   ],
   "source": [
    "%%file 0x00-shell_basics/school.mgc\n",
    "0 string SCHOOL School data\n",
    "!:mime School\n"
   ]
  },
  {
   "cell_type": "code",
   "execution_count": 4,
   "metadata": {},
   "outputs": [],
   "source": [
    "%%bash\n",
    "file -C -m 0x00-shell_basics/school.mgc\n"
   ]
  },
  {
   "cell_type": "code",
   "execution_count": 59,
   "metadata": {},
   "outputs": [],
   "source": [
    "%%bash\n",
    "file -C -m 0x00-shell_basics/school.mgc "
   ]
  },
  {
   "cell_type": "code",
   "execution_count": 21,
   "metadata": {},
   "outputs": [
    {
     "name": "stdout",
     "output_type": "stream",
     "text": [
      "Writing 0x00-shell_basics/thisisaschoolfile\n"
     ]
    }
   ],
   "source": [
    "%%file 0x00-shell_basics/thisisaschoolfile \n",
    "SCHOOL schools"
   ]
  },
  {
   "cell_type": "code",
   "execution_count": 22,
   "metadata": {},
   "outputs": [
    {
     "name": "stdout",
     "output_type": "stream",
     "text": [
      "Writing 0x00-shell_basics/thisisatextfile\n"
     ]
    }
   ],
   "source": [
    "%%file 0x00-shell_basics/thisisatextfile\n",
    "thisisatextfile"
   ]
  },
  {
   "cell_type": "code",
   "execution_count": 49,
   "metadata": {},
   "outputs": [
    {
     "name": "stdout",
     "output_type": "stream",
     "text": [
      "0x00-shell_basics/thisisaschoolfile: ASCII text\n",
      "0x00-shell_basics/thisisatextfile:   ASCII text\n"
     ]
    }
   ],
   "source": [
    "%%bash\n",
    "file 0x00-shell_basics/thisisaschoolfile 0x00-shell_basics/thisisatextfile"
   ]
  },
  {
   "cell_type": "code",
   "execution_count": 52,
   "metadata": {},
   "outputs": [
    {
     "name": "stdout",
     "output_type": "stream",
     "text": [
      "[main 77198b0] 104-school.mgc\n",
      " 2 files changed, 4 insertions(+), 7 deletions(-)\n"
     ]
    },
    {
     "name": "stderr",
     "output_type": "stream",
     "text": [
      "To https://github.com/elkomysara/alx-system_engineering-devops.git\n",
      "   310095c..77198b0  main -> main\n"
     ]
    }
   ],
   "source": [
    "%%bash\n",
    "git add .\n",
    "git commit -m \"104-school.mgc\"\n",
    "git push"
   ]
  },
  {
   "cell_type": "markdown",
   "metadata": {},
   "source": [
    "### NEXT <code> alx-system_engineering-devops </code>"
   ]
  },
  {
   "cell_type": "code",
   "execution_count": 2,
   "metadata": {},
   "outputs": [],
   "source": [
    "import os\n",
    "# creating alx-zero_day folder\n",
    "\n",
    "folder_path = r'C:/Users/komy2/OneDrive/Desktop/AlxSE/Repos/alx-system_engineering-devops'\n",
    "if not os.path.exists(folder_path):\n",
    "    os.makedirs(folder_path)\n",
    "\n",
    "# Create a README.md inside alx-zero_day\n",
    "file_path = os.path.join(folder_path, 'README.md')\n",
    "\n",
    "with open(file_path, 'w') as file:\n",
    "    file.write(\"This is a mandatory file\")"
   ]
  },
  {
   "cell_type": "code",
   "execution_count": 5,
   "metadata": {},
   "outputs": [
    {
     "ename": "NameError",
     "evalue": "name 'alx' is not defined",
     "output_type": "error",
     "traceback": [
      "\u001b[1;31m---------------------------------------------------------------------------\u001b[0m",
      "\u001b[1;31mNameError\u001b[0m                                 Traceback (most recent call last)",
      "Cell \u001b[1;32mIn[5], line 11\u001b[0m\n\u001b[0;32m      7\u001b[0m dest_folder \u001b[38;5;241m=\u001b[39m \u001b[38;5;124m\"\u001b[39m\u001b[38;5;124mC:/Users/komy2/OneDrive/Desktop/AlxSE/Repos/alx-system_engineering-devops\u001b[39m\u001b[38;5;124m\"\u001b[39m\n\u001b[0;32m      9\u001b[0m shutil\u001b[38;5;241m.\u001b[39mcopy(source_file, dest_folder)\n\u001b[1;32m---> 11\u001b[0m os\u001b[38;5;241m.\u001b[39mrename(source_file,\u001b[43malx\u001b[49m\u001b[38;5;241m-\u001b[39msystem_engineering\u001b[38;5;241m-\u001b[39mdevops\u001b[38;5;241m.\u001b[39mipynb)\n",
      "\u001b[1;31mNameError\u001b[0m: name 'alx' is not defined"
     ]
    }
   ],
   "source": [
    "import shutil\n",
    "import os\n",
    "\n",
    "# copy the ipynb file from zero_day to alx-zero_day\n",
    "\n",
    "source_file = \"C:/Users/komy2/OneDrive/Desktop/AlxSE/Repos/alx-zero_day/alx-zero_day.ipynb\"  \n",
    "dest_folder = \"C:/Users/komy2/OneDrive/Desktop/AlxSE/Repos/alx-system_engineering-devops\"\n",
    "\n",
    "shutil.copy(source_file, dest_folder)\n",
    "\n",
    "os.rename(source_file,r\"alx-system_engineering-devops.ipynb\")"
   ]
  },
  {
   "cell_type": "code",
   "execution_count": 7,
   "metadata": {},
   "outputs": [
    {
     "name": "stdout",
     "output_type": "stream",
     "text": [
      "Microsoft Windows [Version 10.0.22631.3007]\n",
      "(c) Microsoft Corporation. All rights reserved.\n",
      "\n",
      "(c:\\Users\\komy2\\OneDrive\\Desktop\\AlxSE\\Repos\\zero_day\\.conda) c:\\Users\\komy2\\OneDrive\\Desktop\\AlxSE\\Repos\\zero_day>copy \"C:/Users/komy2/OneDrive/Desktop/AlxSE/Repos/zero_day/zero_day.ipynb\" \"C:/Users/komy2/OneDrive/Desktop/AlxSE/Repos/alx-zero_day\"\n",
      "        1 file(s) copied.\n",
      "\n",
      "(c:\\Users\\komy2\\OneDrive\\Desktop\\AlxSE\\Repos\\zero_day\\.conda) c:\\Users\\komy2\\OneDrive\\Desktop\\AlxSE\\Repos\\zero_day>"
     ]
    }
   ],
   "source": [
    "%%cmd\n",
    "copy \"C:/Users/komy2/OneDrive/Desktop/AlxSE/Repos/alx-zero_day/alx-zero_day.ipynb\" \"C:/Users/komy2/OneDrive/Desktop/AlxSE/Repos/alx-system_engineering-devops\"\n"
   ]
  },
  {
   "cell_type": "code",
   "execution_count": 10,
   "metadata": {},
   "outputs": [],
   "source": [
    "\n",
    "!cp \"C:/Users/komy2/OneDrive/Desktop/AlxSE/Repos/zero_day/zero_day.ipynb\" \"C:/Users/komy2/OneDrive/Desktop/AlxSE/Repos/alx-zero_day\"\n"
   ]
  },
  {
   "cell_type": "code",
   "execution_count": null,
   "metadata": {},
   "outputs": [],
   "source": []
  }
 ],
 "metadata": {
  "kernelspec": {
   "display_name": "Python 3",
   "language": "python",
   "name": "python3"
  },
  "language_info": {
   "codemirror_mode": {
    "name": "ipython",
    "version": 3
   },
   "file_extension": ".py",
   "mimetype": "text/x-python",
   "name": "python",
   "nbconvert_exporter": "python",
   "pygments_lexer": "ipython3",
   "version": "3.11.7"
  }
 },
 "nbformat": 4,
 "nbformat_minor": 2
}
