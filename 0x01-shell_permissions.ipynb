{
 "cells": [
  {
   "cell_type": "markdown",
   "metadata": {},
   "source": [
    "---\n",
    "<center>\n",
    "<h1>  alx-system_engineering-devops </h1>\n",
    "</center>\n",
    "\n",
    "---\n"
   ]
  },
  {
   "cell_type": "code",
   "execution_count": null,
   "metadata": {},
   "outputs": [
    {
     "name": "stdout",
     "output_type": "stream",
     "text": [
      "Reinitialized existing Git repository in /home/elkomy/alx-system_engineering-devops/.git/\n",
      "[main 65cddee] first commit\n",
      " 6 files changed, 2939 insertions(+), 21 deletions(-)\n",
      " rename alx-system_engineering-devops.ipynb => 0x00-shell_basics.ipynb (99%)\n",
      " create mode 100644 0x01-shell_permissions.ipynb\n",
      " create mode 100644 0x01-shell_permissions/README.md\n",
      " rewrite README.md (100%)\n",
      " delete mode 120000 __ls__\n"
     ]
    },
    {
     "name": "stdout",
     "output_type": "stream",
     "text": [
      "fatal: remote origin already exists.\n",
      "Enumerating objects: 11, done.\n",
      "Counting objects: 100% (11/11), done.\n",
      "Delta compression using up to 12 threads\n",
      "Compressing objects: 100% (5/5), done.\n",
      "Writing objects: 100% (8/8), 9.73 KiB | 9.73 MiB/s, done.\n",
      "Total 8 (delta 1), reused 0 (delta 0)\n",
      "remote: Resolving deltas: 100% (1/1), done.\u001b[K\n",
      "To https://github.com/elkomysara/alx-system_engineering-devops.git\n",
      "   77198b0..65cddee  main -> main\n",
      "Branch 'main' set up to track remote branch 'main' from 'origin'.\n",
      "fatal: remote origin already exists.\n",
      "Branch 'main' set up to track remote branch 'main' from 'origin'.\n",
      "Everything up-to-date\n"
     ]
    }
   ],
   "source": [
    "\n",
    "#create a new repository on the command line\n",
    "!echo \"# alx-system_engineering-devops\" > README.md\n",
    "!git init\n",
    "!git add .\n",
    "!git commit -m \"first commit\"\n",
    "!git branch -M main\n",
    "!git remote add origin git@github.com:elkomysara/alx-system_engineering-devops.git\n",
    "!git push -u origin main\n",
    "# #push an existing repository from the command line\n",
    "!git remote add origin git@github.com:elkomysara/alx-system_engineering-devops.git\n",
    "!git branch -M main\n",
    "!git push -u origin main"
   ]
  },
  {
   "cell_type": "code",
   "execution_count": 9,
   "metadata": {},
   "outputs": [
    {
     "name": "stdout",
     "output_type": "stream",
     "text": [
      "Overwriting README.md\n"
     ]
    }
   ],
   "source": [
    "%%file README.md\n",
    "\n",
    "## alx-system_engineering-devops/0x00-shell_basics\n",
    "## alx-system_engineering-devops/0x01-shell_permissions"
   ]
  },
  {
   "cell_type": "code",
   "execution_count": null,
   "metadata": {},
   "outputs": [],
   "source": [
    "import os\n",
    "# creating 0x01. Shell, permissions\n",
    "\n",
    "folder_path = r'/home/elkomy/alx-system_engineering-devops/0x01-shell_permissions'\n",
    "if not os.path.exists(folder_path):\n",
    "    os.makedirs(folder_path)\n",
    "\n",
    "# Create a README.md inside 0x00-shell_basics\n",
    "file_path = os.path.join(folder_path, 'README.md')\n",
    "\n",
    "with open(file_path, 'w') as file:\n",
    "    file.write(\"This is a README.md file inside alx-system_engineering-devops/0x01-shell_permissions\")\n",
    "\n"
   ]
  },
  {
   "cell_type": "code",
   "execution_count": 6,
   "metadata": {},
   "outputs": [
    {
     "name": "stdout",
     "output_type": "stream",
     "text": [
      "Overwriting 0x01-shell_permissions/README.md\n"
     ]
    }
   ],
   "source": [
    "%%file 0x01-shell_permissions/README.md\n",
    "## alx-system_engineering-devops/0x01-shell_permissions"
   ]
  },
  {
   "cell_type": "code",
   "execution_count": null,
   "metadata": {},
   "outputs": [
    {
     "name": "stdout",
     "output_type": "stream",
     "text": [
      "[main e4c0f50] commiting the alx-system_devops-engineering README.md file\n",
      " 2 files changed, 42 insertions(+), 28 deletions(-)\n",
      "Enumerating objects: 7, done.\n",
      "Counting objects: 100% (7/7), done.\n",
      "Delta compression using up to 12 threads\n",
      "Compressing objects: 100% (4/4), done.\n",
      "Writing objects: 100% (4/4), 843 bytes | 843.00 KiB/s, done.\n",
      "Total 4 (delta 2), reused 0 (delta 0)\n",
      "remote: Resolving deltas: 100% (2/2), completed with 2 local objects.\u001b[K\n",
      "To https://github.com/elkomysara/alx-system_engineering-devops.git\n",
      "   154bd60..e4c0f50  main -> main\n",
      "Branch 'main' set up to track remote branch 'main' from 'origin'.\n"
     ]
    }
   ],
   "source": [
    "\n",
    "!git add .\n",
    "!git commit -m \"\"\n",
    "!git push -u origin main"
   ]
  },
  {
   "cell_type": "code",
   "execution_count": 8,
   "metadata": {},
   "outputs": [
    {
     "name": "stdout",
     "output_type": "stream",
     "text": [
      "Already up to date.\n"
     ]
    },
    {
     "name": "stdout",
     "output_type": "stream",
     "text": [
      "Everything up-to-date\n"
     ]
    }
   ],
   "source": [
    "!git pull\n",
    "!git push"
   ]
  },
  {
   "cell_type": "markdown",
   "metadata": {},
   "source": [
    "###\n",
    "---\n",
    "<center>\n",
    "<h1>  0x01. Shell, permissions  </h1>\n",
    "</center>\n",
    "\n",
    "---\n"
   ]
  },
  {
   "cell_type": "markdown",
   "metadata": {},
   "source": [
    "###\n",
    "---\n",
    "<center>\n",
    "<h4>  0. My name is Betty </h4>\n",
    "</center>\n",
    "\n",
    "---"
   ]
  },
  {
   "cell_type": "markdown",
   "metadata": {},
   "source": [
    "\n",
    "#### Create a script that switches the current user to the user betty. \n",
    "* You should use exactly 8 characters for your command (+1 character for the new line)\n",
    "* You can assume that the user betty will exist when we will run your script\n",
    "\n",
    "```bash\n",
    "julien@ubuntu:/tmp/h$ tail -1 0-iam_betty | wc -c\n",
    "9\n",
    "julien@ubuntu:/tmp/h$\n",
    "```\n",
    "\n",
    "\n",
    "#### Repo:\n",
    "* GitHub repository: ``` alx-system_engineering-devops ```\n",
    "* Directory: <code> 0x01-shell_permissions </code>\n",
    "* File: <code>  0-iam_betty</code>"
   ]
  },
  {
   "cell_type": "code",
   "execution_count": 8,
   "metadata": {},
   "outputs": [
    {
     "name": "stdout",
     "output_type": "stream",
     "text": [
      "Overwriting 0x01-shell_permissions/0-iam_betty\n"
     ]
    }
   ],
   "source": [
    "%%file 0x01-shell_permissions/0-iam_betty\n",
    "#!/bin/bash\n",
    "su betty\n"
   ]
  },
  {
   "cell_type": "code",
   "execution_count": 2,
   "metadata": {},
   "outputs": [],
   "source": [
    "!chmod u+x /home/elkomy/alx-system_engineering-devops/0x01-shell_permissions/0-iam_betty"
   ]
  },
  {
   "cell_type": "code",
   "execution_count": 4,
   "metadata": {},
   "outputs": [
    {
     "name": "stdout",
     "output_type": "stream",
     "text": [
      "#!/bin/bash\n",
      "su -betty\n"
     ]
    }
   ],
   "source": [
    "!cat 0x01-shell_permissions/0-iam_betty"
   ]
  },
  {
   "cell_type": "code",
   "execution_count": 9,
   "metadata": {},
   "outputs": [
    {
     "name": "stdout",
     "output_type": "stream",
     "text": [
      "9\n"
     ]
    }
   ],
   "source": [
    "%%bash\n",
    "tail -1 0x01-shell_permissions/0-iam_betty | wc -c"
   ]
  },
  {
   "cell_type": "code",
   "execution_count": 6,
   "metadata": {},
   "outputs": [
    {
     "name": "stdout",
     "output_type": "stream",
     "text": [
      "[main 375e218] commit 0-current_working_directory\n",
      " 3 files changed, 138 insertions(+), 112 deletions(-)\n",
      " create mode 100755 0x01-shell_permissions/0-iam_betty\n",
      "Enumerating objects: 10, done.\n",
      "Counting objects: 100% (10/10), done.\n",
      "Delta compression using up to 12 threads\n",
      "Compressing objects: 100% (5/5), done.\n",
      "Writing objects: 100% (6/6), 2.36 KiB | 2.36 MiB/s, done.\n",
      "Total 6 (delta 2), reused 0 (delta 0)\n",
      "remote: Resolving deltas: 100% (2/2), completed with 2 local objects.\u001b[K\n",
      "To https://github.com/elkomysara/alx-system_engineering-devops.git\n",
      "   65cddee..375e218  main -> main\n",
      "Branch 'main' set up to track remote branch 'main' from 'origin'.\n"
     ]
    }
   ],
   "source": [
    "\n",
    "!git add .\n",
    "!git commit -m \"commit 0-current_working_directory\"\n",
    "!git push -u origin main"
   ]
  },
  {
   "cell_type": "markdown",
   "metadata": {},
   "source": [
    "###\n",
    "---\n",
    "<center>\n",
    "<h4> 1. Who am I </h4>\n",
    "</center>\n",
    "\n",
    "---\n"
   ]
  },
  {
   "cell_type": "markdown",
   "metadata": {},
   "source": [
    "* Write a script that prints the effective username of the current user.\n",
    "* Example:\n",
    "    ```bash\n",
    "    julien@ubuntu:/tmp/h$ ./1-who_am_i\n",
    "    julien\n",
    "    julien@ubuntu:/tmp/h$ \n",
    "    ```\n",
    "\n",
    "* Repo:\n",
    "\n",
    "    * GitHub repository: <code > alx-system_engineering-devops </code>\n",
    "    * Directory: <code > 0x01-shell_permissions </code>\n",
    "    * File: <code >  File: 1-who_am_i </code>\n",
    "   "
   ]
  },
  {
   "cell_type": "code",
   "execution_count": 1,
   "metadata": {},
   "outputs": [
    {
     "name": "stdout",
     "output_type": "stream",
     "text": [
      "Writing 0x01-shell_permissions/1-who_am_i\n"
     ]
    }
   ],
   "source": [
    "%%file 0x01-shell_permissions/1-who_am_i\n",
    "#!/bin/bash\n",
    "whoami"
   ]
  },
  {
   "cell_type": "code",
   "execution_count": 2,
   "metadata": {},
   "outputs": [],
   "source": [
    "!chmod u+x /home/elkomy/alx-system_engineering-devops/0x01-shell_permissions/1-who_am_i"
   ]
  },
  {
   "cell_type": "code",
   "execution_count": 4,
   "metadata": {},
   "outputs": [
    {
     "name": "stdout",
     "output_type": "stream",
     "text": [
      "#!/bin/bash\n",
      "whoami\n"
     ]
    }
   ],
   "source": [
    "!cat 0x01-shell_permissions/1-who_am_i"
   ]
  },
  {
   "cell_type": "code",
   "execution_count": 6,
   "metadata": {},
   "outputs": [
    {
     "name": "stdout",
     "output_type": "stream",
     "text": [
      "elkomy\n"
     ]
    }
   ],
   "source": [
    "!./0x01-shell_permissions/1-who_am_i"
   ]
  },
  {
   "cell_type": "code",
   "execution_count": 8,
   "metadata": {},
   "outputs": [
    {
     "name": "stdout",
     "output_type": "stream",
     "text": [
      "[main 8cb791d] whoami\n",
      " 2 files changed, 14 insertions(+), 12 deletions(-)\n",
      "Enumerating objects: 7, done.\n",
      "Counting objects: 100% (7/7), done.\n",
      "Delta compression using up to 12 threads\n",
      "Compressing objects: 100% (4/4), done.\n",
      "Writing objects: 100% (4/4), 527 bytes | 527.00 KiB/s, done.\n",
      "Total 4 (delta 2), reused 0 (delta 0)\n",
      "remote: Resolving deltas: 100% (2/2), completed with 2 local objects.\u001b[K\n",
      "To https://github.com/elkomysara/alx-system_engineering-devops.git\n",
      "   b9277cb..8cb791d  main -> main\n",
      "Branch 'main' set up to track remote branch 'main' from 'origin'.\n"
     ]
    }
   ],
   "source": [
    "\n",
    "!git add .\n",
    "!git commit -m \"whoami\"\n",
    "!git push -u origin main"
   ]
  },
  {
   "cell_type": "markdown",
   "metadata": {},
   "source": [
    "###\n",
    "---\n",
    "<center>\n",
    "<h4> 2. Groups </h4>\n",
    "</center>\n",
    "\n",
    "---"
   ]
  },
  {
   "cell_type": "markdown",
   "metadata": {},
   "source": [
    "#### Write a script that prints all the groups the current user is part of.\n",
    "\n",
    "```bash\n",
    "julien@ubuntu:/tmp/h$ ./2-groups\n",
    "julien adm cdrom sudo dip plugdev lpadmin sambashare\n",
    "julien@ubuntu:/tmp/h$ \n",
    "```\n",
    "\n",
    "\n",
    "#### Repo:\n",
    "* GitHub repository:   <code>alx-system_engineering-devops </code>\n",
    "* Directory:   <code> 0x01-shell_permissions </code>\n",
    "* File:   <code> 2-groups</code>"
   ]
  },
  {
   "cell_type": "code",
   "execution_count": 1,
   "metadata": {},
   "outputs": [
    {
     "name": "stdout",
     "output_type": "stream",
     "text": [
      "Writing 0x01-shell_permissions/2-groups\n"
     ]
    }
   ],
   "source": [
    "%%file 0x01-shell_permissions/2-groups\n",
    "#!/bin/bash\n",
    "id -nG"
   ]
  },
  {
   "cell_type": "code",
   "execution_count": 2,
   "metadata": {},
   "outputs": [],
   "source": [
    "!chmod u+x /home/elkomy/alx-system_engineering-devops/0x01-shell_permissions/2-groups"
   ]
  },
  {
   "cell_type": "code",
   "execution_count": 3,
   "metadata": {},
   "outputs": [
    {
     "name": "stdout",
     "output_type": "stream",
     "text": [
      "elkomy adm dialout cdrom floppy sudo audio dip video plugdev netdev\n"
     ]
    }
   ],
   "source": [
    "!source ./0x01-shell_permissions/2-groups"
   ]
  },
  {
   "cell_type": "code",
   "execution_count": 4,
   "metadata": {},
   "outputs": [
    {
     "name": "stdout",
     "output_type": "stream",
     "text": [
      "#!/bin/bash\n",
      "id -nG\n"
     ]
    }
   ],
   "source": [
    "!cat 0x01-shell_permissions/2-groups"
   ]
  },
  {
   "cell_type": "code",
   "execution_count": 5,
   "metadata": {},
   "outputs": [
    {
     "name": "stdout",
     "output_type": "stream",
     "text": [
      "[main 99867fe] group\n",
      " 2 files changed, 46 insertions(+), 45 deletions(-)\n",
      " create mode 100755 0x01-shell_permissions/2-groups\n",
      "Enumerating objects: 8, done.\n",
      "Counting objects: 100% (8/8), done.\n",
      "Delta compression using up to 12 threads\n",
      "Compressing objects: 100% (4/4), done.\n",
      "Writing objects: 100% (5/5), 895 bytes | 895.00 KiB/s, done.\n",
      "Total 5 (delta 2), reused 0 (delta 0)\n",
      "remote: Resolving deltas: 100% (2/2), completed with 2 local objects.\u001b[K\n",
      "To https://github.com/elkomysara/alx-system_engineering-devops.git\n",
      "   8cb791d..99867fe  main -> main\n",
      "Branch 'main' set up to track remote branch 'main' from 'origin'.\n"
     ]
    }
   ],
   "source": [
    "!git add .\n",
    "!git commit -m \"group\"\n",
    "!git push -u origin main"
   ]
  },
  {
   "cell_type": "markdown",
   "metadata": {},
   "source": [
    "###\n",
    "---\n",
    "<center>\n",
    "<h4> 3.New owner </h4>\n",
    "</center>\n",
    "\n",
    "---"
   ]
  },
  {
   "cell_type": "markdown",
   "metadata": {},
   "source": [
    "#### Write a script that changes the owner of the file `hello` to the user `betty`.\n",
    "\n",
    "\n",
    "```bash\n",
    "julien@ubuntu:/tmp/h$ ls -l\n",
    "total 4\n",
    "-rwxrw-r-- 1 julien julien 30 Sep 20 14:23 3-new_owner\n",
    "-rw-rw-r-- 1 julien julien  0 Sep 20 14:18 hello\n",
    "julien@ubuntu:/tmp/h$ sudo ./3-new_owner \n",
    "julien@ubuntu:/tmp/h$ ls -l\n",
    "total 4\n",
    "-rwxrw-r-- 1 julien julien 30 Sep 20 14:23 3-new_owner\n",
    "-rw-rw-r-- 1 betty  julien  0 Sep 20 14:18 hello\n",
    "julien@ubuntu:/tmp/h$\n",
    "```\n",
    "\n",
    "\n",
    "#### Repo:\n",
    "* GitHub repository: `alx-system_engineering-devops`\n",
    "* Directory: `0x01-shell_permissions`\n",
    "* File: `3-new_owner`"
   ]
  },
  {
   "cell_type": "code",
   "execution_count": 1,
   "metadata": {},
   "outputs": [
    {
     "name": "stdout",
     "output_type": "stream",
     "text": [
      "Writing 0x01-shell_permissions/3-new_owner\n"
     ]
    }
   ],
   "source": [
    "%%file 0x01-shell_permissions/3-new_owner\n",
    "#!/bin/bash\n",
    "chown betty: hello"
   ]
  },
  {
   "cell_type": "code",
   "execution_count": 2,
   "metadata": {},
   "outputs": [],
   "source": [
    "%%bash\n",
    "chmod u+x /home/elkomy/alx-system_engineering-devops/0x01-shell_permissions/3-new_owner"
   ]
  },
  {
   "cell_type": "code",
   "execution_count": 3,
   "metadata": {},
   "outputs": [
    {
     "name": "stdout",
     "output_type": "stream",
     "text": [
      "#!/bin/bash\n",
      "chown betty: hello\n"
     ]
    }
   ],
   "source": [
    "!cat 0x01-shell_permissions/3-new_owner"
   ]
  },
  {
   "cell_type": "code",
   "execution_count": 4,
   "metadata": {},
   "outputs": [
    {
     "name": "stdout",
     "output_type": "stream",
     "text": [
      "chown: invalid spec: ‘betty:’\n"
     ]
    }
   ],
   "source": [
    "!./0x01-shell_permissions/3-new_owner"
   ]
  },
  {
   "cell_type": "code",
   "execution_count": 5,
   "metadata": {},
   "outputs": [
    {
     "name": "stdout",
     "output_type": "stream",
     "text": [
      "[main b1d5c23] chown betty: hello\n",
      " 2 files changed, 39 insertions(+), 37 deletions(-)\n",
      " create mode 100755 0x01-shell_permissions/3-new_owner\n",
      "Enumerating objects: 8, done.\n",
      "Counting objects: 100% (8/8), done.\n",
      "Delta compression using up to 12 threads\n",
      "Compressing objects: 100% (4/4), done.\n",
      "Writing objects: 100% (5/5), 890 bytes | 296.00 KiB/s, done.\n",
      "Total 5 (delta 3), reused 0 (delta 0)\n",
      "remote: Resolving deltas: 100% (3/3), completed with 3 local objects.\u001b[K\n",
      "To https://github.com/elkomysara/alx-system_engineering-devops.git\n",
      "   99867fe..b1d5c23  main -> main\n",
      "Branch 'main' set up to track remote branch 'main' from 'origin'.\n"
     ]
    }
   ],
   "source": [
    "!git add .\n",
    "!git commit -m \"chown betty: hello\"\n",
    "!git push -u origin main"
   ]
  },
  {
   "cell_type": "markdown",
   "metadata": {},
   "source": [
    "### \n",
    "\n",
    "\n",
    "---\n",
    "<center>\n",
    "<h4> 4. Empty! </h4>\n",
    "</center>\n",
    "\n",
    "---"
   ]
  },
  {
   "cell_type": "markdown",
   "metadata": {},
   "source": [
    "#### Write a script that creates an empty file called `hello`.\n",
    "\n",
    "\n",
    "#### Repo:\n",
    "* GitHub repository: `alx-system_engineering-devops`\n",
    "* Directory: `0x01-shell_permissions`\n",
    "* File: `4-empty`"
   ]
  },
  {
   "cell_type": "code",
   "execution_count": 6,
   "metadata": {},
   "outputs": [
    {
     "name": "stdout",
     "output_type": "stream",
     "text": [
      "Writing 0x01-shell_permissions/4-empty\n"
     ]
    }
   ],
   "source": [
    "%%file \n",
    "#!/bin/bash\n",
    "touch hello"
   ]
  },
  {
   "cell_type": "code",
   "execution_count": 7,
   "metadata": {},
   "outputs": [],
   "source": [
    "!chmod u+x 0x01-shell_permissions/4-empty"
   ]
  },
  {
   "cell_type": "code",
   "execution_count": 8,
   "metadata": {},
   "outputs": [
    {
     "name": "stdout",
     "output_type": "stream",
     "text": [
      "#!/bin/bash\n",
      "touch hello\n"
     ]
    }
   ],
   "source": [
    "!cat 0x01-shell_permissions/4-empty"
   ]
  },
  {
   "cell_type": "code",
   "execution_count": 9,
   "metadata": {},
   "outputs": [],
   "source": [
    "!./0x01-shell_permissions/4-empty"
   ]
  },
  {
   "cell_type": "code",
   "execution_count": 12,
   "metadata": {},
   "outputs": [
    {
     "name": "stdout",
     "output_type": "stream",
     "text": [
      "[main f040ad5] Hello\n",
      " 1 file changed, 28 insertions(+), 28 deletions(-)\n",
      "Enumerating objects: 5, done.\n",
      "Counting objects: 100% (5/5), done.\n",
      "Delta compression using up to 12 threads\n",
      "Compressing objects: 100% (3/3), done.\n",
      "Writing objects: 100% (3/3), 473 bytes | 473.00 KiB/s, done.\n",
      "Total 3 (delta 2), reused 0 (delta 0)\n",
      "remote: Resolving deltas: 100% (2/2), completed with 2 local objects.\u001b[K\n",
      "To https://github.com/elkomysara/alx-system_engineering-devops.git\n",
      "   9f7a3ea..f040ad5  main -> main\n",
      "Branch 'main' set up to track remote branch 'main' from 'origin'.\n"
     ]
    }
   ],
   "source": [
    "!git add .\n",
    "!git commit -m \"Hello\"\n",
    "!git push -u origin main"
   ]
  },
  {
   "cell_type": "code",
   "execution_count": 11,
   "metadata": {},
   "outputs": [],
   "source": [
    "%%bash\n",
    "./0x01-shell_permissions/4-empty"
   ]
  },
  {
   "cell_type": "code",
   "execution_count": null,
   "metadata": {},
   "outputs": [],
   "source": []
  },
  {
   "cell_type": "markdown",
   "metadata": {},
   "source": [
    "### \n",
    "\n",
    "\n",
    "---\n",
    "<center>\n",
    "<h4> 5. Execute</h4>\n",
    "</center>\n",
    "\n",
    "---"
   ]
  },
  {
   "cell_type": "markdown",
   "metadata": {},
   "source": [
    "##### Write a script that adds execute permission to the owner of the file hello.\n",
    "\n",
    "* The file hello will be in the working directory\n",
    "\n",
    "\n",
    "```bash\n",
    "julien@ubuntu:/tmp/h$ ls -l\n",
    "total 8\n",
    "-rwxrw-r-- 1 julien julien 28 Sep 20 14:26 5-execute\n",
    "-rw-rw-r-- 1 julien julien 23 Sep 20 14:25 hello\n",
    "julien@ubuntu:/tmp/h$ ./hello\n",
    "bash: ./hello: Permission denied\n",
    "julien@ubuntu:/tmp/h$ ./5-execute \n",
    "julien@ubuntu:/tmp/h$ ls -l\n",
    "total 8\n",
    "-rwxrw-r-- 1 julien julien 28 Sep 20 14:26 5-execute\n",
    "-rwxrw-r-- 1 julien julien 23 Sep 20 14:25 hello\n",
    "julien@ubuntu:/tmp/h$ \n",
    "```\n",
    "\n",
    "##### Repo:\n",
    "\n",
    "* GitHub repository: `alx-system_engineering-devops`\n",
    "* Directory: `0x01-shell_permissions`\n",
    "* File: `5-execute`"
   ]
  },
  {
   "cell_type": "code",
   "execution_count": 1,
   "metadata": {},
   "outputs": [
    {
     "name": "stdout",
     "output_type": "stream",
     "text": [
      "Writing 0x01-shell_permissions/5-execute\n"
     ]
    }
   ],
   "source": [
    "%%file 0x01-shell_permissions/5-execute\n",
    "#!/bin/bash\n",
    "chmod u+x hello"
   ]
  },
  {
   "cell_type": "code",
   "execution_count": 2,
   "metadata": {},
   "outputs": [],
   "source": [
    "%%bash\n",
    "chmod u+x 0x01-shell_permissions/5-execute\n",
    "./0x01-shell_permissions/5-execute"
   ]
  },
  {
   "cell_type": "code",
   "execution_count": 3,
   "metadata": {},
   "outputs": [
    {
     "name": "stdout",
     "output_type": "stream",
     "text": [
      "[main 3b2eab6] 0x01-shell_permissions/5-execute\n",
      " 3 files changed, 38 insertions(+), 59 deletions(-)\n",
      " create mode 100755 0x01-shell_permissions/5-execute\n",
      " mode change 100644 => 100755 hello\n"
     ]
    },
    {
     "name": "stderr",
     "output_type": "stream",
     "text": [
      "To https://github.com/elkomysara/alx-system_engineering-devops.git\n",
      "   f040ad5..3b2eab6  main -> main\n"
     ]
    }
   ],
   "source": [
    "%%bash\n",
    "git add .\n",
    "git commit -m \"0x01-shell_permissions/5-execute\"\n",
    "git push"
   ]
  },
  {
   "cell_type": "markdown",
   "metadata": {},
   "source": [
    "### \n",
    "\n",
    "\n",
    "---\n",
    "<center>\n",
    "<h4> 6.Multiple permissions </h4>\n",
    "</center>\n",
    "\n",
    "---"
   ]
  },
  {
   "cell_type": "markdown",
   "metadata": {},
   "source": [
    "##### Write a script that adds execute permission to the owner and the group owner, and read permission to other users, to the file `hello`.\n",
    "\n",
    "    * The file `hello` will be in the working directory\n",
    "\n",
    "```bash\n",
    "julien@ubuntu:/tmp/h$ ls -l\n",
    "total 8\n",
    "-rwxrw-r-- 1 julien julien 36 Sep 20 14:31 6-multiple_permissions\n",
    "-r--r----- 1 julien julien 23 Sep 20 14:25 hello\n",
    "julien@ubuntu:/tmp/h$ ./6-multiple_permissions \n",
    "julien@ubuntu:/tmp/h$ ls -l\n",
    "total 8\n",
    "-rwxrw-r-- 1 julien julien 36 Sep 20 14:31 6-multiple_permissions\n",
    "-r-xr-xr-- 1 julien julien 23 Sep 20 14:25 hello\n",
    "julien@ubuntu:/tmp/h$ \n",
    "\n",
    "```\n",
    "\n",
    "#### Repo:\n",
    "\n",
    "* GitHub repository: `alx-system_engineering-devops`\n",
    "* Directory: `0x01-shell_permissions`\n",
    "* File: `6-multiple_permissions`"
   ]
  },
  {
   "cell_type": "code",
   "execution_count": 4,
   "metadata": {},
   "outputs": [
    {
     "name": "stdout",
     "output_type": "stream",
     "text": [
      "Writing 0x01-shell_permissions/6-multiple_permissions\n"
     ]
    }
   ],
   "source": [
    "%%file 0x01-shell_permissions/6-multiple_permissions\n",
    "#!/bin/bash\n",
    "chmod u+x,g+x hello"
   ]
  },
  {
   "cell_type": "code",
   "execution_count": 5,
   "metadata": {},
   "outputs": [
    {
     "name": "stdout",
     "output_type": "stream",
     "text": [
      "total 164\n",
      "drwxr-xr-x 2 elkomy elkomy  4096 Mar  2 14:09 0x00-shell_basics\n",
      "-rw-r--r-- 1 elkomy elkomy 75098 Mar  2 15:54 0x00-shell_basics.ipynb\n",
      "drwxr-xr-x 2 elkomy elkomy  4096 Mar  9 18:26 0x01-shell_permissions\n",
      "-rw-r--r-- 1 elkomy elkomy 71862 Mar  9 18:50 0x01-shell_permissions.ipynb\n",
      "-rw-r--r-- 1 elkomy elkomy   108 Mar  2 16:08 README.md\n",
      "-rwxr-xr-- 1 elkomy elkomy     0 Mar  9 01:18 hello\n",
      "-rw-r--r-- 1 elkomy elkomy   688 Mar  2 14:52 school.mgc\n",
      "-rw-r--r-- 1 elkomy elkomy     0 Feb 28 01:08 test.HTML\n"
     ]
    }
   ],
   "source": [
    "%%bash\n",
    "chmod u+x 0x01-shell_permissions/6-multiple_permissions\n",
    "./0x01-shell_permissions/6-multiple_permissions\n",
    "ls -l\n"
   ]
  },
  {
   "cell_type": "code",
   "execution_count": 6,
   "metadata": {},
   "outputs": [
    {
     "name": "stdout",
     "output_type": "stream",
     "text": [
      "[main 3c9fdc1] 6-multiple_permissions\n",
      " 2 files changed, 43 insertions(+), 39 deletions(-)\n",
      " create mode 100755 0x01-shell_permissions/6-multiple_permissions\n"
     ]
    },
    {
     "name": "stderr",
     "output_type": "stream",
     "text": [
      "To https://github.com/elkomysara/alx-system_engineering-devops.git\n",
      "   3b2eab6..3c9fdc1  main -> main\n"
     ]
    }
   ],
   "source": [
    "%%bash\n",
    "git add .\n",
    "git commit -m \"6-multiple_permissions\"\n",
    "git push"
   ]
  },
  {
   "cell_type": "markdown",
   "metadata": {},
   "source": [
    "### \n",
    "\n",
    "\n",
    "---\n",
    "<center>\n",
    "<h4> 7.Everybody! </h4>\n",
    "</center>\n",
    "\n",
    "---"
   ]
  },
  {
   "cell_type": "markdown",
   "metadata": {},
   "source": [
    "##### Write a script that adds execution permission to the owner, the group owner and the other users, to the file hello\n",
    "\n",
    "    * The file hello will be in the working directory\n",
    "    * You are not allowed to use commas for this script\n",
    "\n",
    "```bash\n",
    "julien@ubuntu:/tmp/h$ ls -l\n",
    "total 8\n",
    "-rwxrw-r-- 1 julien julien 28 Sep 20 14:35 7-everybody\n",
    "-rw-r----- 1 julien julien 23 Sep 20 14:25 hello\n",
    "julien@ubuntu:/tmp/h$ ./7-everybody \n",
    "julien@ubuntu:/tmp/h$ ls -l\n",
    "total 8\n",
    "-rwxrw-r-- 1 julien julien 28 Sep 20 14:35 7-everybody\n",
    "-rwxr-x--x 1 julien julien 23 Sep 20 14:25 hello\n",
    "julien@ubuntu:/tmp/h$ \n",
    "```\n",
    "\n",
    "#### Repo:\n",
    "\n",
    "* GitHub repository: `alx-system_engineering-devops`\n",
    "* Directory: `0x01-shell_permissions`\n",
    "* File: `7-everybody`"
   ]
  },
  {
   "cell_type": "code",
   "execution_count": 7,
   "metadata": {},
   "outputs": [
    {
     "name": "stdout",
     "output_type": "stream",
     "text": [
      "Writing 0x01-shell_permissions/7-everybody\n"
     ]
    }
   ],
   "source": [
    "%%file 0x01-shell_permissions/7-everybody\n",
    "#!/bin/bash\n",
    "chmod +x hello"
   ]
  },
  {
   "cell_type": "code",
   "execution_count": 8,
   "metadata": {},
   "outputs": [
    {
     "name": "stdout",
     "output_type": "stream",
     "text": [
      "total 164\n",
      "drwxr-xr-x 2 elkomy elkomy  4096 Mar  2 14:09 0x00-shell_basics\n",
      "-rw-r--r-- 1 elkomy elkomy 75098 Mar  2 15:54 0x00-shell_basics.ipynb\n",
      "drwxr-xr-x 2 elkomy elkomy  4096 Mar  9 19:34 0x01-shell_permissions\n",
      "-rw-r--r-- 1 elkomy elkomy 72274 Mar  9 19:34 0x01-shell_permissions.ipynb\n",
      "-rw-r--r-- 1 elkomy elkomy   108 Mar  2 16:08 README.md\n",
      "-rwxr-xr-x 1 elkomy elkomy     0 Mar  9 01:18 hello\n",
      "-rw-r--r-- 1 elkomy elkomy   688 Mar  2 14:52 school.mgc\n",
      "-rw-r--r-- 1 elkomy elkomy     0 Feb 28 01:08 test.HTML\n"
     ]
    }
   ],
   "source": [
    "%%bash\n",
    "chmod u+x 0x01-shell_permissions/7-everybody\n",
    "./0x01-shell_permissions/7-everybody\n",
    "ls -l"
   ]
  },
  {
   "cell_type": "code",
   "execution_count": 9,
   "metadata": {},
   "outputs": [
    {
     "name": "stdout",
     "output_type": "stream",
     "text": [
      "[main 33ba3fc] 7-everybody\n",
      " 2 files changed, 42 insertions(+), 39 deletions(-)\n",
      " create mode 100755 0x01-shell_permissions/7-everybody\n"
     ]
    },
    {
     "name": "stderr",
     "output_type": "stream",
     "text": [
      "To https://github.com/elkomysara/alx-system_engineering-devops.git\n",
      "   3c9fdc1..33ba3fc  main -> main\n"
     ]
    }
   ],
   "source": [
    "%%bash\n",
    "git add .\n",
    "git commit -m \"7-everybody\"\n",
    "git push"
   ]
  },
  {
   "cell_type": "markdown",
   "metadata": {},
   "source": [
    "### \n",
    "\n",
    "\n",
    "---\n",
    "<center>\n",
    "<h4> 8. James Bond </h4>\n",
    "</center>\n",
    "\n",
    "---"
   ]
  },
  {
   "cell_type": "markdown",
   "metadata": {},
   "source": [
    "##### Write a script that sets the permission to the file hello as follows:\n",
    "\n",
    "* Owner: no permission at all\n",
    "* Group: no permission at all\n",
    "* Other users: all the permissions\n",
    "\n",
    "The file `hello` will be in the working directory You are not allowed to use commas for this script\n",
    "\n",
    "```bash\n",
    "julien@ubuntu:/tmp/h$ ls -l\n",
    "total 8\n",
    "-rwxrw-r-- 1 julien julien 28 Sep 20 14:40 8-James_Bond\n",
    "-rwxr-x--x 1 julien julien 23 Sep 20 14:25 hello\n",
    "julien@ubuntu:/tmp/h$ ./8-James_Bond \n",
    "julien@ubuntu:/tmp/h$ ls -l\n",
    "total 8\n",
    "-rwxrw-r-- 1 julien julien 28 Sep 20 14:40 8-James_Bond\n",
    "-------rwx 1 julien julien 23 Sep 20 14:25 hello\n",
    "julien@ubuntu:/tmp/h$ \n",
    "```\n",
    "\n",
    "#### Repo:\n",
    "\n",
    "* GitHub repository: `alx-system_engineering-devops`\n",
    "* Directory: `0x00-shell_basics`\n",
    "* File: ` 8-firstdelete`\n"
   ]
  },
  {
   "cell_type": "code",
   "execution_count": 10,
   "metadata": {},
   "outputs": [
    {
     "name": "stdout",
     "output_type": "stream",
     "text": [
      "Writing 0x01-shell_permissions/8-James_Bond\n"
     ]
    }
   ],
   "source": [
    "%%file 0x01-shell_permissions/8-James_Bond\n",
    "#!/bin/bash\n",
    "chmod 007 hello"
   ]
  },
  {
   "cell_type": "code",
   "execution_count": 11,
   "metadata": {},
   "outputs": [
    {
     "name": "stderr",
     "output_type": "stream",
     "text": [
      "bash: line 2: .0x01-shell_permissions/8-James_Bond: No such file or directory\n"
     ]
    },
    {
     "name": "stdout",
     "output_type": "stream",
     "text": [
      "total 164\n",
      "drwxr-xr-x 2 elkomy elkomy  4096 Mar  2 14:09 0x00-shell_basics\n",
      "-rw-r--r-- 1 elkomy elkomy 75098 Mar  2 15:54 0x00-shell_basics.ipynb\n",
      "drwxr-xr-x 2 elkomy elkomy  4096 Mar  9 20:10 0x01-shell_permissions\n",
      "-rw-r--r-- 1 elkomy elkomy 72813 Mar  9 20:10 0x01-shell_permissions.ipynb\n",
      "-rw-r--r-- 1 elkomy elkomy   108 Mar  2 16:08 README.md\n",
      "-rwxr-xr-x 1 elkomy elkomy     0 Mar  9 01:18 hello\n",
      "-rw-r--r-- 1 elkomy elkomy   688 Mar  2 14:52 school.mgc\n",
      "-rw-r--r-- 1 elkomy elkomy     0 Feb 28 01:08 test.HTML\n"
     ]
    }
   ],
   "source": [
    "%%bash\n",
    "chmod u+x 0x01-shell_permissions/8-James_Bond\n",
    ".0x01-shell_permissions/8-James_Bond\n",
    "ls -l"
   ]
  },
  {
   "cell_type": "code",
   "execution_count": 12,
   "metadata": {},
   "outputs": [
    {
     "name": "stdout",
     "output_type": "stream",
     "text": [
      "[main 3f22ebb] 8. James Bond\n",
      " 2 files changed, 44 insertions(+), 32 deletions(-)\n",
      " create mode 100755 0x01-shell_permissions/8-James_Bond\n"
     ]
    },
    {
     "name": "stderr",
     "output_type": "stream",
     "text": [
      "To https://github.com/elkomysara/alx-system_engineering-devops.git\n",
      "   33ba3fc..3f22ebb  main -> main\n"
     ]
    }
   ],
   "source": [
    "%%bash\n",
    "git add .\n",
    "git commit -m \"8. James Bond\"\n",
    "git push"
   ]
  },
  {
   "cell_type": "markdown",
   "metadata": {},
   "source": [
    "### \n",
    "\n",
    "\n",
    "---\n",
    "<center>\n",
    "<h4> 9. John Doe</h4>\n",
    "</center>\n",
    "\n",
    "---"
   ]
  },
  {
   "cell_type": "markdown",
   "metadata": {},
   "source": [
    "##### Write a script that sets the mode of the file `hello` to this:\n",
    "\n",
    "```bash\n",
    "-rwxr-x-wx 1 julien julien 23 Sep 20 14:25 hello\n",
    "```\n",
    "\n",
    "* The file `hello` will be in the working directory\n",
    "* You are not allowed to use commas for this script\n",
    "\n",
    "#### Repo:\n",
    "\n",
    "* GitHub repository: `alx-system_engineering-devops`\n",
    "* Directory: `0x01-shell_permissions`\n",
    "* File: `9-John_Doe`"
   ]
  },
  {
   "cell_type": "code",
   "execution_count": 29,
   "metadata": {},
   "outputs": [
    {
     "name": "stdout",
     "output_type": "stream",
     "text": [
      "Overwriting 0x01-shell_permissions/9-John_Doe\n"
     ]
    }
   ],
   "source": [
    "%%file 0x01-shell_permissions/9-John_Doe\n",
    "#!/bin/bash\n",
    "chmod 753 hello"
   ]
  },
  {
   "cell_type": "code",
   "execution_count": 30,
   "metadata": {},
   "outputs": [
    {
     "name": "stdout",
     "output_type": "stream",
     "text": [
      "total 164\n",
      "drwxr-xr-x 2 elkomy elkomy  4096 Mar  9 20:47 0x00-shell_basics\n",
      "-rw-r--r-- 1 elkomy elkomy 75098 Mar  2 15:54 0x00-shell_basics.ipynb\n",
      "drwxr-xr-x 2 elkomy elkomy  4096 Mar  9 20:46 0x01-shell_permissions\n",
      "-rw-r--r-- 1 elkomy elkomy 72905 Mar  9 21:02 0x01-shell_permissions.ipynb\n",
      "-rw-r--r-- 1 elkomy elkomy   108 Mar  2 16:08 README.md\n",
      "-rwxr-x-wx 1 elkomy elkomy     0 Mar  9 01:18 hello\n",
      "-rw-r--r-- 1 elkomy elkomy   688 Mar  2 14:52 school.mgc\n",
      "-rw-r--r-- 1 elkomy elkomy     0 Feb 28 01:08 test.HTML\n"
     ]
    }
   ],
   "source": [
    "%%bash\n",
    "chmod u+x 0x01-shell_permissions/9-John_Doe\n",
    "./0x01-shell_permissions/9-John_Doe\n",
    "ls -l\n"
   ]
  },
  {
   "cell_type": "code",
   "execution_count": 31,
   "metadata": {},
   "outputs": [
    {
     "name": "stdout",
     "output_type": "stream",
     "text": [
      "[main e8a0ede] 9-John Doe\n",
      " 2 files changed, 8 insertions(+), 16 deletions(-)\n",
      " mode change 100644 => 100755 0x01-shell_permissions/9-John_Doe\n"
     ]
    },
    {
     "name": "stderr",
     "output_type": "stream",
     "text": [
      "To https://github.com/elkomysara/alx-system_engineering-devops.git\n",
      "   1cf6806..e8a0ede  main -> main\n"
     ]
    }
   ],
   "source": [
    "%%bash\n",
    "git add .\n",
    "git commit -m \"9-John Doe\"\n",
    "git push"
   ]
  },
  {
   "cell_type": "markdown",
   "metadata": {},
   "source": [
    "### \n",
    "\n",
    "\n",
    "---\n",
    "<center>\n",
    "<h4> 10.Look in the mirror</h4>\n",
    "</center>\n",
    "\n",
    "---"
   ]
  },
  {
   "cell_type": "markdown",
   "metadata": {},
   "source": [
    "##### Write a script that sets the mode of the file hello the same as olleh’s mode.\n",
    "\n",
    "* The file `hello` will be in the working directory\n",
    "* The file `olleh` will be in the working directory\n",
    "\n",
    "```bash\n",
    "julien@ubuntu:/tmp/h$ ls -l\n",
    "total 8\n",
    "-rwxrw-r-- 1 julien julien 42 Sep 20 14:45 10-mirror_permissions\n",
    "-rwxr-x-wx 1 julien julien 23 Sep 20 14:25 hello\n",
    "-rw-rw-r-- 1 julien julien  0 Sep 20 14:43 olleh\n",
    "julien@ubuntu:/tmp/h$ ./10-mirror_permissions \n",
    "julien@ubuntu:/tmp/h$ ls -l\n",
    "total 8\n",
    "-rwxrw-r-- 1 julien julien 42 Sep 20 14:45 10-mirror_permissions\n",
    "-rw-rw-r-- 1 julien julien 23 Sep 20 14:25 hello\n",
    "-rw-rw-r-- 1 julien julien  0 Sep 20 14:43 olleh\n",
    "julien@ubuntu:/tmp/h$ \n",
    "```\n",
    "Note: the mode of `olleh` will not always be 664. Make sure your script works for any mode.\n",
    "\n",
    "#### Repo:\n",
    "\n",
    "* GitHub repository: `alx-system_engineering-devops`\n",
    "* Directory: `0x00-shell_basics`\n",
    "* File: `10-back`"
   ]
  },
  {
   "cell_type": "code",
   "execution_count": 3,
   "metadata": {},
   "outputs": [
    {
     "name": "stdout",
     "output_type": "stream",
     "text": [
      "Overwriting 0x01-shell_permissions/10-mirror_permissions\n"
     ]
    }
   ],
   "source": [
    "%%file 0x01-shell_permissions/10-mirror_permissions\n",
    "#!/bin/bash\n",
    "chmod --reference=olleh hello"
   ]
  },
  {
   "cell_type": "code",
   "execution_count": 4,
   "metadata": {},
   "outputs": [
    {
     "name": "stderr",
     "output_type": "stream",
     "text": [
      "chmod: failed to get attributes of 'olleh': No such file or directory\n"
     ]
    },
    {
     "name": "stdout",
     "output_type": "stream",
     "text": [
      "/home/elkomy/alx-system_engineering-devops\n"
     ]
    }
   ],
   "source": [
    "%%bash\n",
    "chmod u+x 0x01-shell_permissions/10-mirror_permissions\n",
    "source ./0x01-shell_permissions/10-mirror_permissions\n",
    "pwd\n"
   ]
  },
  {
   "cell_type": "code",
   "execution_count": 6,
   "metadata": {},
   "outputs": [
    {
     "name": "stdout",
     "output_type": "stream",
     "text": [
      "[main f9834e8] olleh\n",
      " 1 file changed, 5 insertions(+), 5 deletions(-)\n"
     ]
    },
    {
     "name": "stderr",
     "output_type": "stream",
     "text": [
      "To https://github.com/elkomysara/alx-system_engineering-devops.git\n",
      "   0a15ffa..f9834e8  main -> main\n"
     ]
    }
   ],
   "source": [
    "%%bash\n",
    "git add .\n",
    "git commit -m \"olleh\"\n",
    "git push"
   ]
  },
  {
   "cell_type": "markdown",
   "metadata": {},
   "source": [
    "### \n",
    "\n",
    "\n",
    "---\n",
    "<center>\n",
    "<h4> 11.Directories</h4>\n",
    "</center>\n",
    "\n",
    "---"
   ]
  },
  {
   "cell_type": "markdown",
   "metadata": {},
   "source": [
    "##### Create a script that adds execute permission to all subdirectories of the current directory for the owner, the group owner and all other users.\n",
    "\n",
    "Regular files should not be changed.\n",
    "\n",
    "#### Repo:\n",
    "\n",
    "* GitHub repository: `alx-system_engineering-devops`\n",
    "* Directory: `0x01-shell_permissions`\n",
    "* File: `11-directories_permissions`"
   ]
  },
  {
   "cell_type": "code",
   "execution_count": 11,
   "metadata": {},
   "outputs": [
    {
     "name": "stdout",
     "output_type": "stream",
     "text": [
      "Overwriting 0x01-shell_permissions/11-directories_permissions\n"
     ]
    }
   ],
   "source": [
    "%%file 0x01-shell_permissions/11-directories_permissions\n",
    "#!/bin/bash\n",
    "chmod -R ugo+X ."
   ]
  },
  {
   "cell_type": "code",
   "execution_count": 12,
   "metadata": {},
   "outputs": [
    {
     "name": "stdout",
     "output_type": "stream",
     "text": [
      "/home/elkomy/alx-system_engineering-devops\n"
     ]
    }
   ],
   "source": [
    "%%bash\n",
    "chmod u+x 0x01-shell_permissions/11-directories_permissions\n",
    "source ./0x01-shell_permissions/11-directories_permissions\n",
    "pwd\n"
   ]
  },
  {
   "cell_type": "code",
   "execution_count": 13,
   "metadata": {},
   "outputs": [
    {
     "name": "stdout",
     "output_type": "stream",
     "text": [
      "[main 8950d55] 11-directories_permissions\n",
      " 2 files changed, 10 insertions(+), 17 deletions(-)\n"
     ]
    },
    {
     "name": "stderr",
     "output_type": "stream",
     "text": [
      "To https://github.com/elkomysara/alx-system_engineering-devops.git\n",
      "   1a92d84..8950d55  main -> main\n"
     ]
    }
   ],
   "source": [
    "%%bash\n",
    "git add .\n",
    "git commit -m \"11-directories_permissions\"\n",
    "git push"
   ]
  },
  {
   "cell_type": "markdown",
   "metadata": {},
   "source": [
    "### \n",
    "\n",
    "\n",
    "---\n",
    "<center>\n",
    "<h4> 12.More directoreis></h4>\n",
    "</center>\n",
    "\n",
    "---"
   ]
  },
  {
   "cell_type": "markdown",
   "metadata": {},
   "source": [
    "##### Create a script that creates a directory called `my_dir` with permissions 751 in the working directory.\n",
    "\n",
    "\n",
    "```bash\n",
    "julien@ubuntu:/tmp/h$ ls -l\n",
    "total 20\n",
    "-rwxrwxr-x 1 julien julien   39 Sep 20 14:59 12-directory_permissions\n",
    "drwx--x--x 2 julien julien 4096 Sep 20 14:49 dir0\n",
    "drwx--x--x 2 julien julien 4096 Sep 20 14:49 dir1\n",
    "drwx--x--x 2 julien julien 4096 Sep 20 14:49 dir2\n",
    "-rw-rw-r-- 1 julien julien   23 Sep 20 14:25 hello\n",
    "julien@ubuntu:/tmp/h$ ./12-directory_permission s\n",
    "julien@ubuntu:/tmp/h$ ls -l\n",
    "total 24\n",
    "-rwxrwxr-x 1 julien julien   39 Sep 20 14:59 12-directory_permissions\n",
    "drwx--x--x 2 julien julien 4096 Sep 20 14:49 dir0\n",
    "drwx--x--x 2 julien julien 4096 Sep 20 14:49 dir1\n",
    "drwx--x--x 2 julien julien 4096 Sep 20 14:49 dir2\n",
    "drwxr-x--x 2 julien julien 4096 Sep 20 14:59 my_dir\n",
    "-rw-rw-r-- 1 julien julien   23 Sep 20 14:25 hello\n",
    "julien@ubuntu:/tmp/h$ \n",
    "```\n",
    "#### Repo:\n",
    "\n",
    "* GitHub repository: `alx-system_engineering-devops`\n",
    "* Directory: `0x01-shell_permissions`\n",
    "* File: `12-directory_permissions`"
   ]
  },
  {
   "cell_type": "code",
   "execution_count": 15,
   "metadata": {},
   "outputs": [
    {
     "name": "stdout",
     "output_type": "stream",
     "text": [
      "Overwriting 0x01-shell_permissions/12-directory_permissions\n"
     ]
    }
   ],
   "source": [
    "%%file 0x01-shell_permissions/12-directory_permissions\n",
    "#!/bin/bash\n",
    "mkdir -m 751 my_dir"
   ]
  },
  {
   "cell_type": "code",
   "execution_count": 16,
   "metadata": {},
   "outputs": [],
   "source": [
    "%%bash\n",
    "chmod u+x 0x01-shell_permissions/12-directory_permissions\n",
    "source ./0x01-shell_permissions/12-directory_permissions"
   ]
  },
  {
   "cell_type": "code",
   "execution_count": 17,
   "metadata": {},
   "outputs": [
    {
     "name": "stdout",
     "output_type": "stream",
     "text": [
      "[main 4266f1e] 12-directory_permissions\n",
      " 2 files changed, 37 insertions(+), 29 deletions(-)\n",
      " create mode 100755 0x01-shell_permissions/12-directory_permissions\n"
     ]
    },
    {
     "name": "stderr",
     "output_type": "stream",
     "text": [
      "To https://github.com/elkomysara/alx-system_engineering-devops.git\n",
      "   8950d55..4266f1e  main -> main\n"
     ]
    }
   ],
   "source": [
    "%%bash\n",
    "git add .\n",
    "git commit -m \"12-directory_permissions\"\n",
    "git push"
   ]
  },
  {
   "cell_type": "markdown",
   "metadata": {},
   "source": [
    "### \n",
    "\n",
    "\n",
    "---\n",
    "<center>\n",
    "<h4> 13. Change group</h4>\n",
    "</center>\n",
    "\n",
    "---"
   ]
  },
  {
   "cell_type": "markdown",
   "metadata": {},
   "source": [
    "##### Write a script that changes the group owner to school for the file hello\n",
    "\n",
    "* The file hello will be in the working directory\n",
    "\n",
    "```bash\n",
    "julien@ubuntu:/tmp/h$ ls -l\n",
    "total 24\n",
    "-rwxrwxr-x 1 julien julien   34 Sep 20 15:03 13-change_group\n",
    "drwx--x--x 2 julien julien 4096 Sep 20 14:49 dir0\n",
    "drwx--x--x 2 julien julien 4096 Sep 20 14:49 dir1\n",
    "drwx--x--x 2 julien julien 4096 Sep 20 14:49 dir2\n",
    "drwxr-x--x 2 julien julien 4096 Sep 20 14:59 my_dir\n",
    "-rw-rw-r-- 1 julien julien   23 Sep 20 14:25 hello\n",
    "julien@ubuntu:/tmp/h$ sudo ./13-change_group \n",
    "julien@ubuntu:/tmp/h$ ls -l\n",
    "total 24\n",
    "-rwxrwxr-x 1 julien julien      34 Sep 20 15:03 13-change_group\n",
    "drwx--x--x 2 julien julien    4096 Sep 20 14:49 dir0\n",
    "drwx--x--x 2 julien julien    4096 Sep 20 14:49 dir1\n",
    "drwx--x--x 2 julien julien    4096 Sep 20 14:49 dir2\n",
    "drwxr-x--x 2 julien julien    4096 Sep 20 14:59 my_dir\n",
    "-rw-rw-r-- 1 julien school   23 Sep 20 14:25 hello\n",
    "julien@ubuntu:/tmp/h$ \n",
    "```\n",
    "#### Repo:\n",
    "\n",
    "* GitHub repository: `alx-system_engineering-devops`\n",
    "* Directory: `0x01-shell_permissions`\n",
    "* File: `13-change_group`"
   ]
  },
  {
   "cell_type": "code",
   "execution_count": 18,
   "metadata": {},
   "outputs": [
    {
     "name": "stdout",
     "output_type": "stream",
     "text": [
      "Writing 0x01-shell_permissions/13-change_group\n"
     ]
    }
   ],
   "source": [
    "%%file 0x01-shell_permissions/13-change_group\n",
    "#!/bin/bash\n",
    "chown :school hello"
   ]
  },
  {
   "cell_type": "code",
   "execution_count": 19,
   "metadata": {},
   "outputs": [
    {
     "name": "stderr",
     "output_type": "stream",
     "text": [
      "chown: invalid group: ‘:school’\n"
     ]
    },
    {
     "ename": "CalledProcessError",
     "evalue": "Command 'b'chmod u+x 0x01-shell_permissions/13-change_group\\nsource ./0x01-shell_permissions/13-change_group\\n'' returned non-zero exit status 1.",
     "output_type": "error",
     "traceback": [
      "\u001b[0;31m---------------------------------------------------------------------------\u001b[0m",
      "\u001b[0;31mCalledProcessError\u001b[0m                        Traceback (most recent call last)",
      "Cell \u001b[0;32mIn[19], line 1\u001b[0m\n\u001b[0;32m----> 1\u001b[0m get_ipython()\u001b[38;5;241m.\u001b[39mrun_cell_magic(\u001b[38;5;124m'\u001b[39m\u001b[38;5;124mbash\u001b[39m\u001b[38;5;124m'\u001b[39m, \u001b[38;5;124m'\u001b[39m\u001b[38;5;124m'\u001b[39m, \u001b[38;5;124m'\u001b[39m\u001b[38;5;124mchmod u+x 0x01-shell_permissions/13-change_group\u001b[39m\u001b[38;5;130;01m\\n\u001b[39;00m\u001b[38;5;124msource ./0x01-shell_permissions/13-change_group\u001b[39m\u001b[38;5;130;01m\\n\u001b[39;00m\u001b[38;5;124m'\u001b[39m)\n",
      "File \u001b[0;32m~/anaconda3/envs/cplayground/lib/python3.11/site-packages/IPython/core/interactiveshell.py:2517\u001b[0m, in \u001b[0;36mInteractiveShell.run_cell_magic\u001b[0;34m(self, magic_name, line, cell)\u001b[0m\n\u001b[1;32m   2515\u001b[0m \u001b[38;5;28;01mwith\u001b[39;00m \u001b[38;5;28mself\u001b[39m\u001b[38;5;241m.\u001b[39mbuiltin_trap:\n\u001b[1;32m   2516\u001b[0m     args \u001b[38;5;241m=\u001b[39m (magic_arg_s, cell)\n\u001b[0;32m-> 2517\u001b[0m     result \u001b[38;5;241m=\u001b[39m fn(\u001b[38;5;241m*\u001b[39margs, \u001b[38;5;241m*\u001b[39m\u001b[38;5;241m*\u001b[39mkwargs)\n\u001b[1;32m   2519\u001b[0m \u001b[38;5;66;03m# The code below prevents the output from being displayed\u001b[39;00m\n\u001b[1;32m   2520\u001b[0m \u001b[38;5;66;03m# when using magics with decorator @output_can_be_silenced\u001b[39;00m\n\u001b[1;32m   2521\u001b[0m \u001b[38;5;66;03m# when the last Python token in the expression is a ';'.\u001b[39;00m\n\u001b[1;32m   2522\u001b[0m \u001b[38;5;28;01mif\u001b[39;00m \u001b[38;5;28mgetattr\u001b[39m(fn, magic\u001b[38;5;241m.\u001b[39mMAGIC_OUTPUT_CAN_BE_SILENCED, \u001b[38;5;28;01mFalse\u001b[39;00m):\n",
      "File \u001b[0;32m~/anaconda3/envs/cplayground/lib/python3.11/site-packages/IPython/core/magics/script.py:154\u001b[0m, in \u001b[0;36mScriptMagics._make_script_magic.<locals>.named_script_magic\u001b[0;34m(line, cell)\u001b[0m\n\u001b[1;32m    152\u001b[0m \u001b[38;5;28;01melse\u001b[39;00m:\n\u001b[1;32m    153\u001b[0m     line \u001b[38;5;241m=\u001b[39m script\n\u001b[0;32m--> 154\u001b[0m \u001b[38;5;28;01mreturn\u001b[39;00m \u001b[38;5;28mself\u001b[39m\u001b[38;5;241m.\u001b[39mshebang(line, cell)\n",
      "File \u001b[0;32m~/anaconda3/envs/cplayground/lib/python3.11/site-packages/IPython/core/magics/script.py:314\u001b[0m, in \u001b[0;36mScriptMagics.shebang\u001b[0;34m(self, line, cell)\u001b[0m\n\u001b[1;32m    309\u001b[0m \u001b[38;5;28;01mif\u001b[39;00m args\u001b[38;5;241m.\u001b[39mraise_error \u001b[38;5;129;01mand\u001b[39;00m p\u001b[38;5;241m.\u001b[39mreturncode \u001b[38;5;241m!=\u001b[39m \u001b[38;5;241m0\u001b[39m:\n\u001b[1;32m    310\u001b[0m     \u001b[38;5;66;03m# If we get here and p.returncode is still None, we must have\u001b[39;00m\n\u001b[1;32m    311\u001b[0m     \u001b[38;5;66;03m# killed it but not yet seen its return code. We don't wait for it,\u001b[39;00m\n\u001b[1;32m    312\u001b[0m     \u001b[38;5;66;03m# in case it's stuck in uninterruptible sleep. -9 = SIGKILL\u001b[39;00m\n\u001b[1;32m    313\u001b[0m     rc \u001b[38;5;241m=\u001b[39m p\u001b[38;5;241m.\u001b[39mreturncode \u001b[38;5;129;01mor\u001b[39;00m \u001b[38;5;241m-\u001b[39m\u001b[38;5;241m9\u001b[39m\n\u001b[0;32m--> 314\u001b[0m     \u001b[38;5;28;01mraise\u001b[39;00m CalledProcessError(rc, cell)\n",
      "\u001b[0;31mCalledProcessError\u001b[0m: Command 'b'chmod u+x 0x01-shell_permissions/13-change_group\\nsource ./0x01-shell_permissions/13-change_group\\n'' returned non-zero exit status 1."
     ]
    }
   ],
   "source": [
    "%%bash\n",
    "chmod u+x 0x01-shell_permissions/13-change_group\n",
    "source ./0x01-shell_permissions/13-change_group"
   ]
  },
  {
   "cell_type": "code",
   "execution_count": 50,
   "metadata": {},
   "outputs": [
    {
     "name": "stdout",
     "output_type": "stream",
     "text": [
      "[main d2e757b] 13-symbolic_link\n",
      " 1 file changed, 26 insertions(+), 8 deletions(-)\n"
     ]
    },
    {
     "name": "stderr",
     "output_type": "stream",
     "text": [
      "To https://github.com/elkomysara/alx-system_engineering-devops.git\n",
      "   e07588b..d2e757b  main -> main\n"
     ]
    }
   ],
   "source": [
    "%%bash\n",
    "git add .\n",
    "git commit -m \"ghange group\"\n",
    "git push"
   ]
  },
  {
   "cell_type": "markdown",
   "metadata": {},
   "source": [
    "### \n",
    "\n",
    "\n",
    "---\n",
    "<center>\n",
    "<h4> 14. Copy HTML files</h4>\n",
    "</center>\n",
    "\n",
    "---"
   ]
  },
  {
   "cell_type": "markdown",
   "metadata": {},
   "source": [
    "##### Create a script that copies all the HTML files from the current working directory to the parent of the working directory, but only copy files that did not exist in the parent of the working directory or were newer than the versions in the parent of the working directory.\n",
    "\n",
    "##### You can consider that all HTML files have the extension `.html`\n",
    "\n",
    "#### Repo:\n",
    "\n",
    "* GitHub repository: `alx-system_engineering-devops`\n",
    "* Directory: `0x00-shell_basics`\n",
    "* File: `14-copy_html`"
   ]
  },
  {
   "cell_type": "code",
   "execution_count": 61,
   "metadata": {},
   "outputs": [
    {
     "name": "stdout",
     "output_type": "stream",
     "text": [
      "Overwriting 0x00-shell_basics/14-copy_html\n"
     ]
    }
   ],
   "source": [
    "%%file 0x00-shell_basics/14-copy_html\n",
    "#!/bin/bash\n",
    "cp -u  *.html .."
   ]
  },
  {
   "cell_type": "code",
   "execution_count": 62,
   "metadata": {},
   "outputs": [
    {
     "name": "stderr",
     "output_type": "stream",
     "text": [
      "cp: cannot stat '*.html': No such file or directory\n"
     ]
    },
    {
     "name": "stdout",
     "output_type": "stream",
     "text": [
      "total 80\n",
      "drwxr-xr-x  4 elkomy elkomy  4096 Feb 28 00:38 .\n",
      "drwxr-xr-x 17 elkomy elkomy  4096 Feb 28 00:39 ..\n",
      "drwxr-xr-x  8 elkomy elkomy  4096 Feb 28 00:42 .git\n",
      "-rw-r--r--  1 elkomy elkomy    11 Feb 10 18:55 .gitignore\n",
      "drwxr-xr-x  2 elkomy elkomy  4096 Feb 28 00:37 0x00-shell_basics\n",
      "-rw-r--r--  1 elkomy elkomy   554 Feb 24 22:01 README.md\n",
      "lrwxrwxrwx  1 elkomy elkomy     7 Feb 28 00:25 __ls__ -> /bin/ls\n",
      "-rw-r--r--  1 elkomy elkomy 56901 Feb 28 00:43 alx-system_engineering-devops.ipynb\n",
      "-rw-r--r--  1 elkomy elkomy     0 Feb 28 00:43 test.HTML\n"
     ]
    }
   ],
   "source": [
    "%%bash\n",
    "touch ./test.HTML\n",
    "chmod u+x 0x00-shell_basics/14-copy_html\n",
    "source ./0x00-shell_basics/14-copy_html\n",
    "ls -la"
   ]
  },
  {
   "cell_type": "code",
   "execution_count": 63,
   "metadata": {},
   "outputs": [
    {
     "name": "stdout",
     "output_type": "stream",
     "text": [
      "[main e386718] 14-copy_html\n",
      " 2 files changed, 18 insertions(+), 11 deletions(-)\n"
     ]
    },
    {
     "name": "stderr",
     "output_type": "stream",
     "text": [
      "To https://github.com/elkomysara/alx-system_engineering-devops.git\n",
      "   b395211..e386718  main -> main\n"
     ]
    }
   ],
   "source": [
    "%%bash\n",
    "git add .\n",
    "git commit -m \"14-copy_html\"\n",
    "git push"
   ]
  },
  {
   "cell_type": "markdown",
   "metadata": {},
   "source": [
    "### \n",
    "\n",
    "\n",
    "---\n",
    "<center>\n",
    "<h4> 15. Let's move</h4>\n",
    "</center>\n",
    "\n",
    "---"
   ]
  },
  {
   "cell_type": "markdown",
   "metadata": {},
   "source": [
    "##### Create a script that moves all files beginning with an uppercase letter to the directory `/tmp/u`.\n",
    "\n",
    "##### You can assume that the directory `/tmp/u` will exist when we will run your script\n",
    "\n",
    "##### You can consider that all HTML files have the extension `.html`\n",
    "```bash\n",
    "ubuntu@ip-172-31-63-244:/tmp/sym$ ls -la\n",
    "total 148\n",
    "drwxrwxr-x  3 ubuntu ubuntu   4096 Sep 20 03:33 .\n",
    "drwxrwxrwt 12 root   root   139264 Sep 20 03:26 ..\n",
    "-rw-rw-r--  1 ubuntu ubuntu      0 Sep 20 03:32 My_file\n",
    "lrwxrwxrwx  1 ubuntu ubuntu      7 Sep 20 03:24 __ls__ -> /bin/ls\n",
    "-rw-rw-r--  1 ubuntu ubuntu      0 Sep 20 03:32 Elif_ym\n",
    "-rw-rw-r--  1 ubuntu ubuntu      0 Sep 20 03:32 random_file\n",
    "ubuntu@ip-172-31-63-244:/tmp/sym$ ls -la /tmp/u\n",
    "total 8\n",
    "drwxrwxr-x 2 ubuntu ubuntu 4096 Sep 20 03:33 .\n",
    "drwxrwxr-x 3 ubuntu ubuntu 4096 Sep 20 03:33 ..\n",
    "ubuntu@ip-172-31-63-244:/tmp/sym$ ./100-lets_move\n",
    "ubuntu@ip-172-31-63-244:/tmp/sym$ ls -la\n",
    "total 148\n",
    "drwxrwxr-x  3 ubuntu ubuntu   4096 Sep 20 03:33 .\n",
    "drwxrwxrwt 12 root   root   139264 Sep 20 03:26 ..\n",
    "lrwxrwxrwx  1 ubuntu ubuntu      7 Sep 20 03:24 __ls__ -> /bin/ls\n",
    "-rw-rw-r--  1 ubuntu ubuntu      0 Sep 20 03:32 random_file\n",
    "ubuntu@ip-172-31-63-244:/tmp/sym$ ls -la /tmp/u\n",
    "total 8\n",
    "drwxrwxr-x 2 ubuntu ubuntu 4096 Sep 20 03:33 .\n",
    "drwxrwxr-x 3 ubuntu ubuntu 4096 Sep 20 03:33 ..\n",
    "-rw-rw-r-- 1 ubuntu ubuntu    0 Sep 20 03:32 My_file\n",
    "-rw-rw-r-- 1 ubuntu ubuntu    0 Sep 20 03:32 Elif_ym\n",
    "```\n",
    "\n",
    "#### Repo:\n",
    "\n",
    "* GitHub repository: `alx-system_engineering-devops`\n",
    "* Directory: `0x00-shell_basics`\n",
    "* File: `100-lets_move`"
   ]
  },
  {
   "cell_type": "code",
   "execution_count": 64,
   "metadata": {},
   "outputs": [
    {
     "name": "stdout",
     "output_type": "stream",
     "text": [
      "Writing 0x00-shell_basics/100-lets_move\n"
     ]
    }
   ],
   "source": [
    "%%file 0x00-shell_basics/100-lets_move\n",
    "#!/bin/bash\n",
    "mv [[:upper:]]* /tmp/u/"
   ]
  },
  {
   "cell_type": "code",
   "execution_count": 65,
   "metadata": {},
   "outputs": [
    {
     "name": "stderr",
     "output_type": "stream",
     "text": [
      "mv: cannot move 'README.md' to '/tmp/u/': Not a directory\n"
     ]
    },
    {
     "name": "stdout",
     "output_type": "stream",
     "text": [
      "total 84\n",
      "drwxr-xr-x  4 elkomy elkomy  4096 Feb 28 00:38 .\n",
      "drwxr-xr-x 17 elkomy elkomy  4096 Feb 28 00:39 ..\n",
      "drwxr-xr-x  8 elkomy elkomy  4096 Feb 28 00:43 .git\n",
      "-rw-r--r--  1 elkomy elkomy    11 Feb 10 18:55 .gitignore\n",
      "drwxr-xr-x  2 elkomy elkomy  4096 Feb 28 00:49 0x00-shell_basics\n",
      "-rw-r--r--  1 elkomy elkomy   554 Feb 24 22:01 README.md\n",
      "lrwxrwxrwx  1 elkomy elkomy     7 Feb 28 00:25 __ls__ -> /bin/ls\n",
      "-rw-r--r--  1 elkomy elkomy 61343 Feb 28 00:49 alx-system_engineering-devops.ipynb\n",
      "-rw-r--r--  1 elkomy elkomy     0 Feb 28 00:49 test.HTML\n"
     ]
    }
   ],
   "source": [
    "%%bash\n",
    "touch ./test.HTML\n",
    "chmod u+x 0x00-shell_basics/100-lets_move\n",
    "source ./0x00-shell_basics/100-lets_move\n",
    "ls -la"
   ]
  },
  {
   "cell_type": "code",
   "execution_count": 66,
   "metadata": {},
   "outputs": [
    {
     "name": "stdout",
     "output_type": "stream",
     "text": [
      "[main 34a8c29] 100-lets_move\n",
      " 2 files changed, 150 insertions(+), 4 deletions(-)\n",
      " create mode 100755 0x00-shell_basics/100-lets_move\n"
     ]
    },
    {
     "name": "stderr",
     "output_type": "stream",
     "text": [
      "To https://github.com/elkomysara/alx-system_engineering-devops.git\n",
      "   e386718..34a8c29  main -> main\n"
     ]
    }
   ],
   "source": [
    "%%bash\n",
    "git add .\n",
    "git commit -m \"100-lets_move\"\n",
    "git push"
   ]
  },
  {
   "cell_type": "markdown",
   "metadata": {},
   "source": [
    "### \n",
    "\n",
    "\n",
    "---\n",
    "<center>\n",
    "<h4> 16. Clean Emacs</h4>\n",
    "</center>\n",
    "\n",
    "---"
   ]
  },
  {
   "cell_type": "markdown",
   "metadata": {},
   "source": [
    "##### Create a script that deletes all files in the current working directory that end with the character `~`.\n",
    "\n",
    "\n",
    "```bash\n",
    "ubuntu@ip-172-31-63-244:/tmp/sym$ ls\n",
    "main.c  main.c~  Makefile~\n",
    "ubuntu@ip-172-31-63-244:/tmp/sym$ ./101-clean_emacs\n",
    "ubuntu@ip-172-31-63-244:/tmp/emacs$ ls\n",
    "main.c\n",
    "ubuntu@ip-172-31-63-244:/tmp/emacs$ ```\n",
    "\n",
    "#### Repo:\n",
    "\n",
    "* GitHub repository: `alx-system_engineering-devops`\n",
    "* Directory: `0x00-shell_basics`\n",
    "* File: `101-clean_emacs`"
   ]
  },
  {
   "cell_type": "code",
   "execution_count": 67,
   "metadata": {},
   "outputs": [
    {
     "name": "stdout",
     "output_type": "stream",
     "text": [
      "Writing 0x00-shell_basics/101-clean_emacs\n"
     ]
    }
   ],
   "source": [
    "%%file 0x00-shell_basics/101-clean_emacs\n",
    "#!/bin/bash\n",
    "rm *~"
   ]
  },
  {
   "cell_type": "code",
   "execution_count": 68,
   "metadata": {},
   "outputs": [
    {
     "name": "stderr",
     "output_type": "stream",
     "text": [
      "rm: cannot remove '*~': No such file or directory\n"
     ]
    },
    {
     "name": "stdout",
     "output_type": "stream",
     "text": [
      "total 88\n",
      "drwxr-xr-x  4 elkomy elkomy  4096 Feb 28 00:38 .\n",
      "drwxr-xr-x 17 elkomy elkomy  4096 Feb 28 00:39 ..\n",
      "drwxr-xr-x  8 elkomy elkomy  4096 Feb 28 00:50 .git\n",
      "-rw-r--r--  1 elkomy elkomy    11 Feb 10 18:55 .gitignore\n",
      "drwxr-xr-x  2 elkomy elkomy  4096 Feb 28 00:56 0x00-shell_basics\n",
      "-rw-r--r--  1 elkomy elkomy   554 Feb 24 22:01 README.md\n",
      "lrwxrwxrwx  1 elkomy elkomy     7 Feb 28 00:25 __ls__ -> /bin/ls\n",
      "-rw-r--r--  1 elkomy elkomy 64487 Feb 28 00:56 alx-system_engineering-devops.ipynb\n",
      "-rw-r--r--  1 elkomy elkomy     0 Feb 28 00:56 test.HTML\n"
     ]
    }
   ],
   "source": [
    "%%bash\n",
    "touch ./test.HTML\n",
    "chmod u+x 0x00-shell_basics/101-clean_emacs\n",
    "source ./0x00-shell_basics/101-clean_emacs\n",
    "ls -la"
   ]
  },
  {
   "cell_type": "code",
   "execution_count": 69,
   "metadata": {},
   "outputs": [
    {
     "name": "stdout",
     "output_type": "stream",
     "text": [
      "[main 7631878] 101-clean_emacs\n",
      " 2 files changed, 130 insertions(+), 4 deletions(-)\n",
      " create mode 100755 0x00-shell_basics/101-clean_emacs\n"
     ]
    },
    {
     "name": "stderr",
     "output_type": "stream",
     "text": [
      "To https://github.com/elkomysara/alx-system_engineering-devops.git\n",
      "   34a8c29..7631878  main -> main\n"
     ]
    }
   ],
   "source": [
    "%%bash\n",
    "git add .\n",
    "git commit -m \"101-clean_emacs\"\n",
    "git push"
   ]
  },
  {
   "cell_type": "markdown",
   "metadata": {},
   "source": [
    "### \n",
    "\n",
    "\n",
    "---\n",
    "<center>\n",
    "<h4> 17. Tree</h4>\n",
    "</center>\n",
    "\n",
    "---"
   ]
  },
  {
   "cell_type": "markdown",
   "metadata": {},
   "source": [
    "##### Create a script that creates the directories` welcome/`, `welcome/to/` and `welcome/to/school` in the current directory.\n",
    "\n",
    "##### You are only allowed to use two spaces (and lines) in your script, not more.\n",
    "\n",
    "\n",
    "```bash\n",
    "julien@ubuntu:/tmp/h$ ls -l\n",
    "total 4\n",
    "-rwxrw-r-- 1 julien julien 44 Sep 20 12:09 102-tree\n",
    "julien@ubuntu:/tmp/h$ wc -l 102-tree \n",
    "2 102-tree\n",
    "julien@ubuntu:/tmp/h$ head -1 102-tree \n",
    "#!/bin/bash\n",
    "julien@ubuntu:/tmp/h$ tr -cd ' ' < 102-tree | wc -c # you do not have to understand this yet, but the result should be 2, 1 or 0\n",
    "2\n",
    "julien@ubuntu:/tmp/h$ ./102-tree \n",
    "julien@ubuntu:/tmp/h$ ls\n",
    "102-tree  welcome\n",
    "julien@ubuntu:/tmp/h$ ls welcome/\n",
    "to\n",
    "julien@ubuntu:/tmp/h$ ls -l welcome/to\n",
    "total 4\n",
    "drwxrwxr-x 2 julien julien 4096 Sep 20 12:11 school\n",
    "julien@ubuntu:/tmp/h$ \n",
    " ```\n",
    "\n",
    "#### Repo:\n",
    "\n",
    "* GitHub repository: `alx-system_engineering-devops`\n",
    "* Directory: `0x00-shell_basics`\n",
    "* File: `102-tree`"
   ]
  },
  {
   "cell_type": "code",
   "execution_count": 85,
   "metadata": {},
   "outputs": [],
   "source": [
    "#create multiple nested folders by adding the -p \n",
    "# –p option ensures that intermediate directories are created"
   ]
  },
  {
   "cell_type": "code",
   "execution_count": 86,
   "metadata": {},
   "outputs": [
    {
     "name": "stdout",
     "output_type": "stream",
     "text": [
      "Overwriting 0x00-shell_basics/102-tree\n"
     ]
    }
   ],
   "source": [
    "%%file 0x00-shell_basics/102-tree\n",
    "#!/bin/bash\n",
    "mkdir -p welcome/to/school"
   ]
  },
  {
   "cell_type": "code",
   "execution_count": 87,
   "metadata": {},
   "outputs": [],
   "source": [
    "%%bash\n",
    "touch ./test.HTML\n",
    "chmod u+x 0x00-shell_basics/102-tree\n",
    "source ./0x00-shell_basics/102-tree\n",
    "ls welcome/to/school/"
   ]
  },
  {
   "cell_type": "code",
   "execution_count": 89,
   "metadata": {},
   "outputs": [
    {
     "name": "stdout",
     "output_type": "stream",
     "text": [
      "[main 79a006e] 102-tree\n",
      " 1 file changed, 4 insertions(+), 4 deletions(-)\n"
     ]
    },
    {
     "name": "stderr",
     "output_type": "stream",
     "text": [
      "To https://github.com/elkomysara/alx-system_engineering-devops.git\n",
      "   c6a7b42..79a006e  main -> main\n"
     ]
    }
   ],
   "source": [
    "%%bash\n",
    "git add .\n",
    "git commit -m \"102-tree\"\n",
    "git push"
   ]
  },
  {
   "cell_type": "markdown",
   "metadata": {},
   "source": [
    "### \n",
    "\n",
    "\n",
    "---\n",
    "<center>\n",
    "<h4> 18. Life is a series of commas, not periods</h4>\n",
    "</center>\n",
    "\n",
    "---"
   ]
  },
  {
   "cell_type": "markdown",
   "metadata": {},
   "source": [
    "##### Write a command that lists all the files and directories of the current directory, separated by commas `(,)`.\n",
    "\n",
    "* Directory names should end with a slash (/)\n",
    "* Files and directories starting with a dot (.) should be listed\n",
    "* The listing should be alpha ordered, except for the directories . and .. which should be listed at the very beginning\n",
    "* Only digits and letters are used to sort; Digits should come first\n",
    "* You can assume that all the files we will test with will have at least one letter or one digit\n",
    "* The listing should end with a new line\n",
    "\n",
    "\n",
    "```bash\n",
    "ubuntu@ubuntu:~/$ ls -a\n",
    "\n",
    ".  ..  0-commas  0-commas-checks  1-empty_casks  2-gifs  3-directories  4-zeros  5-rot13  6-odd  7-sort_rot13  Makefile  quote  .test  test_dir  test.var\n",
    "\n",
    "ubuntu@ubuntu:~/$ ./103-commas\n",
    "\n",
    "./, ../, 0-commas, 0-commas-checks/, 1-empty_casks, 2-gifs, 3-directories, 4-zeros, 5-rot13, 6-odd, 7-sort_rot13, Makefile, quote, .test, test_dir/, test.var\n",
    "\n",
    "ubuntu@ubuntu:~/$\n",
    "\n",
    "#### Repo:\n",
    "\n",
    "* GitHub repository: `alx-system_engineering-devops`\n",
    "* Directory: `0x00-shell_basics`\n",
    "* File: `103-commas`"
   ]
  },
  {
   "cell_type": "code",
   "execution_count": null,
   "metadata": {},
   "outputs": [],
   "source": []
  },
  {
   "cell_type": "code",
   "execution_count": 90,
   "metadata": {},
   "outputs": [
    {
     "name": "stdout",
     "output_type": "stream",
     "text": [
      "Writing 0x00-shell_basics/103-commas\n"
     ]
    }
   ],
   "source": [
    "%%file 0x00-shell_basics/103-commas\n",
    "#!/bin/bash\n",
    "ls -axmp"
   ]
  },
  {
   "cell_type": "code",
   "execution_count": 91,
   "metadata": {},
   "outputs": [
    {
     "name": "stdout",
     "output_type": "stream",
     "text": [
      "./, ../, .git/, .gitignore, 0x00-shell_basics/, README.md, __ls__,\n",
      "alx-system_engineering-devops.ipynb, test.HTML, welcome/\n"
     ]
    }
   ],
   "source": [
    "%%bash\n",
    "chmod u+x 0x00-shell_basics/103-commas\n",
    "source ./0x00-shell_basics/103-commas\n"
   ]
  },
  {
   "cell_type": "code",
   "execution_count": 92,
   "metadata": {},
   "outputs": [
    {
     "name": "stdout",
     "output_type": "stream",
     "text": [
      "[main f0c6483] 103-commas\n",
      " 2 files changed, 128 insertions(+), 4 deletions(-)\n",
      " create mode 100755 0x00-shell_basics/103-commas\n"
     ]
    },
    {
     "name": "stderr",
     "output_type": "stream",
     "text": [
      "To https://github.com/elkomysara/alx-system_engineering-devops.git\n",
      "   79a006e..f0c6483  main -> main\n"
     ]
    }
   ],
   "source": [
    "%%bash\n",
    "git add .\n",
    "git commit -m \"103-commas\"\n",
    "git push"
   ]
  },
  {
   "cell_type": "markdown",
   "metadata": {},
   "source": [
    "### \n",
    "\n",
    "\n",
    "---\n",
    "<center>\n",
    "<h4> 19.File type: School</h4>\n",
    "</center>\n",
    "\n",
    "---"
   ]
  },
  {
   "cell_type": "markdown",
   "metadata": {},
   "source": [
    "##### Create a magic file school.mgc that can be used with the command file to detect School data files. School data files always contain the string SCHOOL at offset 0.\n",
    "\n",
    "\n",
    "```bash\n",
    "ubuntu@ip-172-31-63-244:/tmp/magic$ cp /bin/ls .\n",
    "ubuntu@ip-172-31-63-244:/tmp/magic$ ls -la\n",
    "total 268\n",
    "drwxrwxr-x  2 ubuntu ubuntu   4096 Sep 20 02:44 .\n",
    "drwxrwxrwt 11 root   root   139264 Sep 20 02:44 ..\n",
    "-rw-r--r--  1 ubuntu ubuntu    496 Sep 20 02:42 school.mgc\n",
    "-rwxr-xr-x  1 ubuntu ubuntu 110080 Sep 20 02:43 ls\n",
    "-rw-rw-r--  1 ubuntu ubuntu     50 Sep 20 02:06 thisisaschoolfile\n",
    "-rw-rw-r--  1 ubuntu ubuntu     30 Sep 20 02:16 thisisatextfile\n",
    "ubuntu@ip-172-31-63-244:/tmp/magic$ file --mime-type -m school.mgc *\n",
    "school.mgc:         application/octet-stream\n",
    "ls:                    application/octet-stream\n",
    "thisisaschoolfile: School\n",
    "thisisatextfile:       text/plain\n",
    "ubuntu@ip-172-31-63-244:/tmp/magic$ file -m school.mgc *\n",
    "school.mgc:         data\n",
    "ls:                    data\n",
    "thisisaschoolfile: School data\n",
    "thisisatextfile:       ASCII text\n",
    "ubuntu@ip-172-31-63-244:/tmp/magic$\n",
    "```\n",
    "\n",
    "#### Repo:\n",
    "\n",
    "* GitHub repository: `alx-system_engineering-devops`\n",
    "* Directory: `0x00-shell_basics`\n",
    "* File: `104-school.mgc`"
   ]
  },
  {
   "cell_type": "code",
   "execution_count": 5,
   "metadata": {},
   "outputs": [
    {
     "name": "stdout",
     "output_type": "stream",
     "text": [
      "Overwriting 0x00-shell_basics/school.mgc\n"
     ]
    }
   ],
   "source": [
    "%%file 0x00-shell_basics/school.mgc\n",
    "0 string SCHOOL School data\n",
    "!:mime School\n"
   ]
  },
  {
   "cell_type": "code",
   "execution_count": 4,
   "metadata": {},
   "outputs": [],
   "source": [
    "%%bash\n",
    "file -C -m 0x00-shell_basics/school.mgc\n"
   ]
  },
  {
   "cell_type": "code",
   "execution_count": 59,
   "metadata": {},
   "outputs": [],
   "source": [
    "%%bash\n",
    "file -C -m 0x00-shell_basics/school.mgc "
   ]
  },
  {
   "cell_type": "code",
   "execution_count": 21,
   "metadata": {},
   "outputs": [
    {
     "name": "stdout",
     "output_type": "stream",
     "text": [
      "Writing 0x00-shell_basics/thisisaschoolfile\n"
     ]
    }
   ],
   "source": [
    "%%file 0x00-shell_basics/thisisaschoolfile \n",
    "SCHOOL schools"
   ]
  },
  {
   "cell_type": "code",
   "execution_count": 22,
   "metadata": {},
   "outputs": [
    {
     "name": "stdout",
     "output_type": "stream",
     "text": [
      "Writing 0x00-shell_basics/thisisatextfile\n"
     ]
    }
   ],
   "source": [
    "%%file 0x00-shell_basics/thisisatextfile\n",
    "thisisatextfile"
   ]
  },
  {
   "cell_type": "code",
   "execution_count": 49,
   "metadata": {},
   "outputs": [
    {
     "name": "stdout",
     "output_type": "stream",
     "text": [
      "0x00-shell_basics/thisisaschoolfile: ASCII text\n",
      "0x00-shell_basics/thisisatextfile:   ASCII text\n"
     ]
    }
   ],
   "source": [
    "%%bash\n",
    "file 0x00-shell_basics/thisisaschoolfile 0x00-shell_basics/thisisatextfile"
   ]
  },
  {
   "cell_type": "code",
   "execution_count": 52,
   "metadata": {},
   "outputs": [
    {
     "name": "stdout",
     "output_type": "stream",
     "text": [
      "[main 77198b0] 104-school.mgc\n",
      " 2 files changed, 4 insertions(+), 7 deletions(-)\n"
     ]
    },
    {
     "name": "stderr",
     "output_type": "stream",
     "text": [
      "To https://github.com/elkomysara/alx-system_engineering-devops.git\n",
      "   310095c..77198b0  main -> main\n"
     ]
    }
   ],
   "source": [
    "%%bash\n",
    "git add .\n",
    "git commit -m \"104-school.mgc\"\n",
    "git push"
   ]
  },
  {
   "cell_type": "markdown",
   "metadata": {},
   "source": [
    "### NEXT <code> alx-system_engineering-devops </code>"
   ]
  },
  {
   "cell_type": "code",
   "execution_count": 2,
   "metadata": {},
   "outputs": [],
   "source": [
    "import os\n",
    "# creating alx-zero_day folder\n",
    "\n",
    "folder_path = r'C:/Users/komy2/OneDrive/Desktop/AlxSE/Repos/alx-system_engineering-devops'\n",
    "if not os.path.exists(folder_path):\n",
    "    os.makedirs(folder_path)\n",
    "\n",
    "# Create a README.md inside alx-zero_day\n",
    "file_path = os.path.join(folder_path, 'README.md')\n",
    "\n",
    "with open(file_path, 'w') as file:\n",
    "    file.write(\"This is a mandatory file\")"
   ]
  },
  {
   "cell_type": "code",
   "execution_count": 5,
   "metadata": {},
   "outputs": [
    {
     "ename": "NameError",
     "evalue": "name 'alx' is not defined",
     "output_type": "error",
     "traceback": [
      "\u001b[1;31m---------------------------------------------------------------------------\u001b[0m",
      "\u001b[1;31mNameError\u001b[0m                                 Traceback (most recent call last)",
      "Cell \u001b[1;32mIn[5], line 11\u001b[0m\n\u001b[0;32m      7\u001b[0m dest_folder \u001b[38;5;241m=\u001b[39m \u001b[38;5;124m\"\u001b[39m\u001b[38;5;124mC:/Users/komy2/OneDrive/Desktop/AlxSE/Repos/alx-system_engineering-devops\u001b[39m\u001b[38;5;124m\"\u001b[39m\n\u001b[0;32m      9\u001b[0m shutil\u001b[38;5;241m.\u001b[39mcopy(source_file, dest_folder)\n\u001b[1;32m---> 11\u001b[0m os\u001b[38;5;241m.\u001b[39mrename(source_file,\u001b[43malx\u001b[49m\u001b[38;5;241m-\u001b[39msystem_engineering\u001b[38;5;241m-\u001b[39mdevops\u001b[38;5;241m.\u001b[39mipynb)\n",
      "\u001b[1;31mNameError\u001b[0m: name 'alx' is not defined"
     ]
    }
   ],
   "source": [
    "import shutil\n",
    "import os\n",
    "\n",
    "# copy the ipynb file from zero_day to alx-zero_day\n",
    "\n",
    "source_file = \"C:/Users/komy2/OneDrive/Desktop/AlxSE/Repos/alx-zero_day/alx-zero_day.ipynb\"  \n",
    "dest_folder = \"C:/Users/komy2/OneDrive/Desktop/AlxSE/Repos/alx-system_engineering-devops\"\n",
    "\n",
    "shutil.copy(source_file, dest_folder)\n",
    "\n",
    "os.rename(source_file,r\"alx-system_engineering-devops.ipynb\")"
   ]
  },
  {
   "cell_type": "code",
   "execution_count": 7,
   "metadata": {},
   "outputs": [
    {
     "name": "stdout",
     "output_type": "stream",
     "text": [
      "Microsoft Windows [Version 10.0.22631.3007]\n",
      "(c) Microsoft Corporation. All rights reserved.\n",
      "\n",
      "(c:\\Users\\komy2\\OneDrive\\Desktop\\AlxSE\\Repos\\zero_day\\.conda) c:\\Users\\komy2\\OneDrive\\Desktop\\AlxSE\\Repos\\zero_day>copy \"C:/Users/komy2/OneDrive/Desktop/AlxSE/Repos/zero_day/zero_day.ipynb\" \"C:/Users/komy2/OneDrive/Desktop/AlxSE/Repos/alx-zero_day\"\n",
      "        1 file(s) copied.\n",
      "\n",
      "(c:\\Users\\komy2\\OneDrive\\Desktop\\AlxSE\\Repos\\zero_day\\.conda) c:\\Users\\komy2\\OneDrive\\Desktop\\AlxSE\\Repos\\zero_day>"
     ]
    }
   ],
   "source": [
    "%%cmd\n",
    "copy \"C:/Users/komy2/OneDrive/Desktop/AlxSE/Repos/alx-zero_day/alx-zero_day.ipynb\" \"C:/Users/komy2/OneDrive/Desktop/AlxSE/Repos/alx-system_engineering-devops\"\n"
   ]
  },
  {
   "cell_type": "code",
   "execution_count": 10,
   "metadata": {},
   "outputs": [],
   "source": [
    "\n",
    "!cp \"C:/Users/komy2/OneDrive/Desktop/AlxSE/Repos/zero_day/zero_day.ipynb\" \"C:/Users/komy2/OneDrive/Desktop/AlxSE/Repos/alx-zero_day\"\n"
   ]
  },
  {
   "cell_type": "code",
   "execution_count": null,
   "metadata": {},
   "outputs": [],
   "source": []
  }
 ],
 "metadata": {
  "kernelspec": {
   "display_name": "Python 3",
   "language": "python",
   "name": "python3"
  },
  "language_info": {
   "codemirror_mode": {
    "name": "ipython",
    "version": 3
   },
   "file_extension": ".py",
   "mimetype": "text/x-python",
   "name": "python",
   "nbconvert_exporter": "python",
   "pygments_lexer": "ipython3",
   "version": "3.11.7"
  }
 },
 "nbformat": 4,
 "nbformat_minor": 2
}
